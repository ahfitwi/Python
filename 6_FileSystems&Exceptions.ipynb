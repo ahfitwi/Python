{
 "cells": [
  {
   "cell_type": "markdown",
   "metadata": {},
   "source": [
    "# 6. File Systems & Exceptions\n",
    "### Compiled by :\n",
    "      Alem H Fitwi, \n",
    "      PhD Student, ECE (Privacy, ML/DNN, & Chaotic Encryption)\n",
    "      GA-Data Analystics Specialist,\n",
    "      Binghamton University-State University of New York\n",
    "      Since August, 2017     \n"
   ]
  },
  {
   "cell_type": "markdown",
   "metadata": {},
   "source": [
    "<div class=\"alert alert-block alert-warning\">"
   ]
  },
  {
   "cell_type": "markdown",
   "metadata": {},
   "source": [
    "### 6.0 CMDs\n",
    "- I can not give any command at all, every time I tried I got a message:\n",
    "    - The command could not be located because '/usr/bin' is not included in the PATH environment variable.\n",
    "- What does your /etc/environment file look like? Mine looks like this:\n",
    "    - PATH=\"/usr/local/sbin:/usr/local/bin:/usr/sbin:/usr/bin:/sbin:/bin:/usr/games\"\n",
    "    - export PATH\n",
    "- If the content of the file looks OK, what about the premissions?:\n",
    "    - \\$ ls -l /etc/environment\n",
    "    - -rw-r--r-- 1 root root 79 2010-03-16 14:44 /etc/environment\n",
    "    - alem@alem-HP-Pavilion-x360-Convertible:~$  ls -l /etc/environment\n",
    "-rw-r--r-- 1 root root 106 Sep  4 19:07 /etc/environment\n"
   ]
  },
  {
   "cell_type": "markdown",
   "metadata": {},
   "source": [
    "<div class=\"alert alert-block alert-warning\">"
   ]
  },
  {
   "cell_type": "markdown",
   "metadata": {},
   "source": [
    "### 6.1 Reading and Writing Files\n",
    "- File is a named location on disk to store related information. It is used to permanently store data in a non-volatile memory (e.g. hard disk).\n",
    "\n",
    "- Since, random access memory (RAM) is volatile which loses its data when computer is turned off, we use files for future use of the data.\n",
    "\n",
    "- When we want to read from or write to a file we need to open it first. When we are done, it needs to be closed, so that resources that are tied with the file are freed. Hence, in Python, a file operation takes place in the following order.\n",
    "            Open a file:\n",
    "            Read or write (perform operation)\n",
    "            Close the file"
   ]
  },
  {
   "cell_type": "markdown",
   "metadata": {},
   "source": [
    "##### How to open a file?\n",
    "Python has a built-in function open() to open a file. This function returns a file object, also called a handle, as it is used to read or modify the file accordingly.\n"
   ]
  },
  {
   "cell_type": "code",
   "execution_count": 3,
   "metadata": {},
   "outputs": [
    {
     "data": {
      "text/plain": [
       "<_io.TextIOWrapper name='./0_Datasets/text.txt' mode='r' encoding='UTF-8'>"
      ]
     },
     "execution_count": 3,
     "metadata": {},
     "output_type": "execute_result"
    }
   ],
   "source": [
    "f = open(\"./0_Datasets/text.txt\")    \n",
    "# open file in current directory -- relative path\n",
    "f # file object"
   ]
  },
  {
   "cell_type": "code",
   "execution_count": 4,
   "metadata": {},
   "outputs": [
    {
     "data": {
      "text/plain": [
       "<_io.TextIOWrapper name='/home/alem/Desktop/FinalNotes/1_Python/0_Datasets/text.txt' mode='r' encoding='UTF-8'>"
      ]
     },
     "execution_count": 4,
     "metadata": {},
     "output_type": "execute_result"
    }
   ],
   "source": [
    "f = open(\"/home/alem/Desktop/FinalNotes/1_Python/0_Datasets/text.txt\")  \n",
    "# specifying full path -- absolute path\n",
    "f #object"
   ]
  },
  {
   "cell_type": "markdown",
   "metadata": {},
   "source": [
    "- We can specify the mode while opening a file. In mode, we specify whether we want to read 'r', write 'w' or append 'a' to the file. We also specify if we want to open the file in text mode or binary mode.\n",
    "- The default is reading in text mode. In this mode, we get strings when reading from the file.\n",
    "- On the other hand, binary mode returns bytes and this is the mode to be used when dealing with non-text files like image or exe files."
   ]
  },
  {
   "cell_type": "markdown",
   "metadata": {},
   "source": [
    "##### Python File Modes \n",
    " Mode \tDescription\n",
    "* 'r' \tOpen a file for reading. (default)\n",
    "* 'w' \tOpen a file for writing. Creates a new file if it does not exist or truncates the file if it exists.\n",
    "* 'x' \tOpen a file for exclusive creation. If the file already exists, the operation fails.\n",
    "* 'a' \tOpen for appending at the end of the file without truncating it. Creates a new file if it does not exist.\n",
    "* 't' \tOpen in text mode. (default)\n",
    "* 'b' \tOpen in binary mode.\n",
    "* '+' \tOpen a file for updating (reading and writing)"
   ]
  },
  {
   "cell_type": "code",
   "execution_count": null,
   "metadata": {},
   "outputs": [],
   "source": [
    "f = open(\"./0_Datasets/text.txt\")      # equivalent to 'r' or 'rt'\n",
    "f = open(\"test.txt\",'w')  # write in text mode\n",
    "f = open(\"img.bmp\",'r+b') # read and write in binary mode"
   ]
  },
  {
   "cell_type": "markdown",
   "metadata": {},
   "source": [
    "- Unlike other languages, the character 'a' does not imply the number 97 until it is encoded using ASCII (or other equivalent encodings).\n",
    "- Moreover, the default encoding is platform dependent. In windows, it is 'cp1252' but 'utf-8' in Linux.\n",
    "- So, we must not also rely on the default encoding or else our code will behave differently in different platforms.\n",
    "- Hence, when working with files in text mode, it is highly recommended to specify the encoding type.   "
   ]
  },
  {
   "cell_type": "code",
   "execution_count": 6,
   "metadata": {},
   "outputs": [
    {
     "data": {
      "text/plain": [
       "<_io.TextIOWrapper name='./0_Datasets/text.txt' mode='r' encoding='utf-8'>"
      ]
     },
     "execution_count": 6,
     "metadata": {},
     "output_type": "execute_result"
    }
   ],
   "source": [
    "f = open(\"./0_Datasets/text.txt\",mode = 'r',encoding = 'utf-8')\n",
    "f"
   ]
  },
  {
   "cell_type": "markdown",
   "metadata": {},
   "source": [
    "##### How to close a file Using Python?\n",
    "- When we are done with operations to the file, we need to properly close the file.\n",
    "- Closing a file will free up the resources that were tied with the file and is done using Python close() method.\n",
    "- Python has a garbage collector to clean up unreferenced objects but, we must not rely on it to close the file."
   ]
  },
  {
   "cell_type": "code",
   "execution_count": 8,
   "metadata": {},
   "outputs": [],
   "source": [
    "f = open(\"./0_Datasets/text.txt\",encoding = 'utf-8')\n",
    "# perform file operations\n",
    "f.close()"
   ]
  },
  {
   "cell_type": "markdown",
   "metadata": {},
   "source": [
    "- This method is not entirely safe. If an exception occurs when we are performing some operation with the file, the code exits without closing the file.\n",
    "- A safer way is to use a try...finally block.    "
   ]
  },
  {
   "cell_type": "code",
   "execution_count": 9,
   "metadata": {},
   "outputs": [],
   "source": [
    "try:\n",
    "    f = open(\"./0_Datasets/text.txt\",encoding = 'utf-8')\n",
    "    # perform file operations\n",
    "finally:\n",
    "    f.close()"
   ]
  },
  {
   "cell_type": "markdown",
   "metadata": {},
   "source": [
    "- This way, we are guaranteed that the file is properly closed even if an exception is raised, causing program flow to stop.\n",
    "- The best way to do this is using the with statement. This ensures that the file is closed when the block inside with is exited.\n",
    "- We don't need to explicitly call the close() method. It is done internally."
   ]
  },
  {
   "cell_type": "code",
   "execution_count": 10,
   "metadata": {},
   "outputs": [
    {
     "ename": "SyntaxError",
     "evalue": "unexpected EOF while parsing (<ipython-input-10-dbdfe0949e25>, line 2)",
     "output_type": "error",
     "traceback": [
      "\u001b[0;36m  File \u001b[0;32m\"<ipython-input-10-dbdfe0949e25>\"\u001b[0;36m, line \u001b[0;32m2\u001b[0m\n\u001b[0;31m    # perform file operations\u001b[0m\n\u001b[0m                             ^\u001b[0m\n\u001b[0;31mSyntaxError\u001b[0m\u001b[0;31m:\u001b[0m unexpected EOF while parsing\n"
     ]
    }
   ],
   "source": [
    "with open(\"./0_Datasets/text.txt\",encoding = 'utf-8') as f:\n",
    "       # perform file operations"
   ]
  },
  {
   "cell_type": "markdown",
   "metadata": {},
   "source": [
    "##### How to write to File Using Python?\n",
    "- In order to write into a file in Python, we need to open it in write 'w', append 'a' or exclusive creation 'x' mode.\n",
    "- We need to be careful with the 'w' mode as it will overwrite into the file if it already exists. All previous data are erased.\n",
    "- Writing a string or sequence of bytes (for binary files) is done using write() method. This method returns the number of characters written to the file.   "
   ]
  },
  {
   "cell_type": "code",
   "execution_count": 11,
   "metadata": {},
   "outputs": [],
   "source": [
    "with open(\"./0_Datasets/test.txt\",'w',encoding = 'utf-8') as f:\n",
    "    f.write(\"my first file\\n\")\n",
    "    f.write(\"This file\\n\\n\")\n",
    "    f.write(\"contains three lines\\n\")"
   ]
  },
  {
   "cell_type": "markdown",
   "metadata": {},
   "source": [
    "- This program will create a new file named 'test.txt' if it does not exist. If it does exist, it is overwritten.\n",
    "- We must include the newline characters ourselves to distinguish different lines."
   ]
  },
  {
   "cell_type": "markdown",
   "metadata": {},
   "source": [
    "##### How to read files in Python?\n",
    "- To read a file in Python, we must open the file in reading mode.\n",
    "- There are various methods available for this purpose. We can use the read(size) method to read in size number of data. If size parameter is not specified, it reads and returns up to the end of the file.  "
   ]
  },
  {
   "cell_type": "code",
   "execution_count": 17,
   "metadata": {},
   "outputs": [
    {
     "data": {
      "text/plain": [
       "''"
      ]
     },
     "execution_count": 17,
     "metadata": {},
     "output_type": "execute_result"
    }
   ],
   "source": [
    "f = open(\"0_Datasets/test.txt\",'r',encoding = 'utf-8')\n",
    "f.read(4)    # read the first 4 data    \n",
    "f.read(4)    # read the next 4 data    \n",
    "f.read()     # read in the rest till end of file    \n",
    "f.read()  # further reading returns empty sting"
   ]
  },
  {
   "cell_type": "code",
   "execution_count": 13,
   "metadata": {},
   "outputs": [
    {
     "data": {
      "text/plain": [
       "'my f'"
      ]
     },
     "execution_count": 13,
     "metadata": {},
     "output_type": "execute_result"
    }
   ],
   "source": [
    "f = open(\"0_Datasets/test.txt\",'r',encoding = 'utf-8')\n",
    "f.read(4)    # read the first 4 data    "
   ]
  },
  {
   "cell_type": "code",
   "execution_count": 14,
   "metadata": {},
   "outputs": [
    {
     "data": {
      "text/plain": [
       "'irst'"
      ]
     },
     "execution_count": 14,
     "metadata": {},
     "output_type": "execute_result"
    }
   ],
   "source": [
    "f.read(4)    # read the next 4 data   "
   ]
  },
  {
   "cell_type": "code",
   "execution_count": 15,
   "metadata": {},
   "outputs": [
    {
     "data": {
      "text/plain": [
       "' file\\nThis file\\n\\ncontains three lines\\n'"
      ]
     },
     "execution_count": 15,
     "metadata": {},
     "output_type": "execute_result"
    }
   ],
   "source": [
    "f.read()     # read in the rest till end of file "
   ]
  },
  {
   "cell_type": "code",
   "execution_count": 16,
   "metadata": {},
   "outputs": [
    {
     "data": {
      "text/plain": [
       "''"
      ]
     },
     "execution_count": 16,
     "metadata": {},
     "output_type": "execute_result"
    }
   ],
   "source": [
    "f.read()  # further reading returns empty sting"
   ]
  },
  {
   "cell_type": "markdown",
   "metadata": {},
   "source": [
    "- We can see that, the read() method returns newline as '\\n'. Once the end of file is reached, we get empty string on further reading.\n",
    "- We can change our current file cursor (position) using the seek() method. Similarly, the tell() method returns our current position (in number of bytes).    "
   ]
  },
  {
   "cell_type": "code",
   "execution_count": 18,
   "metadata": {},
   "outputs": [
    {
     "name": "stdout",
     "output_type": "stream",
     "text": [
      "my first file\n",
      "This file\n",
      "\n",
      "contains three lines\n",
      "\n"
     ]
    }
   ],
   "source": [
    "f.tell()    # get the current file position    \n",
    "f.seek(0)   # bring file cursor to initial position    \n",
    "print(f.read())  # read the entire file    "
   ]
  },
  {
   "cell_type": "markdown",
   "metadata": {},
   "source": [
    "We can read a file line-by-line using a for loop. This is both efficient and fast."
   ]
  },
  {
   "cell_type": "code",
   "execution_count": 20,
   "metadata": {},
   "outputs": [],
   "source": [
    "for line in f:\n",
    "    print(line, end = '')"
   ]
  },
  {
   "cell_type": "markdown",
   "metadata": {},
   "source": [
    "- The lines in file itself has a newline character '\\n'.\n",
    "- Moreover, the print() end parameter to avoid two newlines when printing.\n",
    "- Alternately, we can use readline() method to read individual lines of a file. This method reads a file till the newline, including the newline character."
   ]
  },
  {
   "cell_type": "code",
   "execution_count": 21,
   "metadata": {},
   "outputs": [
    {
     "data": {
      "text/plain": [
       "''"
      ]
     },
     "execution_count": 21,
     "metadata": {},
     "output_type": "execute_result"
    }
   ],
   "source": [
    "f.readline()\n",
    "f.readline()\n",
    "f.readline()\n",
    "f.readline()  "
   ]
  },
  {
   "cell_type": "markdown",
   "metadata": {},
   "source": [
    "Lastly, the readlines() method returns a list of remaining lines of the entire file. All these reading method return empty values when end of file (EOF) is reached.\n",
    "\n",
    "    "
   ]
  },
  {
   "cell_type": "code",
   "execution_count": 22,
   "metadata": {},
   "outputs": [
    {
     "data": {
      "text/plain": [
       "[]"
      ]
     },
     "execution_count": 22,
     "metadata": {},
     "output_type": "execute_result"
    }
   ],
   "source": [
    "f.readlines() "
   ]
  },
  {
   "cell_type": "markdown",
   "metadata": {},
   "source": [
    "##### Python File Methods\n",
    "\n",
    "There are various methods available with the file object. Some of them have been used in above examples.Here is the complete list of methods in text mode with a brief description.\n",
    "\n",
    "Python File Methods Method \tDescription\n",
    "\n",
    "close() \tClose an open file. It has no effect if the file is already closed.\n",
    "\n",
    "detach() \tSeparate the underlying binary buffer from the TextIOBase and return it.\n",
    "\n",
    "fileno() \tReturn an integer number (file descriptor) of the file.\n",
    "\n",
    "flush() \tFlush the write buffer of the file stream.\n",
    "\n",
    "isatty() \tReturn True if the file stream is interactive.\n",
    "\n",
    "read(n) \tRead atmost n characters form the file. Reads till end of file if it is negative or None.\n",
    "\n",
    "readable() \tReturns True if the file stream can be read from.\n",
    "\n",
    "readline(n=-1) \tRead and return one line from the file. Reads in at most n bytes if specified.\n",
    "\n",
    "readlines(n=-1) \tRead and return a list of lines from the file. Reads in at most n bytes/characters if specified.\n",
    "\n",
    "seek(offset,from=SEEK_SET) \tChange the file position to offset bytes, in reference to from (start, current, end).\n",
    "\n",
    "seekable() \tReturns True if the file stream supports random access.\n",
    "\n",
    "tell() \tReturns the current file location.\n",
    "\n",
    "truncate(size=None) \tResize the file stream to size bytes. If size is not specified, resize to current location.\n",
    "\n",
    "writable() \tReturns True if the file stream can be written to.\n",
    "\n",
    "write(s) \tWrite string s to the file and return the number of characters written.\n",
    "\n",
    "writelines(lines) \tWrite a list of lines to the file."
   ]
  },
  {
   "cell_type": "markdown",
   "metadata": {},
   "source": [
    "<div class=\"alert alert-block alert-warning\">"
   ]
  },
  {
   "cell_type": "markdown",
   "metadata": {},
   "source": [
    "### 6.2 Python Directory"
   ]
  },
  {
   "cell_type": "markdown",
   "metadata": {},
   "source": [
    "##### What is Directory in Python?\n",
    "- If there are a large number of files to handle in your Python program, you can arrange your code within different directories to make things more manageable.\n",
    "- A directory or folder is a collection of files and sub directories. Python has the os module, which provides us with many useful methods to work with directories (and files as well).\n",
    "\n",
    "##### Get Current Directory\n",
    "- We can get the present working directory using the getcwd() method.\n",
    "- This method returns the current working directory in the form of a string. We can also use the getcwdb() method to get it as bytes object."
   ]
  },
  {
   "cell_type": "code",
   "execution_count": 33,
   "metadata": {},
   "outputs": [
    {
     "data": {
      "text/plain": [
       "'/home/alem/Desktop/FinalNotes/1_Python'"
      ]
     },
     "execution_count": 33,
     "metadata": {},
     "output_type": "execute_result"
    }
   ],
   "source": [
    "import os\n",
    "os.getcwd() "
   ]
  },
  {
   "cell_type": "code",
   "execution_count": 34,
   "metadata": {},
   "outputs": [
    {
     "data": {
      "text/plain": [
       "b'/home/alem/Desktop/FinalNotes/1_Python'"
      ]
     },
     "execution_count": 34,
     "metadata": {},
     "output_type": "execute_result"
    }
   ],
   "source": [
    "os.getcwdb()"
   ]
  },
  {
   "cell_type": "markdown",
   "metadata": {},
   "source": [
    "The extra backslash implies escape sequence. The print() function will render this properly."
   ]
  },
  {
   "cell_type": "code",
   "execution_count": 24,
   "metadata": {},
   "outputs": [
    {
     "name": "stdout",
     "output_type": "stream",
     "text": [
      "/home/alem/Desktop/FinalNotes/1_Python\n"
     ]
    }
   ],
   "source": [
    "print(os.getcwd()) # C:\\Program Files\\PyScripter"
   ]
  },
  {
   "cell_type": "code",
   "execution_count": 25,
   "metadata": {},
   "outputs": [
    {
     "data": {
      "text/plain": [
       "'/home/alem/Desktop/FinalNotes/1_Python'"
      ]
     },
     "execution_count": 25,
     "metadata": {},
     "output_type": "execute_result"
    }
   ],
   "source": [
    "os.getcwd()"
   ]
  },
  {
   "cell_type": "markdown",
   "metadata": {},
   "source": [
    "##### Changing Directory\n",
    "- We can change the current working directory using the chdir() method.\n",
    "- The new path that we want to change to must be supplied as a string to this method. We can use both forward slash (/) or the backward slash (\\) to separate path elements.\n",
    "- It is safer to use escape sequence when using the backward slash."
   ]
  },
  {
   "cell_type": "code",
   "execution_count": 26,
   "metadata": {},
   "outputs": [
    {
     "name": "stdout",
     "output_type": "stream",
     "text": [
      "/home/alem/Desktop/FinalNotes/1_Python\n"
     ]
    }
   ],
   "source": [
    "os.chdir('/home/alem/Desktop/FinalNotes/1_Python')\n",
    "print(os.getcwd())"
   ]
  },
  {
   "cell_type": "markdown",
   "metadata": {},
   "source": [
    "##### List Directories and Files\n",
    "- All files and sub directories inside a directory can be known using the listdir() method.\n",
    "- This method takes in a path and returns a list of sub directories and files in that path. If no path is specified, it returns from the current working directory.  "
   ]
  },
  {
   "cell_type": "code",
   "execution_count": 27,
   "metadata": {},
   "outputs": [
    {
     "name": "stdout",
     "output_type": "stream",
     "text": [
      "/home/alem/Desktop/FinalNotes/1_Python\n"
     ]
    },
    {
     "data": {
      "text/plain": [
       "['14_Statistics.ipynb',\n",
       " 'py2',\n",
       " '__pycache__',\n",
       " '10_QuestionsAnswers.ipynb',\n",
       " '6_FileSystems.ipynb',\n",
       " 'py4DS_1',\n",
       " '1_Complete-Python-3-Bootcamp-master',\n",
       " '9_ErrorsandExceptions.ipynb',\n",
       " '1_Introduction.ipynb',\n",
       " '15_Plotting(Matplot_Seaborn_pandas_plot).ipynb',\n",
       " '0_PCAP',\n",
       " '11_AbstractStaticInterfaceClasses.ipynb',\n",
       " '0_Datasets',\n",
       " '10_DecoratorsandGenerators.ipynb',\n",
       " '4_pyNotes',\n",
       " '2_ObjectsAndDataStructures.ipynb',\n",
       " '17_PythonDateandTime.ipynb',\n",
       " '12_NumpyandArrays.ipynb',\n",
       " '5_MethodsandFunctions.ipynb',\n",
       " '.ipynb_checkpoints',\n",
       " '7_Python_OOP.ipynb',\n",
       " '4_FlowControls.ipynb',\n",
       " '16_PythonDateandTime.ipynb',\n",
       " 'config.py',\n",
       " '8_PackagesandModules.ipynb',\n",
       " 'pynotes',\n",
       " '13_Pandas.ipynb',\n",
       " '3_PythonOperators.ipynb',\n",
       " '18_DashandPlotly.ipynb',\n",
       " '2_Introduction.ipynb',\n",
       " '0_figs']"
      ]
     },
     "execution_count": 27,
     "metadata": {},
     "output_type": "execute_result"
    }
   ],
   "source": [
    "print(os.getcwd())\n",
    "os.listdir()\n",
    "#os.listdir('C:\\\\') "
   ]
  },
  {
   "cell_type": "markdown",
   "metadata": {},
   "source": [
    "##### Making a New Directory\n",
    "- We can make a new directory using the mkdir() method.\n",
    "- This method takes in the path of the new directory. If the full path is not specified, the new directory is created in the current working directory.   "
   ]
  },
  {
   "cell_type": "code",
   "execution_count": 28,
   "metadata": {},
   "outputs": [
    {
     "data": {
      "text/plain": [
       "['14_Statistics.ipynb',\n",
       " 'py2',\n",
       " '__pycache__',\n",
       " '10_QuestionsAnswers.ipynb',\n",
       " '6_FileSystems.ipynb',\n",
       " 'py4DS_1',\n",
       " '1_Complete-Python-3-Bootcamp-master',\n",
       " '9_ErrorsandExceptions.ipynb',\n",
       " '1_Introduction.ipynb',\n",
       " '15_Plotting(Matplot_Seaborn_pandas_plot).ipynb',\n",
       " 'Test',\n",
       " '0_PCAP',\n",
       " '11_AbstractStaticInterfaceClasses.ipynb',\n",
       " '0_Datasets',\n",
       " '10_DecoratorsandGenerators.ipynb',\n",
       " '4_pyNotes',\n",
       " '2_ObjectsAndDataStructures.ipynb',\n",
       " '17_PythonDateandTime.ipynb',\n",
       " '12_NumpyandArrays.ipynb',\n",
       " '5_MethodsandFunctions.ipynb',\n",
       " '.ipynb_checkpoints',\n",
       " '7_Python_OOP.ipynb',\n",
       " '4_FlowControls.ipynb',\n",
       " '16_PythonDateandTime.ipynb',\n",
       " 'config.py',\n",
       " '8_PackagesandModules.ipynb',\n",
       " 'pynotes',\n",
       " '13_Pandas.ipynb',\n",
       " '3_PythonOperators.ipynb',\n",
       " '18_DashandPlotly.ipynb',\n",
       " '2_Introduction.ipynb',\n",
       " '0_figs']"
      ]
     },
     "execution_count": 28,
     "metadata": {},
     "output_type": "execute_result"
    }
   ],
   "source": [
    "os.mkdir('Test')\n",
    "os.listdir()"
   ]
  },
  {
   "cell_type": "markdown",
   "metadata": {},
   "source": [
    " ##### Renaming a Directory or a File\n",
    "- The rename() method can rename a directory or a file.\n",
    "- The first argument is the old name and the new name must be supplies as the second argument.  "
   ]
  },
  {
   "cell_type": "code",
   "execution_count": 29,
   "metadata": {},
   "outputs": [
    {
     "data": {
      "text/plain": [
       "['14_Statistics.ipynb',\n",
       " 'py2',\n",
       " '__pycache__',\n",
       " '10_QuestionsAnswers.ipynb',\n",
       " '6_FileSystems.ipynb',\n",
       " 'py4DS_1',\n",
       " '1_Complete-Python-3-Bootcamp-master',\n",
       " '9_ErrorsandExceptions.ipynb',\n",
       " '1_Introduction.ipynb',\n",
       " '15_Plotting(Matplot_Seaborn_pandas_plot).ipynb',\n",
       " '0_PCAP',\n",
       " '11_AbstractStaticInterfaceClasses.ipynb',\n",
       " '0_Datasets',\n",
       " '10_DecoratorsandGenerators.ipynb',\n",
       " '4_pyNotes',\n",
       " '2_ObjectsAndDataStructures.ipynb',\n",
       " '17_PythonDateandTime.ipynb',\n",
       " '12_NumpyandArrays.ipynb',\n",
       " '5_MethodsandFunctions.ipynb',\n",
       " '.ipynb_checkpoints',\n",
       " '7_Python_OOP.ipynb',\n",
       " '4_FlowControls.ipynb',\n",
       " '16_PythonDateandTime.ipynb',\n",
       " 'config.py',\n",
       " 'new_one',\n",
       " '8_PackagesandModules.ipynb',\n",
       " 'pynotes',\n",
       " '13_Pandas.ipynb',\n",
       " '3_PythonOperators.ipynb',\n",
       " '18_DashandPlotly.ipynb',\n",
       " '2_Introduction.ipynb',\n",
       " '0_figs']"
      ]
     },
     "execution_count": 29,
     "metadata": {},
     "output_type": "execute_result"
    }
   ],
   "source": [
    "os.rename('Test','new_one')\n",
    "os.listdir()  "
   ]
  },
  {
   "cell_type": "markdown",
   "metadata": {},
   "source": [
    "##### Removing Directory or File\n",
    "- A file can be removed (deleted) using the remove() method.\n",
    "- Similarly, the rmdir() method removes an empty directory.    "
   ]
  },
  {
   "cell_type": "code",
   "execution_count": 31,
   "metadata": {},
   "outputs": [
    {
     "data": {
      "text/plain": [
       "['14_Statistics.ipynb',\n",
       " 'py2',\n",
       " '__pycache__',\n",
       " '10_QuestionsAnswers.ipynb',\n",
       " '6_FileSystems.ipynb',\n",
       " 'py4DS_1',\n",
       " '1_Complete-Python-3-Bootcamp-master',\n",
       " '9_ErrorsandExceptions.ipynb',\n",
       " '1_Introduction.ipynb',\n",
       " '15_Plotting(Matplot_Seaborn_pandas_plot).ipynb',\n",
       " '0_PCAP',\n",
       " '11_AbstractStaticInterfaceClasses.ipynb',\n",
       " '0_Datasets',\n",
       " '10_DecoratorsandGenerators.ipynb',\n",
       " '4_pyNotes',\n",
       " '2_ObjectsAndDataStructures.ipynb',\n",
       " '17_PythonDateandTime.ipynb',\n",
       " '12_NumpyandArrays.ipynb',\n",
       " '5_MethodsandFunctions.ipynb',\n",
       " '.ipynb_checkpoints',\n",
       " '7_Python_OOP.ipynb',\n",
       " '4_FlowControls.ipynb',\n",
       " '16_PythonDateandTime.ipynb',\n",
       " 'config.py',\n",
       " '8_PackagesandModules.ipynb',\n",
       " 'pynotes',\n",
       " '13_Pandas.ipynb',\n",
       " '3_PythonOperators.ipynb',\n",
       " '18_DashandPlotly.ipynb',\n",
       " '2_Introduction.ipynb',\n",
       " '0_figs']"
      ]
     },
     "execution_count": 31,
     "metadata": {},
     "output_type": "execute_result"
    }
   ],
   "source": [
    "os.remove('./0_Datasets/text.txt')\n",
    "os.rmdir('new_one')\n",
    "os.listdir()"
   ]
  },
  {
   "cell_type": "markdown",
   "metadata": {},
   "source": [
    "- However, note that rmdir() method can only remove empty directories.\n",
    "- In order to remove a non-empty directory we can use the rmtree() method inside the shutil module.  "
   ]
  },
  {
   "cell_type": "code",
   "execution_count": 38,
   "metadata": {},
   "outputs": [
    {
     "data": {
      "text/plain": [
       "'/home/alem/Desktop/FinalNotes/1_Python/Test'"
      ]
     },
     "execution_count": 38,
     "metadata": {},
     "output_type": "execute_result"
    }
   ],
   "source": [
    "os.getcwd()"
   ]
  },
  {
   "cell_type": "code",
   "execution_count": 39,
   "metadata": {},
   "outputs": [
    {
     "data": {
      "text/plain": [
       "'/home/alem/Desktop/FinalNotes/1_Python'"
      ]
     },
     "execution_count": 39,
     "metadata": {},
     "output_type": "execute_result"
    }
   ],
   "source": [
    "os.chdir('/home/alem/Desktop/FinalNotes/1_Python')\n",
    "os.getcwd()"
   ]
  },
  {
   "cell_type": "code",
   "execution_count": 40,
   "metadata": {},
   "outputs": [
    {
     "data": {
      "text/plain": [
       "['14_Statistics.ipynb',\n",
       " 'py2',\n",
       " '__pycache__',\n",
       " '10_QuestionsAnswers.ipynb',\n",
       " '6_FileSystems.ipynb',\n",
       " 'py4DS_1',\n",
       " '1_Complete-Python-3-Bootcamp-master',\n",
       " '9_ErrorsandExceptions.ipynb',\n",
       " '1_Introduction.ipynb',\n",
       " '15_Plotting(Matplot_Seaborn_pandas_plot).ipynb',\n",
       " '0_PCAP',\n",
       " '11_AbstractStaticInterfaceClasses.ipynb',\n",
       " '0_Datasets',\n",
       " '10_DecoratorsandGenerators.ipynb',\n",
       " '4_pyNotes',\n",
       " '2_ObjectsAndDataStructures.ipynb',\n",
       " '17_PythonDateandTime.ipynb',\n",
       " '12_NumpyandArrays.ipynb',\n",
       " '5_MethodsandFunctions.ipynb',\n",
       " '.ipynb_checkpoints',\n",
       " '7_Python_OOP.ipynb',\n",
       " '4_FlowControls.ipynb',\n",
       " '16_PythonDateandTime.ipynb',\n",
       " 'config.py',\n",
       " '8_PackagesandModules.ipynb',\n",
       " 'pynotes',\n",
       " '13_Pandas.ipynb',\n",
       " '3_PythonOperators.ipynb',\n",
       " '18_DashandPlotly.ipynb',\n",
       " '2_Introduction.ipynb',\n",
       " '0_figs']"
      ]
     },
     "execution_count": 40,
     "metadata": {},
     "output_type": "execute_result"
    }
   ],
   "source": [
    "import shutil\n",
    "shutil.rmtree('Test')\n",
    "os.listdir()   "
   ]
  },
  {
   "cell_type": "markdown",
   "metadata": {},
   "source": [
    "##### Copy file "
   ]
  },
  {
   "cell_type": "code",
   "execution_count": 42,
   "metadata": {},
   "outputs": [
    {
     "data": {
      "text/plain": [
       "'./0_Datasets/allany.png'"
      ]
     },
     "execution_count": 42,
     "metadata": {},
     "output_type": "execute_result"
    }
   ],
   "source": [
    "# Copy file from one location to another using shutil\n",
    "shutil.copy(\"./0_figs/allany.png\",\"./0_Datasets/\")"
   ]
  },
  {
   "cell_type": "markdown",
   "metadata": {},
   "source": [
    "##### glob\n",
    "- A file pattern matching\n",
    "- In Python, the glob module is used to retrieve files/pathnames matching a specified pattern. The pattern rules of glob follow standard Unix path expansion rules. \n",
    "- It is also predicted that according to benchmarks it is faster than other methods to match pathnames in directories. \n",
    "- With glob, we can also use wildcards (\"*, ?, [ranges]) apart from exact string search to make path retrieval more simple and convenient."
   ]
  },
  {
   "cell_type": "code",
   "execution_count": 63,
   "metadata": {},
   "outputs": [
    {
     "data": {
      "text/plain": [
       "['./14_Statistics.ipynb',\n",
       " './10_QuestionsAnswers.ipynb',\n",
       " './6_FileSystems.ipynb',\n",
       " './9_ErrorsandExceptions.ipynb',\n",
       " './1_Introduction.ipynb',\n",
       " './15_Plotting(Matplot_Seaborn_pandas_plot).ipynb',\n",
       " './11_AbstractStaticInterfaceClasses.ipynb',\n",
       " './10_DecoratorsandGenerators.ipynb',\n",
       " './2_ObjectsAndDataStructures.ipynb',\n",
       " './17_PythonDateandTime.ipynb',\n",
       " './12_NumpyandArrays.ipynb',\n",
       " './5_MethodsandFunctions.ipynb',\n",
       " './7_Python_OOP.ipynb',\n",
       " './4_FlowControls.ipynb',\n",
       " './16_PythonDateandTime.ipynb',\n",
       " './config.py',\n",
       " './8_PackagesandModules.ipynb',\n",
       " './13_Pandas.ipynb',\n",
       " './3_PythonOperators.ipynb',\n",
       " './18_DashandPlotly.ipynb',\n",
       " './2_Introduction.ipynb']"
      ]
     },
     "execution_count": 63,
     "metadata": {},
     "output_type": "execute_result"
    }
   ],
   "source": [
    "import glob\n",
    "glob.glob('./*.*')"
   ]
  },
  {
   "cell_type": "code",
   "execution_count": 64,
   "metadata": {},
   "outputs": [
    {
     "name": "stdout",
     "output_type": "stream",
     "text": [
      "Named explicitly:\n",
      "\n",
      "Named with wildcard *:\n",
      "\n",
      "Named with wildcard ?:\n",
      "\n",
      "Named with wildcard ranges:\n"
     ]
    }
   ],
   "source": [
    "# Python program to demonstrate \n",
    "# glob using different wildcards \n",
    "\n",
    "\n",
    "import glob \n",
    "\n",
    "\n",
    "print('Named explicitly:') \n",
    "for name in glob.glob('/home/geeks/Desktop/gfg/data.txt'): \n",
    "    print(name) \n",
    "\n",
    "# Using '*' pattern \n",
    "print('\\nNamed with wildcard *:') \n",
    "for name in glob.glob('/home/geeks/Desktop/gfg/*'): \n",
    "    print(name) \n",
    "\n",
    "# Using '?' pattern \n",
    "print('\\nNamed with wildcard ?:') \n",
    "for name in glob.glob('/home/geeks/Desktop/gfg/data?.txt'): \n",
    "    print(name) \n",
    "\n",
    "# Using [0-9] pattern \n",
    "print('\\nNamed with wildcard ranges:') \n",
    "for name in glob.glob('/home/geeks/Desktop/gfg/*[0-9].*'): \n",
    "    print(name) "
   ]
  },
  {
   "cell_type": "markdown",
   "metadata": {},
   "source": [
    "<div class=\"alert alert-block alert-warning\">"
   ]
  },
  {
   "cell_type": "markdown",
   "metadata": {},
   "source": [
    "### 6.3 Python Errors and Exceptions"
   ]
  },
  {
   "cell_type": "markdown",
   "metadata": {},
   "source": [
    "When writing a program, we, more often than not, will encounter errors. Error caused by not following the proper structure (syntax) of the language is called syntax error or parsing error. "
   ]
  },
  {
   "cell_type": "code",
   "execution_count": 43,
   "metadata": {},
   "outputs": [
    {
     "ename": "SyntaxError",
     "evalue": "invalid syntax (<ipython-input-43-9ebc5408a330>, line 1)",
     "output_type": "error",
     "traceback": [
      "\u001b[0;36m  File \u001b[0;32m\"<ipython-input-43-9ebc5408a330>\"\u001b[0;36m, line \u001b[0;32m1\u001b[0m\n\u001b[0;31m    if 5>7\u001b[0m\n\u001b[0m          ^\u001b[0m\n\u001b[0;31mSyntaxError\u001b[0m\u001b[0;31m:\u001b[0m invalid syntax\n"
     ]
    }
   ],
   "source": [
    "if 5>7"
   ]
  },
  {
   "cell_type": "markdown",
   "metadata": {},
   "source": [
    "- We can notice here that a colon is missing in the if statement. \n",
    "- Errors can also occur at runtime and these are called exceptions. They occur, for example, when a file we try to open does not exist (FileNotFoundError), dividing a number by zero (ZeroDivisionError), module we try to import is not found (ImportError) etc.\n",
    "- Whenever these type of runtime error occur, Python creates an exception object. If not handled properly, it prints a traceback to that error along with some details about why that error occurred."
   ]
  },
  {
   "cell_type": "code",
   "execution_count": 44,
   "metadata": {},
   "outputs": [
    {
     "ename": "ZeroDivisionError",
     "evalue": "division by zero",
     "output_type": "error",
     "traceback": [
      "\u001b[0;31m---------------------------------------------------------------------------\u001b[0m",
      "\u001b[0;31mZeroDivisionError\u001b[0m                         Traceback (most recent call last)",
      "\u001b[0;32m<ipython-input-44-bc757c3fda29>\u001b[0m in \u001b[0;36m<module>\u001b[0;34m\u001b[0m\n\u001b[0;32m----> 1\u001b[0;31m \u001b[0;36m1\u001b[0m \u001b[0;34m/\u001b[0m \u001b[0;36m0\u001b[0m\u001b[0;34m\u001b[0m\u001b[0;34m\u001b[0m\u001b[0m\n\u001b[0m",
      "\u001b[0;31mZeroDivisionError\u001b[0m: division by zero"
     ]
    }
   ],
   "source": [
    "1 / 0"
   ]
  },
  {
   "cell_type": "code",
   "execution_count": 45,
   "metadata": {},
   "outputs": [
    {
     "ename": "FileNotFoundError",
     "evalue": "[Errno 2] No such file or directory: 'alem.txt'",
     "output_type": "error",
     "traceback": [
      "\u001b[0;31m---------------------------------------------------------------------------\u001b[0m",
      "\u001b[0;31mFileNotFoundError\u001b[0m                         Traceback (most recent call last)",
      "\u001b[0;32m<ipython-input-45-5ee180d7ce5c>\u001b[0m in \u001b[0;36m<module>\u001b[0;34m\u001b[0m\n\u001b[0;32m----> 1\u001b[0;31m \u001b[0mopen\u001b[0m\u001b[0;34m(\u001b[0m\u001b[0;34m'alem.txt'\u001b[0m\u001b[0;34m)\u001b[0m \u001b[0;31m# no such file\u001b[0m\u001b[0;34m\u001b[0m\u001b[0;34m\u001b[0m\u001b[0m\n\u001b[0m",
      "\u001b[0;31mFileNotFoundError\u001b[0m: [Errno 2] No such file or directory: 'alem.txt'"
     ]
    }
   ],
   "source": [
    "open('alem.txt') # no such file"
   ]
  },
  {
   "cell_type": "markdown",
   "metadata": {},
   "source": [
    "##### Python Built-in Exceptions\n",
    "\n",
    "Illegal operations can raise exceptions. There are plenty of built-in exceptions in Python that are raised when corresponding errors occur. We can view all the built-in exceptions using the local() built-in functions as follows.\n"
   ]
  },
  {
   "cell_type": "code",
   "execution_count": 46,
   "metadata": {},
   "outputs": [
    {
     "data": {
      "text/plain": [
       "<module 'builtins' (built-in)>"
      ]
     },
     "execution_count": 46,
     "metadata": {},
     "output_type": "execute_result"
    }
   ],
   "source": [
    "locals()['__builtins__']"
   ]
  },
  {
   "cell_type": "markdown",
   "metadata": {},
   "source": [
    "This will return us a dictionary of built-in exceptions, functions and attributes. Some of the common built-in exceptions in Python programming along with the errors that cause them are tabulated below.\n",
    "\n",
    "Python Built-in Exceptions Exception \tCause of Error\n",
    "<ul>\n",
    "<li>AssertionError \tRaised when assert statement fails.</li>\n",
    "<li>AttributeError \tRaised when attribute assignment or reference fails.</li>\n",
    "<li>EOFError \tRaised when the input() functions hits end-of-file condition.</li>\n",
    "<li>FloatingPointError \tRaised when a floating point operation fails.</li>\n",
    "<li>GeneratorExit \tRaise when a generator's close() method is called.</li>\n",
    "<li>ImportError \tRaised when the imported module is not found.</li>\n",
    "<li>IndexError \tRaised when index of a sequence is out of range.</li>\n",
    "<li>KeyError \tRaised when a key is not found in a dictionary.</li>\n",
    "<li>KeyboardInterrupt \tRaised when the user hits interrupt key (Ctrl+c or delete).</li>\n",
    "<li>MemoryError \tRaised when an operation runs out of memory.</li>\n",
    "<li>NameError \tRaised when a variable is not found in local or global scope.</li>\n",
    "<li>NotImplementedError \tRaised by abstract methods.</li>\n",
    "<li>OSError \tRaised when system operation causes system related error.</li>\n",
    "<li>OverflowError \tRaised when result of an arithmetic operation is too large to be represented.</li>\n",
    "<li>ReferenceError \tRaised when a weak reference proxy is used to access a garbage collected referent.</li>\n",
    "<li>RuntimeError \tRaised when an error does not fall under any other category.</li>\n",
    "<li>StopIteration \tRaised by next() function to indicate that there is no further item to be returned by iterator.</li>\n",
    "<li>SyntaxError \tRaised by parser when syntax error is encountered.</li>\n",
    "<li>IndentationError \tRaised when there is incorrect indentation.</li>\n",
    "<li>TabError \tRaised when indentation consists of inconsistent tabs and spaces.</li>\n",
    "<li>SystemError \tRaised when interpreter detects internal error.</li>\n",
    "<li>SystemExit \tRaised by sys.exit() function.</li>\n",
    "<li>TypeError \tRaised when a function or operation is applied to an object of incorrect type.</li>\n",
    "<li>UnboundLocalError \tRaised when a reference is made to a local variable in a function or method, but no value has been bound to that variable.</li>\n",
    "<li>UnicodeError \tRaised when a Unicode-related encoding or decoding error occurs.</li>\n",
    "<li>UnicodeEncodeError \tRaised when a Unicode-related error occurs during encoding.</li>\n",
    "<li>UnicodeDecodeError \tRaised when a Unicode-related error occurs during decoding.</li>\n",
    "<li>UnicodeTranslateError \tRaised when a Unicode-related error occurs during translating.</li>\n",
    "<li>ValueError \tRaised when a function gets argument of correct type but improper value.</li>\n",
    "<li>ZeroDivisionError \tRaised when second operand of division or modulo operation is zero.</li>\n",
    "</ul>\n",
    "\n",
    "We can also define our own exception in Python (if required). Visit this page to learn more about user-defined exceptions. We can handle these built-in and user-defined exceptions in Python using try, except and finally statements. "
   ]
  },
  {
   "cell_type": "markdown",
   "metadata": {},
   "source": [
    "##### Exception Handling"
   ]
  },
  {
   "cell_type": "markdown",
   "metadata": {},
   "source": [
    "##### What are exceptions in Python?\n",
    "- Python has many built-in exceptions which forces your program to output an error when something in it goes wrong.\n",
    "- When these exceptions occur, it causes the current process to stop and passes it to the calling process until it is handled. If not handled, our program will crash.\n",
    "- For example, if function A calls function B which in turn calls function C and an exception occurs in function C. If it is not handled in C, the exception passes to B and then to A.\n",
    "- If never handled, an error message is spit out and our program come to a sudden, unexpected halt."
   ]
  },
  {
   "cell_type": "markdown",
   "metadata": {},
   "source": [
    "##### Catching Exceptions in Python\n",
    "- In Python, exceptions can be handled using a try statement.\n",
    "- A critical operation which can raise exception is placed inside the try clause and the code that handles exception is written in except clause.\n",
    "- It is up to us, what operations we perform once we have caught the exception. Here is a simple example.\n",
    "\n",
    "         try:\n",
    "           You do your operations here...\n",
    "           ...\n",
    "         except ExceptionI:\n",
    "           If there is ExceptionI, then execute this block.\n",
    "         except ExceptionII:\n",
    "           If there is ExceptionII, then execute this block.\n",
    "           ...\n",
    "         else:\n",
    "           If there is no exception then execute this block. \n"
   ]
  },
  {
   "cell_type": "code",
   "execution_count": 47,
   "metadata": {},
   "outputs": [
    {
     "name": "stdout",
     "output_type": "stream",
     "text": [
      "The entry is a\n",
      "Oops! <class 'ValueError'> occured.\n",
      "Next entry.\n",
      "\n",
      "The entry is 0\n",
      "Oops! <class 'ZeroDivisionError'> occured.\n",
      "Next entry.\n",
      "\n",
      "The entry is 2\n",
      "The reciprocal of 2 is 0.5\n"
     ]
    }
   ],
   "source": [
    "# import module sys to get the type of exception\n",
    "import sys\n",
    "randomList = ['a', 0, 2]\n",
    "for entry in randomList:\n",
    "    try:\n",
    "        print(\"The entry is\", entry)\n",
    "        r = 1/int(entry)\n",
    "        break\n",
    "    except:\n",
    "        print(\"Oops!\",sys.exc_info()[0],\"occured.\")\n",
    "        print(\"Next entry.\")\n",
    "        print()\n",
    "print(\"The reciprocal of\",entry,\"is\",r)"
   ]
  },
  {
   "cell_type": "markdown",
   "metadata": {},
   "source": [
    "- In this program, we loop until the user enters an integer that has a valid reciprocal. The portion that can cause exception is placed inside try block.\n",
    "- If no exception occurs, except block is skipped and normal flow continues. But if any exception occurs, it is caught by the except block.\n",
    "- Here, we print the name of the exception using ex_info() function inside sys module and ask the user to try again. We can see that the values 'a' and '1.3' causes ValueError and '0' causes ZeroDivisionError."
   ]
  },
  {
   "cell_type": "markdown",
   "metadata": {},
   "source": [
    "##### Catching Specific Exceptions in Python\n",
    "- In the above example, we did not mention any exception in the except clause.\n",
    "- This is not a good programming practice as it will catch all exceptions and handle every case in the same way. We can specify which exceptions an except clause will catch.\n",
    "- A try clause can have any number of except clause to handle them differently but only one will be executed in case an exception occurs.\n",
    "- We can use a tuple of values to specify multiple exceptions in an except clause. Here is an example pseudo code."
   ]
  },
  {
   "cell_type": "code",
   "execution_count": 48,
   "metadata": {},
   "outputs": [],
   "source": [
    "try:\n",
    "    # do something\n",
    "    pass\n",
    "except ValueError:\n",
    "    # handle ValueError exception\n",
    "    pass\n",
    "except (TypeError, ZeroDivisionError):\n",
    "    # handle multiple exceptions\n",
    "    # TypeError and ZeroDivisionError\n",
    "    pass\n",
    "except:\n",
    "    # handle all other exceptions\n",
    "    pass"
   ]
  },
  {
   "cell_type": "markdown",
   "metadata": {},
   "source": [
    "##### Raising Exceptions\n",
    "- In Python programming, exceptions are raised when corresponding errors occur at run time, but we can forcefully raise it using the keyword raise.\n",
    "- We can also optionally pass in value to the exception to clarify why that exception was raised."
   ]
  },
  {
   "cell_type": "code",
   "execution_count": 49,
   "metadata": {},
   "outputs": [
    {
     "ename": "KeyboardInterrupt",
     "evalue": "",
     "output_type": "error",
     "traceback": [
      "\u001b[0;31m---------------------------------------------------------------------------\u001b[0m",
      "\u001b[0;31mKeyboardInterrupt\u001b[0m                         Traceback (most recent call last)",
      "\u001b[0;32m<ipython-input-49-c761920b81b0>\u001b[0m in \u001b[0;36m<module>\u001b[0;34m\u001b[0m\n\u001b[0;32m----> 1\u001b[0;31m \u001b[0;32mraise\u001b[0m \u001b[0mKeyboardInterrupt\u001b[0m\u001b[0;34m\u001b[0m\u001b[0;34m\u001b[0m\u001b[0m\n\u001b[0m",
      "\u001b[0;31mKeyboardInterrupt\u001b[0m: "
     ]
    }
   ],
   "source": [
    "raise KeyboardInterrupt"
   ]
  },
  {
   "cell_type": "code",
   "execution_count": 50,
   "metadata": {},
   "outputs": [
    {
     "ename": "MemoryError",
     "evalue": "This is an argument",
     "output_type": "error",
     "traceback": [
      "\u001b[0;31m---------------------------------------------------------------------------\u001b[0m",
      "\u001b[0;31mMemoryError\u001b[0m                               Traceback (most recent call last)",
      "\u001b[0;32m<ipython-input-50-51782e52f201>\u001b[0m in \u001b[0;36m<module>\u001b[0;34m\u001b[0m\n\u001b[0;32m----> 1\u001b[0;31m \u001b[0;32mraise\u001b[0m \u001b[0mMemoryError\u001b[0m\u001b[0;34m(\u001b[0m\u001b[0;34m\"This is an argument\"\u001b[0m\u001b[0;34m)\u001b[0m\u001b[0;34m\u001b[0m\u001b[0;34m\u001b[0m\u001b[0m\n\u001b[0m",
      "\u001b[0;31mMemoryError\u001b[0m: This is an argument"
     ]
    }
   ],
   "source": [
    "raise MemoryError(\"This is an argument\")"
   ]
  },
  {
   "cell_type": "code",
   "execution_count": 52,
   "metadata": {},
   "outputs": [
    {
     "name": "stdout",
     "output_type": "stream",
     "text": [
      "Enter a positive integer: 8\n"
     ]
    }
   ],
   "source": [
    "try:\n",
    "    a = int(input(\"Enter a positive integer: \"))\n",
    "    if a <= 0:\n",
    "        raise ValueError(\"That is not a positive number!\")\n",
    "except ValueError as ve:\n",
    "    print(ve)"
   ]
  },
  {
   "cell_type": "markdown",
   "metadata": {},
   "source": [
    "##### try...finally\n",
    "- The try statement in Python can have an optional finally clause. This clause is executed no matter what, and is generally used to release external resources.\n",
    "- For example, we may be connected to a remote data center through the network or working with a file or working with a Graphical User Interface (GUI).\n",
    "- In all these circumstances, we must clean up the resource once used, whether it was successful or not. These actions (closing a file, GUI or disconnecting from network) are performed in the finally clause to guarantee execution.\n",
    "- Here is an example of file operations to illustrate this."
   ]
  },
  {
   "cell_type": "code",
   "execution_count": 56,
   "metadata": {},
   "outputs": [],
   "source": [
    "try:\n",
    "    f = open(\"./0_Datasets/read_write_excel_file.txt\",encoding = 'utf-8')\n",
    "    # perform file operations\n",
    "finally:\n",
    "    f.close()"
   ]
  },
  {
   "cell_type": "markdown",
   "metadata": {},
   "source": [
    "##### User-defined Exception"
   ]
  },
  {
   "cell_type": "markdown",
   "metadata": {},
   "source": [
    "- Python has many built-in exceptions which forces your program to output an error when something in it goes wrong.\n",
    "- However, sometimes you may need to create custom exceptions that serves your purpose.\n",
    "- In Python, users can define such exceptions by creating a new class. This exception class has to be derived, either directly or indirectly, from Exception class. Most of the built-in exceptions are also derived form this class."
   ]
  },
  {
   "cell_type": "code",
   "execution_count": 57,
   "metadata": {},
   "outputs": [],
   "source": [
    "class CustomError(Exception):\n",
    "    pass"
   ]
  },
  {
   "cell_type": "code",
   "execution_count": 58,
   "metadata": {},
   "outputs": [
    {
     "ename": "CustomError",
     "evalue": "",
     "output_type": "error",
     "traceback": [
      "\u001b[0;31m---------------------------------------------------------------------------\u001b[0m",
      "\u001b[0;31mCustomError\u001b[0m                               Traceback (most recent call last)",
      "\u001b[0;32m<ipython-input-58-5a4b51501ee8>\u001b[0m in \u001b[0;36m<module>\u001b[0;34m\u001b[0m\n\u001b[0;32m----> 1\u001b[0;31m \u001b[0;32mraise\u001b[0m \u001b[0mCustomError\u001b[0m\u001b[0;34m\u001b[0m\u001b[0;34m\u001b[0m\u001b[0m\n\u001b[0m",
      "\u001b[0;31mCustomError\u001b[0m: "
     ]
    }
   ],
   "source": [
    "raise CustomError   "
   ]
  },
  {
   "cell_type": "code",
   "execution_count": 59,
   "metadata": {},
   "outputs": [
    {
     "ename": "CustomError",
     "evalue": "An error occurred",
     "output_type": "error",
     "traceback": [
      "\u001b[0;31m---------------------------------------------------------------------------\u001b[0m",
      "\u001b[0;31mCustomError\u001b[0m                               Traceback (most recent call last)",
      "\u001b[0;32m<ipython-input-59-262134c0e9a9>\u001b[0m in \u001b[0;36m<module>\u001b[0;34m\u001b[0m\n\u001b[0;32m----> 1\u001b[0;31m \u001b[0;32mraise\u001b[0m \u001b[0mCustomError\u001b[0m\u001b[0;34m(\u001b[0m\u001b[0;34m\"An error occurred\"\u001b[0m\u001b[0;34m)\u001b[0m\u001b[0;34m\u001b[0m\u001b[0;34m\u001b[0m\u001b[0m\n\u001b[0m",
      "\u001b[0;31mCustomError\u001b[0m: An error occurred"
     ]
    }
   ],
   "source": [
    "raise CustomError(\"An error occurred\")    "
   ]
  },
  {
   "cell_type": "markdown",
   "metadata": {},
   "source": [
    "- Here, we have created a user-defined exception called CustomError which is derived from the Exception class. This new exception can be raised, like other exceptions, using the raise statement with an optional error message.\n",
    "- When we are developing a large Python program, it is a good practice to place all the user-defined exceptions that our program raises in a separate file. Many standard modules do this. They define their exceptions separately as exceptions.py or errors.py (generally but not always).\n",
    "- User-defined exception class can implement everything a normal class can do, but we generally make them simple and concise. Most implementations declare a custom base class and derive others exception classes from this base class. This concept is made clearer in the following example.\n",
    "\n",
    "##### Example: User-Defined Exception in Python\n",
    "\n",
    "- In this example, we will illustrate how user-defined exceptions can be used in a program to raise and catch errors.\n",
    "\n",
    "- This program will ask the user to enter a number until they guess a stored number correctly. To help them figure it out, hint is provided whether their guess is greater than or less than the stored number."
   ]
  },
  {
   "cell_type": "code",
   "execution_count": 62,
   "metadata": {},
   "outputs": [
    {
     "name": "stdout",
     "output_type": "stream",
     "text": [
      "Enter a number: 8\n",
      "This value is too small, try again!\n",
      "\n",
      "Enter a number: 12\n",
      "This value is too large, try again!\n",
      "\n",
      "Enter a number: 10\n",
      "Congratulations! You guessed it correctly.\n"
     ]
    }
   ],
   "source": [
    "# define Python user-defined exceptions\n",
    "class Error(Exception):\n",
    "    \"\"\"Base class for other exceptions\"\"\"\n",
    "    pass\n",
    "class ValueTooSmallError(Error):\n",
    "    \"\"\"Raised when the input value is too small\"\"\"\n",
    "    pass\n",
    "class ValueTooLargeError(Error):\n",
    "    \"\"\"Raised when the input value is too large\"\"\"\n",
    "    pass\n",
    "    # our main program\n",
    "    # user guesses a number until he/she gets it right\n",
    "    # you need to guess this number\n",
    "number = 10\n",
    "while True:\n",
    "    try:\n",
    "        i_num = int(input(\"Enter a number: \"))\n",
    "        if i_num < number:\n",
    "            raise ValueTooSmallError\n",
    "        elif i_num > number:\n",
    "            raise ValueTooLargeError\n",
    "        else:\n",
    "            break\n",
    "    except ValueTooSmallError:\n",
    "        print(\"This value is too small, try again!\")\n",
    "        print()\n",
    "    except ValueTooLargeError:\n",
    "        print(\"This value is too large, try again!\")\n",
    "        print()\n",
    "print(\"Congratulations! You guessed it correctly.\")"
   ]
  },
  {
   "cell_type": "markdown",
   "metadata": {},
   "source": [
    "- Here, we have defined a base class called Error.\n",
    "- The other two exceptions (ValueTooSmallError and ValueTooLargeError) that are actually raised by our program are derived from this class. This is the standard way to define user-defined exceptions in Python programming, but you are not limited to this way only."
   ]
  },
  {
   "cell_type": "markdown",
   "metadata": {},
   "source": [
    "<div class=\"alert alert-block alert-warning\">"
   ]
  },
  {
   "cell_type": "markdown",
   "metadata": {},
   "source": [
    "### 6.4 Project: File and re"
   ]
  },
  {
   "cell_type": "code",
   "execution_count": 65,
   "metadata": {},
   "outputs": [
    {
     "name": "stdout",
     "output_type": "stream",
     "text": [
      "-------------------****************-------------------------\n",
      "Statistics of words in the given text, 'War and Peace:'\n",
      "************************************************************\n",
      "Here comes the words' statistics\n",
      "      1. Total number of words = 562804\n",
      "      2. Number of Distinct words = 20197\n",
      "      3. Most frequent two-word combination = 'of the'\n",
      "         and its count = 4513\n",
      "      NB: Detailed list of words is saved in result.csv\n",
      "-------------------****************-------------------------\n",
      "Statistics of sentences in the given text, 'War and Peace:'\n",
      "************************************************************\n",
      "Here comes the sentences' statistics\n",
      "1. Total number of sentences = 35515\n",
      "2. # of Distinct sentences = 33949\n",
      "3. # of sentences that start with 'T/the' = 2861\n",
      "     and their frequency = 8.056%\n",
      "4. # of Distinct T/the_sentences = 2850\n",
      "************************************************************\n",
      "---------------End of Program!------------------------------\n"
     ]
    }
   ],
   "source": [
    "#----------------------------------------------------------------------------\n",
    "import re\n",
    "\n",
    "#============================================================================\n",
    "#----------------------------------------------------------------------------\n",
    "\"\"\"\n",
    "Step_2: Constructing the Class InputFile: \"\"\"        \n",
    "#----------------------------------------------------------------------------    \n",
    "class FileInput:\n",
    "    \"\"\"This class does the following tasks:\n",
    "        ~reads a file, named \"text.txt\n",
    "        ~returns a string of the whole file using the inputFile() function\n",
    "        ~processes string, like case lowering, using processString() function\n",
    "        \"\"\"\n",
    "    #------------------------------------------------------------------------\n",
    "    def inputFile(self,file_path):\n",
    "        \"\"\"This function reads in a the text file\n",
    "           Input@rgument: file_path\n",
    "           Output:file_string\n",
    "        \"\"\"   \n",
    "        self.file_path=file_path\n",
    "        f_name = open(self.file_path, 'r')               \n",
    "        file_string= f_name.read()                \n",
    "        f_name.close()             \n",
    "        return file_string         \n",
    "    #------------------------------------------------------------------------\n",
    "    def processString(self,string_in):\n",
    "        \"\"\"This function performs preliminary string operations like case\n",
    "           lowering, handling apostrophes, and outputs the filtered words.\n",
    "           Input@rgument: string_in\n",
    "           Output:filtered_words           \n",
    "        \"\"\"\n",
    "        self.string_in=string_in\n",
    "        str_to_lower=self.string_in.lower()        \n",
    "        st_re=r'([\\w]+[\\'|\\-|\\--]*[a-zA-Z]+|[\\w]+)'       \n",
    "        #This is the re formula according which words are extracted.        \n",
    "        filtered_words= re.findall(st_re, str_to_lower, re.M)        \n",
    "        return filtered_words         \n",
    "#============================================================================\n",
    "#----------------------------------------------------------------------------\n",
    "\"\"\"\n",
    "Step_3: Constructing the Class Words. \n",
    "Please  kindly note that in-depth analysis was made on the words. I formulated\n",
    "the regular expression: st_re=r'([\\w]+[\\'|\\-|\\--]*[a-zA-Z]+|[\\w]+)' to extract\n",
    "the words exhaustively. Here are my considerations:\n",
    "    ***********************************************************************\n",
    "    *1. Tolstoy and Tolstoi are considered as two d/t words               *\n",
    "    *2. Numbers like 1805, 7, etc are counted as words                    *\n",
    "    *3. Single lettered words like I, a, etc are counted                  *\n",
    "    *4. Two lettered words like an, la (French) are  counted              *\n",
    "    *5. Contracted words like don't, that's, etc are handled              *\n",
    "    *6. Double hyphenated words like Antichrist--I & you--sit are handled *\n",
    "    *7. Single hyphenated words like well-known are handled               *\n",
    "    *8. Alphanumeric words like 10--Annette are handled                   *\n",
    "    ***********************************************************************\n",
    "\"\"\"        \n",
    "#----------------------------------------------------------------------------\n",
    "class Words:\n",
    "    \"\"\"This class counts words, and returns total number of words, list of \n",
    "       words, and the count of each word in the created list!\n",
    "    \"\"\"\n",
    "    #------------------------------------------------------------------------   \n",
    "    def processWords(self,words_in):\n",
    "        \"\"\"This function computes total number of words and the count of \n",
    "           each word given in the list of the words.\n",
    "           Input@rgument: words_in\n",
    "           Output:word_list, word_count, total_words          \n",
    "        \"\"\"\n",
    "        self.words_in=words_in\n",
    "        word_list=self.words_in\n",
    "        #list of words processed by class FileInput's processString function\n",
    "        words_count={}\n",
    "        #a dinctionary that will hold words as key, and counts as values\n",
    "        total_words=len(words_in)\n",
    "        #len computes the total number of words and is saved to total_words        \n",
    "        for word in words_in:\n",
    "            #Computes the total count of words             \n",
    "            if word not in words_count:\n",
    "                words_count[word] = 1                \n",
    "            else:                \n",
    "                words_count[word] += 1                  \n",
    "        word_count=sorted(words_count.items(), key=lambda i: i[1],reverse=True)\n",
    "        #sorts the word list in descending order based on their count  \n",
    "        return word_list,word_count,total_words  \n",
    "    #------------------------------------------------------------------------  \n",
    "    def computeTwoWordsFreq(self,word_list,word_count):\n",
    "        \"\"\" This function computes the most frequent two-word combination\n",
    "            in the provided file named text.txt, and returns the results.\n",
    "            Input@rgument: word_list,word_count computed by processWords()\n",
    "            Output:high_freq_comb, high_freq_value   \n",
    "        \"\"\"\n",
    "        self.word_list=word_list\n",
    "        self.word_count=word_count\n",
    "        high_freq_comb=\"\" #stores the high frequency words    \n",
    "        high_freq_dict={} # stores word combinations & their frequencies\n",
    "        word_aggregate=\"\" # stores aggregate of the words in word_list\n",
    "        high_freq_value=0 #stores the highest frequency value        \n",
    "        for word in self.word_list:\n",
    "            #This foor loop aggregates the words\n",
    "            word_aggregate += word\n",
    "            word_aggregate +=\" \" #Space is used as word-split marker\n",
    "        for key_1,value_1 in self.word_count:\n",
    "            \"\"\"These nested for loops computes the highest frequency \n",
    "               two-word combination in the given file.\n",
    "            \"\"\"\n",
    "            for key_2,value_2 in self.word_count:  \n",
    "                if ((high_freq_value>value_1) or (high_freq_value>value_2)):\n",
    "                    break                    \n",
    "                joint_key=key_1+\" \"+key_2 #stores the combined keys or words\n",
    "                freq_wrd=len(re.findall(joint_key, word_aggregate, re.M))\n",
    "                #computes frequency of joint_keys from words_aggregate\n",
    "                if (high_freq_value<freq_wrd):\n",
    "                    \"\"\"updates two-word combinations, their frequencies,\n",
    "                       and stores them on a dictionary, declared above!\n",
    "                    \"\"\"\n",
    "                    high_freq_comb=joint_key\n",
    "                    high_freq_value=freq_wrd \n",
    "                    high_freq_dict[joint_key] = freq_wrd           \n",
    "        t={} #Temporary dictionary storage for space mgt\n",
    "        t=sorted(high_freq_dict.items(), key=lambda i: i[1],reverse=True)\n",
    "        #sorts the two words combination in descending order\n",
    "        high_freq_dict=t #the dictionary is updated \n",
    "        return high_freq_comb, high_freq_value\n",
    "    #------------------------------------------------------------------------\n",
    "    def saveWordStatistics(self, word_count, total_words):\n",
    "        \"\"\" This function saves the statistics of words as result.csv  \n",
    "            Input@rgument: word_count tuple and total_words count\n",
    "            Output:writes out statistics of words named result.csv\n",
    "        \"\"\"\n",
    "        self.word_count=word_count\n",
    "        self.total_words=total_words\n",
    "        open_file = open(\"result.csv\", \"w\")\n",
    "        open_file.write(\"Word, Count, Frequency(%)\\n\") \n",
    "        for k,v in self.word_count: #word_count is a tuple of words & counts\n",
    "            freq=(v*100.0/(self.total_words))            \n",
    "            open_file.write(\"%s, %s, %2.7f\\n\" %(k,v,freq))\n",
    "        open_file.close()        \n",
    "        \n",
    "#============================================================================\n",
    "#----------------------------------------------------------------------------\n",
    "\"\"\"\n",
    "Step_4: Constructing the Class Sentences. \n",
    "Please note that I used the Period or full-stop, Question mark,  Exclamation \n",
    "mark, Colon, and Semicolon as markers of the end of a sentence.Here are the \n",
    "regular expressions that I formulated to extract the required sentences:\n",
    "    1. sen_re = r'([\\w][^\\.!?:;]*[\\.!?:;])'\") for all sentences\n",
    "    2. the_re = r'([T|t]he\\b)'\") for sentences that begin with 'T/the'\n",
    "NB: No nested sentences! The nest is stripped off! Only the above markers are\n",
    "used!                                         \n",
    "\"\"\" \n",
    "#----------------------------------------------------------------------------\n",
    "class Sentences: \n",
    "    \"\"\"This class counts sentences, and returns total number of sentences, \n",
    "       number and frequency of sentences that start with T/the!\n",
    "    \"\"\"\n",
    "    def processSentences(self, text):\n",
    "        \"\"\"This function takes the text as input, removes special characters\n",
    "           in the text, and then computes total number of sentences! \n",
    "           Input@rgument: text, from class InputFile\n",
    "           Output:sentences,total_sen         \n",
    "        \"\"\"\n",
    "        self.text=text\n",
    "        buffer_strg=self.text.replace('\"' , \"\")\n",
    "        buffer_strg=buffer_strg.replace('\\r' , \"\")\n",
    "        buffer_strg=buffer_strg.replace('\\n' , \" \") \n",
    "        #The above 3 statements remove the special characters specified         \n",
    "        sen_re = r'([\\w][^\\.!?:;]*[\\.!?:;])'\n",
    "        \"\"\"This regular expression is defined to extract the list of sentences\n",
    "        ending with Period, exclamation & question marks, colon, & semicoln\"\"\"\n",
    "        sentences= re.findall(sen_re, buffer_strg, re.M)  \n",
    "        #sentences is a list that contains all the extracted sentences\n",
    "        total_sen=len(sentences)  # stores the count of sentences\n",
    "        return sentences,total_sen\n",
    "    #------------------------------------------------------------------------\n",
    "    def filterTheSen(self,sentences):\n",
    "        \"\"\"This function handles sentences that start with \"T/the\", and \n",
    "           computes their total number and overall frequency.\n",
    "           Input@rgument: sentences from processSentences()\n",
    "           Output:sen_cnt,the_cnt,the_sen         \n",
    "        \"\"\"        \n",
    "        self.sentences=sentences        \n",
    "        the_cnt={} # a dictionary to hold the_sentences and their counts\n",
    "        sen_cnt={} # a dictionary to hold any unique sentences       \n",
    "        the_re = r'([T|t]he\\b)' # filters sentences that begin with 'T/the'\n",
    "        the_sen=0 # variable to hold the list of the_sentences\n",
    "        for sentence in self.sentences:\n",
    "            \"\"\"This for loop computes the list the_sentences, each sentence's\n",
    "               count, total count, and the unique sentences in the whole text\n",
    "            \"\"\"\n",
    "            if sentence not in sen_cnt:\n",
    "                sen_cnt[sentence] = 1            \n",
    "            else:\n",
    "                sen_cnt[sentence] += 1            \n",
    "            isMatch=re.match(the_re, sentence, re.M) #filters matches\n",
    "            if isMatch:\n",
    "                the_sen+=1\n",
    "                if sentence not in the_cnt:  \n",
    "                    the_cnt[sentence] = 1\n",
    "                else:\n",
    "                    the_cnt[sentence] += 1        \n",
    "        sen_cnt=sorted(sen_cnt.items(), key=lambda d: d[1],reverse=True)\n",
    "        # A lambda function that sorts unique sentences dict by count\n",
    "        the_cnt=sorted(the_cnt.items(), key=lambda d: d[1],reverse=True)\n",
    "        # A lambda function that sorts unique the_sentences dict by count\n",
    "        return sen_cnt,the_cnt,the_sen\n",
    "    #------------------------------------------------------------------------   \n",
    "    \n",
    "#============================================================================\n",
    "#----------------------------------------------------------------------------\n",
    "class Test:\n",
    "    \"\"\"This class calls all other classes, execute them, prints out all\n",
    "       desired outputs onto the screen, and saves words as result.csv\n",
    "    \"\"\"\n",
    "    class_input_object_1=FileInput() # Instantiating Class FileInput\n",
    "    class_input_object_2=FileInput()   \n",
    "    temp_str=class_input_object_1.inputFile(\"./0_project/text.txt\")\n",
    "    filtered_words=class_input_object_2.processString(temp_str)\n",
    "    C_W_1=Words() # creating instantiates of Class Words\n",
    "    C_W_2=Words()\n",
    "    C_W_3=Words()\n",
    "    (word_list,word_count,total_words)=C_W_1.processWords(filtered_words)    \n",
    "    (two_words, counts)=C_W_2.computeTwoWordsFreq(word_list,word_count)    \n",
    "    result_csv=C_W_2.saveWordStatistics(word_count, total_words) \n",
    "    print(\"-------------------****************-------------------------\")\n",
    "    print(\"Statistics of words in the given text, 'War and Peace:'\")    \n",
    "    print(\"************************************************************\")\n",
    "    print(\"Here comes the words' statistics\")\n",
    "    print(\"      1. Total number of words = %s\" %(total_words))\n",
    "    print(\"      2. Number of Distinct words = %s\" %(len(word_count)))\n",
    "    print(\"      3. Most frequent two-word combination = \\'%s\\'\" %(two_words))\n",
    "    print(\"         and its count = %s\" %(counts))\n",
    "    print(\"      NB: Detailed list of words is saved in result.csv\")     \n",
    "    print(\"-------------------****************-------------------------\")   \n",
    "    #------------------------------------------------\n",
    "    sen_obj_1=Sentences() # creating instantiates of Class Sentences\n",
    "    sen_obj_2=Sentences()\n",
    "    (sen_string,total_sen)=sen_obj_1.processSentences(temp_str)    \n",
    "    (distinct_sen, distict_the,count_the)=sen_obj_2.filterTheSen(sen_string)    \n",
    "    print(\"Statistics of sentences in the given text, 'War and Peace:'\")      \n",
    "    print(\"************************************************************\")\n",
    "    print(\"Here comes the sentences' statistics\")\n",
    "    print(\"1. Total number of sentences = %s\" %(total_sen))\n",
    "    print(\"2. # of Distinct sentences = %s\" %(len(distinct_sen)))\n",
    "    print(\"3. # of sentences that start with 'T/the' = %s\" %(count_the))\n",
    "    print(\"     and their frequency = %2.3f\" %(count_the*100.0/total_sen)+\"%\")\n",
    "    print(\"4. # of Distinct T/the_sentences = %s\" %(len(distict_the)))\n",
    "    print(\"************************************************************\")\n",
    "    print(\"---------------End of Program!------------------------------\")   \n",
    "#======================================================================="
   ]
  },
  {
   "cell_type": "markdown",
   "metadata": {},
   "source": [
    "<div class=\"alert alert-block alert-warning\">"
   ]
  },
  {
   "cell_type": "markdown",
   "metadata": {},
   "source": [
    "### 6.5  The anatomy of exceptions/ run-time errors \n",
    "https://docs.python.org/3/library/exceptions.html\n",
    "\n",
    "Python 3 defines 63 built-in exceptions, and all of them form a tree-shaped hierarchy, although the tree is a bit weird as its root is located on top.\n",
    "\n",
    "\n",
    "Some of the built-in exceptions are more general (they include other exceptions) while others are completely concrete (they represent themselves only). We can say that the closer to the root an exception is located, the more general (abstract) it is. In turn, the exceptions located at the branches’ ends (we can call them leaves) are concrete.\n",
    "\n",
    "Take a look at the figure → \n",
    "- It shows a small section of the complete exception tree. Let’s begin examining the tree from the ZeroDivisionError leaf.\n",
    "- Note: \n",
    "    - ZeroDivisionError is a special case of more a general exception class named ArithmeticError;\n",
    "    - ArithmeticError is a special case of a more general exception class named just Exception;\n",
    "    - Exception is a special case of a more general class named BaseException;\n",
    " - We can describe it in the following way (note the direction of the arrows – they always point to the more general entity):\n",
    "            \n",
    "            BaseException ← Exception ← ArithmeticError ← ZeroDivisionError\n",
    "- We’re going to show you how this generalization works. Let’s start with some really simple code."
   ]
  },
  {
   "cell_type": "code",
   "execution_count": 15,
   "metadata": {},
   "outputs": [
    {
     "data": {
      "image/png": "[encoded data removed]",
      "text/plain": [
       "<IPython.core.display.Image object>"
      ]
     },
     "execution_count": 15,
     "metadata": {},
     "output_type": "execute_result"
    }
   ],
   "source": [
    "from IPython.display import Image\n",
    "Image('0_figs/exp.png')"
   ]
  },
  {
   "cell_type": "markdown",
   "metadata": {},
   "source": [
    "##### raise\n",
    "- Note: raise is a keyword. The instruction enables you to:\n",
    "    - simulate raising actual exceptions (e.g., to test your handling strategy)\n",
    "    - partially handle an exception and make another part of the code responsible for completing the handling (separation of concerns).\n",
    " "
   ]
  },
  {
   "cell_type": "code",
   "execution_count": 18,
   "metadata": {},
   "outputs": [
    {
     "ename": "ZeroDivisionError",
     "evalue": "",
     "output_type": "error",
     "traceback": [
      "\u001b[0;31m---------------------------------------------------------------------------\u001b[0m",
      "\u001b[0;31mZeroDivisionError\u001b[0m                         Traceback (most recent call last)",
      "\u001b[0;32m<ipython-input-18-1428a3db6895>\u001b[0m in \u001b[0;36m<module>\u001b[0;34m\u001b[0m\n\u001b[1;32m      1\u001b[0m \u001b[0;32mdef\u001b[0m \u001b[0mbadfun\u001b[0m\u001b[0;34m(\u001b[0m\u001b[0mn\u001b[0m\u001b[0;34m)\u001b[0m\u001b[0;34m:\u001b[0m\u001b[0;34m\u001b[0m\u001b[0;34m\u001b[0m\u001b[0m\n\u001b[1;32m      2\u001b[0m     \u001b[0;32mraise\u001b[0m \u001b[0mZeroDivisionError\u001b[0m\u001b[0;34m\u001b[0m\u001b[0;34m\u001b[0m\u001b[0m\n\u001b[0;32m----> 3\u001b[0;31m \u001b[0mbadfun\u001b[0m\u001b[0;34m(\u001b[0m\u001b[0;36m0\u001b[0m\u001b[0;34m)\u001b[0m\u001b[0;34m\u001b[0m\u001b[0;34m\u001b[0m\u001b[0m\n\u001b[0m",
      "\u001b[0;32m<ipython-input-18-1428a3db6895>\u001b[0m in \u001b[0;36mbadfun\u001b[0;34m(n)\u001b[0m\n\u001b[1;32m      1\u001b[0m \u001b[0;32mdef\u001b[0m \u001b[0mbadfun\u001b[0m\u001b[0;34m(\u001b[0m\u001b[0mn\u001b[0m\u001b[0;34m)\u001b[0m\u001b[0;34m:\u001b[0m\u001b[0;34m\u001b[0m\u001b[0;34m\u001b[0m\u001b[0m\n\u001b[0;32m----> 2\u001b[0;31m     \u001b[0;32mraise\u001b[0m \u001b[0mZeroDivisionError\u001b[0m\u001b[0;34m\u001b[0m\u001b[0;34m\u001b[0m\u001b[0m\n\u001b[0m\u001b[1;32m      3\u001b[0m \u001b[0mbadfun\u001b[0m\u001b[0;34m(\u001b[0m\u001b[0;36m0\u001b[0m\u001b[0;34m)\u001b[0m\u001b[0;34m\u001b[0m\u001b[0;34m\u001b[0m\u001b[0m\n",
      "\u001b[0;31mZeroDivisionError\u001b[0m: "
     ]
    }
   ],
   "source": [
    "def badfun(n):\n",
    "    raise ZeroDivisionError\n",
    "badfun(0)"
   ]
  },
  {
   "cell_type": "code",
   "execution_count": 17,
   "metadata": {},
   "outputs": [
    {
     "name": "stdout",
     "output_type": "stream",
     "text": [
      "What did you do?\n",
      "The End\n"
     ]
    }
   ],
   "source": [
    "def badfun(n):\n",
    "    raise ZeroDivisionError\n",
    "    \n",
    "try:\n",
    "    badfun(0)\n",
    "except ArithmeticError:\n",
    "    print('What did you do?')\n",
    "print('The End')\n"
   ]
  },
  {
   "cell_type": "code",
   "execution_count": 22,
   "metadata": {},
   "outputs": [
    {
     "name": "stdout",
     "output_type": "stream",
     "text": [
      "I did it again!\n"
     ]
    },
    {
     "ename": "ZeroDivisionError",
     "evalue": "division by zero",
     "output_type": "error",
     "traceback": [
      "\u001b[0;31m---------------------------------------------------------------------------\u001b[0m",
      "\u001b[0;31mZeroDivisionError\u001b[0m                         Traceback (most recent call last)",
      "\u001b[0;32m<ipython-input-22-24b84c286a89>\u001b[0m in \u001b[0;36m<module>\u001b[0;34m\u001b[0m\n\u001b[1;32m      5\u001b[0m         \u001b[0mprint\u001b[0m\u001b[0;34m(\u001b[0m\u001b[0;34m'I did it again!'\u001b[0m\u001b[0;34m)\u001b[0m\u001b[0;34m\u001b[0m\u001b[0;34m\u001b[0m\u001b[0m\n\u001b[1;32m      6\u001b[0m         \u001b[0;32mraise\u001b[0m\u001b[0;34m\u001b[0m\u001b[0;34m\u001b[0m\u001b[0m\n\u001b[0;32m----> 7\u001b[0;31m \u001b[0mbadfun\u001b[0m\u001b[0;34m(\u001b[0m\u001b[0;36m2\u001b[0m\u001b[0;34m)\u001b[0m\u001b[0;34m\u001b[0m\u001b[0;34m\u001b[0m\u001b[0m\n\u001b[0m",
      "\u001b[0;32m<ipython-input-22-24b84c286a89>\u001b[0m in \u001b[0;36mbadfun\u001b[0;34m(n)\u001b[0m\n\u001b[1;32m      1\u001b[0m \u001b[0;32mdef\u001b[0m \u001b[0mbadfun\u001b[0m\u001b[0;34m(\u001b[0m\u001b[0mn\u001b[0m\u001b[0;34m)\u001b[0m\u001b[0;34m:\u001b[0m\u001b[0;34m\u001b[0m\u001b[0;34m\u001b[0m\u001b[0m\n\u001b[1;32m      2\u001b[0m     \u001b[0;32mtry\u001b[0m\u001b[0;34m:\u001b[0m\u001b[0;34m\u001b[0m\u001b[0;34m\u001b[0m\u001b[0m\n\u001b[0;32m----> 3\u001b[0;31m         \u001b[0;32mreturn\u001b[0m \u001b[0mn\u001b[0m\u001b[0;34m/\u001b[0m\u001b[0;36m0\u001b[0m\u001b[0;34m\u001b[0m\u001b[0;34m\u001b[0m\u001b[0m\n\u001b[0m\u001b[1;32m      4\u001b[0m     \u001b[0;32mexcept\u001b[0m\u001b[0;34m:\u001b[0m\u001b[0;34m\u001b[0m\u001b[0;34m\u001b[0m\u001b[0m\n\u001b[1;32m      5\u001b[0m         \u001b[0mprint\u001b[0m\u001b[0;34m(\u001b[0m\u001b[0;34m'I did it again!'\u001b[0m\u001b[0;34m)\u001b[0m\u001b[0;34m\u001b[0m\u001b[0;34m\u001b[0m\u001b[0m\n",
      "\u001b[0;31mZeroDivisionError\u001b[0m: division by zero"
     ]
    }
   ],
   "source": [
    "def badfun(n):\n",
    "    try:\n",
    "        return n/0\n",
    "    except:\n",
    "        print('I did it again!')\n",
    "        raise   \n",
    "badfun(2)"
   ]
  },
  {
   "cell_type": "code",
   "execution_count": 27,
   "metadata": {},
   "outputs": [
    {
     "name": "stdout",
     "output_type": "stream",
     "text": [
      "I did it again!\n",
      "(<class 'ZeroDivisionError'>, ZeroDivisionError('division by zero'), <traceback object at 0x7fde85e63370>)\n"
     ]
    }
   ],
   "source": [
    "import sys\n",
    "\n",
    "def badfun(n):\n",
    "    try:\n",
    "        return n/0\n",
    "    except:\n",
    "        print('I did it again!')\n",
    "        print(sys.exc_info())\n",
    "        #raise      \n",
    "badfun(2)"
   ]
  },
  {
   "cell_type": "code",
   "execution_count": 20,
   "metadata": {},
   "outputs": [
    {
     "name": "stdout",
     "output_type": "stream",
     "text": [
      "I did it again!\n",
      "The End\n"
     ]
    }
   ],
   "source": [
    "def badfun(n):\n",
    "    try:\n",
    "        return n/0\n",
    "    except:\n",
    "        print('I did it again!')\n",
    "        #raise    \n",
    "try:\n",
    "    badfun(0)\n",
    "except ArithmeticError:\n",
    "    print('I see!')\n",
    "print('The End')"
   ]
  },
  {
   "cell_type": "code",
   "execution_count": 23,
   "metadata": {},
   "outputs": [
    {
     "name": "stdout",
     "output_type": "stream",
     "text": [
      "I did it again!\n",
      "I see!\n",
      "The End\n"
     ]
    }
   ],
   "source": [
    "def badfun(n):\n",
    "    try:\n",
    "        return n/0\n",
    "    except:\n",
    "        print('I did it again!')\n",
    "        raise    \n",
    "try:\n",
    "    badfun(0)\n",
    "except ArithmeticError:\n",
    "    print('I see!')\n",
    "print('The End')"
   ]
  },
  {
   "cell_type": "markdown",
   "metadata": {},
   "source": [
    "##### assert\n",
    "- Stop the program when some data have improper values\n",
    "- This is a keyword. How does it work?\n",
    "    - It evaluates the expression;\n",
    "    - if the expression evaluates to True, or a non-zero numerical value, or a non-empty string, or any other value different than None, it won’t do anything else;\n",
    "    - otherwise, it automatically and immediately raises an exception named **AssertionError** (in this case, we say that the assertion has failed)\n",
    " \n",
    "\n",
    "- How it can be used?\n",
    "    - you may want to put it into your code where you want to be absolutely safe from evidently wrong data, and where you aren’t absolutely sure that the data has been carefully examined before (e.g., inside a function used by someone else)\n",
    "    - raising an AssertionError exception secures your code from producing invalid results, and clearly shows the nature of the failure;\n",
    "    - assertions don’t supersede exceptions or validate the data – they are their supplements. \n",
    "- If exceptions and data validation are like careful driving, assertion can play the role of an airbag."
   ]
  },
  {
   "cell_type": "code",
   "execution_count": 29,
   "metadata": {},
   "outputs": [
    {
     "name": "stdout",
     "output_type": "stream",
     "text": [
      "9\n",
      "3.0\n"
     ]
    }
   ],
   "source": [
    "import math\n",
    "x = float(input())\n",
    "assert x>=0.0\n",
    "x = math.sqrt(x)\n",
    "print(x)"
   ]
  },
  {
   "cell_type": "code",
   "execution_count": 28,
   "metadata": {},
   "outputs": [
    {
     "name": "stdout",
     "output_type": "stream",
     "text": [
      "-6\n"
     ]
    },
    {
     "ename": "AssertionError",
     "evalue": "",
     "output_type": "error",
     "traceback": [
      "\u001b[0;31m---------------------------------------------------------------------------\u001b[0m",
      "\u001b[0;31mAssertionError\u001b[0m                            Traceback (most recent call last)",
      "\u001b[0;32m<ipython-input-28-14e8d2639e3a>\u001b[0m in \u001b[0;36m<module>\u001b[0;34m\u001b[0m\n\u001b[1;32m      1\u001b[0m \u001b[0;32mimport\u001b[0m \u001b[0mmath\u001b[0m\u001b[0;34m\u001b[0m\u001b[0;34m\u001b[0m\u001b[0m\n\u001b[1;32m      2\u001b[0m \u001b[0mx\u001b[0m \u001b[0;34m=\u001b[0m \u001b[0mfloat\u001b[0m\u001b[0;34m(\u001b[0m\u001b[0minput\u001b[0m\u001b[0;34m(\u001b[0m\u001b[0;34m)\u001b[0m\u001b[0;34m)\u001b[0m\u001b[0;34m\u001b[0m\u001b[0;34m\u001b[0m\u001b[0m\n\u001b[0;32m----> 3\u001b[0;31m \u001b[0;32massert\u001b[0m \u001b[0mx\u001b[0m\u001b[0;34m>=\u001b[0m\u001b[0;36m0.0\u001b[0m\u001b[0;34m\u001b[0m\u001b[0;34m\u001b[0m\u001b[0m\n\u001b[0m\u001b[1;32m      4\u001b[0m \u001b[0mx\u001b[0m \u001b[0;34m=\u001b[0m \u001b[0mmath\u001b[0m\u001b[0;34m.\u001b[0m\u001b[0msqrt\u001b[0m\u001b[0;34m(\u001b[0m\u001b[0mx\u001b[0m\u001b[0;34m)\u001b[0m\u001b[0;34m\u001b[0m\u001b[0;34m\u001b[0m\u001b[0m\n\u001b[1;32m      5\u001b[0m \u001b[0mprint\u001b[0m\u001b[0;34m(\u001b[0m\u001b[0mx\u001b[0m\u001b[0;34m)\u001b[0m\u001b[0;34m\u001b[0m\u001b[0;34m\u001b[0m\u001b[0m\n",
      "\u001b[0;31mAssertionError\u001b[0m: "
     ]
    }
   ],
   "source": [
    "import math\n",
    "x = float(input())\n",
    "assert x>=0.0\n",
    "x = math.sqrt(x)\n",
    "print(x)"
   ]
  },
  {
   "cell_type": "code",
   "execution_count": 30,
   "metadata": {},
   "outputs": [
    {
     "name": "stdout",
     "output_type": "stream",
     "text": [
      "-6\n",
      "AssertionError!\n",
      "-6.0\n"
     ]
    }
   ],
   "source": [
    "import math\n",
    "x = float(input())\n",
    "try:\n",
    "    assert x>=0.0\n",
    "except:\n",
    "    print('AssertionError!')\n",
    "else:\n",
    "    x = math.sqrt(x)\n",
    "print(x)"
   ]
  },
  {
   "cell_type": "markdown",
   "metadata": {},
   "source": [
    "<div class=\"alert alert-block alert-warning\">"
   ]
  },
  {
   "cell_type": "markdown",
   "metadata": {},
   "source": [
    "### 6.6 Characters and strings vs. computers\n",
    "- Computers store characters as numbers. Every character used by a computer corresponds to a unique number, and vice versa. This assignment must include more characters than you might expect. Many of them are invisible to humans, but essential to computers.\n",
    "\n",
    "- Some of these characters are called whitespaces, while others are named control characters, because their purpose is to control input/output devices. An example of a whitespace that is completely invisible to the naked eye is a special code, or a pair of codes (different operating systems may treat this issue differently), which are used to mark the ends of the lines inside text files.\n",
    "\n",
    "- People do not see this sign (or these signs), but are able to observe the effect of their application where the lines are broken.\n",
    "\n",
    "- We can create virtually any number of character–number assignments, but life in a world in which every type of computer uses a different character encoding would not be very convenient. This system has led to a need to introduce a universal and widely accepted standard implemented by (almost) all computers and operating systems all over the world.\n",
    "\n",
    "- The one named ASCII (short for American Standard Code for Information Interchange) is the most widely used, and you can assume that nearly all modern devices (like computers, printers, mobile phones, tablets, etc.) use that code.\n",
    "\n",
    "- The code provides space for 256 different characters, but we are interested only in the first 128. If you want to see how the code is constructed, look at the table here. Look at it carefully – there are some interesting facts. Look at the code of the most common character – the space. This is 32.\n",
    "\n",
    "- Now check the code of the lower-case letter a. This is 97. And now find the upper-case A. Its code is 65. Now work out the difference between the code of a and A. It is equal to 32. That’s the code of a space. Interesting, isn’t it?\n",
    "\n",
    "- Also note that the letters are arranged in the same order as in the Latin alphabe"
   ]
  },
  {
   "cell_type": "code",
   "execution_count": 37,
   "metadata": {},
   "outputs": [
    {
     "data": {
      "text/plain": [
       "32"
      ]
     },
     "execution_count": 37,
     "metadata": {},
     "output_type": "execute_result"
    }
   ],
   "source": [
    "len(c4)"
   ]
  },
  {
   "cell_type": "code",
   "execution_count": 44,
   "metadata": {},
   "outputs": [
    {
     "data": {
      "text/html": [
       "<div>\n",
       "<style scoped>\n",
       "    .dataframe tbody tr th:only-of-type {\n",
       "        vertical-align: middle;\n",
       "    }\n",
       "\n",
       "    .dataframe tbody tr th {\n",
       "        vertical-align: top;\n",
       "    }\n",
       "\n",
       "    .dataframe thead th {\n",
       "        text-align: right;\n",
       "    }\n",
       "</style>\n",
       "<table border=\"1\" class=\"dataframe\">\n",
       "  <thead>\n",
       "    <tr style=\"text-align: right;\">\n",
       "      <th></th>\n",
       "      <th>Character</th>\n",
       "      <th>Code</th>\n",
       "    </tr>\n",
       "  </thead>\n",
       "  <tbody>\n",
       "    <tr>\n",
       "      <td>0</td>\n",
       "      <td>\u0000</td>\n",
       "      <td>0</td>\n",
       "    </tr>\n",
       "    <tr>\n",
       "      <td>1</td>\n",
       "      <td>\u0001</td>\n",
       "      <td>1</td>\n",
       "    </tr>\n",
       "    <tr>\n",
       "      <td>2</td>\n",
       "      <td>\u0002</td>\n",
       "      <td>2</td>\n",
       "    </tr>\n",
       "    <tr>\n",
       "      <td>3</td>\n",
       "      <td>\u0003</td>\n",
       "      <td>3</td>\n",
       "    </tr>\n",
       "    <tr>\n",
       "      <td>4</td>\n",
       "      <td>\u0004</td>\n",
       "      <td>4</td>\n",
       "    </tr>\n",
       "    <tr>\n",
       "      <td>5</td>\n",
       "      <td>\u0005</td>\n",
       "      <td>5</td>\n",
       "    </tr>\n",
       "    <tr>\n",
       "      <td>6</td>\n",
       "      <td>\u0006</td>\n",
       "      <td>6</td>\n",
       "    </tr>\n",
       "    <tr>\n",
       "      <td>7</td>\n",
       "      <td>\u0007</td>\n",
       "      <td>7</td>\n",
       "    </tr>\n",
       "    <tr>\n",
       "      <td>8</td>\n",
       "      <td>\b</td>\n",
       "      <td>8</td>\n",
       "    </tr>\n",
       "    <tr>\n",
       "      <td>9</td>\n",
       "      <td>\\t</td>\n",
       "      <td>9</td>\n",
       "    </tr>\n",
       "    <tr>\n",
       "      <td>10</td>\n",
       "      <td>\\n</td>\n",
       "      <td>10</td>\n",
       "    </tr>\n",
       "    <tr>\n",
       "      <td>11</td>\n",
       "      <td></td>\n",
       "      <td>11</td>\n",
       "    </tr>\n",
       "    <tr>\n",
       "      <td>12</td>\n",
       "      <td></td>\n",
       "      <td>12</td>\n",
       "    </tr>\n",
       "    <tr>\n",
       "      <td>13</td>\n",
       "      <td>\\r</td>\n",
       "      <td>13</td>\n",
       "    </tr>\n",
       "    <tr>\n",
       "      <td>14</td>\n",
       "      <td>\u000e</td>\n",
       "      <td>14</td>\n",
       "    </tr>\n",
       "    <tr>\n",
       "      <td>15</td>\n",
       "      <td>\u000f</td>\n",
       "      <td>15</td>\n",
       "    </tr>\n",
       "    <tr>\n",
       "      <td>16</td>\n",
       "      <td>\u0010</td>\n",
       "      <td>16</td>\n",
       "    </tr>\n",
       "    <tr>\n",
       "      <td>17</td>\n",
       "      <td>\u0011</td>\n",
       "      <td>17</td>\n",
       "    </tr>\n",
       "    <tr>\n",
       "      <td>18</td>\n",
       "      <td>\u0012</td>\n",
       "      <td>18</td>\n",
       "    </tr>\n",
       "    <tr>\n",
       "      <td>19</td>\n",
       "      <td>\u0013</td>\n",
       "      <td>19</td>\n",
       "    </tr>\n",
       "    <tr>\n",
       "      <td>20</td>\n",
       "      <td>\u0014</td>\n",
       "      <td>20</td>\n",
       "    </tr>\n",
       "    <tr>\n",
       "      <td>21</td>\n",
       "      <td>\u0015</td>\n",
       "      <td>21</td>\n",
       "    </tr>\n",
       "    <tr>\n",
       "      <td>22</td>\n",
       "      <td>\u0016</td>\n",
       "      <td>22</td>\n",
       "    </tr>\n",
       "    <tr>\n",
       "      <td>23</td>\n",
       "      <td>\u0017</td>\n",
       "      <td>23</td>\n",
       "    </tr>\n",
       "    <tr>\n",
       "      <td>24</td>\n",
       "      <td>\u0018</td>\n",
       "      <td>24</td>\n",
       "    </tr>\n",
       "    <tr>\n",
       "      <td>25</td>\n",
       "      <td>\u0019</td>\n",
       "      <td>25</td>\n",
       "    </tr>\n",
       "    <tr>\n",
       "      <td>26</td>\n",
       "      <td>\u001a</td>\n",
       "      <td>26</td>\n",
       "    </tr>\n",
       "    <tr>\n",
       "      <td>27</td>\n",
       "      <td>\u001b</td>\n",
       "      <td>27</td>\n",
       "    </tr>\n",
       "    <tr>\n",
       "      <td>28</td>\n",
       "      <td></td>\n",
       "      <td>28</td>\n",
       "    </tr>\n",
       "    <tr>\n",
       "      <td>29</td>\n",
       "      <td></td>\n",
       "      <td>29</td>\n",
       "    </tr>\n",
       "    <tr>\n",
       "      <td>30</td>\n",
       "      <td></td>\n",
       "      <td>30</td>\n",
       "    </tr>\n",
       "    <tr>\n",
       "      <td>31</td>\n",
       "      <td></td>\n",
       "      <td>31</td>\n",
       "    </tr>\n",
       "  </tbody>\n",
       "</table>\n",
       "</div>"
      ],
      "text/plain": [
       "   Character  Code\n",
       "0          \u0000     0\n",
       "1          \u0001     1\n",
       "2          \u0002     2\n",
       "3          \u0003     3\n",
       "4          \u0004     4\n",
       "5          \u0005     5\n",
       "6          \u0006     6\n",
       "7          \u0007     7\n",
       "8          \b     8\n",
       "9         \\t     9\n",
       "10        \\n    10\n",
       "11         \n",
       "    11\n",
       "12         \n",
       "    12\n",
       "13        \\r    13\n",
       "14         \u000e    14\n",
       "15         \u000f    15\n",
       "16         \u0010    16\n",
       "17         \u0011    17\n",
       "18         \u0012    18\n",
       "19         \u0013    19\n",
       "20         \u0014    20\n",
       "21         \u0015    21\n",
       "22         \u0016    22\n",
       "23         \u0017    23\n",
       "24         \u0018    24\n",
       "25         \u0019    25\n",
       "26         \u001a    26\n",
       "27         \u001b    27\n",
       "28         \n",
       "    28\n",
       "29         \n",
       "    29\n",
       "30         \n",
       "    30\n",
       "31         \u001f    31"
      ]
     },
     "execution_count": 44,
     "metadata": {},
     "output_type": "execute_result"
    }
   ],
   "source": [
    "c1 = [chr(i) for i in range(128)]\n",
    "c11 = [i for i in range(128)]\n",
    "\n",
    "dct1 ={'Character':c1,'Code':c11}\n",
    "\n",
    "import pandas as pd\n",
    "dfch = pd.DataFrame(dct1)\n",
    "dfch.iloc[0:32]"
   ]
  },
  {
   "cell_type": "markdown",
   "metadata": {},
   "source": [
    "- Of course, the Latin alphabet is not sufficient for the whole of mankind. Users of that alphabet are in the minority.  It was necessary to come up with something more flexible and capacious than ASCII, something able to make all the software in the world amenable to internationalization, because different languages use completely different alphabets, and sometimes these alphabets are not as simple as the Latin one.\n",
    "\n",
    "         The word “internationalization” is commonly shortened to I18N →\n",
    "\n",
    "- Why? Look carefully – there is an I at the front of the word, next there are 18 different letters, and an N at the end. Despite the slightly humorous origin, the term is officially used in many documents and standards.\n",
    "\n",
    "- The software I18N is a standard in present times. Each program has to be written in a way that enables it to be used all around the world, among different cultures, languages and alphabets.\n",
    "\n",
    "- A classic form of ASCII code uses eight bits for each sign. Eight bits mean 256 different characters. The first 128 are used for the standard Latin alphabet (both upper-case and lower-case characters). Is it possible to push all the other national characters used around the world into the remaining 128 locations?\n",
    "    - No. It isn’t.\n",
    "    \n",
    "- A code point is a number which makes a character. For example, 32 is a code point which makes a space in ASCII encoding. We can say that standard ASCII code consists of 128 code points.\n",
    "\n",
    "            code point = a number which makes a character\n",
    "\n",
    "- As standard ASCII occupies 128 out of 256 possible code points, you can only make use of the remaining 128. It’s not enough for all possible languages, but it may be sufficient for one language, or for a small group of similar languages. Can you set the higher half of the code points differently for different languages? Yes, you can. Such a concept is called a code page →\n",
    "    - A code page is a standard for using the upper 128 code points to store specific national characters. For example, there are different code pages for Western Europe and Eastern Europe, Cyrillic and Greek alphabets, Arabic and Hebrew languages, and so on.\n",
    "    - This means that the one and same code point can make different characters when used in different code pages.\n",
    "    - For example, the code point 200 makes Č (a letter used by some Slavic languages) when utilized by the ISO/IEC 8859-2 code page, and makes Ш (a Cyrillic letter) when used by the ISO/IEC 8859-5 code page.\n",
    "\n",
    "- In consequence, to determine the meaning of a specific code point, you have to know the target code page. In other words, the code points derived from code the page concept are ambiguous.\n",
    "\n",
    "- Code pages helped the computer industry to solve I18N issues for some time, but it soon turned out that they would not be a permanent solution. The concept that solved the problem in the long term was **Unicode** →\n",
    "    - Unicode assigns unique (unambiguous) characters (letters, hyphens, ideograms, etc.) to more than a million code points. The first 128 Unicode code points are identical to ASCII, and the first 256 Unicode code points are identical to the ISO/IEC 8859-1 code page (a code page designed for western European languages).\n",
    "\n",
    "    - The Unicode standard says nothing about how to code and store the characters in the memory and files. It only names all available characters and assigns them to planes (a group of characters of similar origin, application, or nature).\n",
    "\n",
    "\n",
    "    - There is more than one standard describing the techniques used to implement Unicode in actual computers and computer storage systems. The most general of them is UCS-4 → The name comes from Universal Character Set.\n",
    "\n",
    "    - UCS-4 uses 32 bits (four bytes) to store each character, and the code is just the Unicode code points’ unique number. A file containing UCS-4 encoded text may start with a BOM (byte order mark), an unprintable combination of bits announcing the nature of the file’s contents. Some utilities may require it.\n",
    "\n",
    "    - As you can see, UCS-4 is a rather wasteful standard – it increases a text’s size by four times compared to standard ASCII. Fortunately, there are smarter forms of encoding Unicode texts.\n",
    "\n",
    "- One of the most commonly used is UTF-8 → The name is derived from Unicode Transformation Format. The concept is very smart. UTF-8 uses as many bits for each of the code points as it really needs to represent them.\n",
    "\n",
    "    - For example: all Latin characters (and all standard ASCII characters) occupy eight bits;  non-Latin characters occupy 16 bits; CJK (China-Japan-Korea) ideographs occupy 24 bits.\n",
    "     - Due to features of the method used by UTF-8 to store the code points, there is no need to use the BOM, but some of the tools look for it when reading the file, and many editors set it up during the save.\n",
    "    - Python 3 fully supports Unicode and UTF-8: you can use Unicode/UTF-8 encoded characters to name variables and other entities;\n",
    "    - you can use them during all input and output. This means that Python3 is completely I18Ned. "
   ]
  },
  {
   "cell_type": "markdown",
   "metadata": {},
   "source": [
    "##### Strings\n",
    "- Strings are sequences\n",
    "- A string is iterable: Iterating through the strings works\n",
    "- Strings are immutable. This is a very important feature. Elements can't be changed or deleted via indexing\n",
    "- As with the absence of the append() method, insert() is illegal, too\n",
    "- Any string can be empty. Its length is 0 then – just like here →"
   ]
  },
  {
   "cell_type": "code",
   "execution_count": 45,
   "metadata": {},
   "outputs": [
    {
     "data": {
      "text/plain": [
       "0"
      ]
     },
     "execution_count": 45,
     "metadata": {},
     "output_type": "execute_result"
    }
   ],
   "source": [
    "empty =''\n",
    "len(empty)"
   ]
  },
  {
   "cell_type": "markdown",
   "metadata": {},
   "source": [
    "- Don’t forget that a backslash (\\) used as an escape character is not included in the string’s total length."
   ]
  },
  {
   "cell_type": "code",
   "execution_count": 47,
   "metadata": {},
   "outputs": [
    {
     "data": {
      "text/plain": [
       "3"
      ]
     },
     "execution_count": 47,
     "metadata": {},
     "output_type": "execute_result"
    }
   ],
   "source": [
    "empty ='I\\'m'\n",
    "len(empty)"
   ]
  },
  {
   "cell_type": "code",
   "execution_count": 48,
   "metadata": {},
   "outputs": [
    {
     "data": {
      "text/plain": [
       "['I', \"'\", 'm']"
      ]
     },
     "execution_count": 48,
     "metadata": {},
     "output_type": "execute_result"
    }
   ],
   "source": [
    "list(empty)"
   ]
  },
  {
   "cell_type": "markdown",
   "metadata": {},
   "source": [
    "In general, strings can be:\n",
    "- concatenated (joined) using +\n",
    "- replicated using *"
   ]
  },
  {
   "cell_type": "code",
   "execution_count": 49,
   "metadata": {},
   "outputs": [
    {
     "data": {
      "text/plain": [
       "'alemfitwi'"
      ]
     },
     "execution_count": 49,
     "metadata": {},
     "output_type": "execute_result"
    }
   ],
   "source": [
    "\"alem\"+\"fitwi\""
   ]
  },
  {
   "cell_type": "code",
   "execution_count": 50,
   "metadata": {},
   "outputs": [
    {
     "data": {
      "text/plain": [
       "'alemalemalemalemalem'"
      ]
     },
     "execution_count": 50,
     "metadata": {},
     "output_type": "execute_result"
    }
   ],
   "source": [
    "\"alem\"*5"
   ]
  },
  {
   "cell_type": "code",
   "execution_count": 53,
   "metadata": {},
   "outputs": [
    {
     "data": {
      "text/plain": [
       "114"
      ]
     },
     "execution_count": 53,
     "metadata": {},
     "output_type": "execute_result"
    }
   ],
   "source": [
    "# Code point value using ord\n",
    "ord('r')"
   ]
  },
  {
   "cell_type": "code",
   "execution_count": 54,
   "metadata": {},
   "outputs": [
    {
     "data": {
      "text/plain": [
       "'#'"
      ]
     },
     "execution_count": 54,
     "metadata": {},
     "output_type": "execute_result"
    }
   ],
   "source": [
    "#  corresponding character of a code point value\n",
    "chr(35)"
   ]
  },
  {
   "cell_type": "code",
   "execution_count": 57,
   "metadata": {},
   "outputs": [
    {
     "data": {
      "text/plain": [
       "'α'"
      ]
     },
     "execution_count": 57,
     "metadata": {},
     "output_type": "execute_result"
    }
   ],
   "source": [
    "chr(945)"
   ]
  },
  {
   "cell_type": "code",
   "execution_count": 58,
   "metadata": {},
   "outputs": [
    {
     "data": {
      "text/plain": [
       "'am'"
      ]
     },
     "execution_count": 58,
     "metadata": {},
     "output_type": "execute_result"
    }
   ],
   "source": [
    "# Stepping over\n",
    "a = 'alem'\n",
    "a[::3]"
   ]
  },
  {
   "cell_type": "markdown",
   "metadata": {},
   "source": [
    "The function finds the minimum element of the sequence passed as an argument. There is one condition – the sequence (string, list, it doesn’t matter) cannot be empty, or else you’ll get a ValueError exception."
   ]
  },
  {
   "cell_type": "code",
   "execution_count": 60,
   "metadata": {},
   "outputs": [
    {
     "data": {
      "text/plain": [
       "'A'"
      ]
     },
     "execution_count": 60,
     "metadata": {},
     "output_type": "execute_result"
    }
   ],
   "source": [
    "min('aABCDEFGz') # based on the ASCII code point values"
   ]
  },
  {
   "cell_type": "code",
   "execution_count": 61,
   "metadata": {},
   "outputs": [
    {
     "data": {
      "text/plain": [
       "'z'"
      ]
     },
     "execution_count": 61,
     "metadata": {},
     "output_type": "execute_result"
    }
   ],
   "source": [
    "max('aABCDEFGz') # based on the ASCII code point values"
   ]
  },
  {
   "cell_type": "code",
   "execution_count": 62,
   "metadata": {},
   "outputs": [
    {
     "name": "stdout",
     "output_type": "stream",
     "text": [
      "Alem\n"
     ]
    }
   ],
   "source": [
    "# Capitalize\n",
    "print('ALEM'.capitalize())"
   ]
  },
  {
   "cell_type": "code",
   "execution_count": 65,
   "metadata": {},
   "outputs": [
    {
     "name": "stdout",
     "output_type": "stream",
     "text": [
      "19\n",
      "the\n",
      "42\n",
      "the\n",
      "105\n",
      "the\n"
     ]
    }
   ],
   "source": [
    "# find()\n",
    "txt = \"\"\"The function finds the minimum element of the \n",
    "sequence passed as an argument. There is one condition – \n",
    "the sequence (string, list, it doesn’t matter) cannot \n",
    "be empty, or else you’ll get a ValueError exception.\"\"\"\n",
    "\n",
    "fnd = txt.find('the')\n",
    "while fnd!=-1:\n",
    "    print(fnd)\n",
    "    print(txt[fnd:fnd+len('the')])\n",
    "    fnd = txt.find('the', fnd+1)"
   ]
  },
  {
   "cell_type": "markdown",
   "metadata": {},
   "source": [
    "- The upper() method makes a copy of the source string, replaces all lower-case letters with their upper-case counterparts, and returns the string as the result."
   ]
  },
  {
   "cell_type": "code",
   "execution_count": 66,
   "metadata": {},
   "outputs": [
    {
     "data": {
      "text/plain": [
       "'SIGMA=60'"
      ]
     },
     "execution_count": 66,
     "metadata": {},
     "output_type": "execute_result"
    }
   ],
   "source": [
    "'SiGMa=60'.upper()"
   ]
  },
  {
   "cell_type": "markdown",
   "metadata": {},
   "source": [
    "- The strip() method combines the effects caused by rstrip() and lstrip() – it makes a new string lacking all the leading and trailing whitespaces."
   ]
  },
  {
   "cell_type": "markdown",
   "metadata": {},
   "source": [
    "##### Comparing strings\n",
    "- It just compares code point values, character by character.\n",
    "- The final relation between strings is determined by comparing the first different character in both strings (keep ASCII/UNICODE code points in mind at all times)\n",
    "- String comparison is always case-sensitive (upper-case letters are taken as lesser than lower-case).\n",
    "- Even if a string contains digits only, it’s still not a number. It’s interpreted as-is, like any other regular string, and its (potential) numerical aspect is not taken into consideration in any way.\n",
    "- Comparing strings against numbers is generally a bad idea."
   ]
  },
  {
   "cell_type": "markdown",
   "metadata": {},
   "source": [
    "##### Two ways of sorting a list\n",
    "- sorted(list): new list, filled with the sorted argument’s elements\n",
    "- list.sort():  no new list is created."
   ]
  },
  {
   "cell_type": "code",
   "execution_count": 71,
   "metadata": {},
   "outputs": [
    {
     "name": "stdout",
     "output_type": "stream",
     "text": [
      "[1, 2, 3, 4, 8]\n",
      "[1, 2, 3, 4, 8]\n"
     ]
    }
   ],
   "source": [
    "lst1 = [8,1,2,3,4]\n",
    "print(sorted(lst1))\n",
    "lst = [8,1,2,3,4]\n",
    "lst.sort() # inplace\n",
    "print(lst)"
   ]
  },
  {
   "cell_type": "markdown",
   "metadata": {},
   "source": [
    "<div class=\"alert alert-block alert-warning\">"
   ]
  },
  {
   "cell_type": "markdown",
   "metadata": {},
   "source": [
    "### 6.7 10 File System Methods\n",
    "- OS module in Python provides functions for interacting with the operating system. OS comes under Python’s standard utility modules. This module provides a portable way of using operating system dependent functionality."
   ]
  },
  {
   "cell_type": "code",
   "execution_count": 18,
   "metadata": {},
   "outputs": [],
   "source": [
    "import os"
   ]
  },
  {
   "cell_type": "markdown",
   "metadata": {},
   "source": [
    "##### Get Info\n",
    "- **os.getcwd()** — get the current working directory path as a string — **pwd**    \n",
    "- **os.listdir()** — get the contents of the current working directory as a list of strings — **ls**    \n",
    "- **os.walk(\"starting_directory_path\")**— returns a generator with name and path info for directories and files in the the current directory and all subdirectories— no exact short CLI equivalent, but **ls -R** provides subdirectory names and the names of files within subdirectories    \n",
    "\n",
    "##### Change Things\n",
    "- **os.chdir(\"/absolute/or/relative/path\")** — change the current working directory — **cd**\n",
    "- **os.path.join()**—create a path for later use — no short CLI equivalent\n",
    "- **os.makedirs(\"dir1/dir2\")** — make directory —**mkdir -p**\n",
    "- **shutil.copy2(\"source_file_path\", \"destination_directory_path\")** — copy a file or directory — **cp**\n",
    "- **shutil.move(\"source_file_path\", \"destination_directory_path\")** — move a file or directory — **mv**\n",
    "- **os.remove(\"my_file_path\")** — remove a file — rm\n",
    "- **shutil.rmtree(\"my_directory_path\")**— remove a directory and all files and directories in it —**rm -rf**"
   ]
  },
  {
   "cell_type": "markdown",
   "metadata": {},
   "source": [
    "##### 1. os.getcwd()\n",
    "- returns the current working directory as a string. That one is straightforward."
   ]
  },
  {
   "cell_type": "code",
   "execution_count": 1,
   "metadata": {},
   "outputs": [
    {
     "data": {
      "text/plain": [
       "'/home/alem/Desktop/FinalNotes/1_Python'"
      ]
     },
     "execution_count": 1,
     "metadata": {},
     "output_type": "execute_result"
    }
   ],
   "source": [
    "import os\n",
    "os.getcwd()"
   ]
  },
  {
   "cell_type": "markdown",
   "metadata": {},
   "source": [
    "##### 2. os.listdir()\n",
    "- returns the contents of the current working directory as a list of strings. That one is also straightforward."
   ]
  },
  {
   "cell_type": "code",
   "execution_count": 2,
   "metadata": {},
   "outputs": [
    {
     "data": {
      "text/plain": [
       "['packages',\n",
       " '14_Statistics.ipynb',\n",
       " 'py2',\n",
       " '10. Advanced Python Features.ipynb',\n",
       " '__pycache__',\n",
       " 'py4DS_1',\n",
       " '19_TenInterviewQuestions.ipynb',\n",
       " '7_OOP.ipynb',\n",
       " '18_ParallelProgramming.ipynb',\n",
       " '1_Complete-Python-3-Bootcamp-master',\n",
       " 'sample.xlsx',\n",
       " '1_Introduction.ipynb',\n",
       " '15_Plotting(Matplot_Seaborn_pandas_plot).ipynb',\n",
       " '0_PCAP',\n",
       " '8_ModulesAndPackages.ipynb',\n",
       " '3_Operators&BuiltinFunctions.ipynb',\n",
       " '11_AbstractStaticInterfaceClasses.ipynb',\n",
       " '0_Datasets',\n",
       " 'main.py',\n",
       " 'Top 100 Python Interview Questions & Answers For 2020 _ Edureka.pdf',\n",
       " '0_project',\n",
       " '4_pyNotes',\n",
       " '6_FileSystems&Exceptions.ipynb',\n",
       " '2_ObjectsAndDataStructures.ipynb',\n",
       " '5_FunctionsandMethods.ipynb',\n",
       " '12_NumpyandArrays.ipynb',\n",
       " '.ipynb_checkpoints',\n",
       " '4_FlowControls.ipynb',\n",
       " '16_PythonDateandTime.ipynb',\n",
       " 'config.py',\n",
       " 'result.csv',\n",
       " '9_Databases.ipynb',\n",
       " 'pynotes',\n",
       " 'modules',\n",
       " '17_Algorithms.ipynb',\n",
       " '13_Pandas.ipynb',\n",
       " '18_DashandPlotly.ipynb',\n",
       " '2_Introduction.ipynb',\n",
       " '0_figs']"
      ]
     },
     "execution_count": 2,
     "metadata": {},
     "output_type": "execute_result"
    }
   ],
   "source": [
    "import os\n",
    "os.listdir()"
   ]
  },
  {
   "cell_type": "markdown",
   "metadata": {},
   "source": [
    "##### 3. os.walk(\"starting_directory_path\")\n",
    "- - How to traverse file system in Python ? Suppose we have given below file structure in our system and we want to traverse all it’s branches completely from top to bottom ?\n",
    "- creates a generator that can return information about the current directory and subdirectories. It works through the directories in the specified starting directory.\n",
    "-  returns the following items for each directory it traverses:\n",
    "      - current directory path as a string\n",
    "      - subdirectory names in the current directory as lists of strings\n",
    "      - filenames in current directory as a list of strings\n",
    "- It does this for each directory!\n",
    "- It’s often useful to use os.walk() with a for loop to iterate over the contents of a directory and its subdirectories. For example, the following code will print all files in the directories and subdirectories of the current working directory."
   ]
  },
  {
   "cell_type": "code",
   "execution_count": 9,
   "metadata": {},
   "outputs": [
    {
     "data": {
      "text/plain": [
       "'14_Statistics.ipynb'"
      ]
     },
     "execution_count": 9,
     "metadata": {},
     "output_type": "execute_result"
    }
   ],
   "source": [
    "import os\n",
    "cwd = os.getcwd()\n",
    "files = []\n",
    "for dir_path, dir_names, file_names in os.walk(cwd):\n",
    "    for f in file_names:\n",
    "        files.append(f)\n",
    "files[0]"
   ]
  },
  {
   "cell_type": "code",
   "execution_count": 8,
   "metadata": {},
   "outputs": [
    {
     "data": {
      "image/jpeg": "[encoded data removed]",
      "text/plain": [
       "<IPython.core.display.Image object>"
      ]
     },
     "execution_count": 8,
     "metadata": {},
     "output_type": "execute_result"
    }
   ],
   "source": [
    "from IPython.display import Image\n",
    "Image('./0_figs/osWalk.jpg')"
   ]
  },
  {
   "cell_type": "markdown",
   "metadata": {},
   "source": [
    "How does os.walk() work in python ?\n",
    "- OS.walk() generate the file names in a directory tree by walking the tree either top-down or bottom-up. For each directory in the tree rooted at directory top (including top itself), it yields a 3-tuple (dirpath, dirnames, filenames).\n",
    "    - root : Prints out directories only from what you specified.\n",
    "    - dirs : Prints out sub-directories from root.\n",
    "    - files : Prints out all files from root and directories."
   ]
  },
  {
   "cell_type": "code",
   "execution_count": 10,
   "metadata": {},
   "outputs": [],
   "source": [
    "# Driver function \n",
    "import os \n",
    "root1,dirs1,files1 =[],[],[]\n",
    "if __name__ == \"__main__\": \n",
    "    for (root,dirs,files) in os.walk('/home/alem/Desktop/FinalNotes/', topdown=True): \n",
    "        root1.append(root)\n",
    "        dirs1.append(dirs)\n",
    "        files1.append(files)"
   ]
  },
  {
   "cell_type": "code",
   "execution_count": 11,
   "metadata": {},
   "outputs": [
    {
     "data": {
      "text/plain": [
       "['/home/alem/Desktop/FinalNotes/',\n",
       " '/home/alem/Desktop/FinalNotes/6_FullStackWebDevt',\n",
       " '/home/alem/Desktop/FinalNotes/6_FullStackWebDevt/.ipynb_checkpoints']"
      ]
     },
     "execution_count": 11,
     "metadata": {},
     "output_type": "execute_result"
    }
   ],
   "source": [
    "root1[0:3]"
   ]
  },
  {
   "cell_type": "code",
   "execution_count": 12,
   "metadata": {},
   "outputs": [],
   "source": [
    "import os\n",
    "import sys\n",
    "\n",
    "def count_py_files_in_repos(dirname):\n",
    "    if os.path.exists(dirname):\n",
    "        count = 0\n",
    "        for root, dirs, files in os.walk(dirname):\n",
    "            count+=len([f for f in files if f.endswith('.py')])\n",
    "        print('{} has {} Python files'.format(dirname,count))\n",
    "    for name in os.listdir(dirname):\n",
    "        path = os.path.join(dirname, name)\n",
    "        if os.path.isdir(path):\n",
    "            count_py_files_in_repos(path)"
   ]
  },
  {
   "cell_type": "code",
   "execution_count": 13,
   "metadata": {},
   "outputs": [],
   "source": [
    "dirname = '/home/alem/Desktop/FinalNotes/'\n",
    "#count_py_files_in_repos(dirname)"
   ]
  },
  {
   "cell_type": "markdown",
   "metadata": {},
   "source": [
    "##### 4. os.chdir(\"/absolute/or/relative/path\")"
   ]
  },
  {
   "cell_type": "markdown",
   "metadata": {},
   "source": [
    "- This method changes the current working directory to either the absolute or relative path provided.\n",
    "- If your code then makes other changes to the file system, it’s a good idea to handle any exceptions raised when using this method with ***try-except***. Otherwise you might be deleting directories or files you don’t want deleted."
   ]
  },
  {
   "cell_type": "markdown",
   "metadata": {},
   "source": [
    "##### 5. os.path.join()\n",
    "- The os.path module has a number of useful methods for common pathname manipulations. You can use it to find information about directory names and parts of directory names. The module also has methods to check whether a file or directory exists.\n",
    "os.path.join() is designed to create a path that will work on most any operating system by joining multiple strings into one beautiful file path.😄\n",
    "- Here’s the description from the docs:\n",
    "    - Join one or more path components intelligently. The return value is the concatenation of path and any members of *paths with exactly one directory separator (os.sep) following each non-empty part except the last…\n",
    "- Basically, if you are on a Unix or macOS system, os.path.join() sticks a forward slash (“/”) between each string you provide to create a path. If the operating system needs a “\\” instead, then join knows to use a back slash.\n",
    "- os.path.join() also provides clear information to other developers that you are creating a path. Definitely use it instead of manual string concatenation to avoid looking like a rookie."
   ]
  },
  {
   "cell_type": "code",
   "execution_count": 16,
   "metadata": {},
   "outputs": [
    {
     "data": {
      "text/plain": [
       "'./tesmakedir/file.txt'"
      ]
     },
     "execution_count": 16,
     "metadata": {},
     "output_type": "execute_result"
    }
   ],
   "source": [
    "path2 = os.path.join('./tesmakedir', \"file.txt\")\n",
    "path2"
   ]
  },
  {
   "cell_type": "markdown",
   "metadata": {},
   "source": [
    "##### 6. os.makedirs(\"dir1/dir2\")\n",
    "- os.makedirs() makes directories. The mkdir() method also makes directories, but it does not make intermediate directories. So I suggest you use os.makedirs()."
   ]
  },
  {
   "cell_type": "code",
   "execution_count": 4,
   "metadata": {},
   "outputs": [],
   "source": [
    "import os\n",
    "os.makedirs(\"tesmakedir\")"
   ]
  },
  {
   "cell_type": "markdown",
   "metadata": {},
   "source": [
    "##### 7. shutil.copy2(\"source_file\", \"destination\")\n",
    "- There are many ways to copy files and directories in Python. shutil.copy2() is a good choice because it tries to preserve as much of the source file’s metadata as possible. For more discussion, see this article."
   ]
  },
  {
   "cell_type": "code",
   "execution_count": 9,
   "metadata": {},
   "outputs": [
    {
     "data": {
      "text/plain": [
       "'./tesmakedir/iota.py'"
      ]
     },
     "execution_count": 9,
     "metadata": {},
     "output_type": "execute_result"
    }
   ],
   "source": [
    "import shutil\n",
    "shutil.copy2(\"./packages/extra/iota.py\", \"./tesmakedir/\")"
   ]
  },
  {
   "cell_type": "code",
   "execution_count": 10,
   "metadata": {},
   "outputs": [
    {
     "data": {
      "text/plain": [
       "'./tesmakedir/alpha.py'"
      ]
     },
     "execution_count": 10,
     "metadata": {},
     "output_type": "execute_result"
    }
   ],
   "source": [
    "shutil.copy(\"./packages/extra/good/alpha.py\", \"./tesmakedir/\") "
   ]
  },
  {
   "cell_type": "markdown",
   "metadata": {},
   "source": [
    "##### 8. shutil.move(\"source_file\", \"destination\")\n",
    "- Use shutil.move() to change a file’s location. It uses copy2 as the default under the hood."
   ]
  },
  {
   "cell_type": "code",
   "execution_count": 13,
   "metadata": {},
   "outputs": [
    {
     "data": {
      "text/plain": [
       "'./tesmakedir2/alpha.py'"
      ]
     },
     "execution_count": 13,
     "metadata": {},
     "output_type": "execute_result"
    }
   ],
   "source": [
    "os.makedirs(\"tesmakedir2\")\n",
    "shutil.move(\"./tesmakedir/alpha.py\", \"./tesmakedir2/\") "
   ]
  },
  {
   "cell_type": "markdown",
   "metadata": {},
   "source": [
    "##### 9. os.remove(\"my_file_path\")\n",
    "- Sometimes you need to remove a file. os.remove() is your tool."
   ]
  },
  {
   "cell_type": "code",
   "execution_count": 14,
   "metadata": {},
   "outputs": [],
   "source": [
    "os.remove(\"./tesmakedir2/alpha.py\") "
   ]
  },
  {
   "cell_type": "markdown",
   "metadata": {},
   "source": [
    "##### 10. shutil.rmtree(\"my_directory_path\")\n",
    "shutil.rmtree() removes a directory and all files and directories in it."
   ]
  },
  {
   "cell_type": "code",
   "execution_count": 15,
   "metadata": {},
   "outputs": [],
   "source": [
    "shutil.rmtree(\"./tesmakedir/\") "
   ]
  },
  {
   "cell_type": "markdown",
   "metadata": {},
   "source": [
    "##### 11. os.stat(source).st_mode \n",
    "- performs stat() system call on the specified path. This method is used to get status of the specified path.\n",
    "\n",
    "        Syntax: os.stat(path)\n",
    "\n",
    "        Parameter:\n",
    "            path: A string or bytes object representing a valid path\n",
    "\n",
    "            Return Type: This method returns a ‘stat_result’ object of class ‘os.stat_result’ which represents the status of specified path. The returned ‘stat-result’ object has following attributes:\n",
    "            \n",
    "- Print file permission of the source\n",
    "\n",
    "        st_mode: It represents file type and file mode bits (permissions).\n",
    "        st_ino: It represents the inode number on Unix and the file index on Windows platform.\n",
    "        st_dev: It represents the identifier of the device on which this file resides.\n",
    "        st_nlink: It represents the number of hard links.\n",
    "        st_uid: It represents the user identifier of the file owner.\n",
    "        st_gid: It represents the group identifier of the file owner.\n",
    "        st_size: It represents the size of the file in bytes.\n",
    "        st_atime: It represents the time of most recent access. It is expressed in seconds.\n",
    "        st_mtime: It represents the time of most recent content modification. It is expressed in seconds.\n",
    "        st_ctime: It represents the time of most recent metadata change on Unix and creation time on Windows. It is expressed in seconds.\n",
    "        st_atime_ns: It is same as st_atime but the time is expressed in nanoseconds as an integer.\n",
    "        st_mtime_ns: It is same as st_mtime but the time is expressed in nanoseconds as an integer.\n",
    "        st_ctime_ns: It is same as st_ctime but the time is expressed in nanoseconds as an integer.\n",
    "        st_blocks: It represents the number of 512-byte blocks allocated for file.\n",
    "        st_rdev: It represents the type of device, if an inode device.\n",
    "        st_flags: It represents the user defined flags for file.\n",
    "- Note: Some attributes are platform dependent and are subject to availability."
   ]
  },
  {
   "cell_type": "markdown",
   "metadata": {},
   "source": [
    "##### File permission and access modes in Unix. \n",
    "- File ownership is an important component of Unix that provides a secure method for storing files. Every file in Unix has the following attributes −\n",
    "    - Owner permissions − The owner's permissions determine what actions the owner of the file can perform on the file.\n",
    "    - Group permissions − The group's permissions determine what actions a user, who is a member of the group that a file belongs to, can perform on the file.\n",
    "    - Other (world) permissions − The permissions for others indicate what action all other users can perform on the file.\n",
    "- The Permission Indicators: While using ls -l command, it displays various information related to file permission as follows:\n",
    "    - $ls -l /home/amrood\n",
    "        - -rwxr-xr--  1 amrood   users 1024  Nov 2 00:10  myfile\n",
    "        - drwxr-xr--- 1 amrood   users 1024  Nov 2 00:10  mydir"
   ]
  },
  {
   "cell_type": "code",
   "execution_count": 6,
   "metadata": {},
   "outputs": [
    {
     "data": {
      "text/html": [
       "<div>\n",
       "<style scoped>\n",
       "    .dataframe tbody tr th:only-of-type {\n",
       "        vertical-align: middle;\n",
       "    }\n",
       "\n",
       "    .dataframe tbody tr th {\n",
       "        vertical-align: top;\n",
       "    }\n",
       "\n",
       "    .dataframe thead th {\n",
       "        text-align: right;\n",
       "    }\n",
       "</style>\n",
       "<table border=\"1\" class=\"dataframe\">\n",
       "  <thead>\n",
       "    <tr style=\"text-align: right;\">\n",
       "      <th></th>\n",
       "      <th>Number</th>\n",
       "      <th>Octal Permission Representation</th>\n",
       "      <th>Ref</th>\n",
       "    </tr>\n",
       "  </thead>\n",
       "  <tbody>\n",
       "    <tr>\n",
       "      <td>0</td>\n",
       "      <td>0</td>\n",
       "      <td>No permission</td>\n",
       "      <td>---</td>\n",
       "    </tr>\n",
       "    <tr>\n",
       "      <td>1</td>\n",
       "      <td>1</td>\n",
       "      <td>Execute permission</td>\n",
       "      <td>--x</td>\n",
       "    </tr>\n",
       "    <tr>\n",
       "      <td>2</td>\n",
       "      <td>2</td>\n",
       "      <td>Write permission</td>\n",
       "      <td>-w-</td>\n",
       "    </tr>\n",
       "    <tr>\n",
       "      <td>3</td>\n",
       "      <td>3</td>\n",
       "      <td>Execute and write permission: 1 (execute) + 2 ...</td>\n",
       "      <td>-wx</td>\n",
       "    </tr>\n",
       "    <tr>\n",
       "      <td>4</td>\n",
       "      <td>4</td>\n",
       "      <td>Read permission</td>\n",
       "      <td>r--</td>\n",
       "    </tr>\n",
       "    <tr>\n",
       "      <td>5</td>\n",
       "      <td>5</td>\n",
       "      <td>Read and execute permission: 4 (read) + 1 (exe...</td>\n",
       "      <td>r-x</td>\n",
       "    </tr>\n",
       "    <tr>\n",
       "      <td>6</td>\n",
       "      <td>6</td>\n",
       "      <td>Read and write permission: 4 (read) + 2 (write...</td>\n",
       "      <td>rw-</td>\n",
       "    </tr>\n",
       "    <tr>\n",
       "      <td>7</td>\n",
       "      <td>7</td>\n",
       "      <td>All permissions: 4 (read) + 2 (write) + 1 (exe...</td>\n",
       "      <td>rwx</td>\n",
       "    </tr>\n",
       "  </tbody>\n",
       "</table>\n",
       "</div>"
      ],
      "text/plain": [
       "   Number                    Octal Permission Representation  Ref\n",
       "0       0                                      No permission  ---\n",
       "1       1                                 Execute permission  --x\n",
       "2       2                                   Write permission  -w-\n",
       "3       3  Execute and write permission: 1 (execute) + 2 ...  -wx\n",
       "4       4                                    Read permission  r--\n",
       "5       5  Read and execute permission: 4 (read) + 1 (exe...  r-x\n",
       "6       6  Read and write permission: 4 (read) + 2 (write...  rw-\n",
       "7       7  All permissions: 4 (read) + 2 (write) + 1 (exe...  rwx"
      ]
     },
     "execution_count": 6,
     "metadata": {},
     "output_type": "execute_result"
    }
   ],
   "source": [
    "lst1 = [i for i in range(0,8)]\n",
    "lst2 = ['No permission', 'Execute permission', 'Write permission', \n",
    "        'Execute and write permission: 1 (execute) + 2 (write) = 3',\n",
    "       'Read permission','Read and execute permission: 4 (read) + 1 (execute) = 5',\n",
    "       'Read and write permission: 4 (read) + 2 (write) = 6',\n",
    "       'All permissions: 4 (read) + 2 (write) + 1 (execute) = 7']\n",
    "lst3 = ['---', '--x','-w-','-wx','r--','r-x', 'rw-', 'rwx']\n",
    "columns = ['Number','Octal Permission Representation','Ref']\n",
    "\n",
    "dct = {columns[0]:lst1, columns[1]:lst2,columns[2]:lst3}\n",
    "\n",
    "import pandas as pd\n",
    "df = pd.DataFrame(dct)\n",
    "df"
   ]
  },
  {
   "cell_type": "markdown",
   "metadata": {},
   "source": [
    "- ls\n",
    "- ls -a\n",
    "- ls -la"
   ]
  },
  {
   "cell_type": "markdown",
   "metadata": {},
   "source": [
    "drwxr-xr-x  3 alem alem      4096 Mar  9  2020 .anaconda\n",
    "- Dir flag, permission, number of files (if it starts with dir flag), user owner, group owner, PID, date, time, directory_name/filename\n",
    "  - r: read access for file or listing access for dir\n",
    "  - w: write access for file, add/deleting for files or directory in dir\n",
    "  - x:execute access for file, and traversing for a dir, as part of filename"
   ]
  },
  {
   "cell_type": "code",
   "execution_count": 7,
   "metadata": {},
   "outputs": [
    {
     "data": {
      "image/png": "[encoded data removed]",
      "text/plain": [
       "<IPython.core.display.Image object>"
      ]
     },
     "execution_count": 7,
     "metadata": {},
     "output_type": "execute_result"
    }
   ],
   "source": [
    "from IPython.display import Image\n",
    "Image('./0_figs/rwx.png')"
   ]
  },
  {
   "cell_type": "markdown",
   "metadata": {},
   "source": [
    "        Chmod <perm> file: a command to change a file's permissions\n",
    "        chmod 754 alem.py: -rwxr-xr-- → 11110110 → 9 bits, 3 for each\n",
    "        chmod u+x alem.py:adds execution onto file owner\n",
    "        chmod g-w alem.py: removes write permissions from group\n",
    "        chmod o+r alem.py: adds read permission to other users\n",
    "        chmod a-wx alem.py: removes w & x permissions from all users\n",
    "        chown <un>:<gn> alem.py:  changes owner of a file or dir\n",
    "        chown alema alem.py: changes alem.py owner to alema\n",
    "        chown :g1 alem.py: changes alem.py owner to g1"
   ]
  },
  {
   "cell_type": "code",
   "execution_count": 2,
   "metadata": {},
   "outputs": [
    {
     "data": {
      "text/plain": [
       "16877"
      ]
     },
     "execution_count": 2,
     "metadata": {},
     "output_type": "execute_result"
    }
   ],
   "source": [
    "import os\n",
    "src = os.getcwd()\n",
    "os.stat(src).st_mode "
   ]
  },
  {
   "cell_type": "code",
   "execution_count": 3,
   "metadata": {},
   "outputs": [
    {
     "data": {
      "text/plain": [
       "4874275"
      ]
     },
     "execution_count": 3,
     "metadata": {},
     "output_type": "execute_result"
    }
   ],
   "source": [
    "os.stat(src).st_ino"
   ]
  },
  {
   "cell_type": "markdown",
   "metadata": {},
   "source": [
    "<div class=\"alert alert-block alert-warning\">"
   ]
  },
  {
   "cell_type": "markdown",
   "metadata": {},
   "source": [
    "### 6.8 Summary"
   ]
  },
  {
   "cell_type": "markdown",
   "metadata": {},
   "source": [
    "BaseException\n",
    "\n",
    "+---Exception\n",
    "\n",
    "|   +---TypeError\n",
    "\n",
    "|   +---StopIteration\n",
    "\n",
    "|   +---MemoryError\n",
    "\n",
    "|   +---NameError\n",
    "\n",
    "|   |   +---UnboundLocalError\n",
    "\n",
    "|   +---ValueError\n",
    "\n",
    "|   |   +---UnicodeError\n",
    "\n",
    "|   |   |   +---UnicodeEncodeError\n",
    "\n",
    "|   |   |   +---UnicodeDecodeError\n",
    "\n",
    "|   |   |   +---UnicodeTranslateError\n",
    "\n",
    "|   |   +---UnsupportedOperation\n",
    "\n",
    "|   +---Warning\n",
    "\n",
    "|   |   +---UserWarning\n",
    "\n",
    "|   |   +---DeprecationWarning\n",
    "\n",
    "|   |   +---UnicodeWarning\n",
    "\n",
    "|   |   +---BytesWarning\n",
    "\n",
    "|   |   +---SyntaxWarning\n",
    "\n",
    "|   |   +---ResourceWarning\n",
    "\n",
    "|   |   +---RuntimeWarning\n",
    "\n",
    "|   |   +---FutureWarning\n",
    "\n",
    "|   |   +---ImportWarning\n",
    "\n",
    "|   |   +---PendingDeprecationWarning\n",
    "\n",
    "|   +---AttributeError\n",
    "\n",
    "|   +---EOFError\n",
    "\n",
    "|   +---LookupError\n",
    "\n",
    "|   |   +---IndexError\n",
    "\n",
    "|   |   +---KeyError\n",
    "\n",
    "|   |   +---CodecRegistryError\n",
    "\n",
    "|   +---ReferenceError\n",
    "\n",
    "|   +---ArithmeticError\n",
    "\n",
    "|   |   +---FloatingPointError\n",
    "\n",
    "|   |   +---OverflowError\n",
    "\n",
    "|   |   +---ZeroDivisionError\n",
    "\n",
    "|   +---Error\n",
    "\n",
    "|   +---ImportError\n",
    "\n",
    "|   |   +---ZipImportError\n",
    "\n",
    "|   +---BufferError\n",
    "\n",
    "|   +---SyntaxError\n",
    "\n",
    "|   |   +---IndentationError\n",
    "\n",
    "|   |   |   +---TabError\n",
    "\n",
    "|   +---OSError\n",
    "\n",
    "|   |   +---ConnectionError\n",
    "\n",
    "|   |   |   +---BrokenPipeError\n",
    "\n",
    "|   |   |   +---ConnectionAbortedError\n",
    "\n",
    "|   |   |   +---ConnectionRefusedError\n",
    "\n",
    "|   |   |   +---ConnectionResetError\n",
    "\n",
    "|   |   +---BlockingIOError\n",
    "\n",
    "|   |   +---ProcessLookupError\n",
    "\n",
    "|   |   +---FileNotFoundError\n",
    "\n",
    "|   |   +---ItimerError\n",
    "\n",
    "|   |   +---NotADirectoryError\n",
    "\n",
    "|   |   +---UnsupportedOperation\n",
    "\n",
    "|   |   +---PermissionError\n",
    "\n",
    "|   |   +---FileExistsError\n",
    "\n",
    "|   |   +---ChildProcessError\n",
    "\n",
    "|   |   +---TimeoutError\n",
    "\n",
    "|   |   +---IsADirectoryError\n",
    "\n",
    "|   |   +---InterruptedError\n",
    "\n",
    "|   +---SystemError\n",
    "\n",
    "|   |   +---CodecRegistryError\n",
    "\n",
    "|   +---AssertionError\n",
    "\n",
    "|   +---RuntimeError\n",
    "\n",
    "|   |   +---NotImplementedError\n",
    "\n",
    "|   |   +---_DeadlockError\n",
    "\n",
    "+---GeneratorExit\n",
    "\n",
    "+---SystemExit\n",
    "\n",
    "+---KeyboardInterrupt"
   ]
  },
  {
   "cell_type": "markdown",
   "metadata": {},
   "source": [
    "- a user-defined exception maybe drived from the exception class.\n",
    "- The two basic, mutaully exclusive, file open modes are named:\n",
    "    - binary and text\n",
    "- A method able to read data from a file into a byte array object, is named **readinto()**."
   ]
  },
  {
   "cell_type": "markdown",
   "metadata": {},
   "source": [
    "<div class=\"alert alert-block alert-warning\">"
   ]
  },
  {
   "cell_type": "markdown",
   "metadata": {},
   "source": [
    "                               ~END~"
   ]
  }
 ],
 "metadata": {
  "kernelspec": {
   "display_name": "Python 3",
   "language": "python",
   "name": "python3"
  },
  "language_info": {
   "codemirror_mode": {
    "name": "ipython",
    "version": 3
   },
   "file_extension": ".py",
   "mimetype": "text/x-python",
   "name": "python",
   "nbconvert_exporter": "python",
   "pygments_lexer": "ipython3",
   "version": "3.7.4"
  }
 },
 "nbformat": 4,
 "nbformat_minor": 4
}
