{
 "cells": [
  {
   "cell_type": "markdown",
   "metadata": {},
   "source": [
    "# 0. Most Useful Functions or Techniques"
   ]
  },
  {
   "cell_type": "markdown",
   "metadata": {},
   "source": [
    "### Compiled by :\n",
    "      Alem H Fitwi, \n",
    "      PhD Student, ECE (Privacy, ML/DNN, & Chaotic Encryption)\n",
    "      GA-Data Analystics Specialist,\n",
    "      Binghamton University-State University of New York\n",
    "      Since August, 2017 "
   ]
  },
  {
   "cell_type": "markdown",
   "metadata": {},
   "source": [
    "<div class=\"alert alert-block alert-warning\">"
   ]
  },
  {
   "cell_type": "markdown",
   "metadata": {},
   "source": [
    "## 0.0 PEP8 Based Naming Conventions\n",
    "- Your naming should be PEP compliant"
   ]
  },
  {
   "cell_type": "markdown",
   "metadata": {},
   "source": [
    "1. Never us small o or capital or for naming a variable. It resembles to zero.\n",
    "    - O=0\n",
    "    - o=0\n",
    "2. Use lower cases for naming functions. If you use more than two words, link them using underscore.\n",
    "    - my_function()\n",
    "    - function()\n",
    "3. For variables, use lower cases. If multiple words are used, separate them using underscores. Use a single letter only in mathematical cases.\n",
    "    - x = 30\n",
    "    - my_variable = 'two'\n",
    "4. Use all uppercases for naming constants\n",
    "    - GRAVITY_ACCEL = 9.8\n",
    "5. With classes, Use capitalization and camel cases. No underscores are employed.\n",
    "    - class ClassName\n",
    "    - class Car\n",
    "6. Module naming, use short words to keep things clean. Use underscore to concatenate words.\n",
    "    - module.py\n",
    "    - my_module.py\n",
    "7. Package naming, use lower cases. If multiple words are employed, place them next to each other. \n",
    "    - package.py\n",
    "    - mypackage.py"
   ]
  },
  {
   "cell_type": "markdown",
   "metadata": {},
   "source": [
    "<div class=\"alert alert-block alert-warning\">"
   ]
  },
  {
   "cell_type": "markdown",
   "metadata": {},
   "source": [
    "## 0.1 Libraries & Packages\n",
    "#### A. Data Structure"
   ]
  },
  {
   "cell_type": "code",
   "execution_count": 36,
   "metadata": {},
   "outputs": [
    {
     "name": "stdout",
     "output_type": "stream",
     "text": [
      "(key, value):  ('B', 67)\n",
      "key of max val: B\n"
     ]
    }
   ],
   "source": [
    "import pandas as pd\n",
    "import numpy as np\n",
    "import operator\n",
    "from collections import Counter\n",
    "\n",
    "# Get the key-value pair with max value\n",
    "dict1 = {'A':12, 'B':67, 'C':23, 'D':7}\n",
    "print(\"(key, value): \", max(dict1.items(), key = operator.itemgetter(1)))\n",
    "print(\"key of max val:\", max(dict1.items(), key = operator.itemgetter(1))[0])"
   ]
  },
  {
   "cell_type": "code",
   "execution_count": 42,
   "metadata": {},
   "outputs": [
    {
     "data": {
      "text/plain": [
       "67"
      ]
     },
     "execution_count": 42,
     "metadata": {},
     "output_type": "execute_result"
    }
   ],
   "source": [
    "\n",
    "dict1[max(dict1, key = dict1.get)]"
   ]
  },
  {
   "cell_type": "code",
   "execution_count": 43,
   "metadata": {},
   "outputs": [
    {
     "data": {
      "text/plain": [
       "('B', 67)"
      ]
     },
     "execution_count": 43,
     "metadata": {},
     "output_type": "execute_result"
    }
   ],
   "source": [
    "max(dict1.items(), key = operator.itemgetter(1))"
   ]
  },
  {
   "cell_type": "markdown",
   "metadata": {},
   "source": [
    "#### B. OS and File System"
   ]
  },
  {
   "cell_type": "code",
   "execution_count": 44,
   "metadata": {},
   "outputs": [],
   "source": [
    "import os #os.remove(filepath), os.rename(r''+fnold, r''+fnnew)\n",
    "import io\n",
    "import shutil\n",
    "import glob\n",
    "import sys\n",
    "import platform\n",
    "import re\n",
    "from sys import path # then, add module and package paths; path.append(path1)"
   ]
  },
  {
   "cell_type": "code",
   "execution_count": 16,
   "metadata": {},
   "outputs": [
    {
     "name": "stdout",
     "output_type": "stream",
     "text": [
      "join paths: Alem/Fitwi\n",
      "Join sep: Alem/Fitwi\n",
      "os.getcwd(): /home/alem/Desktop/alemprojects/FinalNotes/1.1_Python\n"
     ]
    }
   ],
   "source": [
    "path1 = 'Alem'\n",
    "path2 = \"Fitwi\"\n",
    "print(\"join paths:\",os.path.join(path1, path2))\n",
    "print(\"Join sep:\", os.path.sep.join(['Alem', \"Fitwi\"]))\n",
    "print(\"os.getcwd():\", os.getcwd())"
   ]
  },
  {
   "cell_type": "markdown",
   "metadata": {},
   "source": [
    "#### C. Database"
   ]
  },
  {
   "cell_type": "code",
   "execution_count": 17,
   "metadata": {},
   "outputs": [],
   "source": [
    "import sqlite3\n",
    "from sqlalchemy import create_engine\n",
    "from IPython.display import Image\n",
    "from IPython.display import HTML\n",
    "import base64"
   ]
  },
  {
   "cell_type": "markdown",
   "metadata": {},
   "source": [
    "#### D. Datetime"
   ]
  },
  {
   "cell_type": "code",
   "execution_count": 18,
   "metadata": {},
   "outputs": [],
   "source": [
    "import time\n",
    "from datetime import datetime as dtt\n",
    "from datetime import date,timedelta"
   ]
  },
  {
   "cell_type": "markdown",
   "metadata": {},
   "source": [
    "#### E. Dash"
   ]
  },
  {
   "cell_type": "code",
   "execution_count": 19,
   "metadata": {},
   "outputs": [],
   "source": [
    "import dash\n",
    "import dash_core_components as dcc\n",
    "import dash_html_components as html\n",
    "import plotly.graph_objs as go\n",
    "from plotly.subplots import make_subplots\n",
    "from dash.dependencies import Input, Output, State\n",
    "import dash_table as dt\n",
    "import dash_daq as daq"
   ]
  },
  {
   "cell_type": "markdown",
   "metadata": {},
   "source": [
    "#### F. Network and Nodes"
   ]
  },
  {
   "cell_type": "code",
   "execution_count": 21,
   "metadata": {},
   "outputs": [],
   "source": [
    "import getpass\n",
    "import socket\n",
    "import netifaces\n",
    "import re, uuid"
   ]
  },
  {
   "cell_type": "code",
   "execution_count": 22,
   "metadata": {},
   "outputs": [
    {
     "name": "stdout",
     "output_type": "stream",
     "text": [
      "username: alem\n",
      "Now: 2021-04-16 13:40:22.248369\n",
      "MAC: 10:f0:05:20:ae:95\n",
      "MAC: 2f:37:a8:de:7d:3d\n",
      "hostname: alem-HP-Pavilion-x360-Convertible\n"
     ]
    }
   ],
   "source": [
    "print(\"username:\",getpass.getuser())\n",
    "print(\"Now:\",dtt.now())\n",
    "print(\"MAC:\",netifaces.ifaddresses('wlo1'\n",
    "            )[netifaces.AF_LINK][0]['addr'])\n",
    "print(\"MAC:\",':'.join(re.findall('..','%012x' % uuid.getnode())))\n",
    "print(\"hostname:\",socket.gethostname())"
   ]
  },
  {
   "cell_type": "markdown",
   "metadata": {},
   "source": [
    "#### E. Others"
   ]
  },
  {
   "cell_type": "code",
   "execution_count": 23,
   "metadata": {},
   "outputs": [],
   "source": [
    "import random\n",
    "import warnings\n",
    "warnings.simplefilter(\"ignore\")\n",
    "import flask\n",
    "import urllib\n",
    "from math import ceil, floor"
   ]
  },
  {
   "cell_type": "markdown",
   "metadata": {},
   "source": [
    "<div class=\"alert alert-block alert-warning\">"
   ]
  },
  {
   "cell_type": "markdown",
   "metadata": {},
   "source": [
    "## 0.1 Change a pandas Column to Numeric"
   ]
  },
  {
   "cell_type": "code",
   "execution_count": 28,
   "metadata": {},
   "outputs": [
    {
     "data": {
      "text/html": [
       "<div>\n",
       "<style scoped>\n",
       "    .dataframe tbody tr th:only-of-type {\n",
       "        vertical-align: middle;\n",
       "    }\n",
       "\n",
       "    .dataframe tbody tr th {\n",
       "        vertical-align: top;\n",
       "    }\n",
       "\n",
       "    .dataframe thead th {\n",
       "        text-align: right;\n",
       "    }\n",
       "</style>\n",
       "<table border=\"1\" class=\"dataframe\">\n",
       "  <thead>\n",
       "    <tr style=\"text-align: right;\">\n",
       "      <th></th>\n",
       "      <th>name</th>\n",
       "      <th>values</th>\n",
       "    </tr>\n",
       "  </thead>\n",
       "  <tbody>\n",
       "    <tr>\n",
       "      <td>0</td>\n",
       "      <td>A</td>\n",
       "      <td>665</td>\n",
       "    </tr>\n",
       "    <tr>\n",
       "      <td>1</td>\n",
       "      <td>B</td>\n",
       "      <td>462</td>\n",
       "    </tr>\n",
       "    <tr>\n",
       "      <td>2</td>\n",
       "      <td>C</td>\n",
       "      <td>707</td>\n",
       "    </tr>\n",
       "    <tr>\n",
       "      <td>3</td>\n",
       "      <td>D</td>\n",
       "      <td>452</td>\n",
       "    </tr>\n",
       "    <tr>\n",
       "      <td>4</td>\n",
       "      <td>E</td>\n",
       "      <td>924</td>\n",
       "    </tr>\n",
       "  </tbody>\n",
       "</table>\n",
       "</div>"
      ],
      "text/plain": [
       "  name values\n",
       "0    A    665\n",
       "1    B    462\n",
       "2    C    707\n",
       "3    D    452\n",
       "4    E    924"
      ]
     },
     "execution_count": 28,
     "metadata": {},
     "output_type": "execute_result"
    }
   ],
   "source": [
    "import random\n",
    "import pandas as pd\n",
    "dct = {'name':[chr(i) for i in range(65,70)],\n",
    "       'values':[random.randint(1,1000) for i in range(65,70)]}\n",
    "#dct['alem']='fitwi'\n",
    "df = pd.DataFrame(dct)\n",
    "#df.loc[(df['name'] == 'C'), 'values'] = 'AF'  \n",
    "df['values'] = df['values'].astype('str')\n",
    "df"
   ]
  },
  {
   "cell_type": "code",
   "execution_count": 29,
   "metadata": {},
   "outputs": [
    {
     "name": "stdout",
     "output_type": "stream",
     "text": [
      "<class 'pandas.core.frame.DataFrame'>\n",
      "RangeIndex: 5 entries, 0 to 4\n",
      "Data columns (total 2 columns):\n",
      "name      5 non-null object\n",
      "values    5 non-null object\n",
      "dtypes: object(2)\n",
      "memory usage: 208.0+ bytes\n"
     ]
    }
   ],
   "source": [
    "df.info()"
   ]
  },
  {
   "cell_type": "code",
   "execution_count": 30,
   "metadata": {},
   "outputs": [
    {
     "name": "stdout",
     "output_type": "stream",
     "text": [
      "<class 'pandas.core.frame.DataFrame'>\n",
      "RangeIndex: 5 entries, 0 to 4\n",
      "Data columns (total 2 columns):\n",
      "name      5 non-null object\n",
      "values    5 non-null int64\n",
      "dtypes: int64(1), object(1)\n",
      "memory usage: 208.0+ bytes\n"
     ]
    }
   ],
   "source": [
    "df['values'] = pd.to_numeric(df['values'])\n",
    "df.info()"
   ]
  },
  {
   "cell_type": "markdown",
   "metadata": {},
   "source": [
    "<div class=\"alert alert-block alert-warning\">"
   ]
  },
  {
   "cell_type": "markdown",
   "metadata": {},
   "source": [
    "## 0.2 Replace the last occurence of a pattern"
   ]
  },
  {
   "cell_type": "code",
   "execution_count": 31,
   "metadata": {},
   "outputs": [
    {
     "data": {
      "text/plain": [
       "'missXXXipi'"
      ]
     },
     "execution_count": 31,
     "metadata": {},
     "output_type": "execute_result"
    }
   ],
   "source": [
    "s = 'mississipi'\n",
    "old = 'iss'\n",
    "new = 'XXX'\n",
    "maxreplace = 1\n",
    "result = new.join(s.rsplit(old, maxreplace))\n",
    "result"
   ]
  },
  {
   "cell_type": "code",
   "execution_count": 45,
   "metadata": {},
   "outputs": [
    {
     "data": {
      "text/plain": [
       "'missXXXipi'"
      ]
     },
     "execution_count": 45,
     "metadata": {},
     "output_type": "execute_result"
    }
   ],
   "source": [
    "def replaceptrn(str1, oprn, nprn, maxp=1):\n",
    "    return nprn.join(str1.rsplit(oprn, maxp))\n",
    "\n",
    "replaceptrn('mississipi', 'iss', 'XXX', maxp=1)   "
   ]
  },
  {
   "cell_type": "markdown",
   "metadata": {},
   "source": [
    "<div class=\"alert alert-block alert-warning\">"
   ]
  },
  {
   "cell_type": "markdown",
   "metadata": {},
   "source": [
    "## 0.3 Conditionally Creating a column"
   ]
  },
  {
   "cell_type": "code",
   "execution_count": 39,
   "metadata": {},
   "outputs": [
    {
     "data": {
      "text/html": [
       "<div>\n",
       "<style scoped>\n",
       "    .dataframe tbody tr th:only-of-type {\n",
       "        vertical-align: middle;\n",
       "    }\n",
       "\n",
       "    .dataframe tbody tr th {\n",
       "        vertical-align: top;\n",
       "    }\n",
       "\n",
       "    .dataframe thead th {\n",
       "        text-align: right;\n",
       "    }\n",
       "</style>\n",
       "<table border=\"1\" class=\"dataframe\">\n",
       "  <thead>\n",
       "    <tr style=\"text-align: right;\">\n",
       "      <th></th>\n",
       "      <th>ID</th>\n",
       "      <th>Final Exam</th>\n",
       "    </tr>\n",
       "  </thead>\n",
       "  <tbody>\n",
       "    <tr>\n",
       "      <td>0</td>\n",
       "      <td>AB</td>\n",
       "      <td>71</td>\n",
       "    </tr>\n",
       "    <tr>\n",
       "      <td>1</td>\n",
       "      <td>AC</td>\n",
       "      <td>64</td>\n",
       "    </tr>\n",
       "    <tr>\n",
       "      <td>2</td>\n",
       "      <td>AD</td>\n",
       "      <td>H</td>\n",
       "    </tr>\n",
       "    <tr>\n",
       "      <td>3</td>\n",
       "      <td>AE</td>\n",
       "      <td>89</td>\n",
       "    </tr>\n",
       "    <tr>\n",
       "      <td>4</td>\n",
       "      <td>AF</td>\n",
       "      <td>NaN</td>\n",
       "    </tr>\n",
       "    <tr>\n",
       "      <td>5</td>\n",
       "      <td>AG</td>\n",
       "      <td>100</td>\n",
       "    </tr>\n",
       "  </tbody>\n",
       "</table>\n",
       "</div>"
      ],
      "text/plain": [
       "   ID Final Exam\n",
       "0  AB         71\n",
       "1  AC         64\n",
       "2  AD          H\n",
       "3  AE         89\n",
       "4  AF        NaN\n",
       "5  AG        100"
      ]
     },
     "execution_count": 39,
     "metadata": {},
     "output_type": "execute_result"
    }
   ],
   "source": [
    "import numpy as np\n",
    "sgra = {'ID':['AB','AC','AD','AE','AF','AG'],'Final Exam':[71,64,\"H\",89,np.nan ,100]}\n",
    "dfg = pd.DataFrame(sgra)\n",
    "dfg"
   ]
  },
  {
   "cell_type": "code",
   "execution_count": 42,
   "metadata": {},
   "outputs": [
    {
     "data": {
      "text/html": [
       "<div>\n",
       "<style scoped>\n",
       "    .dataframe tbody tr th:only-of-type {\n",
       "        vertical-align: middle;\n",
       "    }\n",
       "\n",
       "    .dataframe tbody tr th {\n",
       "        vertical-align: top;\n",
       "    }\n",
       "\n",
       "    .dataframe thead th {\n",
       "        text-align: right;\n",
       "    }\n",
       "</style>\n",
       "<table border=\"1\" class=\"dataframe\">\n",
       "  <thead>\n",
       "    <tr style=\"text-align: right;\">\n",
       "      <th></th>\n",
       "      <th>ID</th>\n",
       "      <th>Final Exam</th>\n",
       "      <th>Final Grade</th>\n",
       "    </tr>\n",
       "  </thead>\n",
       "  <tbody>\n",
       "    <tr>\n",
       "      <td>0</td>\n",
       "      <td>AB</td>\n",
       "      <td>71</td>\n",
       "      <td>Passed</td>\n",
       "    </tr>\n",
       "    <tr>\n",
       "      <td>1</td>\n",
       "      <td>AC</td>\n",
       "      <td>64</td>\n",
       "      <td>Failed</td>\n",
       "    </tr>\n",
       "    <tr>\n",
       "      <td>2</td>\n",
       "      <td>AD</td>\n",
       "      <td>H</td>\n",
       "      <td>H</td>\n",
       "    </tr>\n",
       "    <tr>\n",
       "      <td>3</td>\n",
       "      <td>AE</td>\n",
       "      <td>89</td>\n",
       "      <td>Passed</td>\n",
       "    </tr>\n",
       "    <tr>\n",
       "      <td>4</td>\n",
       "      <td>AF</td>\n",
       "      <td>NaN</td>\n",
       "      <td>NaN</td>\n",
       "    </tr>\n",
       "    <tr>\n",
       "      <td>5</td>\n",
       "      <td>AG</td>\n",
       "      <td>100</td>\n",
       "      <td>Passed</td>\n",
       "    </tr>\n",
       "  </tbody>\n",
       "</table>\n",
       "</div>"
      ],
      "text/plain": [
       "   ID Final Exam Final Grade\n",
       "0  AB         71      Passed\n",
       "1  AC         64      Failed\n",
       "2  AD          H           H\n",
       "3  AE         89      Passed\n",
       "4  AF        NaN         NaN\n",
       "5  AG        100      Passed"
      ]
     },
     "execution_count": 42,
     "metadata": {},
     "output_type": "execute_result"
    }
   ],
   "source": [
    "import warnings\n",
    "warnings.simplefilter(\"ignore\")\n",
    "\n",
    "dfg['tmp'] = dfg['Final Exam'].apply(lambda x: 1000 if x=='H' else x)\n",
    "dfg['tmp'] = dfg['tmp'].astype('float')\n",
    "\n",
    "cnds2 = [((dfg[\"tmp\"]>=70) & (dfg[\"tmp\"]<=100)),\n",
    "         (dfg[\"tmp\"]<70),\n",
    "         (dfg[\"tmp\"]==1000),\n",
    "         (dfg[\"tmp\"]==pd.np.nan)]\n",
    "          \n",
    "vals2 = ['Passed', 'Failed', 'H','NaN']\n",
    "dfg['Final Grade'] = np.select(cnds2,vals2)\n",
    "dfg = dfg[['ID', 'Final Exam','Final Grade']]\n",
    "\n",
    "cnds3 = [(dfg[\"Final Grade\"].isin(['Passed'])),\n",
    "         (dfg[\"Final Grade\"].isin(['Failed'])),\n",
    "         (dfg[\"Final Grade\"].isin(['H'])),\n",
    "         (~dfg[\"Final Grade\"].isin(['Passed','Failed','H']))]\n",
    "          \n",
    "vals3 = ['Passed', 'Failed', 'H','NaN']\n",
    "dfg['Final Grade'] = np.select(cnds3,vals3)\n",
    "dfg"
   ]
  },
  {
   "cell_type": "markdown",
   "metadata": {},
   "source": [
    "<div class=\"alert alert-block alert-warning\">"
   ]
  },
  {
   "cell_type": "markdown",
   "metadata": {},
   "source": [
    "## 0.4 Save formatted Excel File"
   ]
  },
  {
   "cell_type": "code",
   "execution_count": 46,
   "metadata": {},
   "outputs": [
    {
     "data": {
      "text/plain": [
       "'/home/alem/Desktop/SummerProject/0_finalJan22_2021/DashProject02June20/alem.xlsx'"
      ]
     },
     "execution_count": 46,
     "metadata": {},
     "output_type": "execute_result"
    }
   ],
   "source": [
    "import os\n",
    "p = cpath=\"/home/alem/Desktop/SummerProject/0_finalJan22_2021/DashProject02June20/\"\n",
    "fname = 'alem'\n",
    "exe = '.xlsx'\n",
    "fp = os.path.join(p,fname,exe) # joins paths with / in between!\n",
    "def replaceptrn(str1, oprn, nprn, maxp=1):\n",
    "    return nprn.join(str1.rsplit(oprn, maxp))\n",
    "\n",
    "replaceptrn(fp, '/', '', maxp=1)   "
   ]
  },
  {
   "cell_type": "code",
   "execution_count": null,
   "metadata": {},
   "outputs": [],
   "source": [
    "def save_Excel(path,fname):\n",
    "    allname = path + fname + '.xlsx'\n",
    "    writer = pd.ExcelWriter(allname, engine='xlsxwriter')\n",
    "    df.to_excel(writer, sheet_name=fname, index=False)\n",
    "    #Columns\n",
    "    workbook  = writer.book\n",
    "    worksheet1 = writer.sheets[fname]\n",
    "    worksheet1.set_column('A:A', 54)\n",
    "    worksheet1.set_column('B:B', 24)\n",
    "    worksheet1.set_column('C:C', 24)\n",
    "    worksheet1.set_column('D:D', 18)\n",
    "    worksheet1.set_column('E:E', 18)\n",
    "    worksheet1.set_column('F:F', 54)\n",
    "    \n",
    "    # Headers\n",
    "    header_format = workbook.add_format({\n",
    "        'bold': True, 'fg_color': '#D7E4BC','border': 1})\n",
    "    for col_num, value in enumerate(df.columns.values):\n",
    "        worksheet1.write(0, col_num, value, header_format)\n",
    "\n",
    "    number_rows = len(df.index) + 1\n",
    "    format1 = workbook.add_format({'bg_color': '#FFFF00'})\n",
    "    format2 = workbook.add_format({'bg_color': '#FFA500'})\n",
    "    \n",
    "    worksheet1.conditional_format(\"$A$1:$F$%d\" % (number_rows),\n",
    "                             {\"type\": \"formula\",\n",
    "                              \"criteria\": '=INDIRECT(\"C\"&ROW())=\"Subtotal\"',\n",
    "                              \"format\": format1\n",
    "                             })\n",
    "    worksheet1.conditional_format(\"$A$1:$F$%d\" % (number_rows),\n",
    "                             {\"type\": \"formula\",\n",
    "                              \"criteria\": '=INDIRECT(\"C\"&ROW())=\"Grand Total\"',\n",
    "                              \"format\": format2\n",
    "                             })\n",
    "    writer.save()"
   ]
  },
  {
   "cell_type": "markdown",
   "metadata": {},
   "source": [
    "<div class=\"alert alert-block alert-warning\">"
   ]
  },
  {
   "cell_type": "markdown",
   "metadata": {},
   "source": [
    "## 0.5 Date Range"
   ]
  },
  {
   "cell_type": "code",
   "execution_count": 49,
   "metadata": {},
   "outputs": [],
   "source": [
    "from datetime import date, timedelta\n",
    "\n",
    "sdate = date(2020,1,1)   # start date\n",
    "edate = date(2020,12,31)   # end date\n",
    "\n",
    "start_date_string = sdate.strftime('%d/%m/%Y')\n",
    "end_date_string = edate.strftime('%d/%m/%Y')\n",
    "\n",
    "drange = [(sdate + timedelta(days=x)).strftime(\"%d/%m/%Y\")\n",
    "              for x in range((edate-sdate).days + 1)]\n",
    "\n",
    "# Filtering data based on time range\n",
    "#profsmry1 = sm[sm['mmddyyyy'].isin(drange)]"
   ]
  },
  {
   "cell_type": "code",
   "execution_count": 50,
   "metadata": {},
   "outputs": [
    {
     "data": {
      "text/plain": [
       "DatetimeIndex(['2013-01-01', '2013-01-02', '2013-01-03', '2013-01-04',\n",
       "               '2013-01-05', '2013-01-06'],\n",
       "              dtype='datetime64[ns]', freq='D')"
      ]
     },
     "execution_count": 50,
     "metadata": {},
     "output_type": "execute_result"
    }
   ],
   "source": [
    "dates = pd.date_range('20130101', periods=6)\n",
    "dates"
   ]
  },
  {
   "cell_type": "markdown",
   "metadata": {},
   "source": [
    "<div class=\"alert alert-block alert-warning\">"
   ]
  },
  {
   "cell_type": "markdown",
   "metadata": {},
   "source": [
    "## 0.6 Edit Column Names/clean unnecessary spaces\n",
    "- Apply a cleaning process before storing on a DB\n",
    "- Replace it with original ones on reading the copies."
   ]
  },
  {
   "cell_type": "code",
   "execution_count": 2,
   "metadata": {},
   "outputs": [],
   "source": [
    "import pandas as pd\n",
    "df1 = pd.read_excel(\"./0_Datasets/registrants_pu_APS_2020_04_13.xlsx\")"
   ]
  },
  {
   "cell_type": "code",
   "execution_count": 3,
   "metadata": {},
   "outputs": [],
   "source": [
    "# Replace spaces with underscore in columns\n",
    "def replacespace(col):\n",
    "    return [col.replace(' ', '_') for col in col]\n",
    "\n",
    "# Preprocess columns of Registration Files\n",
    "def replacespacer(col):\n",
    "    tmp = [col.replace(' ', '_') for col in col]\n",
    "    tmp = [col.strip(':') for col in tmp]\n",
    "    tmp = [col.strip('?') for col in tmp]\n",
    "    tmp = [col.replace('/', '_') for col in tmp]\n",
    "    return tmp"
   ]
  },
  {
   "cell_type": "code",
   "execution_count": 5,
   "metadata": {},
   "outputs": [
    {
     "name": "stdout",
     "output_type": "stream",
     "text": [
      "['First_Name:', 'Last_Name:', 'Email_Address:', 'Address_1:', 'City:', 'State:', 'Education_Level:', 'Country:', 'ZIP_Code:', 'Phone:', 'Company/School:', 'Job_Title:', 'Department:', 'How_did_you_hear_about_this_course?', 'Registration_Date', 'Registration_Status', 'Payment_Status', 'Payment_Type', 'Fee_Type', 'Promo_Code', 'Code_Type', 'Discount_Percent', 'Discount_Amount', 'Total_Price']\n"
     ]
    }
   ],
   "source": [
    "print(replacespace(df1.columns))"
   ]
  },
  {
   "cell_type": "code",
   "execution_count": 6,
   "metadata": {},
   "outputs": [
    {
     "name": "stdout",
     "output_type": "stream",
     "text": [
      "['First_Name', 'Last_Name', 'Email_Address', 'Address_1', 'City', 'State', 'Education_Level', 'Country', 'ZIP_Code', 'Phone', 'Company_School', 'Job_Title', 'Department', 'How_did_you_hear_about_this_course', 'Registration_Date', 'Registration_Status', 'Payment_Status', 'Payment_Type', 'Fee_Type', 'Promo_Code', 'Code_Type', 'Discount_Percent', 'Discount_Amount', 'Total_Price']\n"
     ]
    }
   ],
   "source": [
    "print(replacespacer(df1.columns))"
   ]
  },
  {
   "cell_type": "markdown",
   "metadata": {},
   "source": [
    "<div class=\"alert alert-block alert-warning\">"
   ]
  },
  {
   "cell_type": "markdown",
   "metadata": {},
   "source": [
    "## 0.7 Dates with pandas\n",
    "- strftime()\n",
    "- strptime()\n",
    "- pd.to_datetime(str_Date, format)"
   ]
  },
  {
   "cell_type": "code",
   "execution_count": 16,
   "metadata": {},
   "outputs": [
    {
     "data": {
      "text/html": [
       "<div>\n",
       "<style scoped>\n",
       "    .dataframe tbody tr th:only-of-type {\n",
       "        vertical-align: middle;\n",
       "    }\n",
       "\n",
       "    .dataframe tbody tr th {\n",
       "        vertical-align: top;\n",
       "    }\n",
       "\n",
       "    .dataframe thead th {\n",
       "        text-align: right;\n",
       "    }\n",
       "</style>\n",
       "<table border=\"1\" class=\"dataframe\">\n",
       "  <thead>\n",
       "    <tr style=\"text-align: right;\">\n",
       "      <th></th>\n",
       "      <th>Last Name</th>\n",
       "      <th>First Name</th>\n",
       "      <th>Username</th>\n",
       "      <th>Student ID</th>\n",
       "      <th>Last Access</th>\n",
       "      <th>Availability</th>\n",
       "      <th>Final Exam</th>\n",
       "    </tr>\n",
       "  </thead>\n",
       "  <tbody>\n",
       "    <tr>\n",
       "      <td>0</td>\n",
       "      <td>Lopez</td>\n",
       "      <td>Josue</td>\n",
       "      <td>b00650926</td>\n",
       "      <td>B00650926</td>\n",
       "      <td>2021-01-05 13:49:08</td>\n",
       "      <td>Yes</td>\n",
       "      <td>NaN</td>\n",
       "    </tr>\n",
       "    <tr>\n",
       "      <td>1</td>\n",
       "      <td>Qi</td>\n",
       "      <td>Caleb</td>\n",
       "      <td>b00689631</td>\n",
       "      <td>B00689631</td>\n",
       "      <td>2021-01-22 23:13:02</td>\n",
       "      <td>Yes</td>\n",
       "      <td>84.0</td>\n",
       "    </tr>\n",
       "  </tbody>\n",
       "</table>\n",
       "</div>"
      ],
      "text/plain": [
       "  Last Name First Name   Username Student ID          Last Access  \\\n",
       "0     Lopez      Josue  b00650926  B00650926  2021-01-05 13:49:08   \n",
       "1        Qi      Caleb  b00689631  B00689631  2021-01-22 23:13:02   \n",
       "\n",
       "  Availability  Final Exam  \n",
       "0          Yes         NaN  \n",
       "1          Yes        84.0  "
      ]
     },
     "execution_count": 16,
     "metadata": {},
     "output_type": "execute_result"
    }
   ],
   "source": [
    "import pandas as pd\n",
    "from datetime import datetime as dtt\n",
    "gra= pd.read_excel(\"./0_Datasets/grades_pu_AA_2020_12_18.xlsx\")\n",
    "cols = ['Last Name', 'First Name', 'Username', 'Student ID',\n",
    "        'Last Access','Availability','Final Exam']\n",
    "gra = gra[cols]\n",
    "gra['Last Access'] = gra['Last Access'\n",
    "    ].dt.strftime('%Y-%m-%d %H:%M:%S')\n",
    "gra"
   ]
  },
  {
   "cell_type": "code",
   "execution_count": 17,
   "metadata": {},
   "outputs": [
    {
     "data": {
      "text/html": [
       "<div>\n",
       "<style scoped>\n",
       "    .dataframe tbody tr th:only-of-type {\n",
       "        vertical-align: middle;\n",
       "    }\n",
       "\n",
       "    .dataframe tbody tr th {\n",
       "        vertical-align: top;\n",
       "    }\n",
       "\n",
       "    .dataframe thead th {\n",
       "        text-align: right;\n",
       "    }\n",
       "</style>\n",
       "<table border=\"1\" class=\"dataframe\">\n",
       "  <thead>\n",
       "    <tr style=\"text-align: right;\">\n",
       "      <th></th>\n",
       "      <th>Last Name</th>\n",
       "      <th>First Name</th>\n",
       "      <th>Username</th>\n",
       "      <th>Student ID</th>\n",
       "      <th>Last Access</th>\n",
       "      <th>Availability</th>\n",
       "      <th>Final Exam</th>\n",
       "    </tr>\n",
       "  </thead>\n",
       "  <tbody>\n",
       "    <tr>\n",
       "      <td>0</td>\n",
       "      <td>Lopez</td>\n",
       "      <td>Josue</td>\n",
       "      <td>b00650926</td>\n",
       "      <td>B00650926</td>\n",
       "      <td>2021-01-05 13:49:08</td>\n",
       "      <td>Yes</td>\n",
       "      <td>NaN</td>\n",
       "    </tr>\n",
       "    <tr>\n",
       "      <td>1</td>\n",
       "      <td>Qi</td>\n",
       "      <td>Caleb</td>\n",
       "      <td>b00689631</td>\n",
       "      <td>B00689631</td>\n",
       "      <td>2021-01-22 23:13:02</td>\n",
       "      <td>Yes</td>\n",
       "      <td>84.0</td>\n",
       "    </tr>\n",
       "  </tbody>\n",
       "</table>\n",
       "</div>"
      ],
      "text/plain": [
       "  Last Name First Name   Username Student ID         Last Access Availability  \\\n",
       "0     Lopez      Josue  b00650926  B00650926 2021-01-05 13:49:08          Yes   \n",
       "1        Qi      Caleb  b00689631  B00689631 2021-01-22 23:13:02          Yes   \n",
       "\n",
       "   Final Exam  \n",
       "0         NaN  \n",
       "1        84.0  "
      ]
     },
     "execution_count": 17,
     "metadata": {},
     "output_type": "execute_result"
    }
   ],
   "source": [
    "gra['Last Access'] = pd.to_datetime(gra['Last Access'])\n",
    "gra"
   ]
  },
  {
   "cell_type": "markdown",
   "metadata": {},
   "source": [
    "<div class=\"alert alert-block alert-warning\">"
   ]
  },
  {
   "cell_type": "markdown",
   "metadata": {},
   "source": [
    "## 0.8 operator.itemgetter"
   ]
  },
  {
   "cell_type": "code",
   "execution_count": 2,
   "metadata": {},
   "outputs": [
    {
     "name": "stdout",
     "output_type": "stream",
     "text": [
      "xmin: (23, 45)\n",
      "ymin: (67, 34)\n",
      "xmax: (67, 34)\n",
      "ymax: (32, 78)\n"
     ]
    }
   ],
   "source": [
    "import operator\n",
    "\n",
    "centroids = [(23,45), (32,78), (67,34)]\n",
    "\n",
    "xmin  = min(centroids, key=operator.itemgetter(0))\n",
    "print(\"xmin:\",xmin)\n",
    "ymin = min(centroids, key=operator.itemgetter(1))\n",
    "print(\"ymin:\",ymin)\n",
    "xmax  = max(centroids, key=operator.itemgetter(0))\n",
    "print(\"xmax:\",xmax)\n",
    "ymax = max(centroids, key=operator.itemgetter(1))\n",
    "print(\"ymax:\",ymax)"
   ]
  },
  {
   "cell_type": "markdown",
   "metadata": {},
   "source": [
    "<div class=\"alert alert-block alert-warning\">"
   ]
  },
  {
   "cell_type": "markdown",
   "metadata": {},
   "source": [
    "## 0.9 In-Place Swapping Of Two Numbers."
   ]
  },
  {
   "cell_type": "code",
   "execution_count": 1,
   "metadata": {},
   "outputs": [
    {
     "name": "stdout",
     "output_type": "stream",
     "text": [
      "10 20\n",
      "20 10\n"
     ]
    }
   ],
   "source": [
    "x, y = 10, 20\n",
    "print(x, y)\n",
    "x, y = y, x\n",
    "print(x, y)"
   ]
  },
  {
   "cell_type": "markdown",
   "metadata": {},
   "source": [
    "<div class=\"alert alert-block alert-warning\">"
   ]
  },
  {
   "cell_type": "markdown",
   "metadata": {},
   "source": [
    "## 0.10 Reversing a string in Python"
   ]
  },
  {
   "cell_type": "code",
   "execution_count": 1,
   "metadata": {},
   "outputs": [
    {
     "name": "stdout",
     "output_type": "stream",
     "text": [
      "Reverse is skeeGroFskeeG\n"
     ]
    }
   ],
   "source": [
    "a = \"GeeksForGeeks\"\n",
    "print(\"Reverse is\", a[::-1])"
   ]
  },
  {
   "cell_type": "code",
   "execution_count": 4,
   "metadata": {},
   "outputs": [
    {
     "data": {
      "text/plain": [
       "'skeeGroFskeeG'"
      ]
     },
     "execution_count": 4,
     "metadata": {},
     "output_type": "execute_result"
    }
   ],
   "source": [
    "''.join(list(reversed(a)))"
   ]
  },
  {
   "cell_type": "markdown",
   "metadata": {},
   "source": [
    "<div class=\"alert alert-block alert-warning\">"
   ]
  },
  {
   "cell_type": "markdown",
   "metadata": {},
   "source": [
    "## 0.11 Create a single string from all the elements in list"
   ]
  },
  {
   "cell_type": "code",
   "execution_count": 5,
   "metadata": {},
   "outputs": [
    {
     "name": "stdout",
     "output_type": "stream",
     "text": [
      "Geeks For Geeks\n"
     ]
    }
   ],
   "source": [
    "a = [\"Geeks\", \"For\", \"Geeks\"]\n",
    "print(\" \".join(a))"
   ]
  },
  {
   "cell_type": "markdown",
   "metadata": {},
   "source": [
    "<div class=\"alert alert-block alert-warning\">"
   ]
  },
  {
   "cell_type": "markdown",
   "metadata": {},
   "source": [
    "## 0.12 Chaining Of Comparison Operators."
   ]
  },
  {
   "cell_type": "code",
   "execution_count": 6,
   "metadata": {},
   "outputs": [
    {
     "name": "stdout",
     "output_type": "stream",
     "text": [
      "True\n",
      "False\n"
     ]
    }
   ],
   "source": [
    "n = 10\n",
    "result = 1 < n < 20\n",
    "print(result)\n",
    "result = 1 > n <= 9\n",
    "print(result)\n"
   ]
  },
  {
   "cell_type": "markdown",
   "metadata": {},
   "source": [
    "<div class=\"alert alert-block alert-warning\">"
   ]
  },
  {
   "cell_type": "markdown",
   "metadata": {},
   "source": [
    "## 0.13 Print The File Path Of Imported Modules."
   ]
  },
  {
   "cell_type": "code",
   "execution_count": 7,
   "metadata": {},
   "outputs": [
    {
     "name": "stdout",
     "output_type": "stream",
     "text": [
      "<module 'os' from '/home/alem/anaconda3/lib/python3.7/os.py'>\n",
      "<module 'socket' from '/home/alem/anaconda3/lib/python3.7/socket.py'>\n"
     ]
    }
   ],
   "source": [
    "import os\n",
    "import socket\n",
    "\n",
    "print(os)\n",
    "print(socket)"
   ]
  },
  {
   "cell_type": "markdown",
   "metadata": {},
   "source": [
    "<div class=\"alert alert-block alert-warning\">"
   ]
  },
  {
   "cell_type": "markdown",
   "metadata": {},
   "source": [
    "## 0.14  Return Multiple Values From Functions."
   ]
  },
  {
   "cell_type": "code",
   "execution_count": 9,
   "metadata": {},
   "outputs": [
    {
     "name": "stdout",
     "output_type": "stream",
     "text": [
      "1 2 3 4\n"
     ]
    }
   ],
   "source": [
    "def x():\n",
    "    return 1, 2, 3, 4\n",
    "a, b, c, d = x()\n",
    "print(a, b, c, d)"
   ]
  },
  {
   "cell_type": "markdown",
   "metadata": {},
   "source": [
    "<div class=\"alert alert-block alert-warning\">"
   ]
  },
  {
   "cell_type": "markdown",
   "metadata": {},
   "source": [
    "## 0.15 List Comprehensions\n",
    "- new_list = [expression for item in iterable (if conditional)]"
   ]
  },
  {
   "cell_type": "code",
   "execution_count": 2,
   "metadata": {},
   "outputs": [
    {
     "data": {
      "text/plain": [
       "[0, 1, 4, 9, 16, 25, 36, 49, 64, 81]"
      ]
     },
     "execution_count": 2,
     "metadata": {},
     "output_type": "execute_result"
    }
   ],
   "source": [
    "squares = [i**2 for i in range(10)]\n",
    "squares"
   ]
  },
  {
   "cell_type": "markdown",
   "metadata": {},
   "source": [
    "<div class=\"alert alert-block alert-warning\">"
   ]
  },
  {
   "cell_type": "markdown",
   "metadata": {},
   "source": [
    "## 0.16  Find The Most Frequent Value In A List."
   ]
  },
  {
   "cell_type": "code",
   "execution_count": 22,
   "metadata": {},
   "outputs": [
    {
     "name": "stdout",
     "output_type": "stream",
     "text": [
      "1\n"
     ]
    }
   ],
   "source": [
    "test = [1, 2, 3, 4, 2, 2, 3, 1, 4, 4, 4, 1,1,1,1,1]\n",
    "print(max(set(test), key = test.count))"
   ]
  },
  {
   "cell_type": "markdown",
   "metadata": {},
   "source": [
    "<div class=\"alert alert-block alert-warning\">"
   ]
  },
  {
   "cell_type": "markdown",
   "metadata": {},
   "source": [
    "## 0.17  Check The Memory Usage Of An Object."
   ]
  },
  {
   "cell_type": "code",
   "execution_count": 12,
   "metadata": {},
   "outputs": [
    {
     "name": "stdout",
     "output_type": "stream",
     "text": [
      "28\n"
     ]
    }
   ],
   "source": [
    " import sys\n",
    "x = 1\n",
    "print(sys.getsizeof(x))"
   ]
  },
  {
   "cell_type": "markdown",
   "metadata": {},
   "source": [
    "<div class=\"alert alert-block alert-warning\">"
   ]
  },
  {
   "cell_type": "markdown",
   "metadata": {},
   "source": [
    "## 0.18 Print string N times"
   ]
  },
  {
   "cell_type": "code",
   "execution_count": 13,
   "metadata": {},
   "outputs": [
    {
     "name": "stdout",
     "output_type": "stream",
     "text": [
      "GeeksforGeeksGeeksforGeeks\n"
     ]
    }
   ],
   "source": [
    "n = 2\n",
    "a = \"GeeksforGeeks\"\n",
    "print(a * n)"
   ]
  },
  {
   "cell_type": "markdown",
   "metadata": {},
   "source": [
    "<div class=\"alert alert-block alert-warning\">"
   ]
  },
  {
   "cell_type": "markdown",
   "metadata": {},
   "source": [
    "## 0.19 Checking if two words are anagrams"
   ]
  },
  {
   "cell_type": "code",
   "execution_count": 6,
   "metadata": {},
   "outputs": [
    {
     "name": "stdout",
     "output_type": "stream",
     "text": [
      "True\n",
      "False\n"
     ]
    }
   ],
   "source": [
    "from collections import Counter\n",
    "def is_anagram1(str1, str2):\n",
    "    return Counter(str1) == Counter(str2)\n",
    "\n",
    "# or without having to import anything\n",
    "def is_anagram2(str1, str2):\n",
    "    return sorted(str1) == sorted(str2)\n",
    "\n",
    "print(is_anagram1('geek', 'eegk'))\n",
    "print(is_anagram1('geek', 'peek'))"
   ]
  },
  {
   "cell_type": "code",
   "execution_count": 5,
   "metadata": {},
   "outputs": [
    {
     "data": {
      "text/plain": [
       "Counter({'g': 1, 'e': 2, 'k': 1})"
      ]
     },
     "execution_count": 5,
     "metadata": {},
     "output_type": "execute_result"
    }
   ],
   "source": [
    "str1, str2 = 'geek', 'eegk'\n",
    "Counter(str1)"
   ]
  },
  {
   "cell_type": "markdown",
   "metadata": {},
   "source": [
    "<div class=\"alert alert-block alert-warning\">"
   ]
  },
  {
   "cell_type": "markdown",
   "metadata": {},
   "source": [
    "## 0.20 Transpose a matrix"
   ]
  },
  {
   "cell_type": "code",
   "execution_count": 5,
   "metadata": {},
   "outputs": [
    {
     "data": {
      "text/plain": [
       "[(1, 4, 6), (2, 5, 7), (3, 6, 8)]"
      ]
     },
     "execution_count": 5,
     "metadata": {},
     "output_type": "execute_result"
    }
   ],
   "source": [
    "x = [[1,2,3],[4,5,6],[6,7,8]]\n",
    "list(zip(*x))"
   ]
  },
  {
   "cell_type": "code",
   "execution_count": 3,
   "metadata": {},
   "outputs": [
    {
     "data": {
      "text/plain": [
       "array([[1, 2, 3],\n",
       "       [4, 5, 6],\n",
       "       [6, 7, 8]])"
      ]
     },
     "execution_count": 3,
     "metadata": {},
     "output_type": "execute_result"
    }
   ],
   "source": [
    "import numpy as np\n",
    "np.array(x)"
   ]
  },
  {
   "cell_type": "code",
   "execution_count": 4,
   "metadata": {},
   "outputs": [
    {
     "data": {
      "text/plain": [
       "array([[1, 4, 6],\n",
       "       [2, 5, 7],\n",
       "       [3, 6, 8]])"
      ]
     },
     "execution_count": 4,
     "metadata": {},
     "output_type": "execute_result"
    }
   ],
   "source": [
    "np.array(x).T"
   ]
  },
  {
   "cell_type": "markdown",
   "metadata": {},
   "source": [
    "<div class=\"alert alert-block alert-warning\">"
   ]
  },
  {
   "cell_type": "markdown",
   "metadata": {},
   "source": [
    "## 0.21 Creating a single string"
   ]
  },
  {
   "cell_type": "code",
   "execution_count": 27,
   "metadata": {},
   "outputs": [
    {
     "data": {
      "text/plain": [
       "'I am here'"
      ]
     },
     "execution_count": 27,
     "metadata": {},
     "output_type": "execute_result"
    }
   ],
   "source": [
    "a = ['I', 'am', 'here']\n",
    "' '.join(a)"
   ]
  },
  {
   "cell_type": "markdown",
   "metadata": {},
   "source": [
    "<div class=\"alert alert-block alert-warning\">"
   ]
  },
  {
   "cell_type": "markdown",
   "metadata": {},
   "source": [
    "## 0.22 Assign Multiple Variables in One Line"
   ]
  },
  {
   "cell_type": "code",
   "execution_count": 4,
   "metadata": {},
   "outputs": [
    {
     "name": "stdout",
     "output_type": "stream",
     "text": [
      "a,b,c =  1 2 3\n"
     ]
    }
   ],
   "source": [
    "a, b, c = 1, 2, 3\n",
    "print(\"a,b,c = \",a,b,c)"
   ]
  },
  {
   "cell_type": "markdown",
   "metadata": {},
   "source": [
    "<div class=\"alert alert-block alert-warning\">"
   ]
  },
  {
   "cell_type": "markdown",
   "metadata": {},
   "source": [
    "## 0.23 Enumerate\n",
    "- Often when looping through a list you want to access not only the index with a position in the list but the actual element as well."
   ]
  },
  {
   "cell_type": "code",
   "execution_count": 5,
   "metadata": {},
   "outputs": [
    {
     "name": "stdout",
     "output_type": "stream",
     "text": [
      "(Index:0,Value:a)\n",
      "(Index:1,Value:b)\n",
      "(Index:2,Value:c)\n"
     ]
    }
   ],
   "source": [
    "x = ['a', 'b', 'c']\n",
    "for i, v in enumerate(x):\n",
    "    print(f\"(Index:{i},Value:{v})\")"
   ]
  },
  {
   "cell_type": "markdown",
   "metadata": {},
   "source": [
    "<div class=\"alert alert-block alert-warning\">"
   ]
  },
  {
   "cell_type": "markdown",
   "metadata": {},
   "source": [
    "## 0.24 The Dir Function\n",
    "- dir() is a powerful inbuilt function in Python3, which returns a list of the attributes and methods of any object i.e. functions, modules, strings, lists, dictionaries etc.\n",
    "- This can be very useful when having little to no information about the module and helps to learn new modules faster."
   ]
  },
  {
   "cell_type": "code",
   "execution_count": 6,
   "metadata": {},
   "outputs": [
    {
     "data": {
      "text/plain": [
       "['__add__',\n",
       " '__class__',\n",
       " '__contains__',\n",
       " '__delattr__',\n",
       " '__delitem__',\n",
       " '__dir__',\n",
       " '__doc__',\n",
       " '__eq__',\n",
       " '__format__',\n",
       " '__ge__',\n",
       " '__getattribute__',\n",
       " '__getitem__',\n",
       " '__gt__',\n",
       " '__hash__',\n",
       " '__iadd__',\n",
       " '__imul__',\n",
       " '__init__',\n",
       " '__init_subclass__',\n",
       " '__iter__',\n",
       " '__le__',\n",
       " '__len__',\n",
       " '__lt__',\n",
       " '__mul__',\n",
       " '__ne__',\n",
       " '__new__',\n",
       " '__reduce__',\n",
       " '__reduce_ex__',\n",
       " '__repr__',\n",
       " '__reversed__',\n",
       " '__rmul__',\n",
       " '__setattr__',\n",
       " '__setitem__',\n",
       " '__sizeof__',\n",
       " '__str__',\n",
       " '__subclasshook__',\n",
       " 'append',\n",
       " 'clear',\n",
       " 'copy',\n",
       " 'count',\n",
       " 'extend',\n",
       " 'index',\n",
       " 'insert',\n",
       " 'pop',\n",
       " 'remove',\n",
       " 'reverse',\n",
       " 'sort']"
      ]
     },
     "execution_count": 6,
     "metadata": {},
     "output_type": "execute_result"
    }
   ],
   "source": [
    "x = ['a', 'b', 'c']\n",
    "dir(x)"
   ]
  },
  {
   "cell_type": "markdown",
   "metadata": {},
   "source": [
    "<div class=\"alert alert-block alert-warning\">"
   ]
  },
  {
   "cell_type": "markdown",
   "metadata": {},
   "source": [
    "## 0.25 Flatten Lists"
   ]
  },
  {
   "cell_type": "code",
   "execution_count": 9,
   "metadata": {},
   "outputs": [
    {
     "name": "stdout",
     "output_type": "stream",
     "text": [
      "[1, 2, 3, 4, 5, 6]\n"
     ]
    }
   ],
   "source": [
    "import itertools\n",
    "a = [[1, 2], [3, 4], [5, 6]]\n",
    "b = list(itertools.chain.from_iterable(a))\n",
    "print(b)"
   ]
  },
  {
   "cell_type": "code",
   "execution_count": null,
   "metadata": {},
   "outputs": [],
   "source": [
    "### Flattening complicated list of lists"
   ]
  },
  {
   "cell_type": "code",
   "execution_count": 13,
   "metadata": {},
   "outputs": [],
   "source": [
    "import collections\n",
    "def flatten(x):\n",
    "    if isinstance(x, collections.Iterable):\n",
    "        return [a for i in x for a in flatten(i)]\n",
    "    else:\n",
    "        return [x]"
   ]
  },
  {
   "cell_type": "code",
   "execution_count": 15,
   "metadata": {},
   "outputs": [
    {
     "data": {
      "text/plain": [
       "[1, 2, 3, 4, 6, 7, 5, 9, 5, 6]"
      ]
     },
     "execution_count": 15,
     "metadata": {},
     "output_type": "execute_result"
    }
   ],
   "source": [
    "a = [[1, 2], [3, 4, [6,7,[5,9]]], [5, 6]]\n",
    "flatten(a)"
   ]
  },
  {
   "cell_type": "markdown",
   "metadata": {},
   "source": [
    "<div class=\"alert alert-block alert-warning\">"
   ]
  },
  {
   "cell_type": "markdown",
   "metadata": {},
   "source": [
    "## 0.26 Inverting Dictionary"
   ]
  },
  {
   "cell_type": "code",
   "execution_count": 17,
   "metadata": {},
   "outputs": [
    {
     "name": "stdout",
     "output_type": "stream",
     "text": [
      "{1: 'a', 2: 'b', 3: 'c', 4: 'd'}\n"
     ]
    }
   ],
   "source": [
    "dict1={'a': 1, 'b': 2, 'c': 3, 'd': 4}\n",
    "dict2={v: k for k, v in dict1.items()}\n",
    "print(dict2)"
   ]
  },
  {
   "cell_type": "markdown",
   "metadata": {},
   "source": [
    "- Remove Duplicate values by inverting a dictionary"
   ]
  },
  {
   "cell_type": "code",
   "execution_count": 14,
   "metadata": {},
   "outputs": [
    {
     "data": {
      "text/plain": [
       "dict_items([(1, 9), (2, 1), (3, 7), (4, 11), (5, 4), (6, 5), (7, 6)])"
      ]
     },
     "execution_count": 14,
     "metadata": {},
     "output_type": "execute_result"
    }
   ],
   "source": [
    "lst = [1,2,3, 4,5,6,7,3,4,1,4,4]\n",
    "keys = [i for i in range(len(lst))]\n",
    "dict1 = {k:v for k, v in zip(keys, lst)}\n",
    "dct2 = {}\n",
    "dct2 = {v:k for k, v in dict1.items()}\n",
    "dct2.items()"
   ]
  },
  {
   "cell_type": "code",
   "execution_count": 16,
   "metadata": {},
   "outputs": [
    {
     "data": {
      "text/plain": [
       "[1, 2, 3, 4, 5, 6, 7]"
      ]
     },
     "execution_count": 16,
     "metadata": {},
     "output_type": "execute_result"
    }
   ],
   "source": [
    "lst = [1,2,3, 4,5,6,7,3,4,1,4,4]\n",
    "def remove_dup(lst):\n",
    "    keys = [i for i in range(len(lst))]\n",
    "    dict1 = {k:v for k, v in zip(keys, lst)}\n",
    "    dct2 = {}\n",
    "    dct2 = {v:k for k, v in dict1.items()}\n",
    "    \n",
    "    return list(dct2.keys())\n",
    "\n",
    "remove_dup(lst)"
   ]
  },
  {
   "cell_type": "markdown",
   "metadata": {},
   "source": [
    "<div class=\"alert alert-block alert-warning\">"
   ]
  },
  {
   "cell_type": "markdown",
   "metadata": {},
   "source": [
    "## 0.27 Iterating over dictionary key and value pairs"
   ]
  },
  {
   "cell_type": "code",
   "execution_count": 24,
   "metadata": {},
   "outputs": [
    {
     "name": "stdout",
     "output_type": "stream",
     "text": [
      "a:1\n",
      "b:2\n",
      "c:3\n",
      "d:4\n"
     ]
    }
   ],
   "source": [
    "dict1={'a': 1, 'b': 2, 'c': 3, 'd': 4}\n",
    "for a, b in dict1.items():\n",
    "    print('{}:{}'.format(a,b))"
   ]
  },
  {
   "cell_type": "markdown",
   "metadata": {},
   "source": [
    "<div class=\"alert alert-block alert-warning\">"
   ]
  },
  {
   "cell_type": "markdown",
   "metadata": {},
   "source": [
    "## 0.28 Merging Dictionaries"
   ]
  },
  {
   "cell_type": "code",
   "execution_count": 17,
   "metadata": {},
   "outputs": [
    {
     "data": {
      "text/plain": [
       "{'a': 1, 'b': 3, 'c': 4}"
      ]
     },
     "execution_count": 17,
     "metadata": {},
     "output_type": "execute_result"
    }
   ],
   "source": [
    "x = {'a': 1, 'b': 2}\n",
    "y = {'b': 3, 'c': 4}\n",
    "z = {**x, **y}\n",
    "z"
   ]
  },
  {
   "cell_type": "code",
   "execution_count": 20,
   "metadata": {},
   "outputs": [
    {
     "ename": "TypeError",
     "evalue": "unsupported operand type(s) for +: 'dict' and 'dict'",
     "output_type": "error",
     "traceback": [
      "\u001b[0;31m---------------------------------------------------------------------------\u001b[0m",
      "\u001b[0;31mTypeError\u001b[0m                                 Traceback (most recent call last)",
      "\u001b[0;32m<ipython-input-20-2b545caf0c14>\u001b[0m in \u001b[0;36m<module>\u001b[0;34m\u001b[0m\n\u001b[1;32m      1\u001b[0m \u001b[0mx\u001b[0m \u001b[0;34m=\u001b[0m \u001b[0;34m{\u001b[0m\u001b[0;34m'a'\u001b[0m\u001b[0;34m:\u001b[0m \u001b[0;36m1\u001b[0m\u001b[0;34m,\u001b[0m \u001b[0;34m'b'\u001b[0m\u001b[0;34m:\u001b[0m \u001b[0;36m2\u001b[0m\u001b[0;34m}\u001b[0m\u001b[0;34m\u001b[0m\u001b[0;34m\u001b[0m\u001b[0m\n\u001b[1;32m      2\u001b[0m \u001b[0my\u001b[0m \u001b[0;34m=\u001b[0m \u001b[0;34m{\u001b[0m\u001b[0;34m'b'\u001b[0m\u001b[0;34m:\u001b[0m \u001b[0;36m3\u001b[0m\u001b[0;34m,\u001b[0m \u001b[0;34m'c'\u001b[0m\u001b[0;34m:\u001b[0m \u001b[0;36m4\u001b[0m\u001b[0;34m}\u001b[0m\u001b[0;34m\u001b[0m\u001b[0;34m\u001b[0m\u001b[0m\n\u001b[0;32m----> 3\u001b[0;31m \u001b[0mx\u001b[0m\u001b[0;34m+\u001b[0m\u001b[0my\u001b[0m\u001b[0;34m\u001b[0m\u001b[0;34m\u001b[0m\u001b[0m\n\u001b[0m",
      "\u001b[0;31mTypeError\u001b[0m: unsupported operand type(s) for +: 'dict' and 'dict'"
     ]
    }
   ],
   "source": [
    "x = {'a': 1, 'b': 2}\n",
    "y = {'b': 3, 'c': 4}\n",
    "x+y"
   ]
  },
  {
   "cell_type": "markdown",
   "metadata": {},
   "source": [
    "<div class=\"alert alert-block alert-warning\">"
   ]
  },
  {
   "cell_type": "markdown",
   "metadata": {},
   "source": [
    "## 0.29 Initializing empty containers"
   ]
  },
  {
   "cell_type": "code",
   "execution_count": 21,
   "metadata": {},
   "outputs": [],
   "source": [
    "a_list = list() #[]\n",
    "a_dict = dict() #{}\n",
    "a_set = set()\n",
    "a_fset = frozenset()"
   ]
  },
  {
   "cell_type": "markdown",
   "metadata": {},
   "source": [
    "<div class=\"alert alert-block alert-warning\">"
   ]
  },
  {
   "cell_type": "markdown",
   "metadata": {},
   "source": [
    "## 0.30 Collections\n",
    "- https://www.edureka.co/blog/collections-in-python/\n",
    "- Python programming language has four collection data types- **list, tuple, sets and dictionary**. But python also comes with a built-in module known as collections which has specialized data structures which basically covers for the shortcomings of the four data types.\n",
    "- Collections module in python implements specialized data structures which provide alternative to python’s built-in container data types.\n",
    "- Following are the subjects (Specialized Collection Data Structures) shrouded in this section:\n",
    "    \n",
    "        namedtuple( )\n",
    "        deque\n",
    "        ChainMap\n",
    "        Counter\n",
    "        OrderedDict\n",
    "        defaultdict\n",
    "        UserDict\n",
    "        UserList"
   ]
  },
  {
   "cell_type": "markdown",
   "metadata": {},
   "source": [
    "### namedtuple( )\n",
    "- It returns a tuple with a named entry, which means there will be a name assigned to each value in the tuple. It overcomes the problem of accessing the elements using the index values. With namedtuple( ) it becomes easier to access these values, since you do not have to remember the index values to get specific elements."
   ]
  },
  {
   "cell_type": "code",
   "execution_count": 14,
   "metadata": {},
   "outputs": [
    {
     "name": "stdout",
     "output_type": "stream",
     "text": [
      "courses(name='data science', tech='python')\n"
     ]
    }
   ],
   "source": [
    "from collections import namedtuple\n",
    "a = namedtuple('courses' , 'name, tech')\n",
    "s = a('data science' , 'python')\n",
    "print(s)"
   ]
  },
  {
   "cell_type": "code",
   "execution_count": 15,
   "metadata": {},
   "outputs": [
    {
     "data": {
      "text/plain": [
       "courses(name='data science', tech='python')"
      ]
     },
     "execution_count": 15,
     "metadata": {},
     "output_type": "execute_result"
    }
   ],
   "source": [
    "#How To Create A namedtuple Using A List?\n",
    "s._make(['data science' , 'python'])\n",
    "#the output will be same as before."
   ]
  },
  {
   "cell_type": "markdown",
   "metadata": {},
   "source": [
    "### deque\n",
    "- deque pronounced as ‘deck’ is an optimized list to perform insertion and deletion easily.\n",
    "- Similar to the built-in data types, there are several other operations that we can perform on a deque. Like counting elements or clearing the deque etc."
   ]
  },
  {
   "cell_type": "code",
   "execution_count": 16,
   "metadata": {},
   "outputs": [
    {
     "name": "stdout",
     "output_type": "stream",
     "text": [
      "deque(['d', 'u', 'r', 'e', 'k'])\n"
     ]
    }
   ],
   "source": [
    "#creating a deque\n",
    "from collections import deque \n",
    "a = ['d' , 'u' , 'r' , 'e' , 'k']\n",
    "a1 = deque(a)\n",
    "print(a1)"
   ]
  },
  {
   "cell_type": "markdown",
   "metadata": {},
   "source": [
    "- Now lets take a look at how we will insert and remove items from deque."
   ]
  },
  {
   "cell_type": "code",
   "execution_count": 17,
   "metadata": {},
   "outputs": [
    {
     "name": "stdout",
     "output_type": "stream",
     "text": [
      "deque(['d', 'u', 'r', 'e', 'k', 'a'])\n",
      "deque(['e', 'd', 'u', 'r', 'e', 'k', 'a'])\n"
     ]
    }
   ],
   "source": [
    "a1.append('a')\n",
    "print(a1)\n",
    "a1.appendleft('e')\n",
    "print(a1)"
   ]
  },
  {
   "cell_type": "code",
   "execution_count": 18,
   "metadata": {},
   "outputs": [
    {
     "name": "stdout",
     "output_type": "stream",
     "text": [
      "deque(['e', 'd', 'u', 'r', 'e', 'k'])\n",
      "deque(['d', 'u', 'r', 'e', 'k'])\n"
     ]
    }
   ],
   "source": [
    "a1.pop()\n",
    "print(a1)\n",
    "a1.popleft()\n",
    "print(a1)"
   ]
  },
  {
   "cell_type": "markdown",
   "metadata": {},
   "source": [
    "### ChainMap\n",
    "- It is a dictionary like class which is able to make a single view of multiple mappings. It basically returns a list of several other dictionaries. Suppose you have two dictionaries with several key value pairs, in this case ChainMap will make a single list with both the dictionaries in it."
   ]
  },
  {
   "cell_type": "code",
   "execution_count": 30,
   "metadata": {},
   "outputs": [
    {
     "name": "stdout",
     "output_type": "stream",
     "text": [
      "ChainMap({1: 'edureka', 2: 'python'}, {3: 'data science', 4: 'Machine learning'})\n"
     ]
    }
   ],
   "source": [
    "from collections import ChainMap\n",
    "a = { 1: 'edureka' , 2: 'python'}\n",
    "b = {3: 'data science' , 4: 'Machine learning'}\n",
    "c = ChainMap(a,b)\n",
    "print(c)"
   ]
  },
  {
   "cell_type": "code",
   "execution_count": 20,
   "metadata": {},
   "outputs": [
    {
     "data": {
      "text/plain": [
       "collections.ChainMap"
      ]
     },
     "execution_count": 20,
     "metadata": {},
     "output_type": "execute_result"
    }
   ],
   "source": [
    "type(c)"
   ]
  },
  {
   "cell_type": "markdown",
   "metadata": {},
   "source": [
    "- To access or insert elements we use the keys as index. But to add a new dictionary in the ChainMap we use the following approach."
   ]
  },
  {
   "cell_type": "code",
   "execution_count": 21,
   "metadata": {},
   "outputs": [
    {
     "name": "stdout",
     "output_type": "stream",
     "text": [
      "ChainMap({5: 'AI', 6: 'neural networks'}, {1: 'edureka', 2: 'python'}, {3: 'data science', 4: 'Machine learning'})\n"
     ]
    }
   ],
   "source": [
    "a1 = { 5: 'AI' , 6: 'neural networks'}\n",
    "c1 = c.new_child(a1)\n",
    "print(c1)"
   ]
  },
  {
   "cell_type": "code",
   "execution_count": 23,
   "metadata": {},
   "outputs": [
    {
     "data": {
      "text/plain": [
       "{1: 'edureka', 2: 'python', 3: 'data science', 4: 'Machine learning'}"
      ]
     },
     "execution_count": 23,
     "metadata": {},
     "output_type": "execute_result"
    }
   ],
   "source": [
    "a = { 1: 'edureka' , 2: 'python'}\n",
    "b = {3: 'data science' , 4: 'Machine learning'}\n",
    "c = {**a,**b}\n",
    "c"
   ]
  },
  {
   "cell_type": "markdown",
   "metadata": {},
   "source": [
    "### Counter\n",
    "- It is a dictionary subclass which is used to count hashable objects."
   ]
  },
  {
   "cell_type": "code",
   "execution_count": 26,
   "metadata": {},
   "outputs": [
    {
     "name": "stdout",
     "output_type": "stream",
     "text": [
      "Counter({1: 4, 3: 4, 4: 2, 2: 1})\n"
     ]
    }
   ],
   "source": [
    "from collections import Counter\n",
    "a = [1,1,1,1,2,3,3,4,3,3,4]\n",
    "c = Counter(a)\n",
    "print(c)"
   ]
  },
  {
   "cell_type": "code",
   "execution_count": 27,
   "metadata": {},
   "outputs": [
    {
     "data": {
      "text/plain": [
       "True"
      ]
     },
     "execution_count": 27,
     "metadata": {},
     "output_type": "execute_result"
    }
   ],
   "source": [
    "Counter(\"alem\") == Counter(\"mela\")"
   ]
  },
  {
   "cell_type": "code",
   "execution_count": 28,
   "metadata": {},
   "outputs": [
    {
     "data": {
      "text/plain": [
       "True"
      ]
     },
     "execution_count": 28,
     "metadata": {},
     "output_type": "execute_result"
    }
   ],
   "source": [
    "Counter(\"alem\") == Counter(\"laem\")"
   ]
  },
  {
   "cell_type": "code",
   "execution_count": 29,
   "metadata": {},
   "outputs": [
    {
     "data": {
      "text/plain": [
       "False"
      ]
     },
     "execution_count": 29,
     "metadata": {},
     "output_type": "execute_result"
    }
   ],
   "source": [
    "Counter(\"alem\") == Counter(\"laeem\")"
   ]
  },
  {
   "cell_type": "markdown",
   "metadata": {},
   "source": [
    "- In addition to the operations you can perform on a dictionary Counter has 3 more operations that we can perform.\n",
    "    - **element function** – It returns a list containing all the elements in the Counter.\n",
    "    - **Most_common()** – It returns a sorted list with the count of each element in the Counter.\n",
    "    - **Subtract()** – It takes an iterable object as an argument and deducts the count of the elements in the Counter."
   ]
  },
  {
   "cell_type": "markdown",
   "metadata": {},
   "source": [
    "### OrderedDict\n",
    "- It is a dictionary subclass which remembers the order in which the entries were added. Basically, even if you change the value of the key, the position will not be changed because of the order in which it was inserted in the dictionary."
   ]
  },
  {
   "cell_type": "code",
   "execution_count": 31,
   "metadata": {},
   "outputs": [
    {
     "name": "stdout",
     "output_type": "stream",
     "text": [
      "OrderedDict([(1, 'e'), (2, 'd'), (3, 'u'), (4, 'r'), (5, 'e'), (6, 'k'), (7, 'a')])\n"
     ]
    }
   ],
   "source": [
    "from collections import OrderedDict\n",
    "od = OrderedDict()\n",
    "od[1] = 'e'\n",
    "od[2] = 'd'\n",
    "od[3] = 'u'\n",
    "od[4] = 'r'\n",
    "od[5] = 'e'\n",
    "od[6] = 'k'\n",
    "od[7] = 'a'\n",
    "print(od)"
   ]
  },
  {
   "cell_type": "markdown",
   "metadata": {},
   "source": [
    "<div class=\"alert alert-block alert-warning\">"
   ]
  },
  {
   "cell_type": "markdown",
   "metadata": {},
   "source": [
    "## 0.31: getpass\n",
    "- The getpass module provides two functions:\n",
    "    1. getpass.getpass(prompt='Password: ', stream=None)\n",
    "        - Prompt the user for a password without echoing. The user is prompted using the string prompt, which defaults to 'Password: '. On Unix, the prompt is written to the file-like object stream using the replace error handler if needed. stream defaults to the controlling terminal (/dev/tty) or if that is unavailable to sys.stderr (this argument is ignored on Windows).\n",
    "        - getpass() prompts the user for a password without echoing. The getpass module provides a secure way to handle the password prompts where programs interact with the users via the terminal.\n",
    "\n",
    "                    getpass() \n",
    "                    getpass.getpass(prompt='Password: ', stream=None) \n",
    "        - If echo free input is unavailable getpass() falls back to printing a warning message to stream and reading from sys.stdin and issuing a GetPassWarning.\n",
    "        - Note If you call getpass from within IDLE, the input may be done in the terminal you launched IDLE from rather than the idle window itself.\n",
    "        - exception getpass.GetPassWarning: A UserWarning subclass issued when password input may be echoed.\n",
    "\n",
    "    2. getpass.getuser()\n",
    "        - Return the “login name” of the user.\n",
    "        - This function checks the environment variables LOGNAME, USER, LNAME and USERNAME, in order, and returns the value of the first one which is set to a non-empty string. If none are set, the login name from the password database is returned on systems which support the pwd module, otherwise, an exception is raised.\n",
    "        - In general, this function should be preferred over os.getlogin()."
   ]
  },
  {
   "cell_type": "code",
   "execution_count": 5,
   "metadata": {},
   "outputs": [
    {
     "name": "stdout",
     "output_type": "stream",
     "text": [
      "········\n",
      "Password entered: alem\n"
     ]
    }
   ],
   "source": [
    "# A simple Python program to demonstrate\n",
    "# getpass.getpass() to read password\n",
    "from getpass import getpass\n",
    "\n",
    "try:\n",
    "    p = getpass()\n",
    "except Exception as error:\n",
    "    print('ERROR', error)\n",
    "else:\n",
    "    print('Password entered:', p)"
   ]
  },
  {
   "cell_type": "code",
   "execution_count": 6,
   "metadata": {},
   "outputs": [
    {
     "name": "stdout",
     "output_type": "stream",
     "text": [
      "Your favorite flower? ········\n",
      "Welcome..!!!\n"
     ]
    }
   ],
   "source": [
    "# A simple Python program to demonstrate\n",
    "# getpass.getpass() to read security question\n",
    "import getpass\n",
    "\n",
    "p = getpass.getpass(prompt='Your favorite flower? ')\n",
    "\n",
    "if p.lower() == 'rose':\n",
    "    print('Welcome..!!!')\n",
    "else:\n",
    "    print('The answer entered by you is incorrect..!!!')\n"
   ]
  },
  {
   "cell_type": "code",
   "execution_count": 7,
   "metadata": {},
   "outputs": [
    {
     "name": "stdout",
     "output_type": "stream",
     "text": [
      "User Name : alem········\n",
      "The password you entered is incorrect.\n",
      "User Name : alem········\n",
      "Welcome!!!\n"
     ]
    }
   ],
   "source": [
    "# Python program to demonstrate working of\n",
    "# getpass.getuser()\n",
    "import getpass\n",
    "\n",
    "user = getpass.getuser()\n",
    "\n",
    "while True:\n",
    "    pwd = getpass.getpass(\"User Name : %s\" % user)\n",
    "\n",
    "    if pwd == 'abcd':\n",
    "        print(\"Welcome!!!\")\n",
    "        break\n",
    "    else:\n",
    "        print(\"The password you entered is incorrect.\")\n"
   ]
  },
  {
   "cell_type": "markdown",
   "metadata": {},
   "source": [
    "<div class=\"alert alert-block alert-warning\">"
   ]
  },
  {
   "cell_type": "markdown",
   "metadata": {},
   "source": [
    "## https://holypython.com/100-python-tips-tricks/"
   ]
  },
  {
   "cell_type": "code",
   "execution_count": 8,
   "metadata": {},
   "outputs": [
    {
     "name": "stderr",
     "output_type": "stream",
     "text": [
      "/home/alem/anaconda3/lib/python3.7/site-packages/ipykernel_launcher.py:16: UserWarning: Matplotlib is currently using module://ipykernel.pylab.backend_inline, which is a non-GUI backend, so cannot show the figure.\n",
      "  app.launch_new_instance()\n"
     ]
    }
   ],
   "source": [
    "import sys\n",
    "import matplotlib.pyplot as plt\n",
    " \n",
    "#string with all character letters\n",
    "str1 = \"abcdefghijklmnopqrstuvwxyzABCDEFGHIJKLMNOPQRSTUVWXYZ0123456789\"\n",
    "x_ax = [sys.getrefcount(i) for i in str1]\n",
    "y_ax = range(len(str1))\n",
    "Graph = plt.figure(figsize=(250,150))\n",
    "\n",
    "plt.bar(y_ax, x_ax, align='center', color=\"orange\")\n",
    "plt.xticks(y_ax, str1)\n",
    "\n",
    "plt.xlabel(\"Character\")\n",
    "plt.ylabel('sys.getrefcount(str)')\n",
    " \n",
    "Graph.show()"
   ]
  },
  {
   "cell_type": "code",
   "execution_count": 10,
   "metadata": {},
   "outputs": [
    {
     "name": "stdout",
     "output_type": "stream",
     "text": [
      "1\n",
      "2\n",
      "3\n",
      "4\n",
      "5\n",
      "6\n",
      "7\n",
      "8\n",
      "9\n",
      "10\n"
     ]
    }
   ],
   "source": [
    "from itertools import count\n",
    "index = count()\n",
    "for i in range(10):\n",
    "    print(next(index)+1)"
   ]
  },
  {
   "cell_type": "code",
   "execution_count": 11,
   "metadata": {},
   "outputs": [
    {
     "name": "stdout",
     "output_type": "stream",
     "text": [
      "14\n"
     ]
    }
   ],
   "source": [
    "c=9999\n",
    "d=c.bit_length()\n",
    "print(d)"
   ]
  },
  {
   "cell_type": "markdown",
   "metadata": {},
   "source": [
    "## 0.32 Pipes"
   ]
  },
  {
   "cell_type": "markdown",
   "metadata": {},
   "source": [
    "- Pipe is a Python library that enables you to use pipes in Python. A pipe (|) passes the results of one method to another method.\n",
    "- I like Pipe because it makes my code look cleaner when applying multiple methods to a Python iterable. Since Pipe only provides a few methods, it is also very easy to learn Pipe. In this article, I will show you some methods I found the most useful."
   ]
  },
  {
   "cell_type": "code",
   "execution_count": 12,
   "metadata": {},
   "outputs": [
    {
     "name": "stdout",
     "output_type": "stream",
     "text": [
      "Requirement already satisfied: pipe in /home/alem/anaconda3/lib/python3.7/site-packages (1.6.0)\r\n"
     ]
    }
   ],
   "source": [
    "!pip install pipe"
   ]
  },
  {
   "cell_type": "markdown",
   "metadata": {},
   "source": [
    "#### Where — Filter Elements in an Iterable\n",
    " - Similar to SQL, Pipe’s where method can also be used to filter elements in an iterable."
   ]
  },
  {
   "cell_type": "code",
   "execution_count": 13,
   "metadata": {},
   "outputs": [
    {
     "data": {
      "text/plain": [
       "[2, 4]"
      ]
     },
     "execution_count": 13,
     "metadata": {},
     "output_type": "execute_result"
    }
   ],
   "source": [
    "from pipe import where\n",
    "arr = [1,2,3,4,5]\n",
    "list(arr | where(lambda x: x%2 == 0))"
   ]
  },
  {
   "cell_type": "markdown",
   "metadata": {},
   "source": [
    "#### Select — Apply a Function to an Iterable\n",
    "- The select method is similar to the map method. select applies a method to each element of an iterable.\n",
    "- In the code below, I use select to multiply each element in the list by 2."
   ]
  },
  {
   "cell_type": "code",
   "execution_count": 14,
   "metadata": {},
   "outputs": [
    {
     "data": {
      "text/plain": [
       "[2, 4, 6, 8, 10]"
      ]
     },
     "execution_count": 14,
     "metadata": {},
     "output_type": "execute_result"
    }
   ],
   "source": [
    "from pipe import select\n",
    "arr = [1,2,3,4,5]\n",
    "list(arr | select(lambda x: x*2))"
   ]
  },
  {
   "cell_type": "markdown",
   "metadata": {},
   "source": [
    "- Now, you might wonder: Why do we need the methods where and select if they have the same functionalities as map and filter ?\n",
    "- It is because you can insert one method after another method using pipes. As a result, using pipes removes nested parentheses and makes the code more readable."
   ]
  },
  {
   "cell_type": "code",
   "execution_count": 5,
   "metadata": {},
   "outputs": [
    {
     "data": {
      "text/plain": [
       "[4, 8]"
      ]
     },
     "execution_count": 5,
     "metadata": {},
     "output_type": "execute_result"
    }
   ],
   "source": [
    "from pipe import where, select\n",
    "arr = [1,2,3,4,5]\n",
    "list(arr | where(lambda x: x%2==0)\n",
    "         | select(lambda x: x*2))"
   ]
  },
  {
   "cell_type": "markdown",
   "metadata": {},
   "source": [
    "#### Unfold Iterables\n",
    "- chain — Chain a Sequence of Iterables\n",
    "- It can be a pain to work with a nested iterable. Luckily, you can use chain to chain a sequence of iterables."
   ]
  },
  {
   "cell_type": "code",
   "execution_count": 1,
   "metadata": {},
   "outputs": [
    {
     "data": {
      "text/plain": [
       "[1, 2, [3], 4, 5]"
      ]
     },
     "execution_count": 1,
     "metadata": {},
     "output_type": "execute_result"
    }
   ],
   "source": [
    "from pipe import chain\n",
    "nested = [[1,2,[3]], [4,5]]\n",
    "list(nested | chain)"
   ]
  },
  {
   "cell_type": "markdown",
   "metadata": {},
   "source": [
    "Even though the iterable is less nested after applying chain, we still have a nested list. To deal with a deeply nested list, we can use traverse instead."
   ]
  },
  {
   "cell_type": "markdown",
   "metadata": {},
   "source": [
    "#### traverse — Recursively Unfold Iterables\n",
    "- The traverse method can be used to recursively unfold iterables. Thus, you can use this method to turn a deeply nested list into a flat list."
   ]
  },
  {
   "cell_type": "code",
   "execution_count": 7,
   "metadata": {},
   "outputs": [
    {
     "data": {
      "text/plain": [
       "[1, 2, 3, 4, 5]"
      ]
     },
     "execution_count": 7,
     "metadata": {},
     "output_type": "execute_result"
    }
   ],
   "source": [
    "from pipe import traverse\n",
    "nested = [[1,2,[3]], [4,5]]\n",
    "list(nested | traverse)"
   ]
  },
  {
   "cell_type": "markdown",
   "metadata": {},
   "source": [
    "Let’s integrate this method with the select method to get the values of a dictionary and flatten the list."
   ]
  },
  {
   "cell_type": "code",
   "execution_count": 8,
   "metadata": {},
   "outputs": [
    {
     "data": {
      "text/plain": [
       "[2, 5, 4, 5]"
      ]
     },
     "execution_count": 8,
     "metadata": {},
     "output_type": "execute_result"
    }
   ],
   "source": [
    "from pipe import traverse, select\n",
    "fruits = [{\"name\":\"apple\", \"price\":[2,5]},\n",
    "          {\"name\": \"orange\", \"price\":4},\n",
    "          {\"name\":\"grape\", \"price\":5}]\n",
    "   \n",
    "list(fruits\n",
    "    |select(lambda fruit: fruit['price'])\n",
    "    | traverse)"
   ]
  },
  {
   "cell_type": "markdown",
   "metadata": {},
   "source": [
    "#### Group Elements in a List\n",
    "- Sometimes, it might be useful to group elements in a list using a certain function. That could be easily done with the groupby method.\n",
    "- To see how this method works, let’s turn a list of numbers into a dictionary that groups numbers based on whether they are even or odd."
   ]
  },
  {
   "cell_type": "code",
   "execution_count": 32,
   "metadata": {},
   "outputs": [
    {
     "data": {
      "text/plain": [
       "[('Even', <itertools._grouper at 0x7fc7e523d910>),\n",
       " ('Odd', <itertools._grouper at 0x7fc7892135d0>)]"
      ]
     },
     "execution_count": 32,
     "metadata": {},
     "output_type": "execute_result"
    }
   ],
   "source": [
    "from pipe import groupby, select\n",
    "list(\n",
    "     (1,2,3,4,5,6,7,8,9)\n",
    "      |groupby(lambda x: \"Even\" if x%2==0 else \"Odd\"))"
   ]
  },
  {
   "cell_type": "code",
   "execution_count": 18,
   "metadata": {},
   "outputs": [
    {
     "data": {
      "text/plain": [
       "[{'Even': [2, 4, 6, 8]}, {'Odd': [1, 3, 5, 7, 9]}]"
      ]
     },
     "execution_count": 18,
     "metadata": {},
     "output_type": "execute_result"
    }
   ],
   "source": [
    "from pipe import groupby, select\n",
    "lst3 = (1,2,3,4,5,6,7,8,9)\n",
    "dct = list(lst3\n",
    "      |groupby(lambda x: \"Even\" if x%2==0 else \"Odd\")\n",
    "      |select(lambda x:{x[0]: list(x[1])}))\n",
    "dct"
   ]
  },
  {
   "cell_type": "markdown",
   "metadata": {},
   "source": [
    "### dedup — Deduplicate Values Using a Key\n",
    "- The dedup method removes duplicates in a list."
   ]
  },
  {
   "cell_type": "code",
   "execution_count": 10,
   "metadata": {},
   "outputs": [
    {
     "data": {
      "text/plain": [
       "[1, 2, 3, 4, 5, 6, 7, 9]"
      ]
     },
     "execution_count": 10,
     "metadata": {},
     "output_type": "execute_result"
    }
   ],
   "source": [
    "from pipe import dedup\n",
    "\n",
    "arr = [1,2,2,3,4,5,6,6,7,9,3,3,1]\n",
    "list(arr|dedup)"
   ]
  },
  {
   "cell_type": "markdown",
   "metadata": {},
   "source": [
    "- That might not sound interesting since the set method can do the same thing. However, this method is more flexible since it enables you to get unique elements using a key.\n",
    "- For example, you can use this method to get a unique element that is smaller than 5 and another unique element that is larger than or equal to 5."
   ]
  },
  {
   "cell_type": "code",
   "execution_count": 20,
   "metadata": {},
   "outputs": [
    {
     "data": {
      "text/plain": [
       "[1, 5]"
      ]
     },
     "execution_count": 20,
     "metadata": {},
     "output_type": "execute_result"
    }
   ],
   "source": [
    "from pipe import dedup\n",
    "\n",
    "arr = [1,2,2,3,4,5,6,6,7,11, 9,3,3,1,10]\n",
    "list(arr|dedup(lambda key:key<5))"
   ]
  },
  {
   "cell_type": "markdown",
   "metadata": {},
   "source": [
    "- Now, let’s combine this method with select and where to get the values of a dictionary that has duplicated keys and None values."
   ]
  },
  {
   "cell_type": "code",
   "execution_count": 21,
   "metadata": {},
   "outputs": [
    {
     "data": {
      "text/plain": [
       "[2, 4]"
      ]
     },
     "execution_count": 21,
     "metadata": {},
     "output_type": "execute_result"
    }
   ],
   "source": [
    "from pipe import dedup, select, where\n",
    "\n",
    "data = [{\"name\":\"apple\", \"count\":2},\n",
    "          {\"name\": \"orange\", \"count\":4},\n",
    "          {\"name\":\"grape\", \"count\":None},\n",
    "          {\"name\":\"grape\", \"count\":5}]\n",
    "   \n",
    "list(data\n",
    "    |dedup(key = lambda data: data['name'])\n",
    "    |select(lambda data: data['count'])\n",
    "    |where(lambda count: isinstance(count, int)))"
   ]
  },
  {
   "cell_type": "code",
   "execution_count": null,
   "metadata": {},
   "outputs": [],
   "source": []
  },
  {
   "cell_type": "markdown",
   "metadata": {},
   "source": [
    "https://www.freecodecamp.org/news/an-a-z-of-useful-python-tricks-b467524ee747/\n",
    "\n",
    "https://towardsdatascience.com/20-python-programming-tips-and-tricks-for-beginners-25d44db03aea"
   ]
  },
  {
   "cell_type": "markdown",
   "metadata": {},
   "source": [
    "https://data36.com/python-built-in-functions-methods-python-data-science-basics-3/"
   ]
  },
  {
   "cell_type": "markdown",
   "metadata": {},
   "source": [
    "                                    ~End~"
   ]
  }
 ],
 "metadata": {
  "kernelspec": {
   "display_name": "Python 3",
   "language": "python",
   "name": "python3"
  },
  "language_info": {
   "codemirror_mode": {
    "name": "ipython",
    "version": 3
   },
   "file_extension": ".py",
   "mimetype": "text/x-python",
   "name": "python",
   "nbconvert_exporter": "python",
   "pygments_lexer": "ipython3",
   "version": "3.7.4"
  }
 },
 "nbformat": 4,
 "nbformat_minor": 4
}
