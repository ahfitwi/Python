{
 "cells": [
  {
   "cell_type": "markdown",
   "metadata": {},
   "source": [
    "# 1. Introduction"
   ]
  },
  {
   "cell_type": "markdown",
   "metadata": {},
   "source": [
    "### Compiled by :\n",
    "      Alem H Fitwi, \n",
    "      PhD Student, ECE (Privacy, ML/DNN, & Chaotic Encryption)\n",
    "      GA-Data Analystics Specialist,\n",
    "      Binghamton University-State University of New York\n",
    "      Since August, 2017 "
   ]
  },
  {
   "cell_type": "markdown",
   "metadata": {},
   "source": [
    "<div class=\"alert alert-block alert-warning\">"
   ]
  },
  {
   "cell_type": "markdown",
   "metadata": {},
   "source": [
    "<font color='blue'>Common cmds</font>\n",
    " \n",
    "windows:\n",
    "\n",
    "    cd: change directory\n",
    "    dir: list directories\n",
    "    cd ..: towards root\n",
    "    cls: clear screen\n",
    "    where python (locates python)\n",
    "\n",
    " Linux/Mac:\n",
    " \n",
    "    alt+ctrl+T: cmd prompt\n",
    "    pwd: working directory\n",
    "    ls: list\n",
    "    ls -a: including hidden files\n",
    "    ls -l: Files/folders and privilege details\n",
    "    clear: clear screen\n",
    "    cd or cd ..\n",
    "    $ which python (locates python)\n",
    "    \n",
    "<font color='blue'>Installation</font>\n",
    "<ul>\n",
    "    <li>Download anacond3 ditribution from www.anaconda.com/downloads</li>\n",
    "    <li>Anaconda3: py3, jupyter, spyder, and many preconfigured libraries</li>\n",
    "    <li>Anconda is easily installed onto win, linux, mac, etc...!</li>\n",
    "    <li>Read the respective instructions on the site about how to install anaconda</li>\n",
    "    <li>On win --> anconda navigator [spyder, jupyter, jupyter lab, R, ...] </li>  \n",
    "</ul>\n",
    "Installing Anaconda (Python)\n",
    "<ul>\n",
    "    <li>https://www.anaconda.com/distribution/ </li> \n",
    "    <li>cd to location of the Anaconda3 </li> \n",
    "    <li>sha256sum Anaconda3-2019.03-Linux-x86_64.sh </li> \n",
    "    <li>bash Anaconda3-2019.03-Linux-x86_64.sh </li>     \n",
    "</ul>\n",
    "Installing Tensorflow, keras, theano\n",
    "<ul> \n",
    "    <li>pip install tensorflow </li> \n",
    "    <li>python3 -c 'import tensorflow as tf; print(tf.__version__)'  # for Python 3 </li> \n",
    "    <li>pip install keras </li> \n",
    "    <li>pipinstall theano </li>    \n",
    "</ul>\n",
    "Installing Opencv\n",
    "<ul> \n",
    "    <li>pip install opencv-python </li>     \n",
    "</ul>\n",
    "Scapy\n",
    "<ul> \n",
    "    <li>pip install scapy </li>     \n",
    "</ul>\n",
    "Check System status in Ubuntu OS    \n",
    "<ul> \n",
    "    <li>lscpu </li> \n",
    "    <li>free -m </li> \n",
    "    <li>cat /proc/meminfo </li> \n",
    "    <li>vmstat -s </li> \n",
    "    <li>top </li> \n",
    "    <li>htop </li> \n",
    "</ul>\n",
    "\n",
    "<font color='blue'>Pros of python</font>\n",
    "<ul>\n",
    "    <li>Can be learnt very quickly, human like language</li>\n",
    "    <li>Involves less code typically</li>\n",
    "    <li>Syntax is easier to read</li>\n",
    "    <li>Utilized by every major technologies</li>\n",
    "    <li>Huge amount of additional open-source libraries</li>    \n",
    "</ul>\n",
    "\n"
   ]
  },
  {
   "cell_type": "markdown",
   "metadata": {},
   "source": [
    "<font color='blue'>Hot keys</font>\n",
    "<ul>\n",
    "    <li>To run a cell on jupyter: shift+ctrl</li>\n",
    "    <li> To change to Markdown mode: esc + m</li>\n",
    "    <li>Click help on jupyter for more hot keys</li>      \n",
    "</ul>"
   ]
  },
  {
   "cell_type": "markdown",
   "metadata": {},
   "source": [
    "<font color='blue'>Markdown</font>\n",
    "<ul>\n",
    "    <li>For text writing</li>\n",
    "    <li>Coloring is possible</li>\n",
    "    <li>Formula: <font color='green'>Put text here [</f c=''>text</f>]</font> </li>\n",
    "    <li>Use # for heading: #> Biggest, ##>Bigger, ###>Big, ...</li>\n",
    "    <li><font color='red'>.ipyb file can be opened only on jupyter, no where else</font> </li>    \n",
    "</ul>\n",
    "\n",
    "        <font color ='red'>Enter Text Here!</font>\n",
    "        <img src = 'path>"
   ]
  },
  {
   "cell_type": "markdown",
   "metadata": {},
   "source": [
    "<font color='blue'>Image Reading</font>\n",
    " \n",
    "             <img src = './0_figs/func.jpg'>"
   ]
  },
  {
   "cell_type": "markdown",
   "metadata": {},
   "source": [
    "<img src = './0_figs/func.jpg'>"
   ]
  },
  {
   "cell_type": "markdown",
   "metadata": {},
   "source": [
    "         from IPython.display import Image\n",
    "         Image('./0_figs/func.jpg')            \n",
    "             "
   ]
  },
  {
   "cell_type": "code",
   "execution_count": 3,
   "metadata": {},
   "outputs": [
    {
     "data": {
      "image/jpeg": "[encoded data removed]",
      "text/plain": [
       "<IPython.core.display.Image object>"
      ]
     },
     "execution_count": 3,
     "metadata": {},
     "output_type": "execute_result"
    }
   ],
   "source": [
    "from IPython.display import Image\n",
    "Image('./0_figs/func.jpg')     "
   ]
  },
  {
   "cell_type": "markdown",
   "metadata": {},
   "source": [
    "            from IPython import display\n",
    "            display.Image(\"./0_figs/func.jpg\")            \n",
    "            "
   ]
  },
  {
   "cell_type": "markdown",
   "metadata": {},
   "source": [
    "             ![alt text](imagename.png \"Title\")\n",
    "             ![alt text](./0_figs/func.jpg \"Function\")"
   ]
  },
  {
   "cell_type": "markdown",
   "metadata": {},
   "source": [
    "\n",
    "![alt text](./0_figs/func.jpg \"Function\")"
   ]
  },
  {
   "cell_type": "markdown",
   "metadata": {},
   "source": [
    "<div class=\"alert alert-block alert-warning\">"
   ]
  },
  {
   "cell_type": "markdown",
   "metadata": {},
   "source": [
    "##### Paths"
   ]
  },
  {
   "cell_type": "code",
   "execution_count": 1,
   "metadata": {},
   "outputs": [
    {
     "data": {
      "text/plain": [
       "['/home/alem/0_Alem/alemprojects/FinalNotes/1.1_Python',\n",
       " '/home/alem/anaconda3/lib/python37.zip',\n",
       " '/home/alem/anaconda3/lib/python3.7',\n",
       " '/home/alem/anaconda3/lib/python3.7/lib-dynload',\n",
       " '',\n",
       " '/home/alem/.local/lib/python3.7/site-packages',\n",
       " '/home/alem/anaconda3/lib/python3.7/site-packages',\n",
       " '/home/alem/anaconda3/lib/python3.7/site-packages/IPython/extensions',\n",
       " '/home/alem/.ipython']"
      ]
     },
     "execution_count": 1,
     "metadata": {},
     "output_type": "execute_result"
    }
   ],
   "source": [
    "import sys\n",
    "sys.path"
   ]
  },
  {
   "cell_type": "markdown",
   "metadata": {},
   "source": [
    "- Displays an error when a run-time exception occurs"
   ]
  },
  {
   "cell_type": "code",
   "execution_count": 2,
   "metadata": {},
   "outputs": [],
   "source": [
    "sys.exc_info()[0]"
   ]
  },
  {
   "cell_type": "markdown",
   "metadata": {},
   "source": [
    "<div class=\"alert alert-block alert-warning\">"
   ]
  },
  {
   "cell_type": "markdown",
   "metadata": {},
   "source": [
    "## 1.0 Checking Python and Machine Versions"
   ]
  },
  {
   "cell_type": "code",
   "execution_count": 3,
   "metadata": {},
   "outputs": [],
   "source": [
    "#Files, I/O, regular expressions and OS\n",
    "import os\n",
    "import io\n",
    "import shutil\n",
    "import glob\n",
    "import sys\n",
    "import re\n",
    "import warnings\n",
    "warnings.simplefilter(\"ignore\")\n",
    "import platform"
   ]
  },
  {
   "cell_type": "code",
   "execution_count": 4,
   "metadata": {},
   "outputs": [
    {
     "name": "stdout",
     "output_type": "stream",
     "text": [
      "Alem is "
     ]
    }
   ],
   "source": [
    "a = 37\n",
    "sys.stdout.write(\"Alem is \")"
   ]
  },
  {
   "cell_type": "code",
   "execution_count": 5,
   "metadata": {},
   "outputs": [
    {
     "name": "stdout",
     "output_type": "stream",
     "text": [
      "User Name: uname_result(system='Linux', node='alem-HP-Pavilion-x360-Convertible', release='5.4.0-74-generic', version='#83~18.04.1-Ubuntu SMP Tue May 11 16:01:00 UTC 2021', machine='x86_64', processor='x86_64')\n",
      "System: Linux\n",
      "Node: alem-HP-Pavilion-x360-Convertible\n",
      "Release: 5.4.0-74-generic\n",
      "Version: #83~18.04.1-Ubuntu SMP Tue May 11 16:01:00 UTC 2021\n",
      "Machine: x86_64\n",
      "Processor: x86_64\n",
      "Python Version: 3.7.4\n"
     ]
    }
   ],
   "source": [
    "print('User Name:', platform.uname())\n",
    "print('System:', platform.system())\n",
    "print('Node:', platform.node())\n",
    "print('Release:', platform.release())\n",
    "print('Version:', platform.version())\n",
    "print('Machine:', platform.machine())\n",
    "print('Processor:', platform.processor())\n",
    "print('Python Version:', platform.python_version())"
   ]
  },
  {
   "cell_type": "code",
   "execution_count": 6,
   "metadata": {},
   "outputs": [
    {
     "name": "stdout",
     "output_type": "stream",
     "text": [
      "0x4146675f1d8c\n"
     ]
    }
   ],
   "source": [
    "# Get MAC and IP addresses of a machine\n",
    "import uuid   \n",
    "# printing the value of unique MAC \n",
    "# address using uuid and getnode() function  \n",
    "print (hex(uuid.getnode())) "
   ]
  },
  {
   "cell_type": "code",
   "execution_count": 7,
   "metadata": {},
   "outputs": [
    {
     "name": "stdout",
     "output_type": "stream",
     "text": [
      "The MAC address in formatted way is : 41:46:67:5f:1d:8c\n"
     ]
    }
   ],
   "source": [
    "# Python 3 code to print MAC \n",
    "# in formatted way.   \n",
    "import uuid \n",
    "  \n",
    "# joins elements of getnode() after each 2 digits.   \n",
    "print (\"The MAC address in formatted way is : \", end=\"\") \n",
    "print (':'.join(['{:02x}'.format((uuid.getnode() >> ele) & 0xff) \n",
    "for ele in range(0,8*6,8)][::-1])) \n"
   ]
  },
  {
   "cell_type": "code",
   "execution_count": 17,
   "metadata": {},
   "outputs": [
    {
     "name": "stdout",
     "output_type": "stream",
     "text": [
      "The MAC address in formatted and less complex way is : 2f:58:96:6b:28:2b\n"
     ]
    }
   ],
   "source": [
    "# Python 3 code to print MAC \n",
    "# in formatted way and easier \n",
    "# to understand \n",
    "\n",
    "import re, uuid \n",
    "\n",
    "# joins elements of getnode() after each 2 digits. \n",
    "# using regex expression \n",
    "print (\"The MAC address in formatted and less complex way is : \", end=\"\") \n",
    "print (':'.join(re.findall('..', '%012x' % uuid.getnode()))) \n"
   ]
  },
  {
   "cell_type": "code",
   "execution_count": 18,
   "metadata": {},
   "outputs": [
    {
     "name": "stdout",
     "output_type": "stream",
     "text": [
      "Your Computer Name is:alem-HP-Pavilion-x360-Convertible\n",
      "Your Computer IP Address is:127.0.1.1\n"
     ]
    }
   ],
   "source": [
    "# Python Program to Get IP Address \n",
    "import socket \n",
    "hostname = socket.gethostname() \n",
    "IPAddr = socket.gethostbyname(hostname) \n",
    "print(\"Your Computer Name is:\" + hostname) \n",
    "print(\"Your Computer IP Address is:\" + IPAddr) "
   ]
  },
  {
   "cell_type": "markdown",
   "metadata": {},
   "source": [
    "<div class=\"alert alert-block alert-warning\">"
   ]
  },
  {
   "cell_type": "markdown",
   "metadata": {},
   "source": [
    "## 1.1 Getting Started\n",
    "Python is a cross-platform programming language, meaning, it runs on multiple platforms like Windows, MacOS, Linux and has even been ported to the Java and .NET virtual machines. It is free and open source.\n",
    "Even though most of today’s Linux and Mac have Python preinstalled in it, the version might be out-of-date. So, it is always a good idea to install the most current version.\n",
    "\n",
    "Installation:\n",
    "<ul>\n",
    "    <li> Install Anaconda of recent version; you can download it from www.anaconda.com </li>\n",
    "    <li> or Install Download and install Python alone </li>\n",
    "    <li> You can write and run a python code on Jupyter, Spyder, Sublimetext, Thonny IDE, Atom, or on a note pad and run it on CLI </li>\n",
    "    <li> on CLI: type python to enter into python pronmpt mode. To exit type ctrl+D</li>\n",
    "    <li> For a server, install it for multiple users.</li>\n",
    "</ul>    "
   ]
  },
  {
   "cell_type": "markdown",
   "metadata": {},
   "source": [
    "<div class=\"alert alert-block alert-warning\">"
   ]
  },
  {
   "cell_type": "markdown",
   "metadata": {},
   "source": [
    "## 1.2 Elements of Natural and Machine Lanaguages\n",
    "\n",
    "- A language is a means (and a tool) for expressing and recording thoughts.\n",
    "- Computers have their own language, too, called machine language, which is very rudimentary.\n",
    "- A computer is devoid of even a trace of intelligence-it is like a well-trained dog that works based-on pretrained few commands.\n",
    "- A complete set of known commands is called an ***instruction list***, sometimes abbreviated to IL. \n",
    "- New words are created every day and old words disappear. These languages are called natural languages.\n",
    "- We can say that each language (machine or natural, it doesn't matter) consists of the following elements:\n",
    "    - **Alphabet**:a set of symbols used to build words of a certain language or IL. The **IL** is, in fact, the alphabet of a machine language. This is the simplest and most primary set of symbols we can use to give commands to a computer. It's the computer's mother tongue.\n",
    "    - **Lexis**: (aka a dictionary) a set of words the language offers its users\n",
    "    - **Syntax**: a set of rules (formal or informal, written or felt intuitively) used to determine if a certain string of words forms a valid sentence (e.g., \"I am a python\" is a syntactically correct phrase, while \"I a python am\" isn't).\n",
    "    - **Semantics**: a set of rules determining if a certain phrase makes sense (e.g., \"I ate a doughnut\" makes sense, but \"A doughnut ate me\" doesn't). Semantics is the study of the meaning of words. It is also called a logic error. If there is a semantic error in your program, it will run successfully in the sense that the computer will not generate any error messages. However, your program will not do the right thing. It will do something else. Specifically, it will do what you told it to do, not what you wanted it to do.\n",
    "         - ***Semantic errors*** are problems with a program that runs without producing error messages but doesn’t do the right thing. Example: An expression may not be evaluated in the order you expect, yielding an incorrect result.\n",
    "         - In some ways, semantic errors are the hardest to debug, because the interpreter provides no information about what is wrong. Only you know what the program is supposed to do.\n",
    "         - The first step is to make a connection between the program text and the behavior you are seeing. You need a hypothesis about what the program is actually doing.\n",
    "\n",
    "- The IL is, in fact, the alphabet of a machine language. This is the simplest and most primary set of symbols we can use to give commands to a computer. It’s the computer’s mother tongue.\n",
    "- Unfortunately, this tongue is a far cry from a human mother tongue. We all (both computers and humans) need something else, a common language for computers and humans, or a bridge between the two different worlds.\n",
    "\n",
    "- We need a language in which humans can write their programs and a language that computers may use to execute the programs, one that is far more complex than machine language and yet far simpler than natural language.\n",
    "\n",
    "- Such languages are often called ***high-level programming languages***. They are at least somewhat similar to natural ones in that they use symbols, words and conventions readable to humans. These languages enable humans to express commands to computers that are much more complex than those offered by ILs.\n",
    "\n",
    " - A program written in a high-level programming language is called a source code (in contrast to the machine code executed by computers). A computer can understand only a string of zeros and ones! Similarly, the file containing the source code is called the source file.\n",
    " \n",
    "- Computer programming is the act of composing the selected programming language’s elements in the order that will cause the desired effect. The effect could be different in every specific case – it’s up to the programmer’s imagination, knowledge and experience.\n",
    "\n",
    "- Of course, such a composition has to be correct in many senses:\n",
    "    - ***alphabetically*** - a program needs to be written in a recognizable script, such as Roman, Cyrillic, etc. \n",
    "    - ***lexically*** - each programming language has its dictionary and you need to master it; thankfully, it's much simpler and smaller than the dictionary of any natural language; \n",
    "    - ***syntactically*** - each language has its rules and they must be obeyed; \n",
    "    - semantically - the program has to make sense. \n",
    "- There are two different ways of transforming a program from a high-level programming language into machine language:\n",
    "    - **COMPILATION** - the source program is translated once (however, this act must be repeated each time you modify the source code) by getting a file (e.g., an .exe file if the code is intended to be run under MS Windows) containing the machine code; now you can distribute the file worldwide; the program that performs this translation is called a compiler or translator;\n",
    "    - **INTERPRETATION** - you (or any user of the code) can translate the source program each time it has to be run; the program performing this kind of transformation is called an interpreter, as it interprets the code every time it is intended to be executed; it also means that you cannot just distribute the source code as-is, because the end-user also needs the interpreter to execute it.\n",
    "- You may ask now: which is better? The \"compiling\" model or the \"interpreting\" model? There is no obvious answer. If there had been, one of these models would have ceased to exist a long time ago. Both of them have their advantages and their disadvantages.\n",
    "- COMPILATION ADVANTAGES\n",
    "    - the execution of the translated code is usually faster; \n",
    "    - only the user has to have the compiler - the end-user may use the code without it; \n",
    "    - the translated code is stored using machine language - as it is very hard to understand it, your own inventions and programming tricks are likely to remain your secret. \n",
    "- DISADVANTAGES\n",
    "    - the compilation itself may be a very time-consuming process - you may not be able to run your code immediately after any amendment; \n",
    "    - you have to have as many compilers as hardware platforms you want your code to be run on. \n",
    "- INTERPRETATION ADVANTAGES\n",
    "    - you can run the code as soon as you complete it - there are no additional phases of translation; \n",
    "    - the code is stored using programming language, not the machine one - this means that it can be run on computers using different machine languages; you don't compile your code separately for each different architecture. \n",
    "- DISADVANTAGES\n",
    "    - don't expect that interpretation will ramp your code to high speed - your code will share the computer's power with the interpreter, so it can't be really fast; \n",
    "    - both you and the end user have to have the interpreter to run your code.\n",
    "- Python is an interpreted language. This means that it inherits all the described advantages and disadvantages. Of course, it adds some of its unique features to both sets. \n",
    "- If you want to program in Python, you'll need the Python interpreter. You won't be able to run your code without it. Fortunately, Python is free. This is one of its most important advantages. \n",
    "- Python is a widely-used, interpreted, object-oriented, and high-level programming language with dynamic semantics, used for general-purpose programming.\n",
    "\n",
    "- What does the interpreter actually do?\n",
    "    - Let’s assume once more that you have written a program. Now, it exists as a computer file: a computer program is actually a piece of text, so the source code is usually placed in text files. Note: it has to be pure text, without any decorations like different fonts, colors, embedded images or other media.\n",
    "    - Now you have to invoke the interpreter and let it read your source file.\n",
    "    - The interpreter reads the source code in a way that is common in Western culture: from top to bottom and from left to right. There are some exceptions – they’ll be covered later in the course.\n",
    "    - First of all, the interpreter checks if all subsequent lines are correct (using the four aspects covered earlier: Alphabetically, lexically, sytactically, & semantically). If the compiler finds an error, it finishes its work immediately. The only result in this case is an error message. The interpreter will inform you where the error is located and what caused it. However, these messages may be misleading, as the interpreter isn’t able to follow your exact intentions, and may detect errors at some distance from their real causes.\n",
    "\n",
    "- And while you may know the python as a large snake, the name of the Python programming language comes from an old BBC television comedy sketch series called Monty Python's Flying Circus.\n",
    "- Since Monty Python is considered one of the two fundamental nutrients to a programmer (the other being pizza), Python's creator named the language in honor of the TV show.\n",
    "- There are not many languages whose authors are known by name. Python was created by **Guido van Rossum**, born in 1956 in Haarlem, the Netherlands. Of course, Guido van Rossum did not develop and evolve all the Python components himself.\n",
    "- In 1999, Guido van Rossum defined his goals for Python:\n",
    "    - an easy and intuitive language just as powerful as those of the major competitors; \n",
    "    - open source, so anyone can contribute to its development; \n",
    "    - code that is as understandable as plain English; \n",
    "    - suitable for everyday tasks, allowing for short development times. \n",
    "- About 20 years later, it is clear that all these intentions/goals have been fulfilled.\n",
    "- Special about pythons - we've listed some of them already, but let's enumerate them again in a more practical manner:\n",
    "    - it's easy to learn - the time needed to learn Python is shorter than for many other languages; this means that it's possible to start the actual programming faster; \n",
    "    - it's easy to teach - the teaching workload is smaller than that needed by other languages; this means that the teacher can put more emphasis on general (language-independent) programming techniques, not wasting energy on exotic tricks, strange exceptions and incomprehensible rules; \n",
    "    - it's easy to use for writing new software - it's often possible to write code faster when using Python; \n",
    "    - it's easy to understand - it's also often easier to understand someone else's code faster if it is written in Python; \n",
    "    - it's easy to obtain, install and deploy - Python is free, open and multiplatform; not all languages can boast that.\n",
    "\n",
    "- Despite Python’s growing popularity, there are still some niches where Python is absent, or is rarely seen:\n",
    "    - low-level programming (sometimes called “close to metal” programming): if you want to implement an extremely effective driver or graphical engine, you wouldn’t use Python;\n",
    "    - applications for mobile devices: although this territory is still waiting to be conquered by Python, it will most likely happen someday.\n",
    "\n",
    "- PSF (Python Software Foundation), a community that aims to develop, improve, expand, and popularize Python and its environment. The PSF's president is Guido von Rossum himself, and for this reason, these Pythons are called canonical.\n",
    "- Guido van Rossum used the \"C\" programming language to implement the very first version of his language and this decision is still in force. All Pythons coming from the PSF are written in the \"C\" language. There are many reasons for this approach and it has many consequences. One of them (probably the most important) is that thanks to it, Python may be easily ported and migrated to all platforms with the ability to compile and run \"C\" language programs (virtually all platforms have this feature, which opens up many expansion opportunities for Python).\n",
    "- This is why the PSF implementation is often referred to as CPython. This is the most influential Python among all the Pythons in the world.\n",
    "- Cython is intended to do - to automatically translate the Python code (clean and clear, but not too swift) into \"C\" code (complicated and talkative, but agile).\n",
    "- Jython can communicate with existing Java infrastructure more effectively. This is why some projects find it usable and needful. Note: the current Jython implementation follows Python 2 standards. There is no Jython conforming to Python 3, so far.\n",
    "\n",
    "- There are many ways of utilizing Python, especially if you’re going to be a Python developer. To start your work, you need the following tools:\n",
    "    - an ***editor*** which will support you in writing the code (it should have some special features, not available in simple tools); this dedicated editor will give you more than the standard OS equipment.The Editor window lets you type in your code;\n",
    "    - a ***console*** in which you can launch your newly written code and stop it forcibly when it gets out of control. The window that appears on the screen is the ***Python console*** (or just ***console*** or ***Python shell***, or ***shell***). You will use it to execute simple Python commands and to see the effects of your programs’ executions. The Console window lets you see the output of your programs;\n",
    "    - a tool named a ***debugger***, able to launch your code step by step and allowing you to inspect it at each moment of execution.\n",
    "\n",
    "- IDLE: Integrated Development and Learning Environment\n",
    "- IDE: Integrated Development Environment\n",
    "- Spyder matlab like IDE\n",
    "- Jupyter Notebook: interactive IDE\n",
    "- Python offers special “boxes” (containers) for saving the intermediate results, and these boxes are called variables – the name itself suggests that the content of these containers can be varied in (almost) any way. What does every Python variable have? A name and a value (the content of the container).\n",
    "- print() sends data to the console and the input() function gets data from it."
   ]
  },
  {
   "cell_type": "code",
   "execution_count": 19,
   "metadata": {},
   "outputs": [
    {
     "data": {
      "image/png": "[encoded data removed]",
      "text/plain": [
       "<IPython.core.display.Image object>"
      ]
     },
     "execution_count": 19,
     "metadata": {},
     "output_type": "execute_result"
    }
   ],
   "source": [
    "from IPython.display import Image\n",
    "Image('./0_figs/conedit.png')"
   ]
  },
  {
   "cell_type": "markdown",
   "metadata": {},
   "source": [
    "##### Important points\n",
    "1. A Python is an example of\n",
    "    - <font color = 'red'>a machine language</font>\n",
    "    - a  natural language    \n",
    "    - <font color = 'red'>a high-level programming language</font>\n",
    "2. A complete set of known commands is called:\n",
    "    - a low-level list  \n",
    "    - <font color = 'red'>an instruction list</font>\n",
    "    - a machine list\n",
    "3. What is a source code? \n",
    "    - Machine code executed by computers\n",
    "    - another name for source file    \n",
    "    - <font color = 'red'>a program written in high-level programming language</font>\n",
    "4. what you call a computer program which directly executes instructions written in programming languages?\n",
    "    - An Interpreter    \n",
    "    - <font color = 'red'>A compiler</font>\n",
    "    - A translator\n",
    "5. What is Cpython?\n",
    "    - The default implementation of the python programming language.\n",
    "6. What is IDLE?\n",
    "    - An acronym that stands for for Integrated Development and Learning Environment\n",
    "7. What do you call a tool that lets you launch your code step by step and inspect it at each moment? \n",
    "    - <font color = 'red'>A Debugger</font>\n",
    "    - A console\n",
    "    - An editor\n",
    "8. How did Python, the programming language, get its name?\n",
    "    - Guido Van Rossum named it to honor Monty Python's Flying Circus, a BBC comedy series popular in the 1970s.\n",
    "9. Which one of the following is an example of a python file extention? \n",
    "    - P,     \n",
    "    - <font color = 'red'>py</font>,\n",
    "    - pi"
   ]
  },
  {
   "cell_type": "markdown",
   "metadata": {},
   "source": [
    "### Python Errors\n",
    "https://runestone.academy/runestone/books/published/fopp/Debugging/RuntimeErrors.html\n",
    "\n",
    "- The Error message (always in red) shows (in the subsequent lines):\n",
    "    - the ***traceback*** (which is the path that the code traverses through different parts of the program);\n",
    "    - the ***location*** of the error (the name of the file containing the error, line number and module name); note: the number may be misleading, as Python usually shows the place where it first notices the effects of the error, not necessarily the error itself;\n",
    "    - the ***content*** of the erroneous line; note: IDLE’s editor window doesn’t show line numbers, but it displays the current cursor location at the bottom-right corner; use it to locate the erroneous line in a long source code;\n",
    "    - the ***name of the error*** and a short explanation."
   ]
  },
  {
   "cell_type": "markdown",
   "metadata": {},
   "source": [
    "##### 1. Syntax Error\n",
    "    SyntaxError\n",
    "- Python can only execute a program if the program is syntactically correct; otherwise, the process fails and returns an error message. Syntax refers to the structure of a program and the rules about that structure. For example, in English, a sentence must begin with a capital letter and end with a period. this sentence contains a syntax error. So does this one\n",
    "- In Python, rules of syntax include requirements like these: strings must be enclosed in quotes; statements must generally be written one per line; the print statement must enclose the value to be displayed in parenthesis; expressions must be correctly formed. The following lines contain syntax errors:\n",
    "\n"
   ]
  },
  {
   "cell_type": "code",
   "execution_count": 20,
   "metadata": {},
   "outputs": [
    {
     "ename": "SyntaxError",
     "evalue": "invalid syntax (<ipython-input-20-7a42b3409ca7>, line 1)",
     "output_type": "error",
     "traceback": [
      "\u001b[0;36m  File \u001b[0;32m\"<ipython-input-20-7a42b3409ca7>\"\u001b[0;36m, line \u001b[0;32m1\u001b[0m\n\u001b[0;31m    print(Hello, world!)\u001b[0m\n\u001b[0m                      ^\u001b[0m\n\u001b[0;31mSyntaxError\u001b[0m\u001b[0;31m:\u001b[0m invalid syntax\n"
     ]
    }
   ],
   "source": [
    "print(Hello, world!)\n",
    "print \"Hello, world!\"\n",
    "print(5 + )"
   ]
  },
  {
   "cell_type": "markdown",
   "metadata": {},
   "source": [
    "import sys\n",
    "- cannot handle syntax errors!"
   ]
  },
  {
   "cell_type": "markdown",
   "metadata": {},
   "source": [
    "- For most readers of English, a few syntax errors are not a significant problem, which is why we can read the poetry of e. e. cummings without problems. Python is not so forgiving. When you run a Python program, the interpreter checks it for syntax errors before beginning to execute the first statement. If there is a single syntax error anywhere in your program, Python will display an error message and quit without executing any of the program."
   ]
  },
  {
   "cell_type": "code",
   "execution_count": null,
   "metadata": {},
   "outputs": [],
   "source": [
    "1alem = 5"
   ]
  },
  {
   "cell_type": "code",
   "execution_count": null,
   "metadata": {},
   "outputs": [],
   "source": [
    "# Comma is missing after 'jim': 24 or before 'michael': 43\n",
    "ages = {\n",
    "    'pam': 24,\n",
    "    'jim': 24    \n",
    "    'michael': 43\n",
    "}\n",
    "print(f'Michael is {ages[\"michael\"]} years old.')"
   ]
  },
  {
   "cell_type": "markdown",
   "metadata": {},
   "source": [
    "***Example of Syntax Error/ Invalid Syntax***: When you run your Python code, the interpreter will first parse it to convert it into Python byte code, which it will then execute. The interpreter will find any invalid syntax in Python during this first stage of program execution, also known as the parsing stage. If the interpreter can’t parse your Python code successfully, then this means that you used invalid syntax somewhere in your code. The interpreter will attempt to show you where that error occurred.\n",
    "\n",
    "Common Syntax Problems:\n",
    "- Misusing the Assignment Operator (=), len('hello') = 5, 'foo' = 1, 1 = 'foo'\n",
    "- Misspelling, Missing, or Misusing Python Keywords\n",
    "    - Misspelling a keyword: \n",
    "    \n",
    "            fro i in range(10): #for is misspelt \n",
    "    - Missing a keyword:\n",
    "    \n",
    "            for i range(10): #in is missing   \n",
    "            \n",
    "    - Misusing a keyword:\n",
    "            \n",
    "            names = ['pam', 'jim', 'michael']\n",
    "            if 'jim' in names:\n",
    "                print('jim found')\n",
    "                break  #used only with looping structures like for or while.\n",
    "- Missing Parentheses, Brackets, and Quotes\n",
    "    - message = 'don't'\n",
    "        - Escape the single quote with a backslash ('don\\'t')\n",
    "        - Surround the entire string in double-quotes instead (\"don't\")\n",
    "    - message = \"This is an unclosed string  \n",
    "        - SyntaxError: EOL while scanning string literal\n",
    "    - lst = [1,2,3,4\n",
    "        - lst = [1,2,3,4]\n",
    "- Mistaking Dictionary Syntax\n",
    "    - ages = {'pam'=24} \n",
    "        - : not =\n",
    "        - ages = dict(pam=24)\n",
    "- Using the Wrong Indentation\n",
    "    - IndentationError:  It will raise an IndentationError if there’s a line in a code block that has the wrong number of spaces.\n",
    "    - TabError: which you’ll see whenever there’s a line that contains either tabs or spaces for its indentation, while the rest of the file contains the other\n",
    "- Defining and Calling Functions: \n",
    "    - def func();\n",
    "- Changing Python Versions\n",
    "    - print 'hello'"
   ]
  },
  {
   "cell_type": "markdown",
   "metadata": {},
   "source": [
    "##### 2. Run Time Error/Exception Error\n",
    "\n",
    "    NameError\n",
    "    ValueError\n",
    "    AttrError\n",
    "    ZeroDivisionError\n",
    "    ...\n",
    "- The second type of error is a runtime error. A program with a runtime error is one that passed the interpreter’s syntax checks, and started to execute. However, during the execution of one of the statements in the program, an error occurred that caused the interpreter to stop executing the program and display an error message. Runtime errors are also called exceptions because they usually indicate that something exceptional (and bad) has happened.\n",
    "\n",
    "- Here are some examples of common runtime errors you are sure to encounter:\n",
    "    - Misspelled or incorrectly capitalized variable and function names\n",
    "    - Attempts to perform operations (such as math operations) on data of the wrong type (ex. attempting to subtract two variables that hold string values)\n",
    "    - Dividing by zero\n",
    "    - Attempts to use a type conversion function such as int on a value that can’t be converted to an int\n",
    "\n",
    "- The following program contains various runtime errors. Can you spot any of them? After locating the error, run the program to see the error message."
   ]
  },
  {
   "cell_type": "code",
   "execution_count": 8,
   "metadata": {},
   "outputs": [
    {
     "name": "stdout",
     "output_type": "stream",
     "text": [
      "Enter total before tax:98989\n"
     ]
    },
    {
     "ename": "NameError",
     "evalue": "name 'subTotal' is not defined",
     "output_type": "error",
     "traceback": [
      "\u001b[0;31m---------------------------------------------------------------------------\u001b[0m",
      "\u001b[0;31mNameError\u001b[0m                                 Traceback (most recent call last)",
      "\u001b[0;32m<ipython-input-8-fa97cb51da6a>\u001b[0m in \u001b[0;36m<module>\u001b[0;34m\u001b[0m\n\u001b[1;32m      1\u001b[0m \u001b[0msubtotal\u001b[0m \u001b[0;34m=\u001b[0m \u001b[0minput\u001b[0m\u001b[0;34m(\u001b[0m\u001b[0;34m\"Enter total before tax:\"\u001b[0m\u001b[0;34m)\u001b[0m\u001b[0;34m\u001b[0m\u001b[0;34m\u001b[0m\u001b[0m\n\u001b[0;32m----> 2\u001b[0;31m \u001b[0mtax\u001b[0m \u001b[0;34m=\u001b[0m \u001b[0;36m.08\u001b[0m \u001b[0;34m*\u001b[0m \u001b[0msubTotal\u001b[0m\u001b[0;34m\u001b[0m\u001b[0;34m\u001b[0m\u001b[0m\n\u001b[0m\u001b[1;32m      3\u001b[0m \u001b[0mprint\u001b[0m\u001b[0;34m(\u001b[0m\u001b[0;34m\"tax on\"\u001b[0m\u001b[0;34m,\u001b[0m \u001b[0msubtotal\u001b[0m\u001b[0;34m,\u001b[0m \u001b[0;34m\"is:\"\u001b[0m\u001b[0;34m,\u001b[0m \u001b[0mtax\u001b[0m\u001b[0;34m)\u001b[0m\u001b[0;34m\u001b[0m\u001b[0;34m\u001b[0m\u001b[0m\n",
      "\u001b[0;31mNameError\u001b[0m: name 'subTotal' is not defined"
     ]
    }
   ],
   "source": [
    "subtotal = input(\"Enter total before tax:\")\n",
    "tax = .08 * subTotal\n",
    "print(\"tax on\", subtotal, \"is:\", tax)"
   ]
  },
  {
   "cell_type": "code",
   "execution_count": 9,
   "metadata": {},
   "outputs": [
    {
     "name": "stdout",
     "output_type": "stream",
     "text": [
      "Enter total before tax:787789\n",
      "<class 'NameError'>\n"
     ]
    }
   ],
   "source": [
    "import sys\n",
    "try:\n",
    "    subtotal = input(\"Enter total before tax:\")\n",
    "    tax = .08 * subTotal\n",
    "    print(\"tax on\", subtotal, \"is:\", tax)\n",
    "except:\n",
    "    print(sys.exc_info()[0])"
   ]
  },
  {
   "cell_type": "code",
   "execution_count": null,
   "metadata": {},
   "outputs": [],
   "source": [
    "subtotal = input(\"Enter total before tax:\")\n",
    "tax = .08 * subtotal\n",
    "print(\"tax on\", subtotal, \"is:\", tax)"
   ]
  },
  {
   "cell_type": "markdown",
   "metadata": {},
   "source": [
    "- Notice the following important differences between syntax errors and runtime errors that can help you as you try to diagnose and repair the problem:\n",
    "    - If the error message mentions SyntaxError, you know that the problem has to do with syntax: the structure of the code, the punctuation, etc.\n",
    "    - If the program runs partway and then crashes, you know the problem is a runtime error. Programs with syntax errors don’t execute even one line."
   ]
  },
  {
   "cell_type": "markdown",
   "metadata": {},
   "source": [
    "##### 3. Semantic Error\n",
    "- The third type of error is the semantic error, also called a logic error. If there is a semantic error in your program, it will run successfully in the sense that the computer will not generate any error messages. However, your program will not do the right thing. It will do something else. Specifically, it will do what you told it to do, not what you wanted it to do.\n",
    "- The following program has a semantic error. Execute it to see what goes wrong:"
   ]
  },
  {
   "cell_type": "markdown",
   "metadata": {},
   "source": [
    "***Example of semantic Error***: The intent is to input two numbers from thekeyboard and compute the sum. But one forgot to convert the numbers to integers or floats. 5+7 = 12, butif not converted properly, the output would be 57 (string concatenation)."
   ]
  },
  {
   "cell_type": "code",
   "execution_count": 10,
   "metadata": {},
   "outputs": [
    {
     "name": "stdout",
     "output_type": "stream",
     "text": [
      "Enter a number:00\n",
      "Enter another number:89\n",
      "The sum of 00 and 89 is 0089\n"
     ]
    }
   ],
   "source": [
    "num1 = input('Enter a number:')\n",
    "num2 = input('Enter another number:')\n",
    "sum1 = num1 + num2\n",
    "print('The sum of', num1, 'and', num2, 'is', sum1)"
   ]
  },
  {
   "cell_type": "markdown",
   "metadata": {},
   "source": [
    "- ***Test Cases***: To detect a semantic error in your program, you need the help of something called a test case.\n",
    "- A test case is a set of input values for the program, together with the output that you expect the program should produce when it is run with those particular inputs.\n",
    "    \n",
    "                Test Case\n",
    "                ---------\n",
    "                Input: 2, 3\n",
    "                Expected Output: 5"
   ]
  },
  {
   "cell_type": "markdown",
   "metadata": {},
   "source": [
    "##### Exercises\n",
    "- Which of the following is a syntax error?\n",
    "    - A. Attempting to divide by 0. --> <font color = 'red'>Run-time error</font>\n",
    "    - B. Forgetting a colon at the end of a statement where one is required. --> <font color = 'red'>SyntaxError</font>\n",
    "        - This is a problem with the formal structure of the program. Python knows where colons are required and can detect when one is missing simply by looking at the code without running it.\n",
    "    - C. Forgetting to divide by 100 when printing a percentage amount. --> <font color = 'red'>SemanticError</font>\n",
    "    \n",
    "- Which of the following is a run-time error?\n",
    "    - A. Attempting to divide by 0. --> <font color = 'red'>Run-time error</font>\n",
    "        - Python cannot reliably tell if you are trying to divide by 0 until it is executing your program (e.g., you might be asking the user for a value and then dividing by that value—you cannot know what value the user will enter before you run the program).\n",
    "    - B. Forgetting a colon at the end of a statement where one is required. --> <font color = 'red'>SyntaxError</font>        \n",
    "    - C. Forgetting to divide by 100 when printing a percentage amount. --> <font color = 'red'>SemanticError</font>\n",
    "\n",
    "- Which of the following is a semantic  error?\n",
    "    - A. Attempting to divide by 0. --> <font color = 'red'>Run-time error</font>\n",
    "    - B. Forgetting a colon at the end of a statement where one is required. --> <font color = 'red'>SyntaxError</font>        \n",
    "    - C. Forgetting to divide by 100 when printing a percentage amount. --> <font color = 'red'>SemanticError</font>\n",
    "        - This will produce the wrong answer because the programmer implemented the solution incorrectly. This is a semantic error.\n",
    "        \n",
    "- Who or what typically finds syntax errors?\n",
    "    - A. The programmer.\n",
    "    - B. The compiler / interpreter.\n",
    "        - The compiler and / or interpreter is a computer program that determines if your program is written in a way that can be translated into machine language for execution.\n",
    "    - C. The computer.\n",
    "    - D. The teacher / instructor.\n",
    "    \n",
    "- Who or what typically finds run-time errors?\n",
    "    - A. The programmer.\n",
    "    - B. The compiler / interpreter.\n",
    "        - If an instruction is illegal to perform at that point in the execution, the interpreter will stop with a message describing the exception.\n",
    "    - C. The computer.\n",
    "    - D. The teacher / instructor.\n",
    "- Who or what typically finds  semantic errors?\n",
    "    - A. The programmer.\n",
    "        -  You must fully understand the problem so the you can tell if your program properly solves it.\n",
    "    - B. The compiler / interpreter.\n",
    "    - C. The computer.\n",
    "    - D. The teacher / instructor."
   ]
  },
  {
   "cell_type": "markdown",
   "metadata": {},
   "source": [
    "<div class=\"alert alert-block alert-warning\">"
   ]
  },
  {
   "cell_type": "markdown",
   "metadata": {},
   "source": [
    "## 1.3 Compiled vs Interpreted Programming Lanaguages\n",
    "\n",
    "<ul>\n",
    "    <li> HLL programming language can't be understood by machine/processor. They are human friendly</li>\n",
    "    <li> Machines understand only machine codes/object codes, a string of zeros and ones </li>\n",
    "    <li> Hence, HLL must be first converted into machine code </li>\n",
    "</ul>"
   ]
  },
  {
   "cell_type": "code",
   "execution_count": null,
   "metadata": {},
   "outputs": [],
   "source": [
    "from IPython.display import Image\n",
    "from IPython.core.display import HTML\n",
    "Image('./0_figs/compiler.png')"
   ]
  },
  {
   "cell_type": "markdown",
   "metadata": {},
   "source": [
    "### Compiled Languages\n",
    "<ul>\n",
    "    <li> Checks the entire program at once for syntactical errors </li>\n",
    "    <li> Converts pm to machine or object code </li>\n",
    "    <li> MC or OC is directly executed by the machine processor (CU,AL, Memory) </li>\n",
    "    <li> MC represents the electrical signals</li>\n",
    "    <li> MC is a specification for the set of pathways</li>\n",
    "    <li> Once we have the ML/OC, we don't need the sorce code </li>\n",
    "    <li> Faster Execution </li>\n",
    "    <li> Takes up more memory </li>\n",
    "    <li> C, GO, RUST, C-Objective, C++ are compiled languages </li>\n",
    "    <li> If interested in a faster pm run on a single machine, go for compiled program </li> \n",
    "</ul>\n",
    "\n",
    "## Interpreted Language\n",
    "<ul>\n",
    "    <li> Reads one statement of the pm at a time </li>\n",
    "    <li> Checks it whether correct or erroneous, and creates IL-a bytecode </li>\n",
    "    <li> HLL (interpreter) -- bytecode (compiler) -- MC </li>\n",
    "    <li> Less memory requirement </li>\n",
    "    <li> Slower </li> \n",
    "    <li> Written with the user in mind </li>\n",
    "    <li> Interpreted pm never becomes ML. Only interpreted by CPython, JYTHON, IRONPYTHON, or PyPy </li>\n",
    "    <li> Goes through a pm line by line & execute on the fly. It doesn't save it as a separate MC. </li> \n",
    "    <li> If interested in writing a program to be shared by various platforms, go for interpretd languages </li> \n",
    "    <li> PHP, JavaScript are typical interpreted languages </li>\n",
    "</ul>\n",
    "\n",
    "## Hybrid Language: Both Interpreted and compiled\n",
    "<ul>\n",
    "    <li> Reads one statement of the pm at a time </li>\n",
    "    <li> Checks it whether correct or erroneous, and creates IL-a bytecode </li>\n",
    "    <li> HLL (compiler) -- bytecode (interpreter) -- MC </li>\n",
    "    <li> Python is both compiled and interpreted language</li>\n",
    "    <li> The compiler come into the pciture when you want to convert C code to ML </li>  \n",
    "    <li> .py source -- compiler -- Bytecode -- Interpreter (PVM) -- ML</li>\n",
    "    <li> PVM addresses the cross-platform issue </li> \n",
    "    <li> Interpreted means you have a set of instructions and your interpreter will read line by line </li> \n",
    "    <li> The concept of bytecode is used to achieve portability or cross-platform compatibility </li>\n",
    "    <li> BC is platform independent, created automatically when you run the .py file </li> \n",
    "    <li> In java compile alem.java and demo alem to create bytecode </li> \n",
    "    <li> Compilation: decoding|tokenizing|parsing|AST|COmpiling (FE vs BE) </li> \n",
    "    <li> Decode: Bytes to text </li> \n",
    "    <li> Tokenize: Text to words ./python -m tokenize -e </li>\n",
    "    <li> Parsing: words to sentence structure </li>\n",
    "    <li> AST (Abstract Syntax Tree): sentence structure to semantics </li> \n",
    "</ul>"
   ]
  },
  {
   "cell_type": "markdown",
   "metadata": {},
   "source": [
    "<div class=\"alert alert-block alert-warning\">"
   ]
  },
  {
   "cell_type": "markdown",
   "metadata": {},
   "source": [
    "## 1.4 Keywords and Identifier\n",
    "Keywords are the reserved words in Python. We cannot use a keyword as a variable name, function name or any other identifier. They are used to define the syntax and structure of the Python language.\n",
    "\n",
    "There are 35 keywords in Python 3.7.4. This number can vary slightly in the course of time. All the keywords except True, False and None are in lowercase and they must be written as it is. The list of all the keywords is given below."
   ]
  },
  {
   "cell_type": "code",
   "execution_count": 49,
   "metadata": {},
   "outputs": [
    {
     "name": "stdout",
     "output_type": "stream",
     "text": [
      "There are 35 keywords in Python 3.7.4\n",
      "\n",
      "['False', 'None', 'True', 'and', 'as', 'assert', 'async', 'await', 'break', 'class', 'continue', 'def', 'del', 'elif', 'else', 'except', 'finally', 'for', 'from', 'global', 'if', 'import', 'in', 'is', 'lambda', 'nonlocal', 'not', 'or', 'pass', 'raise', 'return', 'try', 'while', 'with', 'yield']\n"
     ]
    }
   ],
   "source": [
    "import keyword\n",
    "from platform import python_version\n",
    "\n",
    "print(f\"There are {len(keyword.kwlist)} keywords in Python {python_version()}\")\n",
    "print()\n",
    "print(keyword.kwlist)"
   ]
  },
  {
   "cell_type": "markdown",
   "metadata": {},
   "source": [
    "<div class=\"alert alert-block alert-warning\">"
   ]
  },
  {
   "cell_type": "markdown",
   "metadata": {},
   "source": [
    "## 1.5 Python Identifiers and Rules for writing identifiers\n",
    "An identifier is a name given to entities like class, functions, variables, etc. It helps to differentiate one entity from another.\n",
    "\n",
    "### Rules for writing identifiers\n",
    "<ul>\n",
    "    <li>Identifiers can be a combination of letters in lowercase (a to z) or uppercase (A to Z) or digits (0 to 9) or an underscore _. Names like myClass, var_1 and print_this_to_screen, all are valid example.</li>\n",
    "    <li>An identifier cannot start with a digit. 1variable is invalid, but variable1 is perfectly fine.</li>\n",
    "    <li>Keywords cannot be used as identifiers</li>\n",
    "    <li>We cannot use special symbols like punctuations, at, hash/ladder, dollar sign,percent, etc. in our identifier. </li>\n",
    "    <li>Identifier can be of any length.</li>\n",
    "</ul>\n",
    "\n",
    "### Things to Remember\n",
    "- Python is a case-sensitive language. This means, Variable and variable are not the same. Always name identifiers that make sense.\n",
    "- While, c = 10 is valid. Writing count = 10 would make more sense and it would be easier to figure out what it does even when you look at your code after a long gap.\n",
    "- Multiple words can be separated using an underscore, this_is_a_long_variable."
   ]
  },
  {
   "cell_type": "markdown",
   "metadata": {},
   "source": [
    "<div class=\"alert alert-block alert-warning\">"
   ]
  },
  {
   "cell_type": "markdown",
   "metadata": {},
   "source": [
    "##  1.6 Statements & Comments\n",
    "#### Python Statement\n",
    "Instructions that a Python interpreter can execute are called statements. For example, a = 1 is an assignment statement. if statement, for statement, while statement etc. are other kinds of statements which will be discussed later.\n",
    "\n",
    "#### Multi-line statement\n",
    "In Python, end of a statement is marked by a newline character. But we can make a statement extend over multiple lines with the ***line continuation character (\\\\)***. For example:"
   ]
  },
  {
   "cell_type": "code",
   "execution_count": 11,
   "metadata": {},
   "outputs": [
    {
     "data": {
      "text/plain": [
       "45"
      ]
     },
     "execution_count": 11,
     "metadata": {},
     "output_type": "execute_result"
    }
   ],
   "source": [
    "# \\ line continuation character\n",
    "a = 1 + 2 + 3 + \\\n",
    "    4 + 5 + 6 + \\\n",
    "    7 + 8 + 9\n",
    "a"
   ]
  },
  {
   "cell_type": "markdown",
   "metadata": {},
   "source": [
    "This is explicit line continuation. In Python, line continuation is implied inside parentheses ( ), brackets [ ] and braces { }. For instance, we can implement the above multi-line statement as"
   ]
  },
  {
   "cell_type": "code",
   "execution_count": 51,
   "metadata": {},
   "outputs": [
    {
     "data": {
      "text/plain": [
       "45"
      ]
     },
     "execution_count": 51,
     "metadata": {},
     "output_type": "execute_result"
    }
   ],
   "source": [
    "a = (1 + 2 + 3 +\n",
    "    4 + 5 + 6 +\n",
    "    7 + 8 + 9)\n",
    "a"
   ]
  },
  {
   "cell_type": "markdown",
   "metadata": {},
   "source": [
    "Here, the surrounding parentheses ( ) do the line continuation implicitly. Same is the case with [ ] and { }. For example:"
   ]
  },
  {
   "cell_type": "code",
   "execution_count": 52,
   "metadata": {},
   "outputs": [
    {
     "data": {
      "text/plain": [
       "['red', 'blue', 'green']"
      ]
     },
     "execution_count": 52,
     "metadata": {},
     "output_type": "execute_result"
    }
   ],
   "source": [
    "colors = ['red',\n",
    "          'blue',\n",
    "          'green']\n",
    "colors"
   ]
  },
  {
   "cell_type": "markdown",
   "metadata": {},
   "source": [
    "We could also put multiple statements in a single line using semicolons, as follows"
   ]
  },
  {
   "cell_type": "code",
   "execution_count": 53,
   "metadata": {},
   "outputs": [],
   "source": [
    "a = 1; b = 2; c = 3"
   ]
  },
  {
   "cell_type": "markdown",
   "metadata": {},
   "source": [
    "#### Python Indentation\n",
    "- Most of the programming languages like C, C++, Java use braces { } to define a block of code. Python uses indentation.\n",
    "- The enforcement of indentation in Python makes the code look neat and clean. This results into Python programs that look similar and consistent."
   ]
  },
  {
   "cell_type": "code",
   "execution_count": 54,
   "metadata": {},
   "outputs": [
    {
     "name": "stdout",
     "output_type": "stream",
     "text": [
      "1\n",
      "2\n"
     ]
    }
   ],
   "source": [
    "for i in range(1,4):\n",
    "    print(i)\n",
    "    if i == 2:\n",
    "        break"
   ]
  },
  {
   "cell_type": "markdown",
   "metadata": {},
   "source": [
    "Indentation can be ignored in line continuation. But it's a good idea to always indent. It makes the code more readable."
   ]
  },
  {
   "cell_type": "code",
   "execution_count": 55,
   "metadata": {},
   "outputs": [
    {
     "name": "stdout",
     "output_type": "stream",
     "text": [
      "Hello\n",
      "Hello\n"
     ]
    }
   ],
   "source": [
    "if True:\n",
    "    print('Hello')\n",
    "    a = 5\n",
    "    \n",
    "if True: print('Hello'); a = 5"
   ]
  },
  {
   "cell_type": "markdown",
   "metadata": {},
   "source": [
    "### Multiple Statements on a Single Line\n",
    "- separate each statement with a semicolon."
   ]
  },
  {
   "cell_type": "code",
   "execution_count": 13,
   "metadata": {},
   "outputs": [
    {
     "name": "stdout",
     "output_type": "stream",
     "text": [
      "foo alem\n"
     ]
    }
   ],
   "source": [
    "import sys; x = 'foo'; sys.stdout.write(x + ' alem'+'\\n')"
   ]
  },
  {
   "cell_type": "markdown",
   "metadata": {},
   "source": [
    "### Quotation in Python"
   ]
  },
  {
   "cell_type": "code",
   "execution_count": 57,
   "metadata": {},
   "outputs": [],
   "source": [
    "word = 'word'\n",
    "sentence = \"This is a sentence.\"\n",
    "paragraph = \"\"\"This is a paragraph. It is\n",
    "made up of multiple lines and sentences.\"\"\""
   ]
  },
  {
   "cell_type": "code",
   "execution_count": 58,
   "metadata": {},
   "outputs": [
    {
     "name": "stdout",
     "output_type": "stream",
     "text": [
      "Strings in two lines\n"
     ]
    }
   ],
   "source": [
    "print(\"Strings in two\"+\n",
    "     \" lines\")"
   ]
  },
  {
   "cell_type": "markdown",
   "metadata": {},
   "source": [
    "### Python Comments\n",
    "- Comments are very important while writing a program. It describes what's going on inside a program so that a person looking at the source code does not have a hard time figuring it out. You might forget the key details of the program you just wrote in a month's time. So taking time to explain these concepts in form of comments is always fruitful.\n",
    "- In Python, we use the hash (#) symbol to start writing a comment.\n",
    "- It extends up to the newline character. Comments are for programmers for better understanding of a program. Python Interpreter ignores comment. "
   ]
  },
  {
   "cell_type": "code",
   "execution_count": 59,
   "metadata": {},
   "outputs": [
    {
     "name": "stdout",
     "output_type": "stream",
     "text": [
      "Hello\n"
     ]
    }
   ],
   "source": [
    "#This is a comment\n",
    "#print out Hello\n",
    "print('Hello')"
   ]
  },
  {
   "cell_type": "markdown",
   "metadata": {},
   "source": [
    "### Multi-line comments\n",
    "If we have comments that extend multiple lines, one way of doing it is to use hash (#) in the beginning of each line. Another way is to use a pair of ''' or \"\"\"."
   ]
  },
  {
   "cell_type": "code",
   "execution_count": 60,
   "metadata": {},
   "outputs": [
    {
     "data": {
      "text/plain": [
       "'This is also a\\nperfect example of\\nmulti-line comments'"
      ]
     },
     "execution_count": 60,
     "metadata": {},
     "output_type": "execute_result"
    }
   ],
   "source": [
    "#This is a long comment\n",
    "#and it extends\n",
    "#to multiple lines\n",
    "\n",
    "\"\"\"This is also a\n",
    "perfect example of\n",
    "multi-line comments\"\"\""
   ]
  },
  {
   "cell_type": "markdown",
   "metadata": {},
   "source": [
    "### Docstring in Python\n",
    "Docstring is short for documentation string. It is a string that occurs as the first statement in a module, function, class, or method definition. We must write what a function/class does in the docstring.\n",
    "Triple quotes are used while writing docstrings."
   ]
  },
  {
   "cell_type": "code",
   "execution_count": 61,
   "metadata": {},
   "outputs": [],
   "source": [
    "def double(num):\n",
    "    \"\"\"Function to double the value\"\"\"\n",
    "    return 2*num"
   ]
  },
  {
   "cell_type": "code",
   "execution_count": 62,
   "metadata": {},
   "outputs": [
    {
     "name": "stdout",
     "output_type": "stream",
     "text": [
      "Function to double the value\n"
     ]
    }
   ],
   "source": [
    "print(double.__doc__)"
   ]
  },
  {
   "cell_type": "code",
   "execution_count": 63,
   "metadata": {},
   "outputs": [
    {
     "name": "stdout",
     "output_type": "stream",
     "text": [
      "This module provides access to the mathematical functions\n",
      "defined by the C standard.\n"
     ]
    }
   ],
   "source": [
    "import math\n",
    "print(math.__doc__)"
   ]
  },
  {
   "cell_type": "markdown",
   "metadata": {},
   "source": [
    "<div class=\"alert alert-block alert-warning\">"
   ]
  },
  {
   "cell_type": "markdown",
   "metadata": {},
   "source": [
    "## 1.7 Python I/O and Import\n",
    "\n",
    "Python provides numerous built-in functions that are readily available to us at the Python prompt.\n",
    "\n",
    "Some of the functions like input() and print() are widely used for standard input and output operations respectively. Let us see the output section first.\n",
    "\n",
    "#### Python Output Using print() function\n",
    "We use the print() function to output data to the standard output device (screen). We can also output data to a file, but this will be discussed later. An example use is given below."
   ]
  },
  {
   "cell_type": "code",
   "execution_count": null,
   "metadata": {},
   "outputs": [],
   "source": [
    "print('This sentence is output to the screen')\n",
    "# Output: This sentence is output to the screen\n",
    "a = 5\n",
    "print('The value of a is', a)\n",
    "# Output: The value of a is 5"
   ]
  },
  {
   "cell_type": "markdown",
   "metadata": {},
   "source": [
    "The actual syntax of the **print()** function is\n",
    "   - print(*objects, sep=' ', end='\\n', file=sys.stdout, flush=False)\n",
    "   - Here, objects is the value(s) to be printed.\n",
    "   - The sep separator is used between the values. It defaults into a space character.\n",
    "   - After all values are printed, end is printed. It defaults into a new line.\n",
    "   - The file is the object where the values are printed and its default value is sys.stdout (screen). Here are examples to illustrate this.\n",
    "   - The way in which we are passing the arguments into the print() function is the most common in Python, and is called the **positional way** (this name comes from the fact that the meaning of the argument is dictated by its position, e.g., the second argument will be outputted after the first, not the other way round).\n",
    "   - The mechanism is called keyword arguments. The name stems from the fact that the meaning of these arguments is taken not from its location (position) but from the special word (keyword) used to identify them.\n",
    "   - The print() function has two keyword arguments that you can use for your purposes. The first of them is named end.\n",
    "        - a keyword argument consists of three elements: a keyword identifying the argument (end here); an equal sign (=); and a value assigned to that argument;\n",
    "        - any keyword arguments have to be put after the last positional argument (this is very important)\n",
    "   - The default behavior reflects the situation where the end keyword argument is implicitly used in the following way: \n",
    "        - end=\"\\n\"\n",
    "   - We’ve said previously that the print() function separates its outputted arguments with spaces like default sep=' '. This behavior can be changed, too.\n",
    "        - The keyword argument that can do this is named sep (like separator)."
   ]
  },
  {
   "cell_type": "code",
   "execution_count": 5,
   "metadata": {},
   "outputs": [
    {
     "name": "stdout",
     "output_type": "stream",
     "text": [
      "1 2 3 4\n"
     ]
    }
   ],
   "source": [
    "print(1,2,3,4)\n",
    "# Output: 1 2 3 4"
   ]
  },
  {
   "cell_type": "code",
   "execution_count": 6,
   "metadata": {},
   "outputs": [
    {
     "name": "stdout",
     "output_type": "stream",
     "text": [
      "My-name-is-Monty-Python\n"
     ]
    }
   ],
   "source": [
    "print('My', 'name','is','Monty', 'Python',sep='-')\n",
    "#The print() function uses a dash, instead of a space, \n",
    "  #to separate the outputted arguments."
   ]
  },
  {
   "cell_type": "code",
   "execution_count": 7,
   "metadata": {},
   "outputs": [
    {
     "name": "stdout",
     "output_type": "stream",
     "text": [
      "My+name+is+Monty+Python*My-name-is-Monty-Python***\n",
      "My_name_is_Monty_Python**"
     ]
    }
   ],
   "source": [
    "print('My', 'name','is','Monty', 'Python',sep='+', end='*')\n",
    "print('My', 'name','is','Monty', 'Python',sep='-',end='***\\n')\n",
    "print('My', 'name','is','Monty', 'Python',sep='_', end='**')"
   ]
  },
  {
   "cell_type": "markdown",
   "metadata": {},
   "source": [
    "- sep works only between arguments"
   ]
  },
  {
   "cell_type": "code",
   "execution_count": 14,
   "metadata": {},
   "outputs": [
    {
     "name": "stdout",
     "output_type": "stream",
     "text": [
      "['My', 'name', 'is', 'Monty', 'Python']*"
     ]
    }
   ],
   "source": [
    "lst = ['My', 'name','is','Monty', 'Python']\n",
    "print(lst,sep='+', end='*')"
   ]
  },
  {
   "cell_type": "code",
   "execution_count": 15,
   "metadata": {},
   "outputs": [
    {
     "name": "stdout",
     "output_type": "stream",
     "text": [
      "My+name+is+Monty+Python*"
     ]
    }
   ],
   "source": [
    "print(lst[0],lst[1],lst[2],lst[3],lst[4],sep='+', end='*')"
   ]
  },
  {
   "cell_type": "code",
   "execution_count": 17,
   "metadata": {},
   "outputs": [
    {
     "data": {
      "text/plain": [
       "'My+name+is+Monty+Python*'"
      ]
     },
     "execution_count": 17,
     "metadata": {},
     "output_type": "execute_result"
    }
   ],
   "source": [
    "'+'.join(lst)+'*'"
   ]
  },
  {
   "cell_type": "code",
   "execution_count": 10,
   "metadata": {},
   "outputs": [
    {
     "name": "stdout",
     "output_type": "stream",
     "text": [
      "1*2*3*4\n"
     ]
    }
   ],
   "source": [
    "print(1,2,3,4,sep='*')\n",
    "# Output: 1*2*3*4"
   ]
  },
  {
   "cell_type": "code",
   "execution_count": 11,
   "metadata": {},
   "outputs": [
    {
     "name": "stdout",
     "output_type": "stream",
     "text": [
      "1#2#3#4&"
     ]
    }
   ],
   "source": [
    "print(1,2,3,4,sep='#',end='&')\n",
    "# Output: 1#2#3#4&"
   ]
  },
  {
   "cell_type": "code",
   "execution_count": 12,
   "metadata": {},
   "outputs": [
    {
     "name": "stdout",
     "output_type": "stream",
     "text": [
      "\n",
      "*[1, 2, 3, 4, 5, 6]!"
     ]
    }
   ],
   "source": [
    "lst=[1,2,3,4,5,6]\n",
    "print(\"\\n\",lst,sep='*',end='!')"
   ]
  },
  {
   "cell_type": "code",
   "execution_count": 13,
   "metadata": {},
   "outputs": [
    {
     "name": "stdout",
     "output_type": "stream",
     "text": [
      "\n",
      " 1*2*3*4*5*6\n"
     ]
    }
   ],
   "source": [
    "print(\"\\n\",'*'.join(map(str,lst)))"
   ]
  },
  {
   "cell_type": "markdown",
   "metadata": {},
   "source": [
    "#### More Examples of sep and end"
   ]
  },
  {
   "cell_type": "code",
   "execution_count": 14,
   "metadata": {},
   "outputs": [
    {
     "name": "stdout",
     "output_type": "stream",
     "text": [
      "G F G\n",
      "09 12 2016\n",
      "pratik geeksforgeeks\n"
     ]
    }
   ],
   "source": [
    "# Default--places softspace\n",
    "print('G','F','G')\n",
    "print('09','12','2016') \n",
    "print('pratik','geeksforgeeks')"
   ]
  },
  {
   "cell_type": "code",
   "execution_count": 15,
   "metadata": {},
   "outputs": [
    {
     "name": "stdout",
     "output_type": "stream",
     "text": [
      "GFG\n",
      "09-12-2016\n",
      "pratik@geeksforgeeks\n"
     ]
    }
   ],
   "source": [
    "#code for disabling the softspace feature \n",
    "print('G','F','G', sep='') \n",
    "#for formatting a date \n",
    "print('09','12','2016', sep='-') \n",
    "#another example \n",
    "print('pratik','geeksforgeeks', sep='@') "
   ]
  },
  {
   "cell_type": "code",
   "execution_count": 16,
   "metadata": {},
   "outputs": [
    {
     "name": "stdout",
     "output_type": "stream",
     "text": [
      "GFG\n",
      "09-12-2016\n",
      "prtkagarwal@geeksforgeeks\n"
     ]
    }
   ],
   "source": [
    "# End suppresses newline and replace it with another char\n",
    "print('G','F', sep='', end='') \n",
    "print('G') \n",
    "#\\n provides new line after printing the year \n",
    "print('09','12', sep='-', end='-2016\\n') \n",
    "\n",
    "print('prtk','agarwal', sep='', end='@') \n",
    "print('geeksforgeeks') \n"
   ]
  },
  {
   "cell_type": "code",
   "execution_count": 17,
   "metadata": {},
   "outputs": [
    {
     "name": "stdout",
     "output_type": "stream",
     "text": [
      "1 2 3 4 "
     ]
    }
   ],
   "source": [
    "#end supress newline and replaces it with softspace\n",
    "n=0\n",
    "while n<4:\n",
    "    n+=1\n",
    "    print(n,end=' ')     "
   ]
  },
  {
   "cell_type": "code",
   "execution_count": 18,
   "metadata": {},
   "outputs": [
    {
     "name": "stdout",
     "output_type": "stream",
     "text": [
      "1\n",
      "2\n",
      "3\n",
      "4\n"
     ]
    }
   ],
   "source": [
    "#sep doesn't work the way end works\n",
    "n=0\n",
    "while n<4:\n",
    "    n+=1\n",
    "    print(n,sep=' ') #no effect "
   ]
  },
  {
   "cell_type": "code",
   "execution_count": 21,
   "metadata": {},
   "outputs": [
    {
     "name": "stdout",
     "output_type": "stream",
     "text": [
      "1\n",
      "2\n",
      "3\n",
      "4\n"
     ]
    }
   ],
   "source": [
    "n=0\n",
    "while n<4:\n",
    "    n+=1\n",
    "    print(n) "
   ]
  },
  {
   "cell_type": "code",
   "execution_count": 22,
   "metadata": {},
   "outputs": [
    {
     "name": "stdout",
     "output_type": "stream",
     "text": [
      "*\n",
      "*\n"
     ]
    }
   ],
   "source": [
    "for i in range(1,4,2):\n",
    "    print(\"*\")    "
   ]
  },
  {
   "cell_type": "code",
   "execution_count": 23,
   "metadata": {},
   "outputs": [
    {
     "name": "stdout",
     "output_type": "stream",
     "text": [
      "**"
     ]
    }
   ],
   "source": [
    "for i in range(1,4,2):\n",
    "    print(\"*\",end='')"
   ]
  },
  {
   "cell_type": "code",
   "execution_count": 24,
   "metadata": {},
   "outputs": [
    {
     "name": "stdout",
     "output_type": "stream",
     "text": [
      "******"
     ]
    }
   ],
   "source": [
    "for i in range(1,4,2):\n",
    "    print(\"*\",end='**')"
   ]
  },
  {
   "cell_type": "code",
   "execution_count": 25,
   "metadata": {},
   "outputs": [
    {
     "name": "stdout",
     "output_type": "stream",
     "text": [
      "******%%%\n"
     ]
    }
   ],
   "source": [
    "for i in range(1,4,2):\n",
    "    print(\"*\",end='**')\n",
    "print(\"%%%\")"
   ]
  },
  {
   "cell_type": "code",
   "execution_count": 26,
   "metadata": {},
   "outputs": [
    {
     "name": "stdout",
     "output_type": "stream",
     "text": [
      "******%%%\n",
      "&&&\n"
     ]
    }
   ],
   "source": [
    "for i in range(1,4,2):\n",
    "    print(\"*\",end='**')\n",
    "print(\"%%%\")\n",
    "print(\"&&&\")"
   ]
  },
  {
   "cell_type": "markdown",
   "metadata": {},
   "source": [
    "### Output formatting\n",
    "Sometimes we would like to format our output to make it look attractive. This can be done by using the str.format() method. This method is visible to any string object."
   ]
  },
  {
   "cell_type": "code",
   "execution_count": 27,
   "metadata": {},
   "outputs": [
    {
     "name": "stdout",
     "output_type": "stream",
     "text": [
      "The value of x is 5 and y is 10\n"
     ]
    }
   ],
   "source": [
    "x = 5; y = 10\n",
    "print('The value of x is {} and y is {}'.format(x,y))"
   ]
  },
  {
   "cell_type": "markdown",
   "metadata": {},
   "source": [
    "Here the curly braces {} are used as placeholders. We can specify the order in which it is printed by using numbers (tuple index)."
   ]
  },
  {
   "cell_type": "code",
   "execution_count": 28,
   "metadata": {},
   "outputs": [
    {
     "name": "stdout",
     "output_type": "stream",
     "text": [
      "I love bread and butter\n",
      "I love butter and bread\n"
     ]
    }
   ],
   "source": [
    "print('I love {0} and {1}'.format('bread','butter'))\n",
    "# Output: I love bread and butter\n",
    "\n",
    "print('I love {1} and {0}'.format('bread','butter'))\n",
    "# Output: I love butter and bread"
   ]
  },
  {
   "cell_type": "markdown",
   "metadata": {},
   "source": [
    "We can even use keyword arguments to format the string."
   ]
  },
  {
   "cell_type": "code",
   "execution_count": 29,
   "metadata": {},
   "outputs": [
    {
     "name": "stdout",
     "output_type": "stream",
     "text": [
      "Hello John, Goodmorning\n"
     ]
    }
   ],
   "source": [
    "print('Hello {name}, {greeting}'.format(\n",
    "    greeting = 'Goodmorning', name = 'John'))"
   ]
  },
  {
   "cell_type": "markdown",
   "metadata": {},
   "source": [
    "We can even format strings like the old sprintf() style used in C programming language. We use the % operator to accomplish this."
   ]
  },
  {
   "cell_type": "code",
   "execution_count": 18,
   "metadata": {},
   "outputs": [
    {
     "name": "stdout",
     "output_type": "stream",
     "text": [
      "The value of x is 12.35\n",
      "The value of x is 12.3457\n"
     ]
    }
   ],
   "source": [
    "x = 12.3456789\n",
    "print('The value of x is %3.2f' %x)\n",
    "print('The value of x is %6.4f' %x)"
   ]
  },
  {
   "cell_type": "markdown",
   "metadata": {},
   "source": [
    "### Python Input\n",
    "- Up till now, our programs were static. The value of variables were defined or hard coded into the source code.\n",
    "- To allow flexibility we might want to take the input from the user. In Python, we have the input() function to allow this. The syntax for input() is input([prompt])\n",
    "- where prompt is the string we wish to display on the screen. It is optional.\n",
    "\n",
    "- Used for inputing values from a keyboard\n",
    "- the result of the input() function is a string.\n",
    "- The print() function sends data to the console, while the input() function gets data from the console."
   ]
  },
  {
   "cell_type": "code",
   "execution_count": 31,
   "metadata": {},
   "outputs": [
    {
     "name": "stdout",
     "output_type": "stream",
     "text": [
      "Enter a number: 7\n"
     ]
    },
    {
     "data": {
      "text/plain": [
       "'7'"
      ]
     },
     "execution_count": 31,
     "metadata": {},
     "output_type": "execute_result"
    }
   ],
   "source": [
    "num = input('Enter a number: ')\n",
    "num"
   ]
  },
  {
   "cell_type": "code",
   "execution_count": 32,
   "metadata": {},
   "outputs": [
    {
     "name": "stdout",
     "output_type": "stream",
     "text": [
      "Enter a number: 8\n"
     ]
    },
    {
     "data": {
      "text/plain": [
       "8"
      ]
     },
     "execution_count": 32,
     "metadata": {},
     "output_type": "execute_result"
    }
   ],
   "source": [
    "num = int(input('Enter a number: '))\n",
    "num"
   ]
  },
  {
   "cell_type": "code",
   "execution_count": 33,
   "metadata": {},
   "outputs": [
    {
     "name": "stdout",
     "output_type": "stream",
     "text": [
      "Enter a number: 9\n"
     ]
    },
    {
     "data": {
      "text/plain": [
       "9.0"
      ]
     },
     "execution_count": 33,
     "metadata": {},
     "output_type": "execute_result"
    }
   ],
   "source": [
    "num = float(input('Enter a number: '))\n",
    "num"
   ]
  },
  {
   "cell_type": "code",
   "execution_count": 34,
   "metadata": {},
   "outputs": [
    {
     "name": "stdout",
     "output_type": "stream",
     "text": [
      "Enter a number: 0\n"
     ]
    },
    {
     "data": {
      "text/plain": [
       "0"
      ]
     },
     "execution_count": 34,
     "metadata": {},
     "output_type": "execute_result"
    }
   ],
   "source": [
    "num=eval(input('Enter a number: '))\n",
    "num"
   ]
  },
  {
   "cell_type": "code",
   "execution_count": 35,
   "metadata": {},
   "outputs": [
    {
     "data": {
      "text/plain": [
       "11"
      ]
     },
     "execution_count": 35,
     "metadata": {},
     "output_type": "execute_result"
    }
   ],
   "source": [
    "eval(\"5+6\") # but int('2+3') is not possible"
   ]
  },
  {
   "cell_type": "code",
   "execution_count": 19,
   "metadata": {},
   "outputs": [
    {
     "name": "stdout",
     "output_type": "stream",
     "text": [
      "3,5,6,8,9,0\n"
     ]
    },
    {
     "data": {
      "text/plain": [
       "['3', '5', '6', '8', '9', '0']"
      ]
     },
     "execution_count": 19,
     "metadata": {},
     "output_type": "execute_result"
    }
   ],
   "source": [
    "lst=input().split(',')\n",
    "lst"
   ]
  },
  {
   "cell_type": "code",
   "execution_count": 39,
   "metadata": {},
   "outputs": [
    {
     "data": {
      "text/plain": [
       "[6, 7, 8, 9]"
      ]
     },
     "execution_count": 39,
     "metadata": {},
     "output_type": "execute_result"
    }
   ],
   "source": [
    "list(map(int,lst))"
   ]
  },
  {
   "cell_type": "markdown",
   "metadata": {},
   "source": [
    "### Python Import\n",
    "- When our program grows bigger, it is a good idea to break it into different modules. A module is a file containing Python definitions and statements. Python modules have a filename and end with the extension .py.\n",
    "\n",
    "- Definitions inside a module can be imported to another module or the interactive interpreter in Python. We use the import keyword to do this. For example, we can import the math module by typing in import math."
   ]
  },
  {
   "cell_type": "code",
   "execution_count": 40,
   "metadata": {},
   "outputs": [
    {
     "name": "stdout",
     "output_type": "stream",
     "text": [
      "3.141592653589793\n"
     ]
    }
   ],
   "source": [
    "import math\n",
    "print(math.pi)"
   ]
  },
  {
   "cell_type": "markdown",
   "metadata": {},
   "source": [
    "Now all the definitions inside math module are available in our scope. We can also import some specific attributes and functions only, using the from keyword. For example:"
   ]
  },
  {
   "cell_type": "code",
   "execution_count": 41,
   "metadata": {},
   "outputs": [
    {
     "data": {
      "text/plain": [
       "3.141592653589793"
      ]
     },
     "execution_count": 41,
     "metadata": {},
     "output_type": "execute_result"
    }
   ],
   "source": [
    "from math import pi\n",
    "pi"
   ]
  },
  {
   "cell_type": "markdown",
   "metadata": {},
   "source": [
    "While importing a module, Python looks at several places defined in sys.path. It is a list of directory locations."
   ]
  },
  {
   "cell_type": "code",
   "execution_count": 20,
   "metadata": {},
   "outputs": [
    {
     "data": {
      "text/plain": [
       "['/home/alem/0_Alem/alemprojects/FinalNotes/1.1_Python',\n",
       " '/home/alem/anaconda3/lib/python37.zip',\n",
       " '/home/alem/anaconda3/lib/python3.7',\n",
       " '/home/alem/anaconda3/lib/python3.7/lib-dynload',\n",
       " '',\n",
       " '/home/alem/.local/lib/python3.7/site-packages',\n",
       " '/home/alem/anaconda3/lib/python3.7/site-packages',\n",
       " '/home/alem/anaconda3/lib/python3.7/site-packages/IPython/extensions',\n",
       " '/home/alem/.ipython']"
      ]
     },
     "execution_count": 20,
     "metadata": {},
     "output_type": "execute_result"
    }
   ],
   "source": [
    "import sys\n",
    "sys.path"
   ]
  },
  {
   "cell_type": "markdown",
   "metadata": {},
   "source": [
    "We can add our own location to this list as well."
   ]
  },
  {
   "cell_type": "markdown",
   "metadata": {},
   "source": [
    "### Examples of Libraries and Packages"
   ]
  },
  {
   "cell_type": "code",
   "execution_count": 65,
   "metadata": {},
   "outputs": [],
   "source": [
    "#****************************************************\n",
    "# Packages\n",
    "#****************************************************\n",
    "#Files, I/O, regular expressions and OS\n",
    "import os\n",
    "import io\n",
    "import shutil\n",
    "import glob\n",
    "import sys\n",
    "import re\n",
    "#*************************************\n",
    "# Data Structures\n",
    "import numpy as np\n",
    "import pandas as pd\n",
    "#*************************************\n",
    "# Database\n",
    "import sqlite3\n",
    "from sqlalchemy import create_engine\n",
    "import base64\n",
    "#*************************************\n",
    "# Time and Dates\n",
    "import time\n",
    "from datetime import datetime as dtt\n",
    "from datetime import date,timedelta\n",
    "#*************************************\n",
    "# Dash and Dash Components\n",
    "import dash\n",
    "import dash_core_components as dcc\n",
    "import dash_html_components as html\n",
    "import plotly.graph_objs as go\n",
    "from plotly.subplots import make_subplots\n",
    "from dash.dependencies import Input, Output, State\n",
    "import dash_table as dt\n",
    "import dash_daq as daq\n",
    "import dash_auth\n",
    "#*************************************\n",
    "# Networking\n",
    "import socket\n",
    "import uuid\n",
    "#*************************************\n",
    "# Otherss\n",
    "import random # random.shuffle Fisher-Yates Algorithm\n",
    "import warnings\n",
    "warnings.simplefilter(\"ignore\")\n",
    "import platform\n",
    "import flask\n",
    "import urllib\n",
    "from math import ceil, floor, pi, sin, cos, tan, e\n",
    "from IPython.display import Image\n",
    "#********************************************************"
   ]
  },
  {
   "cell_type": "code",
   "execution_count": 66,
   "metadata": {},
   "outputs": [
    {
     "data": {
      "text/plain": [
       "['2021-July-30 23:28:53']"
      ]
     },
     "execution_count": 66,
     "metadata": {},
     "output_type": "execute_result"
    }
   ],
   "source": [
    "# Date and time of today\n",
    "dtdate = [dtt.now().strftime(\"%Y-%B-%d %H:%M:%S\")]\n",
    "dtdate"
   ]
  },
  {
   "cell_type": "markdown",
   "metadata": {},
   "source": [
    "<div class=\"alert alert-block alert-warning\">"
   ]
  },
  {
   "cell_type": "markdown",
   "metadata": {},
   "source": [
    "## 1.8 Summary: why python?"
   ]
  },
  {
   "cell_type": "markdown",
   "metadata": {},
   "source": [
    "<ul>\n",
    "        <li>Open source (No need of license, it is free)</li>\n",
    "        <li>It has syntax as simple as English coding</li>\n",
    "        <li>It has very large collaborative developer community</li>\n",
    "        <li>It has helpful and powerful modules like pandas and scickitlearn</li>\n",
    "        \n",
    "</ul>"
   ]
  },
  {
   "cell_type": "markdown",
   "metadata": {},
   "source": [
    "***C syntax for printing hello world message***\n",
    "\n",
    "\\# include<stdio.h>\n",
    "\n",
    "int main(int argc, char ** argv)\n",
    "\n",
    "{\n",
    "\n",
    "    printf(\"Hellow Wordl\\n\");\n",
    "    \n",
    "}"
   ]
  },
  {
   "cell_type": "markdown",
   "metadata": {},
   "source": [
    "***Java syntax for printing hello world message***\n",
    "\n",
    "public class Hello\n",
    "\n",
    "public static void main(String argv[])\n",
    "\n",
    "{\n",
    "\n",
    "    System.out.println(\"Hellow Wordl\\n\");\n",
    "    \n",
    "}"
   ]
  },
  {
   "cell_type": "markdown",
   "metadata": {},
   "source": [
    "***Python syntax for printing hello world message***"
   ]
  },
  {
   "cell_type": "code",
   "execution_count": 45,
   "metadata": {},
   "outputs": [
    {
     "name": "stdout",
     "output_type": "stream",
     "text": [
      "Hello World\n"
     ]
    }
   ],
   "source": [
    "print(\"Hello World\") # simplest of all"
   ]
  },
  {
   "cell_type": "code",
   "execution_count": 46,
   "metadata": {},
   "outputs": [
    {
     "name": "stdout",
     "output_type": "stream",
     "text": [
      "I am from Adigrat, Tigrai\n"
     ]
    }
   ],
   "source": [
    "str1='Tigrai'\n",
    "str2='Adigrat'\n",
    "print(f\"I am from {str2}, {str1}\")"
   ]
  },
  {
   "cell_type": "markdown",
   "metadata": {},
   "source": [
    "## <font color ='red'>Summary</font>\n",
    "<ul>\n",
    "        <li>It has a larger user and active developer community</li>\n",
    "        <li>It is an open source</li>\n",
    "        <li>It is similar to coding in English</li>\n",
    "        <li> Installation: www.anaconda.org</li>        \n",
    "</ul>\n",
    "\n",
    "Data types are the classification or categorization of data items. Data types represent a kind of value which determines what operations can be performed on that data. Numeric, non-numeric and Boolean (true/false) data are the most used data types. However, each programming language has its own classification largely reflecting its programming philosophy. Refer to https://www.tutorialsteacher.com/python/python-data-types\n",
    "\n",
    "<b><font color='red'>Python has the following standard or built-in data types:</font></b> \n",
    "<ul>\n",
    "    <li><font color='blue'>Numeric:</font> a numeric value. Python identifies 3 types of numbers: int, float, & complex</li>\n",
    "    <li><font color='blue'>Boolean:</font> logical data with two built-in values: True or False</li>\n",
    "    <li><font color='blue'>Sequence Type:</font> a sequence is an ordered collection of similar or different data types. Python has 3 built-in sequence data types: string, list, and tuple. set is unordered list</li>    \n",
    "    <li><font color='blue'>Dictionary:</font> an unordered collection of data in a key:value pair form</li> \n",
    "    <li><font color='blue'>None:</font> No value</li> \n",
    "</ul>\n",
    "\n",
    "- Many companies still have legacy python2 code to be maintained\n",
    "- Python2 is scheduled not to receive security updates after 2020 (update stops by 2020)\n",
    "- There are more than 300 external python packages \n",
    "- Now every major external python package has been updated to support py3 (99% of all packages)\n",
    "\n",
    "<b>Examples:</b> Some of the more than 300 packages\n",
    "<ul>\n",
    "    <li>Data visualization using matplotlib.pyplot or ggplot2</li>\n",
    "    <li>GUI (wx Python, pyGame, ...)</li>\n",
    "    <li>probablistic programming (pyMC, Edward, ...)</li>\n",
    "    <li>Data Manipulation using pandas</li>\n",
    "    <li>Machine learning using scikit-learn</li>\n",
    "    <li>Numerical packages like Numpy, Scipy, networkx, pulp, cvxplot, ...</li>\n",
    "    <li>Deep learning frameworks (tf, keras, theona, pyTorch, ...)</li>\n",
    "    <li>Natural Language Processing (NLP)</li>\n",
    "</ul>\n",
    "py3 is the future of python"
   ]
  },
  {
   "cell_type": "code",
   "execution_count": null,
   "metadata": {},
   "outputs": [],
   "source": []
  },
  {
   "cell_type": "code",
   "execution_count": 47,
   "metadata": {},
   "outputs": [
    {
     "data": {
      "text/plain": [
       "0"
      ]
     },
     "execution_count": 47,
     "metadata": {},
     "output_type": "execute_result"
    }
   ],
   "source": [
    "# range can be sliced starting p3.2\n",
    "range(6)[0]"
   ]
  },
  {
   "cell_type": "code",
   "execution_count": 48,
   "metadata": {},
   "outputs": [
    {
     "data": {
      "text/plain": [
       "5"
      ]
     },
     "execution_count": 48,
     "metadata": {},
     "output_type": "execute_result"
    }
   ],
   "source": [
    "range(6)[5]"
   ]
  },
  {
   "cell_type": "markdown",
   "metadata": {},
   "source": [
    "<div class=\"alert alert-block alert-warning\">"
   ]
  },
  {
   "cell_type": "markdown",
   "metadata": {},
   "source": [
    "                                        ~END~"
   ]
  }
 ],
 "metadata": {
  "kernelspec": {
   "display_name": "Python 3",
   "language": "python",
   "name": "python3"
  },
  "language_info": {
   "codemirror_mode": {
    "name": "ipython",
    "version": 3
   },
   "file_extension": ".py",
   "mimetype": "text/x-python",
   "name": "python",
   "nbconvert_exporter": "python",
   "pygments_lexer": "ipython3",
   "version": "3.7.4"
  }
 },
 "nbformat": 4,
 "nbformat_minor": 4
}
