{
 "cells": [
  {
   "cell_type": "markdown",
   "metadata": {},
   "source": [
    "### Python Compiled by :\n",
    "      Alem H Fitwi, \n",
    "      PhD Student, ECE (Privacy, ML/DNN, & Chaotic Encryption)\n",
    "      GA-Data Analystics Specialist,\n",
    "      Binghamton University-State University of New York\n",
    "      Since August, 2017 "
   ]
  },
  {
   "cell_type": "markdown",
   "metadata": {},
   "source": [
    "<div class=\"alert alert-block alert-warning\">"
   ]
  },
  {
   "cell_type": "markdown",
   "metadata": {},
   "source": [
    "# ...\n",
    "# 2. Python Objects and Data Structures "
   ]
  },
  {
   "cell_type": "markdown",
   "metadata": {},
   "source": [
    "- Python is an object oriented programming language. Unlike procedure oriented programming, where the main emphasis is on functions, object oriented programming stresses on objects. \n",
    "- An **object** is simply a collection of data (variables) and methods (functions) that act on those data."
   ]
  },
  {
   "cell_type": "markdown",
   "metadata": {},
   "source": [
    "<div class=\"alert alert-block alert-warning\">"
   ]
  },
  {
   "cell_type": "markdown",
   "metadata": {},
   "source": [
    "### More on Copying Techniques\n",
    "\n",
    "A. Shallow copy\n",
    "- IDs of original and copy are different\n",
    "- It doesn't copy the elements, but copies the references of the elements.\n",
    "- Behaves differently for nested lists: changing elements of sublist affects the original list as well.\n",
    "- Can be perofrmed using 4 different ways\n",
    "    - Built-in functions: list(), set(), dict()\n",
    "    - Slicing operator\n",
    "    - List comprehension\n",
    "    - Copy function from copy module"
   ]
  },
  {
   "cell_type": "code",
   "execution_count": 88,
   "metadata": {},
   "outputs": [
    {
     "name": "stdout",
     "output_type": "stream",
     "text": [
      "original_num1: [0, 1, 2, 3, 4]\n",
      "Num1: [10, 1, 2, 3, 4]\n",
      "Num1_id: 139984426052416\n",
      "nNum1: [10, 1, 2, 3, 4]\n",
      "nNum1_id: 139984426052416\n"
     ]
    }
   ],
   "source": [
    "# Copy using the assignment operator =\n",
    "num1 = [i for i in range(5)]\n",
    "print(\"original_num1:\",num1)\n",
    "nnum1 = num1\n",
    "num1[0] =10\n",
    "\n",
    "print(\"Num1:\", num1)\n",
    "print(\"Num1_id:\", id(num1))\n",
    "\n",
    "print(\"nNum1:\", nnum1)\n",
    "print(\"nNum1_id:\", id(nnum1))"
   ]
  },
  {
   "cell_type": "markdown",
   "metadata": {},
   "source": [
    "##### 1. Shallow Copying using Built-in functions: list(), set(), dict()\n"
   ]
  },
  {
   "cell_type": "code",
   "execution_count": 2,
   "metadata": {},
   "outputs": [
    {
     "name": "stdout",
     "output_type": "stream",
     "text": [
      "lst:  [1, 2, 3, 4]\n",
      "lst_ID:  139759579171488\n",
      "lst1:  [1, 2, 3, 4]\n",
      "lst1_ID:  139759579788304\n"
     ]
    }
   ],
   "source": [
    "lst = [1,2,3,4]\n",
    "lst1 = list(lst)\n",
    "print(\"lst: \", lst)\n",
    "print(\"lst_ID: \", id(lst))\n",
    "print(\"lst1: \", lst1)\n",
    "print(\"lst1_ID: \", id(lst1))"
   ]
  },
  {
   "cell_type": "code",
   "execution_count": 3,
   "metadata": {},
   "outputs": [
    {
     "name": "stdout",
     "output_type": "stream",
     "text": [
      "lst:  [1, 2, 3, 4]\n",
      "lst_ID:  139759579171488\n",
      "lst1:  [1, 2, 3, 4, 'a']\n",
      "lst1_ID:  139759579788304\n"
     ]
    }
   ],
   "source": [
    "# Append new value to lst2: doesn't affect lst\n",
    "lst1.append('a')\n",
    "print(\"lst: \", lst)\n",
    "print(\"lst_ID: \", id(lst))\n",
    "print(\"lst1: \", lst1)\n",
    "print(\"lst1_ID: \", id(lst1))"
   ]
  },
  {
   "cell_type": "markdown",
   "metadata": {},
   "source": [
    "##### 2. Shallow Copying using slicing operator"
   ]
  },
  {
   "cell_type": "code",
   "execution_count": 4,
   "metadata": {},
   "outputs": [
    {
     "name": "stdout",
     "output_type": "stream",
     "text": [
      "lst:  [1, 2, 3, 4]\n",
      "lst_ID:  139759579171488\n",
      "lst2:  [1, 2, 3, 4]\n",
      "lst2_ID:  139759579789664\n"
     ]
    }
   ],
   "source": [
    "lst2 = lst[:]\n",
    "print(\"lst: \", lst)\n",
    "print(\"lst_ID: \", id(lst))\n",
    "print(\"lst2: \", lst2)\n",
    "print(\"lst2_ID: \", id(lst2))"
   ]
  },
  {
   "cell_type": "code",
   "execution_count": 5,
   "metadata": {},
   "outputs": [
    {
     "name": "stdout",
     "output_type": "stream",
     "text": [
      "lst:  [1, 2, 3, 4]\n",
      "lst_ID:  139759579171488\n",
      "lst2:  ['alem', 2, 3, 4]\n",
      "lst2_ID:  139759579789664\n"
     ]
    }
   ],
   "source": [
    "lst2[0] = 'alem'\n",
    "print(\"lst: \", lst)\n",
    "print(\"lst_ID: \", id(lst))\n",
    "print(\"lst2: \", lst2)\n",
    "print(\"lst2_ID: \", id(lst2))"
   ]
  },
  {
   "cell_type": "markdown",
   "metadata": {},
   "source": [
    "##### 3. Shallow Copying using list comprehension"
   ]
  },
  {
   "cell_type": "code",
   "execution_count": 6,
   "metadata": {},
   "outputs": [
    {
     "name": "stdout",
     "output_type": "stream",
     "text": [
      "l1:  [1, 2, 3, 4]\n",
      "l1_ID:  139759580636016\n",
      "l2:  [1, 2, 3, 'u']\n",
      "l2_ID:  139759580637776\n"
     ]
    }
   ],
   "source": [
    "l1 = [1,2,3,4]\n",
    "l2 = [x for x in l1]\n",
    "l2[-1] = 'u' \n",
    "print(\"l1: \", lst)\n",
    "print(\"l1_ID: \", id(l1))\n",
    "print(\"l2: \", l2)\n",
    "print(\"l2_ID: \", id(l2))"
   ]
  },
  {
   "cell_type": "markdown",
   "metadata": {},
   "source": [
    "##### 4. Copying using the assignment operator\n",
    "- Both the original and copy indicate to the same object(the same memory location)\n",
    "- Both have the same IDs (the same reference to the original object)"
   ]
  },
  {
   "cell_type": "code",
   "execution_count": 7,
   "metadata": {},
   "outputs": [
    {
     "name": "stdout",
     "output_type": "stream",
     "text": [
      "lst:  [1, 2, 3, 4, 5]\n",
      "lst_ID:  139759580636416\n",
      "lst:  [1, 2, 3, 4, 5]\n",
      "lst_ID:  139759580636416\n"
     ]
    }
   ],
   "source": [
    "lst = [1,2,3,4,5]\n",
    "lst1 = lst\n",
    "print(\"lst: \", lst)\n",
    "print(\"lst_ID: \", id(lst))\n",
    "print(\"lst: \", lst1)\n",
    "print(\"lst_ID: \", id(lst1))"
   ]
  },
  {
   "cell_type": "code",
   "execution_count": 8,
   "metadata": {},
   "outputs": [
    {
     "name": "stdout",
     "output_type": "stream",
     "text": [
      "lst:  [9, 2, 3, 4, 5]\n",
      "lst_ID:  139759580636416\n",
      "lst1:  [9, 2, 3, 4, 5]\n",
      "lst1_ID:  139759580636416\n"
     ]
    }
   ],
   "source": [
    "# Change list lst1 and check what happens to both\n",
    "lst1[0] = 9\n",
    "print(\"lst: \", lst)\n",
    "print(\"lst_ID: \", id(lst))\n",
    "print(\"lst1: \", lst1)\n",
    "print(\"lst1_ID: \", id(lst1))"
   ]
  },
  {
   "cell_type": "markdown",
   "metadata": {},
   "source": [
    "##### 5. Shallow Copying using  the copy.copy()\n",
    "- Creates only a copy of the object but keeps reference to each element of the object.\n",
    "- Creates a new object which stores references of the original elements"
   ]
  },
  {
   "cell_type": "code",
   "execution_count": 9,
   "metadata": {},
   "outputs": [
    {
     "name": "stdout",
     "output_type": "stream",
     "text": [
      "lstold:  [[1, 2, 3], [4, 5, 6], [7, 8, 9]]\n",
      "lstold_ID:  139759579132144\n",
      "lstnew:  [[1, 2, 3], [4, 5, 6], [7, 8, 9]]\n",
      "lstnew_ID:  139759580637536\n"
     ]
    }
   ],
   "source": [
    "import copy\n",
    "lstold = [[1,2,3],[4,5,6],[7,8,9]]\n",
    "lstnew = copy.copy(lstold)\n",
    "print(\"lstold: \", lstold)\n",
    "print(\"lstold_ID: \", id(lstold))\n",
    "print(\"lstnew: \", lstnew)\n",
    "print(\"lstnew_ID: \", id(lstnew))"
   ]
  },
  {
   "cell_type": "code",
   "execution_count": 10,
   "metadata": {},
   "outputs": [
    {
     "name": "stdout",
     "output_type": "stream",
     "text": [
      "lstold:  [[1, 2, 3], [4, 5, 6], [7, 8, 9]]\n",
      "lstold_ID:  139759579132144\n",
      "lstnew:  [['a', 'b', 'c'], [4, 5, 6], [7, 8, 9]]\n",
      "lstnew_ID:  139759580637536\n"
     ]
    }
   ],
   "source": [
    "# Change a list of the new list:lstold[0] to ['a','b','c']\n",
    "# Original object is not affected\n",
    "lstnew[0] = ['a','b','c']\n",
    "print(\"lstold: \", lstold)\n",
    "print(\"lstold_ID: \", id(lstold))\n",
    "print(\"lstnew: \", lstnew)\n",
    "print(\"lstnew_ID: \", id(lstnew))"
   ]
  },
  {
   "cell_type": "code",
   "execution_count": 11,
   "metadata": {},
   "outputs": [
    {
     "name": "stdout",
     "output_type": "stream",
     "text": [
      "lstold:  [['alem', 2, 3], [4, 5, 6], [7, 8, 9]]\n",
      "lstold_ID:  139759580463984\n",
      "lstnew:  [['alem', 2, 3], [4, 5, 6], [7, 8, 9]]\n",
      "lstnew_ID:  139759580622432\n"
     ]
    }
   ],
   "source": [
    "# Change elements of the new list lstnew[0] to ['a','b','c']\n",
    "# The first element is changed in both lists\n",
    "lstold = [[1,2,3],[4,5,6],[7,8,9]]\n",
    "lstnew = copy.copy(lstold)\n",
    "lstnew[0][0] = 'alem'\n",
    "print(\"lstold: \", lstold)\n",
    "print(\"lstold_ID: \", id(lstold))\n",
    "print(\"lstnew: \", lstnew)\n",
    "print(\"lstnew_ID: \", id(lstnew))"
   ]
  },
  {
   "cell_type": "markdown",
   "metadata": {},
   "source": [
    "##### B. Deep Copying using the copy.deepcopy()\n",
    "- Creates a Copy of the object as well as elements of the object.\n",
    "- It keeps no reference to elements"
   ]
  },
  {
   "cell_type": "code",
   "execution_count": 99,
   "metadata": {},
   "outputs": [
    {
     "name": "stdout",
     "output_type": "stream",
     "text": [
      "lstold:  [[1, 2, 3], [4, 5, 6], [7, 8, 9]]\n",
      "lstold_ID:  139984424951552\n",
      "lstnew:  [[1, 2, 3], [4, 5, 6], [7, 8, 9]]\n",
      "lstnew_ID:  139984425243184\n"
     ]
    }
   ],
   "source": [
    "lstold = [[1,2,3],[4,5,6],[7,8,9]]\n",
    "lstnew = copy.deepcopy(lstold)\n",
    "print(\"lstold: \", lstold)\n",
    "print(\"lstold_ID: \", id(lstold))\n",
    "print(\"lstnew: \", lstnew)\n",
    "print(\"lstnew_ID: \", id(lstnew))"
   ]
  },
  {
   "cell_type": "code",
   "execution_count": 100,
   "metadata": {},
   "outputs": [
    {
     "name": "stdout",
     "output_type": "stream",
     "text": [
      "lstold:  [[1, 2, 3], [4, 5, 6], [7, 8, 9]]\n",
      "lstold_ID:  139984425637360\n",
      "lstnew:  [['alem', 2, 3], [4, 5, 6], [7, 8, 9]]\n",
      "lstnew_ID:  139984425603392\n"
     ]
    }
   ],
   "source": [
    "lstold = [[1,2,3],[4,5,6],[7,8,9]]\n",
    "lstnew = copy.deepcopy(lstold)\n",
    "lstnew[0][0] = 'alem'\n",
    "print(\"lstold: \", lstold)\n",
    "print(\"lstold_ID: \", id(lstold))\n",
    "print(\"lstnew: \", lstnew)\n",
    "print(\"lstnew_ID: \", id(lstnew))"
   ]
  },
  {
   "cell_type": "markdown",
   "metadata": {},
   "source": [
    "### List Comprehension: Elegant way to create new List\n",
    "List comprehension is an elegant and concise way to create a new list from an existing list in Python.\n",
    "\n",
    "List comprehension consists of an expression followed by for statement inside square brackets.\n",
    "\n",
    "Here is an example to make a list with each item being increasing power of 2."
   ]
  },
  {
   "cell_type": "code",
   "execution_count": 101,
   "metadata": {},
   "outputs": [
    {
     "name": "stdout",
     "output_type": "stream",
     "text": [
      "[1, 2, 4, 8, 16, 32, 64, 128, 256, 512]\n"
     ]
    }
   ],
   "source": [
    "pow2 = [2 ** x for x in range(10)]\n",
    "# Output: [1, 2, 4, 8, 16, 32, 64, 128, 256, 512]\n",
    "print(pow2)"
   ]
  },
  {
   "cell_type": "markdown",
   "metadata": {},
   "source": [
    "A list comprehension can optionally contain more for or if statements. An optional if statement can filter out items for the new list. Here are some examples."
   ]
  },
  {
   "cell_type": "code",
   "execution_count": 102,
   "metadata": {},
   "outputs": [
    {
     "data": {
      "text/plain": [
       "[64, 128, 256, 512]"
      ]
     },
     "execution_count": 102,
     "metadata": {},
     "output_type": "execute_result"
    }
   ],
   "source": [
    "pow2 = [2 ** x for x in range(10) if x > 5]\n",
    "pow2"
   ]
  },
  {
   "cell_type": "code",
   "execution_count": 103,
   "metadata": {},
   "outputs": [
    {
     "data": {
      "text/plain": [
       "[1, 3, 5, 7, 9, 11, 13, 15, 17, 19]"
      ]
     },
     "execution_count": 103,
     "metadata": {},
     "output_type": "execute_result"
    }
   ],
   "source": [
    "odd = [x for x in range(20) if x % 2 == 1]\n",
    "odd"
   ]
  },
  {
   "cell_type": "code",
   "execution_count": 104,
   "metadata": {},
   "outputs": [
    {
     "data": {
      "text/plain": [
       "['Python Language', 'Python Programming', 'C Language', 'C Programming']"
      ]
     },
     "execution_count": 104,
     "metadata": {},
     "output_type": "execute_result"
    }
   ],
   "source": [
    "[x+y for x in ['Python ','C '] for y in ['Language','Programming']]"
   ]
  },
  {
   "cell_type": "code",
   "execution_count": 105,
   "metadata": {},
   "outputs": [
    {
     "data": {
      "text/plain": [
       "[('Python ', 'Language'),\n",
       " ('Python ', 'Programming'),\n",
       " ('C ', 'Language'),\n",
       " ('C ', 'Programming')]"
      ]
     },
     "execution_count": 105,
     "metadata": {},
     "output_type": "execute_result"
    }
   ],
   "source": [
    "[(x,y) for x in ['Python ','C '] for y in ['Language','Programming']]"
   ]
  },
  {
   "cell_type": "code",
   "execution_count": 106,
   "metadata": {},
   "outputs": [
    {
     "name": "stdout",
     "output_type": "stream",
     "text": [
      "True\n",
      "False\n",
      "True\n"
     ]
    }
   ],
   "source": [
    "my_list = ['p','r','o','b','l','e','m']\n",
    "# Output: True\n",
    "print('p' in my_list)\n",
    "# Output: False\n",
    "print('a' in my_list)\n",
    "# Output: True\n",
    "print('c' not in my_list)"
   ]
  },
  {
   "cell_type": "code",
   "execution_count": 107,
   "metadata": {},
   "outputs": [
    {
     "name": "stdout",
     "output_type": "stream",
     "text": [
      "I like apple\n",
      "I like banana\n",
      "I like mango\n"
     ]
    }
   ],
   "source": [
    "### Iterating Through a List\n",
    "### Using a for loop we can iterate though each item in a list.\n",
    "\n",
    "for fruit in ['apple','banana','mango']:\n",
    "    print(\"I like\",fruit)"
   ]
  },
  {
   "cell_type": "markdown",
   "metadata": {},
   "source": [
    "We can also use + to concatenate lists, just like we did for strings."
   ]
  },
  {
   "cell_type": "code",
   "execution_count": 108,
   "metadata": {},
   "outputs": [
    {
     "data": {
      "text/plain": [
       "['one', 'two', 'three', 4, 5, 'new item']"
      ]
     },
     "execution_count": 108,
     "metadata": {},
     "output_type": "execute_result"
    }
   ],
   "source": [
    "my_list = ['one','two','three',4,5]\n",
    "my_list = my_list + ['new item']\n",
    "my_list"
   ]
  },
  {
   "cell_type": "markdown",
   "metadata": {},
   "source": [
    "We can also use the * for a duplication method similar to strings:"
   ]
  },
  {
   "cell_type": "code",
   "execution_count": 109,
   "metadata": {},
   "outputs": [
    {
     "name": "stdout",
     "output_type": "stream",
     "text": [
      "['one', 'two', 'three', 4, 5, 'new item', 'one', 'two', 'three', 4, 5, 'new item']\n",
      "['one', 'two', 'three', 4, 5, 'new item', 'one', 'two', 'three', 4, 5, 'new item']\n"
     ]
    }
   ],
   "source": [
    "# Make the list double\n",
    "print(my_list * 2)\n",
    "print(my_list + my_list)"
   ]
  },
  {
   "cell_type": "markdown",
   "metadata": {},
   "source": [
    "## Nesting Lists\n",
    "A great feature of of Python data structures is that they support *nesting*. This means we can have data structures within data structures. For example: A list inside a list.\n",
    "\n",
    "Let's see how this works!"
   ]
  },
  {
   "cell_type": "code",
   "execution_count": 110,
   "metadata": {},
   "outputs": [],
   "source": [
    "# Let's make three lists\n",
    "lst_1=[1,2,3]\n",
    "lst_2=[4,5,6]\n",
    "lst_3=[7,8,9]\n",
    "\n",
    "# Make a list of lists to form a matrix\n",
    "matrix = [lst_1,lst_2,lst_3]"
   ]
  },
  {
   "cell_type": "code",
   "execution_count": 111,
   "metadata": {},
   "outputs": [
    {
     "data": {
      "text/plain": [
       "[[1, 2, 3], [4, 5, 6], [7, 8, 9]]"
      ]
     },
     "execution_count": 111,
     "metadata": {},
     "output_type": "execute_result"
    }
   ],
   "source": [
    "# Show\n",
    "matrix"
   ]
  },
  {
   "cell_type": "markdown",
   "metadata": {},
   "source": [
    "We can again use indexing to grab elements, but now there are two levels for the index. The items in the matrix object, and then the items inside that list!"
   ]
  },
  {
   "cell_type": "code",
   "execution_count": 112,
   "metadata": {},
   "outputs": [
    {
     "data": {
      "text/plain": [
       "[1, 2, 3]"
      ]
     },
     "execution_count": 112,
     "metadata": {},
     "output_type": "execute_result"
    }
   ],
   "source": [
    "# Grab first item in matrix object\n",
    "matrix[0]"
   ]
  },
  {
   "cell_type": "code",
   "execution_count": 113,
   "metadata": {},
   "outputs": [
    {
     "data": {
      "text/plain": [
       "1"
      ]
     },
     "execution_count": 113,
     "metadata": {},
     "output_type": "execute_result"
    }
   ],
   "source": [
    "# Grab first item of the first item in the matrix object\n",
    "matrix[0][0]"
   ]
  },
  {
   "cell_type": "markdown",
   "metadata": {},
   "source": [
    "### 2.3.4  Tuple"
   ]
  },
  {
   "cell_type": "markdown",
   "metadata": {},
   "source": [
    "A tuple in Python is similar to a list. The difference between the two is that we cannot change the elements of a tuple once it is assigned whereas, in a list, elements can be changed.\n",
    "\n",
    "### Creating a Tuple\n",
    "A tuple is created by placing all the items (elements) inside parentheses (), separated by commas. The parentheses are optional, however, it is a good practice to use them.\n",
    "\n",
    "A tuple can have any number of items and they may be of different types (integer, float, list, string, etc.)."
   ]
  },
  {
   "cell_type": "code",
   "execution_count": 114,
   "metadata": {},
   "outputs": [
    {
     "name": "stdout",
     "output_type": "stream",
     "text": [
      "()\n",
      "(1, 2, 3)\n",
      "(1, 'Hello', 3.4)\n",
      "('mouse', [8, 4, 6], (1, 2, 3))\n"
     ]
    }
   ],
   "source": [
    "# Empty tuple\n",
    "my_tuple = ()\n",
    "print(my_tuple)  # Output: ()\n",
    "\n",
    "# Tuple having integers\n",
    "my_tuple = (1, 2, 3)\n",
    "print(my_tuple)  # Output: (1, 2, 3) \n",
    "\n",
    "# tuple with mixed datatypes\n",
    "my_tuple = (1, \"Hello\", 3.4)\n",
    "print(my_tuple)  # Output: (1, \"Hello\", 3.4)  \n",
    "\n",
    "# nested tuple\n",
    "my_tuple = (\"mouse\", [8, 4, 6], (1, 2, 3))\n",
    "\n",
    "# Output: (\"mouse\", [8, 4, 6], (1, 2, 3)) \n",
    "print(my_tuple)"
   ]
  },
  {
   "cell_type": "markdown",
   "metadata": {},
   "source": [
    "A tuple can also be created without using parentheses. This is known as tuple packing."
   ]
  },
  {
   "cell_type": "code",
   "execution_count": 115,
   "metadata": {},
   "outputs": [
    {
     "name": "stdout",
     "output_type": "stream",
     "text": [
      "(3, 4.6, 'dog')\n",
      "3\n",
      "4.6\n",
      "dog\n"
     ]
    }
   ],
   "source": [
    "#Packing\n",
    "my_tuple = 3, 4.6, \"dog\"\n",
    "print(my_tuple)   # Output: 3, 4.6, \"dog\" \n",
    "\n",
    "# tuple unpacking is also possible\n",
    "a, b, c = my_tuple\n",
    "\n",
    "print(a)      # 3\n",
    "print(b)      # 4.6 \n",
    "print(c)      # dog"
   ]
  },
  {
   "cell_type": "markdown",
   "metadata": {},
   "source": [
    "Creating a tuple with one element is a bit tricky. Having one element within parentheses is not enough. We will need a trailing comma to indicate that it is, in fact, a tuple."
   ]
  },
  {
   "cell_type": "code",
   "execution_count": 116,
   "metadata": {},
   "outputs": [
    {
     "name": "stdout",
     "output_type": "stream",
     "text": [
      "<class 'str'>\n",
      "<class 'tuple'>\n",
      "<class 'tuple'>\n"
     ]
    }
   ],
   "source": [
    "my_tuple = (\"hello\")\n",
    "print(type(my_tuple))  # <class 'str'>\n",
    "\n",
    "# Creating a tuple having one element\n",
    "my_tuple = (\"hello\",)  \n",
    "print(type(my_tuple))  # <class 'tuple'> \n",
    "\n",
    "# Parentheses is optional\n",
    "my_tuple = \"hello\",\n",
    "print(type(my_tuple))  # <class 'tuple'> "
   ]
  },
  {
   "cell_type": "markdown",
   "metadata": {},
   "source": [
    "### Access Tuple Elements\n",
    "There are various ways in which we can access the elements of a tuple.\n",
    "\n",
    "1. **Indexing**:\n",
    "    \n",
    "We can use the index operator [] to access an item in a tuple where the index starts from 0.\n",
    "\n",
    "So, a tuple having 6 elements will have indices from 0 to 5. Trying to access an element outside of tuple (for example, 6, 7,...) will raise an IndexError.\n",
    "\n",
    "The index must be an integer; so we cannot use float or other types. This will result in TypeError.\n",
    "\n",
    "Likewise, nested tuples are accessed using nested indexing, as shown in the example below."
   ]
  },
  {
   "cell_type": "code",
   "execution_count": 117,
   "metadata": {},
   "outputs": [
    {
     "name": "stdout",
     "output_type": "stream",
     "text": [
      "p\n",
      "t\n",
      "s\n",
      "4\n"
     ]
    }
   ],
   "source": [
    "my_tuple = ('p','e','r','m','i','t')\n",
    "\n",
    "print(my_tuple[0])   # 'p' \n",
    "print(my_tuple[5])   # 't'\n",
    "\n",
    "# IndexError: list index out of range\n",
    "# print(my_tuple[6])\n",
    "\n",
    "# Index must be an integer\n",
    "# TypeError: list indices must be integers, not float\n",
    "# my_tuple[2.0]\n",
    "\n",
    "# nested tuple\n",
    "n_tuple = (\"mouse\", [8, 4, 6], (1, 2, 3))\n",
    "\n",
    "# nested index\n",
    "print(n_tuple[0][3])       # 's'\n",
    "print(n_tuple[1][1])       # 4"
   ]
  },
  {
   "cell_type": "code",
   "execution_count": 118,
   "metadata": {},
   "outputs": [
    {
     "ename": "IndexError",
     "evalue": "tuple index out of range",
     "output_type": "error",
     "traceback": [
      "\u001b[0;31m---------------------------------------------------------------------------\u001b[0m",
      "\u001b[0;31mIndexError\u001b[0m                                Traceback (most recent call last)",
      "\u001b[0;32m<ipython-input-118-93b070875988>\u001b[0m in \u001b[0;36m<module>\u001b[0;34m\u001b[0m\n\u001b[1;32m      1\u001b[0m \u001b[0;31m# IndexError: list index out of range\u001b[0m\u001b[0;34m\u001b[0m\u001b[0;34m\u001b[0m\u001b[0;34m\u001b[0m\u001b[0m\n\u001b[0;32m----> 2\u001b[0;31m \u001b[0mprint\u001b[0m\u001b[0;34m(\u001b[0m\u001b[0mmy_tuple\u001b[0m\u001b[0;34m[\u001b[0m\u001b[0;36m6\u001b[0m\u001b[0;34m]\u001b[0m\u001b[0;34m)\u001b[0m\u001b[0;34m\u001b[0m\u001b[0;34m\u001b[0m\u001b[0m\n\u001b[0m",
      "\u001b[0;31mIndexError\u001b[0m: tuple index out of range"
     ]
    }
   ],
   "source": [
    "# IndexError: list index out of range\n",
    "print(my_tuple[6])"
   ]
  },
  {
   "cell_type": "markdown",
   "metadata": {},
   "source": [
    "### Negative Indexing\n",
    "Python allows negative indexing for its sequences. The index of -1 refers to the last item, -2 to the second last item and so on."
   ]
  },
  {
   "cell_type": "code",
   "execution_count": 12,
   "metadata": {},
   "outputs": [
    {
     "name": "stdout",
     "output_type": "stream",
     "text": [
      "t\n",
      "p\n"
     ]
    }
   ],
   "source": [
    "my_tuple = ('p','e','r','m','i','t')\n",
    "\n",
    "# Output: 't'\n",
    "print(my_tuple[-1])\n",
    "\n",
    "# Output: 'p'\n",
    "print(my_tuple[-6])"
   ]
  },
  {
   "cell_type": "markdown",
   "metadata": {},
   "source": [
    "### Slicing\n",
    "We can access a range of items in a tuple by using the slicing operator - colon \":\"."
   ]
  },
  {
   "cell_type": "code",
   "execution_count": 13,
   "metadata": {},
   "outputs": [
    {
     "name": "stdout",
     "output_type": "stream",
     "text": [
      "('r', 'o', 'g')\n",
      "('p', 'r')\n",
      "('i', 'z')\n",
      "('p', 'r', 'o', 'g', 'r', 'a', 'm', 'i', 'z')\n"
     ]
    }
   ],
   "source": [
    "my_tuple = ('p','r','o','g','r','a','m','i','z')\n",
    "\n",
    "# elements 2nd to 4th\n",
    "# Output: ('r', 'o', 'g')\n",
    "print(my_tuple[1:4])\n",
    "\n",
    "# elements beginning to 2nd\n",
    "# Output: ('p', 'r')\n",
    "print(my_tuple[:-7])\n",
    "\n",
    "# elements 8th to end\n",
    "# Output: ('i', 'z')\n",
    "print(my_tuple[7:])\n",
    "\n",
    "# elements beginning to end\n",
    "# Output: ('p', 'r', 'o', 'g', 'r', 'a', 'm', 'i', 'z')\n",
    "print(my_tuple[:])"
   ]
  },
  {
   "cell_type": "markdown",
   "metadata": {},
   "source": [
    "### Changing a Tuple\n",
    "Unlike lists, tuples are immutable. This means that elements of a tuple cannot be changed once it has been assigned. But, if the element is itself a mutable datatype like list, its nested items can be changed.\n",
    "We can also assign a tuple to different values (reassignment)."
   ]
  },
  {
   "cell_type": "code",
   "execution_count": 16,
   "metadata": {},
   "outputs": [
    {
     "ename": "TypeError",
     "evalue": "'tuple' object does not support item assignment",
     "output_type": "error",
     "traceback": [
      "\u001b[0;31m---------------------------------------------------------------------------\u001b[0m",
      "\u001b[0;31mTypeError\u001b[0m                                 Traceback (most recent call last)",
      "\u001b[0;32m<ipython-input-16-9434c252c98a>\u001b[0m in \u001b[0;36m<module>\u001b[0;34m\u001b[0m\n\u001b[1;32m      2\u001b[0m \u001b[0;34m\u001b[0m\u001b[0m\n\u001b[1;32m      3\u001b[0m \u001b[0;31m# TypeError: 'tuple' object does not support item assignment\u001b[0m\u001b[0;34m\u001b[0m\u001b[0;34m\u001b[0m\u001b[0;34m\u001b[0m\u001b[0m\n\u001b[0;32m----> 4\u001b[0;31m \u001b[0mmy_tuple\u001b[0m\u001b[0;34m[\u001b[0m\u001b[0;36m1\u001b[0m\u001b[0;34m]\u001b[0m \u001b[0;34m=\u001b[0m \u001b[0;36m9\u001b[0m\u001b[0;34m\u001b[0m\u001b[0;34m\u001b[0m\u001b[0m\n\u001b[0m",
      "\u001b[0;31mTypeError\u001b[0m: 'tuple' object does not support item assignment"
     ]
    }
   ],
   "source": [
    "my_tuple = (4, 2, 3, [6, 5])\n",
    "\n",
    "# TypeError: 'tuple' object does not support item assignment\n",
    "my_tuple[1] = 9"
   ]
  },
  {
   "cell_type": "code",
   "execution_count": 17,
   "metadata": {},
   "outputs": [
    {
     "ename": "TypeError",
     "evalue": "'tuple' object does not support item assignment",
     "output_type": "error",
     "traceback": [
      "\u001b[0;31m---------------------------------------------------------------------------\u001b[0m",
      "\u001b[0;31mTypeError\u001b[0m                                 Traceback (most recent call last)",
      "\u001b[0;32m<ipython-input-17-277078042cce>\u001b[0m in \u001b[0;36m<module>\u001b[0;34m\u001b[0m\n\u001b[0;32m----> 1\u001b[0;31m \u001b[0mmy_tuple\u001b[0m\u001b[0;34m[\u001b[0m\u001b[0;36m3\u001b[0m\u001b[0;34m]\u001b[0m \u001b[0;34m=\u001b[0m \u001b[0;36m9\u001b[0m\u001b[0;34m\u001b[0m\u001b[0;34m\u001b[0m\u001b[0m\n\u001b[0m",
      "\u001b[0;31mTypeError\u001b[0m: 'tuple' object does not support item assignment"
     ]
    }
   ],
   "source": [
    "my_tuple[3] = 9 "
   ]
  },
  {
   "cell_type": "code",
   "execution_count": 18,
   "metadata": {},
   "outputs": [
    {
     "name": "stdout",
     "output_type": "stream",
     "text": [
      "(4, 2, 3, [9, 5])\n",
      "('p', 'r', 'o', 'g', 'r', 'a', 'm', 'i', 'z')\n"
     ]
    }
   ],
   "source": [
    "# However, item of mutable element can be changed\n",
    "my_tuple[3][0] = 9    # Output: (4, 2, 3, [9, 5])\n",
    "print(my_tuple)\n",
    "\n",
    "# Tuples can be reassigned\n",
    "my_tuple = ('p','r','o','g','r','a','m','i','z')\n",
    "\n",
    "# Output: ('p', 'r', 'o', 'g', 'r', 'a', 'm', 'i', 'z')\n",
    "print(my_tuple)"
   ]
  },
  {
   "cell_type": "markdown",
   "metadata": {},
   "source": [
    "We can use + operator to combine two tuples. This is also called concatenation.\n",
    "We can also repeat the elements in a tuple for a given number of times using the * operator. Both + and * operations result in a new tuple."
   ]
  },
  {
   "cell_type": "code",
   "execution_count": 3,
   "metadata": {},
   "outputs": [
    {
     "name": "stdout",
     "output_type": "stream",
     "text": [
      "(1, 2, 3, 4, 5, 6)\n",
      "('Repeat', 'Repeat', 'Repeat')\n"
     ]
    }
   ],
   "source": [
    "# Concatenation\n",
    "# Output: (1, 2, 3, 4, 5, 6)\n",
    "print((1, 2, 3) + (4, 5, 6))\n",
    "\n",
    "# Repeat\n",
    "# Output: ('Repeat', 'Repeat', 'Repeat')\n",
    "print((\"Repeat\",) * 3)"
   ]
  },
  {
   "cell_type": "markdown",
   "metadata": {},
   "source": [
    "### Deleting a Tuple\n",
    "As discussed above, we cannot change the elements in a tuple. That also means we cannot delete or remove items from a tuple.\n",
    "But deleting a tuple entirely is possible using the keyword del."
   ]
  },
  {
   "cell_type": "code",
   "execution_count": 4,
   "metadata": {},
   "outputs": [
    {
     "ename": "NameError",
     "evalue": "name 'my_tuple' is not defined",
     "output_type": "error",
     "traceback": [
      "\u001b[0;31m---------------------------------------------------------------------------\u001b[0m",
      "\u001b[0;31mNameError\u001b[0m                                 Traceback (most recent call last)",
      "\u001b[0;32m<ipython-input-4-1ae5833bfd10>\u001b[0m in \u001b[0;36m<module>\u001b[0;34m\u001b[0m\n\u001b[1;32m      9\u001b[0m \u001b[0;34m\u001b[0m\u001b[0m\n\u001b[1;32m     10\u001b[0m \u001b[0;31m# NameError: name 'my_tuple' is not defined\u001b[0m\u001b[0;34m\u001b[0m\u001b[0;34m\u001b[0m\u001b[0;34m\u001b[0m\u001b[0m\n\u001b[0;32m---> 11\u001b[0;31m \u001b[0mprint\u001b[0m\u001b[0;34m(\u001b[0m\u001b[0mmy_tuple\u001b[0m\u001b[0;34m)\u001b[0m\u001b[0;34m\u001b[0m\u001b[0;34m\u001b[0m\u001b[0m\n\u001b[0m",
      "\u001b[0;31mNameError\u001b[0m: name 'my_tuple' is not defined"
     ]
    }
   ],
   "source": [
    "my_tuple = ('p','r','o','g','r','a','m','i','z')\n",
    "\n",
    "# can't delete items\n",
    "# TypeError: 'tuple' object doesn't support item deletion\n",
    "# del my_tuple[3]\n",
    "\n",
    "# Can delete an entire tuple\n",
    "del my_tuple\n",
    "\n",
    "# NameError: name 'my_tuple' is not defined\n",
    "print(my_tuple)"
   ]
  },
  {
   "cell_type": "markdown",
   "metadata": {},
   "source": [
    "### Tuple Methods\n",
    "Methods that add items or remove items are not available with tuple. Only the following two methods are available.\n",
    "\n",
    "count(x)\tReturns the number of items x\n",
    "\n",
    "index(x)\tReturns the index of the first item that is equal to x"
   ]
  },
  {
   "cell_type": "code",
   "execution_count": 19,
   "metadata": {},
   "outputs": [
    {
     "name": "stdout",
     "output_type": "stream",
     "text": [
      "2\n",
      "3\n"
     ]
    }
   ],
   "source": [
    "my_tuple = ('a','p','p','l','e',)\n",
    "\n",
    "print(my_tuple.count('p'))  # Output: 2\n",
    "print(my_tuple.index('l'))  # Output: 3"
   ]
  },
  {
   "cell_type": "code",
   "execution_count": 20,
   "metadata": {},
   "outputs": [
    {
     "ename": "ValueError",
     "evalue": "tuple.index(x): x not in tuple",
     "output_type": "error",
     "traceback": [
      "\u001b[0;31m---------------------------------------------------------------------------\u001b[0m",
      "\u001b[0;31mValueError\u001b[0m                                Traceback (most recent call last)",
      "\u001b[0;32m<ipython-input-20-777e028fb2e7>\u001b[0m in \u001b[0;36m<module>\u001b[0;34m\u001b[0m\n\u001b[0;32m----> 1\u001b[0;31m \u001b[0mmy_tuple\u001b[0m\u001b[0;34m.\u001b[0m\u001b[0mindex\u001b[0m\u001b[0;34m(\u001b[0m\u001b[0;34m'8'\u001b[0m\u001b[0;34m)\u001b[0m\u001b[0;34m\u001b[0m\u001b[0;34m\u001b[0m\u001b[0m\n\u001b[0m",
      "\u001b[0;31mValueError\u001b[0m: tuple.index(x): x not in tuple"
     ]
    }
   ],
   "source": [
    "my_tuple.index('8')"
   ]
  },
  {
   "cell_type": "markdown",
   "metadata": {},
   "source": [
    "### Other Tuple Operations\n",
    "1. Tuple Membership Test\n",
    "\n",
    "We can test if an item exists in a tuple or not, using the keyword in."
   ]
  },
  {
   "cell_type": "code",
   "execution_count": 21,
   "metadata": {},
   "outputs": [
    {
     "name": "stdout",
     "output_type": "stream",
     "text": [
      "True\n",
      "False\n",
      "True\n"
     ]
    }
   ],
   "source": [
    "my_tuple = ('a','p','p','l','e',)\n",
    "\n",
    "# In operation\n",
    "# Output: True\n",
    "print('a' in my_tuple)\n",
    "\n",
    "# Output: False\n",
    "print('b' in my_tuple)\n",
    "\n",
    "# Not in operation\n",
    "# Output: True\n",
    "print('g' not in my_tuple)"
   ]
  },
  {
   "cell_type": "markdown",
   "metadata": {},
   "source": [
    "2. Iterating Through a Tuple\n",
    "\n",
    "Using a for loop we can iterate through each item in a tuple."
   ]
  },
  {
   "cell_type": "code",
   "execution_count": 7,
   "metadata": {},
   "outputs": [
    {
     "name": "stdout",
     "output_type": "stream",
     "text": [
      "Hello John\n",
      "Hello Kate\n"
     ]
    }
   ],
   "source": [
    "# Output: \n",
    "# Hello John\n",
    "# Hello Kate\n",
    "for name in ('John','Kate'):\n",
    "     print(\"Hello\",name)   "
   ]
  },
  {
   "cell_type": "markdown",
   "metadata": {},
   "source": [
    "### Advantages of Tuple over List\n",
    "Since tuples are quite similar to lists, both of them are used in similar situations as well.\n",
    "\n",
    "However, there are certain advantages of implementing a tuple over a list. Below listed are some of the main advantages:\n",
    "<ul>\n",
    "    <li>We generally use tuple for heterogeneous (different) datatypes and list for homogeneous (similar) datatypes.\n",
    "    <li>Since tuples are immutable, iterating through tuple is faster than with list. So there is a slight performance boost.\n",
    "    <li>Tuples that contain immutable elements can be used as a key for a dictionary. With lists, this is not possible.\n",
    "    <li>If you have data that doesn't change, implementing it as tuple will guarantee that it remains write-protected.\n",
    "</ul>"
   ]
  },
  {
   "cell_type": "markdown",
   "metadata": {},
   "source": [
    "### 2.3.5  Set"
   ]
  },
  {
   "cell_type": "markdown",
   "metadata": {},
   "source": [
    "A set is an unordered collection of items. Every element is unique (no duplicates) and must be immutable (which cannot be changed).\n",
    "\n",
    "Sets are an unordered collection of *unique* elements. We can construct them by using the set() function. Let's go ahead and make a set to see how it works\n",
    "\n",
    "However, the set itself is mutable. We can add or remove items from it. Sets can be used to perform mathematical set operations like union, intersection, symmetric difference etc.\n",
    "\n",
    "\n",
    "### How to create a set?\n",
    "A set is created by placing all the items (elements) inside curly braces {}, separated by comma or by using the built-in function set().\n",
    "\n",
    "It can have any number of items and they may be of different types (integer, float, tuple, string etc.). But a set cannot have a mutable element, like list, set or dictionary, as its element."
   ]
  },
  {
   "cell_type": "code",
   "execution_count": 24,
   "metadata": {},
   "outputs": [
    {
     "name": "stdout",
     "output_type": "stream",
     "text": [
      "{1, 2, 3}\n",
      "{1.0, 'Hello', (1, 2, 3)}\n"
     ]
    }
   ],
   "source": [
    "# set of integers\n",
    "my_set = {1, 2, 3}\n",
    "print(my_set)\n",
    "\n",
    "# set of mixed datatypes\n",
    "my_set = {1.0, \"Hello\", (1, 2, 3)}\n",
    "print(my_set)"
   ]
  },
  {
   "cell_type": "code",
   "execution_count": 26,
   "metadata": {},
   "outputs": [
    {
     "ename": "TypeError",
     "evalue": "unhashable type: 'list'",
     "output_type": "error",
     "traceback": [
      "\u001b[0;31m---------------------------------------------------------------------------\u001b[0m",
      "\u001b[0;31mTypeError\u001b[0m                                 Traceback (most recent call last)",
      "\u001b[0;32m<ipython-input-26-d3b9e1a95e6e>\u001b[0m in \u001b[0;36m<module>\u001b[0;34m\u001b[0m\n\u001b[0;32m----> 1\u001b[0;31m \u001b[0mmy_set\u001b[0m \u001b[0;34m=\u001b[0m \u001b[0;34m{\u001b[0m\u001b[0;36m1.0\u001b[0m\u001b[0;34m,\u001b[0m \u001b[0;34m\"Hello\"\u001b[0m\u001b[0;34m,\u001b[0m \u001b[0;34m[\u001b[0m\u001b[0;36m1\u001b[0m\u001b[0;34m,\u001b[0m \u001b[0;36m2\u001b[0m\u001b[0;34m,\u001b[0m \u001b[0;36m3\u001b[0m\u001b[0;34m]\u001b[0m\u001b[0;34m}\u001b[0m\u001b[0;34m\u001b[0m\u001b[0;34m\u001b[0m\u001b[0m\n\u001b[0m\u001b[1;32m      2\u001b[0m \u001b[0mmy_set\u001b[0m\u001b[0;34m\u001b[0m\u001b[0;34m\u001b[0m\u001b[0m\n",
      "\u001b[0;31mTypeError\u001b[0m: unhashable type: 'list'"
     ]
    }
   ],
   "source": [
    "my_set = {1.0, \"Hello\", [1, 2, 3]}\n",
    "my_set"
   ]
  },
  {
   "cell_type": "code",
   "execution_count": 27,
   "metadata": {},
   "outputs": [
    {
     "name": "stdout",
     "output_type": "stream",
     "text": [
      "{1, 2, 3, 4}\n",
      "{1, 2, 3}\n"
     ]
    }
   ],
   "source": [
    "# set do not have duplicates\n",
    "# Output: {1, 2, 3, 4}\n",
    "my_set = {1,2,3,4,3,2}\n",
    "print(my_set)\n",
    "\n",
    "# set cannot have mutable items\n",
    "# here [3, 4] is a mutable list\n",
    "# If you uncomment line #12,\n",
    "# this will cause an error.\n",
    "# TypeError: unhashable type: 'list'\n",
    "\n",
    "#my_set = {1, 2, [3, 4]}\n",
    "\n",
    "# we can make set from a list\n",
    "# Output: {1, 2, 3}\n",
    "my_set = set([1,2,3,2])\n",
    "print(my_set)"
   ]
  },
  {
   "cell_type": "markdown",
   "metadata": {},
   "source": [
    "#### Creating an empty set is a bit tricky.\n",
    "\n",
    "Empty curly braces {} will make an empty dictionary in Python. To make a set without any elements we use the set() function without any argument."
   ]
  },
  {
   "cell_type": "code",
   "execution_count": 28,
   "metadata": {},
   "outputs": [
    {
     "name": "stdout",
     "output_type": "stream",
     "text": [
      "<class 'dict'>\n",
      "<class 'set'>\n"
     ]
    }
   ],
   "source": [
    "# initialize a with {}\n",
    "a = {}\n",
    "\n",
    "# check data type of a\n",
    "# Output: <class 'dict'>\n",
    "print(type(a))\n",
    "\n",
    "# initialize a with set()\n",
    "a = set()\n",
    "\n",
    "# check data type of a\n",
    "# Output: <class 'set'>\n",
    "print(type(a))"
   ]
  },
  {
   "cell_type": "markdown",
   "metadata": {},
   "source": [
    "### How to change a set in Python?\n",
    "Sets are mutable. But since they are unordered, indexing have no meaning.\n",
    "\n",
    "We cannot access or change an element of set using indexing or slicing. Set does not support it.\n",
    "\n",
    "We can add single element using the add() method and multiple elements using the update() method. The update() method can take tuples, lists, strings or other sets as its argument. In all cases, duplicates are avoided."
   ]
  },
  {
   "cell_type": "code",
   "execution_count": 37,
   "metadata": {},
   "outputs": [
    {
     "name": "stdout",
     "output_type": "stream",
     "text": [
      "{1, 3}\n",
      "{1, 2, 3}\n",
      "{1, 2, 3, 4}\n",
      "{1, 2, 3, 4, 5, 6, 8}\n"
     ]
    }
   ],
   "source": [
    "# initialize my_set\n",
    "my_set = {1,3}\n",
    "print(my_set)\n",
    "\n",
    "# if you uncomment line 9,\n",
    "# you will get an error\n",
    "# TypeError: 'set' object does not support indexing\n",
    "\n",
    "#my_set[0]\n",
    "\n",
    "# add an element\n",
    "# Output: {1, 2, 3}\n",
    "my_set.add(2)\n",
    "print(my_set)\n",
    "\n",
    "# add multiple elements\n",
    "# Output: {1, 2, 3, 4}\n",
    "my_set.update([2,3,4])\n",
    "print(my_set)\n",
    "\n",
    "# add list and set\n",
    "# Output: {1, 2, 3, 4, 5, 6, 8}\n",
    "my_set.update([4,5], {1,6,8})\n",
    "print(my_set)"
   ]
  },
  {
   "cell_type": "code",
   "execution_count": 36,
   "metadata": {},
   "outputs": [],
   "source": [
    "my_set.update([4,5], {1,6,8})"
   ]
  },
  {
   "cell_type": "markdown",
   "metadata": {},
   "source": [
    "### How to remove elements from a set?\n",
    "\n",
    "A particular item can be removed from set using methods, discard() and remove().\n",
    "\n",
    "The only difference between the two is that, while using discard() if the item does not exist in the set, it remains unchanged. But remove() will raise an error in such condition.\n",
    "\n",
    "The following example will illustrate this.\n",
    "\n"
   ]
  },
  {
   "cell_type": "code",
   "execution_count": 35,
   "metadata": {},
   "outputs": [
    {
     "name": "stdout",
     "output_type": "stream",
     "text": [
      "{1, 3, 4, 5, 6}\n",
      "{1, 3, 5, 6}\n",
      "{1, 3, 5}\n",
      "{1, 3, 5}\n"
     ]
    }
   ],
   "source": [
    "# initialize my_set\n",
    "my_set = {1, 3, 4, 5, 6}\n",
    "print(my_set)\n",
    "\n",
    "# discard an element\n",
    "# Output: {1, 3, 5, 6}\n",
    "my_set.discard(4)\n",
    "print(my_set)\n",
    "\n",
    "# remove an element\n",
    "# Output: {1, 3, 5}\n",
    "my_set.remove(6)\n",
    "print(my_set)\n",
    "\n",
    "# discard an element\n",
    "# not present in my_set\n",
    "# Output: {1, 3, 5}\n",
    "my_set.discard(2)\n",
    "print(my_set)\n",
    "\n",
    "# remove an element\n",
    "# not present in my_set\n",
    "# If you uncomment line 27,\n",
    "# you will get an error.\n",
    "# Output: KeyError: 2\n",
    "\n",
    "#my_set.remove(2)"
   ]
  },
  {
   "cell_type": "markdown",
   "metadata": {},
   "source": [
    "Similarly, we can remove and return an item using the pop() method.\n",
    "\n",
    "Set being unordered, there is no way of determining which item will be popped. It is completely arbitrary.\n",
    "\n",
    "We can also remove all items from a set using clear()."
   ]
  },
  {
   "cell_type": "code",
   "execution_count": 34,
   "metadata": {},
   "outputs": [
    {
     "name": "stdout",
     "output_type": "stream",
     "text": [
      "{'H', 'l', 'r', 'd', 'W', 'e', 'o'}\n",
      "H\n",
      "{'r', 'd', 'W', 'e', 'o'}\n",
      "set()\n"
     ]
    }
   ],
   "source": [
    "# initialize my_set\n",
    "# Output: set of unique elements\n",
    "my_set = set(\"HelloWorld\")\n",
    "print(my_set)\n",
    "\n",
    "# pop an element\n",
    "# Output: random element\n",
    "print(my_set.pop())\n",
    "\n",
    "# pop another element\n",
    "# Output: random element\n",
    "my_set.pop()\n",
    "print(my_set)\n",
    "\n",
    "# clear my_set\n",
    "#Output: set()\n",
    "my_set.clear()\n",
    "print(my_set)"
   ]
  },
  {
   "cell_type": "markdown",
   "metadata": {},
   "source": [
    "### Python Set Operations\n",
    "Sets can be used to carry out mathematical set operations like union, intersection, difference and symmetric difference. We can do this with operators or methods.\n",
    "\n",
    "Let us consider the following two sets for the following operations."
   ]
  },
  {
   "cell_type": "code",
   "execution_count": 41,
   "metadata": {},
   "outputs": [
    {
     "data": {
      "text/plain": [
       "{0, 1, 2, 5, 7, 8}"
      ]
     },
     "execution_count": 41,
     "metadata": {},
     "output_type": "execute_result"
    }
   ],
   "source": [
    "# set is sorted \n",
    "s = set([5,2,7,1,8,0])\n",
    "s"
   ]
  },
  {
   "cell_type": "code",
   "execution_count": 42,
   "metadata": {},
   "outputs": [
    {
     "data": {
      "text/plain": [
       "{0, 1, 2, 3, 5, 7, 8}"
      ]
     },
     "execution_count": 42,
     "metadata": {},
     "output_type": "execute_result"
    }
   ],
   "source": [
    "s.add(3)\n",
    "s"
   ]
  },
  {
   "cell_type": "code",
   "execution_count": 43,
   "metadata": {},
   "outputs": [],
   "source": [
    "A = {1, 2, 3, 4, 5}\n",
    "B = {4, 5, 6, 7, 8}"
   ]
  },
  {
   "cell_type": "markdown",
   "metadata": {},
   "source": [
    "#### Union\n",
    "Union of A and B is a set of all elements from both sets. Union is performed using | operator. Same can be accomplished using the method union()."
   ]
  },
  {
   "cell_type": "code",
   "execution_count": 44,
   "metadata": {},
   "outputs": [
    {
     "name": "stdout",
     "output_type": "stream",
     "text": [
      "{1, 2, 3, 4, 5, 6, 7, 8}\n"
     ]
    }
   ],
   "source": [
    "# initialize A and B\n",
    "A = {1, 2, 3, 4, 5}\n",
    "B = {4, 5, 6, 7, 8}\n",
    "\n",
    "# use | operator\n",
    "# Output: {1, 2, 3, 4, 5, 6, 7, 8}\n",
    "print(A | B)"
   ]
  },
  {
   "cell_type": "markdown",
   "metadata": {},
   "source": [
    "Try the following examples on Python shell."
   ]
  },
  {
   "cell_type": "code",
   "execution_count": 45,
   "metadata": {},
   "outputs": [
    {
     "name": "stdout",
     "output_type": "stream",
     "text": [
      "{1, 2, 3, 4, 5, 6, 7, 8}\n",
      "{1, 2, 3, 4, 5, 6, 7, 8}\n"
     ]
    }
   ],
   "source": [
    "# use union function\n",
    "print(A.union(B))\n",
    "# use union function on B\n",
    "print(B.union(A))"
   ]
  },
  {
   "cell_type": "markdown",
   "metadata": {},
   "source": [
    "#### Intersection\n",
    "\n",
    "Intersection of A and B is a set of elements that are common in both sets. Intersection is performed using & operator. Same can be accomplished using the method intersection()."
   ]
  },
  {
   "cell_type": "code",
   "execution_count": 46,
   "metadata": {},
   "outputs": [
    {
     "name": "stdout",
     "output_type": "stream",
     "text": [
      "{4, 5}\n"
     ]
    }
   ],
   "source": [
    "# initialize A and B\n",
    "A = {1, 2, 3, 4, 5}\n",
    "B = {4, 5, 6, 7, 8}\n",
    "\n",
    "# use & operator\n",
    "# Output: {4, 5}\n",
    "print(A & B)"
   ]
  },
  {
   "cell_type": "code",
   "execution_count": 47,
   "metadata": {},
   "outputs": [
    {
     "name": "stdout",
     "output_type": "stream",
     "text": [
      "{4, 5}\n",
      "{4, 5}\n"
     ]
    }
   ],
   "source": [
    "#Try the following examples on Python shell.\n",
    "# use intersection function on A\n",
    "print(A.intersection(B))\n",
    "# use intersection function on B\n",
    "print(B.intersection(A))"
   ]
  },
  {
   "cell_type": "markdown",
   "metadata": {},
   "source": [
    "#### Difference of A and B \n",
    "\n",
    "(A - B) is a set of elements that are only in A but not in B. Similarly, B - A is a set of element in B but not in A. Difference is performed using - operator. Same can be accomplished using the method difference()."
   ]
  },
  {
   "cell_type": "code",
   "execution_count": 48,
   "metadata": {},
   "outputs": [
    {
     "name": "stdout",
     "output_type": "stream",
     "text": [
      "{1, 2, 3}\n"
     ]
    }
   ],
   "source": [
    "# initialize A and B\n",
    "A = {1, 2, 3, 4, 5}\n",
    "B = {4, 5, 6, 7, 8}\n",
    "\n",
    "# use - operator on A\n",
    "# Output: {1, 2, 3}\n",
    "print(A - B)"
   ]
  },
  {
   "cell_type": "code",
   "execution_count": 49,
   "metadata": {},
   "outputs": [
    {
     "name": "stdout",
     "output_type": "stream",
     "text": [
      "A-B: {1, 2, 3}\n",
      "A-B: {1, 2, 3}\n",
      "B-A: {8, 6, 7}\n",
      "B-A: {8, 6, 7}\n"
     ]
    }
   ],
   "source": [
    "#Try the following examples on Python shell.\n",
    "# use - operator on B\n",
    "print(\"A-B:\", A - B)\n",
    "# use difference function on A\n",
    "print(\"A-B:\",A.difference(B))\n",
    "# use - operator on B\n",
    "print(\"B-A:\", B - A)\n",
    "# use difference function on B\n",
    "print(\"B-A:\",B.difference(A))"
   ]
  },
  {
   "cell_type": "markdown",
   "metadata": {},
   "source": [
    "#### Set Symmetric Difference\n",
    "\n",
    "Symmetric Difference of A and B is a set of elements in both A and B except those that are common in both.\n",
    "\n",
    "Symmetric difference is performed using ^ operator. Same can be accomplished using the method symmetric_difference().\n",
    "\n"
   ]
  },
  {
   "cell_type": "code",
   "execution_count": 50,
   "metadata": {},
   "outputs": [
    {
     "name": "stdout",
     "output_type": "stream",
     "text": [
      "{1, 2, 3, 6, 7, 8}\n"
     ]
    }
   ],
   "source": [
    "# initialize A and B\n",
    "A = {1, 2, 3, 4, 5}\n",
    "B = {4, 5, 6, 7, 8}\n",
    "\n",
    "# use ^ operator\n",
    "# Output: {1, 2, 3, 6, 7, 8}\n",
    "print(A ^ B)"
   ]
  },
  {
   "cell_type": "code",
   "execution_count": 51,
   "metadata": {},
   "outputs": [
    {
     "name": "stdout",
     "output_type": "stream",
     "text": [
      "{1, 2, 3, 6, 7, 8}\n",
      "{1, 2, 3, 6, 7, 8}\n"
     ]
    }
   ],
   "source": [
    "#Try the following examples on Python shell.\n",
    "# use symmetric_difference function on A\n",
    "print(A.symmetric_difference(B))\n",
    "# use symmetric_difference function on B\n",
    "print(B.symmetric_difference(A))"
   ]
  },
  {
   "cell_type": "code",
   "execution_count": 52,
   "metadata": {},
   "outputs": [
    {
     "name": "stdout",
     "output_type": "stream",
     "text": [
      "{1, 2, 3, 6, 7, 8}\n"
     ]
    }
   ],
   "source": [
    "print((B-A)|(A-B))"
   ]
  },
  {
   "cell_type": "markdown",
   "metadata": {},
   "source": [
    "#### Different Python Set Methods\n",
    "There are many set methods, some of which we have already used above. Here is a list of all the methods that are available with set objects.\n",
    "\n",
    "#### Python Set Methods  Method\tDescription\n",
    "\n",
    "- **add()**: Adds an element to the set\n",
    "- **clear()**: Removes all elements from the set\n",
    "- **copy()**: Returns a copy of the set\n",
    "- **difference()**: Returns the difference of two or more sets as a new set\n",
    "- **difference_update()**: Removes all elements of another set from this set\n",
    "- **discard()**: Removes an element from the set if it is a member. (Do nothing if the element is not in set)\n",
    "- **intersection()**: Returns the intersection of two sets as a new set\n",
    "- **intersection_update()**: Updates the set with the intersection of itself and another\n",
    "- **isdisjoint()**: Returns True if two sets have a null intersection\n",
    "- **issubset()**: Returns True if another set contains this set\n",
    "- **issuperset()**: Returns True if this set contains another set\n",
    "- **pop()**: Removes and returns an arbitary set element. Raise KeyError if the set is empty\n",
    "- **remove()**:\tRemoves an element from the set. If the element is not a member, raise a KeyError\n",
    "- **symmetric_difference()**: Returns the symmetric difference of two sets as a new set\n",
    "- **symmetric_difference_update()**: Updates a set with the symmetric difference of itself and another\n",
    "- **union()**:\tReturns the union of sets in a new set\n",
    "- **update()**:\tUpdates the set with the union of itself and others\n",
    "- **discard()**: this method removes the specified item from the set. It is different from the remove() method, because the remove() method will raise an error if the specified item does not exist, and the discard() method will not.\n",
    "\n"
   ]
  },
  {
   "cell_type": "code",
   "execution_count": 75,
   "metadata": {},
   "outputs": [],
   "source": [
    "A = {1, 2, 3, 4, 5}\n",
    "B = {4, 5, 6, 7, 8}"
   ]
  },
  {
   "cell_type": "code",
   "execution_count": 76,
   "metadata": {},
   "outputs": [
    {
     "name": "stdout",
     "output_type": "stream",
     "text": [
      "add: {1, 2, 3, 4, 5, 'Add'}\n"
     ]
    }
   ],
   "source": [
    "A.add('Add')\n",
    "print(\"add:\",A)"
   ]
  },
  {
   "cell_type": "code",
   "execution_count": 77,
   "metadata": {},
   "outputs": [
    {
     "name": "stdout",
     "output_type": "stream",
     "text": [
      "clear: set()\n"
     ]
    }
   ],
   "source": [
    "A.clear()\n",
    "print(\"clear:\",A)"
   ]
  },
  {
   "cell_type": "code",
   "execution_count": 78,
   "metadata": {},
   "outputs": [
    {
     "name": "stdout",
     "output_type": "stream",
     "text": [
      "copy: {1, 2, 3, 4, 5}\n"
     ]
    }
   ],
   "source": [
    "import copy\n",
    "A = copy.copy({1, 2, 3, 4, 5})\n",
    "print(\"copy:\",A)"
   ]
  },
  {
   "cell_type": "code",
   "execution_count": 79,
   "metadata": {},
   "outputs": [
    {
     "name": "stdout",
     "output_type": "stream",
     "text": [
      "cpy: {1, 2, 3, 4, 5}\n"
     ]
    }
   ],
   "source": [
    "cpy = A.copy()\n",
    "print(\"cpy:\",cpy)"
   ]
  },
  {
   "cell_type": "code",
   "execution_count": 80,
   "metadata": {},
   "outputs": [
    {
     "name": "stdout",
     "output_type": "stream",
     "text": [
      "A/B: {1, 2, 3}\n",
      "A-B: {1, 2, 3}\n"
     ]
    }
   ],
   "source": [
    "print(\"A/B:\",A.difference(B))\n",
    "print(\"A-B:\",A-B)"
   ]
  },
  {
   "cell_type": "code",
   "execution_count": 81,
   "metadata": {},
   "outputs": [
    {
     "name": "stdout",
     "output_type": "stream",
     "text": [
      "B/A: {8, 6, 7}\n",
      "B-A: {8, 6, 7}\n"
     ]
    }
   ],
   "source": [
    "print(\"B/A:\",B.difference(A))\n",
    "print(\"B-A:\",B-A)"
   ]
  },
  {
   "cell_type": "code",
   "execution_count": 82,
   "metadata": {},
   "outputs": [
    {
     "name": "stdout",
     "output_type": "stream",
     "text": [
      "difference_update(): {1, 2, 3}\n"
     ]
    }
   ],
   "source": [
    "A.difference_update(B)\n",
    "print(\"difference_update():\",A)"
   ]
  },
  {
   "cell_type": "code",
   "execution_count": 83,
   "metadata": {},
   "outputs": [
    {
     "name": "stdout",
     "output_type": "stream",
     "text": [
      "discard: {2, 3}\n"
     ]
    }
   ],
   "source": [
    "A.discard(1)\n",
    "print(\"discard:\",A)"
   ]
  },
  {
   "cell_type": "code",
   "execution_count": 84,
   "metadata": {},
   "outputs": [
    {
     "name": "stdout",
     "output_type": "stream",
     "text": [
      "intersection(): set()\n",
      "A & B: set()\n",
      "intersection_update(): set()\n"
     ]
    }
   ],
   "source": [
    "print(\"intersection():\",A.intersection(B))\n",
    "print(\"A & B:\",A & B)\n",
    "A.intersection_update(B)\n",
    "print(\"intersection_update():\",A)"
   ]
  },
  {
   "cell_type": "code",
   "execution_count": 85,
   "metadata": {},
   "outputs": [
    {
     "name": "stdout",
     "output_type": "stream",
     "text": [
      "copy: {1, 2, 3, 4, 5}\n"
     ]
    }
   ],
   "source": [
    "A = {1, 2, 3, 4, 5}.copy()\n",
    "print(\"copy:\",A)"
   ]
  },
  {
   "cell_type": "code",
   "execution_count": 86,
   "metadata": {},
   "outputs": [
    {
     "name": "stdout",
     "output_type": "stream",
     "text": [
      "pop(): {2, 3, 4, 5}\n"
     ]
    }
   ],
   "source": [
    "A.pop()\n",
    "print(\"pop():\",A)"
   ]
  },
  {
   "cell_type": "code",
   "execution_count": 87,
   "metadata": {},
   "outputs": [
    {
     "name": "stdout",
     "output_type": "stream",
     "text": [
      "remove(): {3, 4, 5}\n"
     ]
    }
   ],
   "source": [
    "A.remove(2)\n",
    "print(\"remove():\",A)"
   ]
  },
  {
   "cell_type": "code",
   "execution_count": 88,
   "metadata": {},
   "outputs": [
    {
     "name": "stdout",
     "output_type": "stream",
     "text": [
      "symmetric_difference(): {3, 6, 7, 8}\n"
     ]
    }
   ],
   "source": [
    "print(\"symmetric_difference():\",A.symmetric_difference(B))"
   ]
  },
  {
   "cell_type": "code",
   "execution_count": 89,
   "metadata": {},
   "outputs": [
    {
     "name": "stdout",
     "output_type": "stream",
     "text": [
      "symmetric_difference_update(): None\n"
     ]
    }
   ],
   "source": [
    "print(\"symmetric_difference_update():\",A.symmetric_difference_update(B))"
   ]
  },
  {
   "cell_type": "code",
   "execution_count": 90,
   "metadata": {},
   "outputs": [
    {
     "data": {
      "text/plain": [
       "{3, 6, 7, 8}"
      ]
     },
     "execution_count": 90,
     "metadata": {},
     "output_type": "execute_result"
    }
   ],
   "source": [
    "A"
   ]
  },
  {
   "cell_type": "code",
   "execution_count": 91,
   "metadata": {},
   "outputs": [
    {
     "name": "stdout",
     "output_type": "stream",
     "text": [
      "union(): {3, 4, 5, 6, 7, 8}\n",
      "A|B: {3, 4, 5, 6, 7, 8}\n"
     ]
    }
   ],
   "source": [
    "print(\"union():\",A.union(B))\n",
    "print(\"A|B:\",A | B)"
   ]
  },
  {
   "cell_type": "code",
   "execution_count": 92,
   "metadata": {},
   "outputs": [
    {
     "data": {
      "text/plain": [
       "{4, 5, 6, 7, 8}"
      ]
     },
     "execution_count": 92,
     "metadata": {},
     "output_type": "execute_result"
    }
   ],
   "source": [
    "B"
   ]
  },
  {
   "cell_type": "code",
   "execution_count": 93,
   "metadata": {},
   "outputs": [
    {
     "data": {
      "text/plain": [
       "{3, 6, 7, 8}"
      ]
     },
     "execution_count": 93,
     "metadata": {},
     "output_type": "execute_result"
    }
   ],
   "source": [
    "A"
   ]
  },
  {
   "cell_type": "code",
   "execution_count": 94,
   "metadata": {},
   "outputs": [
    {
     "name": "stdout",
     "output_type": "stream",
     "text": [
      "update(): {3, 4, 5, 6, 7, 8}\n"
     ]
    }
   ],
   "source": [
    "A.update(B)\n",
    "print(\"update():\",A)  "
   ]
  },
  {
   "cell_type": "code",
   "execution_count": 95,
   "metadata": {},
   "outputs": [
    {
     "data": {
      "text/plain": [
       "False"
      ]
     },
     "execution_count": 95,
     "metadata": {},
     "output_type": "execute_result"
    }
   ],
   "source": [
    "A.isdisjoint(B)"
   ]
  },
  {
   "cell_type": "code",
   "execution_count": 96,
   "metadata": {},
   "outputs": [
    {
     "data": {
      "text/plain": [
       "False"
      ]
     },
     "execution_count": 96,
     "metadata": {},
     "output_type": "execute_result"
    }
   ],
   "source": [
    "A.issubset(B)"
   ]
  },
  {
   "cell_type": "code",
   "execution_count": 97,
   "metadata": {},
   "outputs": [
    {
     "data": {
      "text/plain": [
       "True"
      ]
     },
     "execution_count": 97,
     "metadata": {},
     "output_type": "execute_result"
    }
   ],
   "source": [
    "A.issuperset(B)"
   ]
  },
  {
   "cell_type": "code",
   "execution_count": 98,
   "metadata": {},
   "outputs": [
    {
     "data": {
      "text/plain": [
       "False"
      ]
     },
     "execution_count": 98,
     "metadata": {},
     "output_type": "execute_result"
    }
   ],
   "source": [
    "A.isdisjoint(B)"
   ]
  },
  {
   "cell_type": "markdown",
   "metadata": {},
   "source": [
    "### Other Set Operations\n",
    "#### Set Membership Test\n",
    "We can test if an item exists in a set or not, using the keyword in."
   ]
  },
  {
   "cell_type": "code",
   "execution_count": null,
   "metadata": {},
   "outputs": [],
   "source": [
    "# initialize my_set\n",
    "my_set = set(\"apple\")\n",
    "print(my_set)\n",
    "\n",
    "# check if 'a' is present\n",
    "# Output: True\n",
    "print('a' in my_set)\n",
    "\n",
    "# check if 'p' is present\n",
    "# Output: False\n",
    "print('p' not in my_set)"
   ]
  },
  {
   "cell_type": "markdown",
   "metadata": {},
   "source": [
    "### Iterating Through a Set\n",
    "Using a for loop, we can iterate though each item in a set."
   ]
  },
  {
   "cell_type": "code",
   "execution_count": null,
   "metadata": {},
   "outputs": [],
   "source": [
    "for letter in set(\"apple\"):\n",
    "     print(letter)"
   ]
  },
  {
   "cell_type": "markdown",
   "metadata": {},
   "source": [
    "Notice how it won't place another 1 there. That's because a set is only concerned with unique elements! We can cast a list with multiple repeat elements to a set to get the unique elements. For example:"
   ]
  },
  {
   "cell_type": "code",
   "execution_count": 99,
   "metadata": {},
   "outputs": [
    {
     "name": "stdout",
     "output_type": "stream",
     "text": [
      "{1, 2}\n"
     ]
    }
   ],
   "source": [
    "x = set()\n",
    "x.add(1)\n",
    "x.add(2)\n",
    "x.add(1)\n",
    "print(x)"
   ]
  },
  {
   "cell_type": "code",
   "execution_count": 100,
   "metadata": {},
   "outputs": [
    {
     "data": {
      "text/plain": [
       "{1, 2, 3, 4, 5, 6}"
      ]
     },
     "execution_count": 100,
     "metadata": {},
     "output_type": "execute_result"
    }
   ],
   "source": [
    "# Create a list with repeats\n",
    "list1 = [1,1,2,2,3,4,5,6,1,1]\n",
    "# Cast as set to get unique values\n",
    "set(list1)"
   ]
  },
  {
   "cell_type": "markdown",
   "metadata": {},
   "source": [
    "### Built-in Functions with Set\n",
    "Built-in functions like all(), any(), enumerate(), len(), max(), min(), sorted(), sum() etc. are commonly used with set to perform different tasks.\n",
    "\n",
    "Function\tDescription\n",
    "\n",
    "- **all()**\tReturn True if all elements of the set are true (or if the set is empty).\n",
    "\n",
    "- **any()**\tReturn True if any element of the set is true. If the set is empty, return False.\n",
    "\n",
    "- **enumerate()**\tReturn an enumerate object. It contains the index and value of all the items of set as a pair.\n",
    "\n",
    "- **len()**\tReturn the length (the number of items) in the set.\n",
    "\n",
    "- **max()**\tReturn the largest item in the set.\n",
    "\n",
    "- **min()**\tReturn the smallest item in the set.\n",
    "\n",
    "- **sorted()**\tReturn a new sorted list from elements in the set(does not sort the set itself).\n",
    "\n",
    "- **sum()**\tRetrun the sum of all elements in the set."
   ]
  },
  {
   "cell_type": "code",
   "execution_count": 101,
   "metadata": {},
   "outputs": [
    {
     "name": "stdout",
     "output_type": "stream",
     "text": [
      "All(set1): False\n",
      "Any(set1): True\n",
      "All(set2): True\n",
      "Any(set2): True\n",
      "All(set3): True\n",
      "Any(set3): True\n",
      "All(set4): True\n",
      "Any(set4): True\n",
      "All(set5): True\n",
      "Any(set5): False\n"
     ]
    }
   ],
   "source": [
    "set1 = {0, 1, 2, 3, 4, 5, 6}\n",
    "print(\"All(set1):\", all(set1))\n",
    "print(\"Any(set1):\", any(set1))\n",
    "set2 = {1, 2, 3, 4, 5, 6}\n",
    "print(\"All(set2):\", all(set2))\n",
    "print(\"Any(set2):\", any(set2))\n",
    "set3 = {-1, 1, 2, 3, 4, 5, 6}\n",
    "print(\"All(set3):\", all(set3))\n",
    "print(\"Any(set3):\", any(set3))\n",
    "set4 = {0.6, -1, 1, 2, 3, 4, 5, 6}\n",
    "print(\"All(set4):\", all(set4))\n",
    "print(\"Any(set4):\", any(set4))\n",
    "set5 = {}\n",
    "print(\"All(set5):\", all(set5))\n",
    "print(\"Any(set5):\", any(set5))"
   ]
  },
  {
   "cell_type": "markdown",
   "metadata": {},
   "source": [
    "### Python Frozenset\n",
    "- Frozenset is a new class that has the characteristics of a set, but its elements cannot be changed once assigned. While tuples are immutable lists, frozensets are also immutable sets.\n",
    "- Sets being mutable are unhashable, so they can't be used as dictionary keys. On the other hand, frozensets are hashable and can be used as keys to a dictionary.\n",
    "- Frozensets can be created using the function **frozenset()**.\n",
    "- This datatype supports methods like copy(), difference(), intersection(), isdisjoint(), issubset(), issuperset(), symmetric_difference() and union(). Being immutable it does not have method that add or remove elements."
   ]
  },
  {
   "cell_type": "code",
   "execution_count": 102,
   "metadata": {},
   "outputs": [
    {
     "name": "stdout",
     "output_type": "stream",
     "text": [
      "frozenset({1, 2, 3, 4})\n",
      "frozenset({3, 4, 5, 6})\n"
     ]
    }
   ],
   "source": [
    "# initialize A and B\n",
    "A = frozenset([1, 2, 3, 4])\n",
    "B = frozenset([3, 4, 5, 6])\n",
    "print(A)\n",
    "print(B)"
   ]
  },
  {
   "cell_type": "code",
   "execution_count": 103,
   "metadata": {},
   "outputs": [
    {
     "name": "stdout",
     "output_type": "stream",
     "text": [
      "False\n",
      "frozenset({1, 2})\n",
      "frozenset({1, 2, 3, 4, 5, 6})\n"
     ]
    },
    {
     "ename": "AttributeError",
     "evalue": "'frozenset' object has no attribute 'add'",
     "output_type": "error",
     "traceback": [
      "\u001b[0;31m---------------------------------------------------------------------------\u001b[0m",
      "\u001b[0;31mAttributeError\u001b[0m                            Traceback (most recent call last)",
      "\u001b[0;32m<ipython-input-103-6e95d746a166>\u001b[0m in \u001b[0;36m<module>\u001b[0;34m\u001b[0m\n\u001b[1;32m      3\u001b[0m \u001b[0mprint\u001b[0m\u001b[0;34m(\u001b[0m\u001b[0mA\u001b[0m\u001b[0;34m.\u001b[0m\u001b[0mdifference\u001b[0m\u001b[0;34m(\u001b[0m\u001b[0mB\u001b[0m\u001b[0;34m)\u001b[0m\u001b[0;34m)\u001b[0m\u001b[0;34m\u001b[0m\u001b[0;34m\u001b[0m\u001b[0m\n\u001b[1;32m      4\u001b[0m \u001b[0mprint\u001b[0m\u001b[0;34m(\u001b[0m\u001b[0mA\u001b[0m \u001b[0;34m|\u001b[0m \u001b[0mB\u001b[0m\u001b[0;34m)\u001b[0m\u001b[0;34m\u001b[0m\u001b[0;34m\u001b[0m\u001b[0m\n\u001b[0;32m----> 5\u001b[0;31m \u001b[0mprint\u001b[0m\u001b[0;34m(\u001b[0m\u001b[0mA\u001b[0m\u001b[0;34m.\u001b[0m\u001b[0madd\u001b[0m\u001b[0;34m(\u001b[0m\u001b[0;36m3\u001b[0m\u001b[0;34m)\u001b[0m\u001b[0;34m)\u001b[0m\u001b[0;34m\u001b[0m\u001b[0;34m\u001b[0m\u001b[0m\n\u001b[0m",
      "\u001b[0;31mAttributeError\u001b[0m: 'frozenset' object has no attribute 'add'"
     ]
    }
   ],
   "source": [
    "#Try these examples on Python shell.\n",
    "print(A.isdisjoint(B))\n",
    "print(A.difference(B))\n",
    "print(A | B)\n",
    "print(A.add(3))"
   ]
  },
  {
   "cell_type": "markdown",
   "metadata": {},
   "source": [
    "### 2.3.6  Dictionary"
   ]
  },
  {
   "cell_type": "markdown",
   "metadata": {},
   "source": [
    "- Python dictionary is an unordered collection of items. While other compound data types have only value as an element, a dictionary has a key: value pair. Dictionaries are optimized to retrieve values when the key is known.\n",
    "- We've been learning about *sequences* in Python but now we're going to switch gears and learn about *mappings* in Python. If you're familiar with other languages you can think of these Dictionaries as hash tables. \n",
    "- So what are mappings? Mappings are a collection of objects that are stored by a *key*, unlike a sequence that stored objects by their relative position. This is an important distinction, since mappings won't retain order since they have objects defined by a key.\n",
    "- A Python dictionary consists of a key and then an associated value. That value can be almost any Python object.\n",
    "\n",
    "### How to create a dictionary?\n",
    "- Creating a dictionary is as simple as placing items inside curly braces {} separated by comma.\n",
    "- An item has a key and the corresponding value expressed as a pair, key: value.\n",
    "- While values can be of any data type and can repeat, keys must be of immutable type (string, number or tuple with immutable elements) and must be unique."
   ]
  },
  {
   "cell_type": "code",
   "execution_count": 1,
   "metadata": {},
   "outputs": [
    {
     "data": {
      "text/plain": [
       "{1: 'apple', 2: 'ball'}"
      ]
     },
     "execution_count": 1,
     "metadata": {},
     "output_type": "execute_result"
    }
   ],
   "source": [
    "# empty dictionary\n",
    "my_dict = {}\n",
    "# dictionary with integer keys\n",
    "my_dict = {1: 'apple', 2: 'ball'}\n",
    "# dictionary with mixed keys\n",
    "my_dict = {'name': 'John', 1: [2, 4, 3]}\n",
    "# using dict()\n",
    "my_dict = dict({1:'apple', 2:'ball'})\n",
    "# from sequence having each item as a pair\n",
    "my_dict = dict([(1,'apple'), (2,'ball')])\n",
    "my_dict"
   ]
  },
  {
   "cell_type": "markdown",
   "metadata": {},
   "source": [
    "How to access elements from a dictionary? While indexing is used with other container types to access values, dictionary uses keys. Key can be used either inside square brackets or with the **get()** method. The difference while using get() is that it returns None instead of KeyError, if the key is not found."
   ]
  },
  {
   "cell_type": "code",
   "execution_count": 2,
   "metadata": {},
   "outputs": [
    {
     "name": "stdout",
     "output_type": "stream",
     "text": [
      "Jack\n",
      "26\n"
     ]
    }
   ],
   "source": [
    "my_dict = {'name':'Jack', 'age': 26}\n",
    "\n",
    "# Output: Jack\n",
    "print(my_dict['name'])\n",
    "\n",
    "# Output: 26\n",
    "print(my_dict.get('age'))"
   ]
  },
  {
   "cell_type": "code",
   "execution_count": 4,
   "metadata": {},
   "outputs": [],
   "source": [
    "# Trying to access keys which doesn't exist throws error\n",
    "my_dict.get('address') # doesn't throw error"
   ]
  },
  {
   "cell_type": "code",
   "execution_count": 5,
   "metadata": {},
   "outputs": [
    {
     "ename": "KeyError",
     "evalue": "'address'",
     "output_type": "error",
     "traceback": [
      "\u001b[0;31m---------------------------------------------------------------------------\u001b[0m",
      "\u001b[0;31mKeyError\u001b[0m                                  Traceback (most recent call last)",
      "\u001b[0;32m<ipython-input-5-2132becdb645>\u001b[0m in \u001b[0;36m<module>\u001b[0;34m\u001b[0m\n\u001b[0;32m----> 1\u001b[0;31m \u001b[0mmy_dict\u001b[0m\u001b[0;34m[\u001b[0m\u001b[0;34m'address'\u001b[0m\u001b[0;34m]\u001b[0m \u001b[0;31m# throws error\u001b[0m\u001b[0;34m\u001b[0m\u001b[0;34m\u001b[0m\u001b[0m\n\u001b[0m",
      "\u001b[0;31mKeyError\u001b[0m: 'address'"
     ]
    }
   ],
   "source": [
    "my_dict['address'] # throws error"
   ]
  },
  {
   "cell_type": "markdown",
   "metadata": {},
   "source": [
    "### How to change or add elements in a dictionary?\n",
    "Dictionary are mutable. We can add new items or change the value of existing items using assignment operator. If the key is already present, value gets updated, else a new key: value pair is added to the dictionary."
   ]
  },
  {
   "cell_type": "code",
   "execution_count": 6,
   "metadata": {},
   "outputs": [
    {
     "name": "stdout",
     "output_type": "stream",
     "text": [
      "{'name': 'Jack', 'age': 27}\n",
      "{'name': 'Jack', 'age': 27, 'address': 'Downtown'}\n"
     ]
    }
   ],
   "source": [
    "my_dict = {'name':'Jack', 'age': 26}\n",
    "\n",
    "# update value\n",
    "my_dict['age'] = 27\n",
    "\n",
    "#Output: {'age': 27, 'name': 'Jack'}\n",
    "print(my_dict)\n",
    "\n",
    "# add item\n",
    "my_dict['address'] = 'Downtown'  \n",
    "\n",
    "# Output: {'address': 'Downtown', 'age': 27, 'name': 'Jack'}\n",
    "print(my_dict)"
   ]
  },
  {
   "cell_type": "markdown",
   "metadata": {},
   "source": [
    "### Nesting with Dictionaries\n",
    "\n",
    "Hopefully you're starting to see how powerful Python is with its flexibility of nesting objects and calling methods on them. Let's see a dictionary nested inside a dictionary:"
   ]
  },
  {
   "cell_type": "code",
   "execution_count": 7,
   "metadata": {},
   "outputs": [
    {
     "data": {
      "text/plain": [
       "{'key1': {'nestkey': {'subnestkey': 'value'}}}"
      ]
     },
     "execution_count": 7,
     "metadata": {},
     "output_type": "execute_result"
    }
   ],
   "source": [
    "# Dictionary nested inside a dictionary nested inside a dictionary\n",
    "d = {'key1':{'nestkey':{'subnestkey':'value'}}}\n",
    "d"
   ]
  },
  {
   "cell_type": "markdown",
   "metadata": {},
   "source": [
    "Wow! That's a quite the inception of dictionaries! Let's see how we can grab that value:"
   ]
  },
  {
   "cell_type": "code",
   "execution_count": 8,
   "metadata": {},
   "outputs": [
    {
     "data": {
      "text/plain": [
       "'value'"
      ]
     },
     "execution_count": 8,
     "metadata": {},
     "output_type": "execute_result"
    }
   ],
   "source": [
    "# Keep calling the keys\n",
    "d['key1']['nestkey']['subnestkey']"
   ]
  },
  {
   "cell_type": "markdown",
   "metadata": {},
   "source": [
    "### How to delete or remove elements from a dictionary?\n",
    "\n",
    "We can remove a particular item in a dictionary by using the method pop(). This method removes as item with the provided key and returns the value.\n",
    "\n",
    "The method, popitem() can be used to remove and return an arbitrary item (key, value) form the dictionary. All the items can be removed at once using the clear() method.\n",
    "\n",
    "We can also use the del keyword to remove individual items or the entire dictionary itself.\n",
    "\n"
   ]
  },
  {
   "cell_type": "code",
   "execution_count": 9,
   "metadata": {},
   "outputs": [
    {
     "name": "stdout",
     "output_type": "stream",
     "text": [
      "16\n",
      "{1: 1, 2: 4, 3: 9, 5: 25}\n",
      "(5, 25)\n",
      "{1: 1, 2: 4, 3: 9}\n",
      "{2: 4, 3: 9}\n",
      "{}\n"
     ]
    },
    {
     "ename": "NameError",
     "evalue": "name 'squares' is not defined",
     "output_type": "error",
     "traceback": [
      "\u001b[0;31m---------------------------------------------------------------------------\u001b[0m",
      "\u001b[0;31mNameError\u001b[0m                                 Traceback (most recent call last)",
      "\u001b[0;32m<ipython-input-9-04c3788f1c49>\u001b[0m in \u001b[0;36m<module>\u001b[0;34m\u001b[0m\n\u001b[1;32m     32\u001b[0m \u001b[0;34m\u001b[0m\u001b[0m\n\u001b[1;32m     33\u001b[0m \u001b[0;31m# Throws Error\u001b[0m\u001b[0;34m\u001b[0m\u001b[0;34m\u001b[0m\u001b[0;34m\u001b[0m\u001b[0m\n\u001b[0;32m---> 34\u001b[0;31m \u001b[0mprint\u001b[0m\u001b[0;34m(\u001b[0m\u001b[0msquares\u001b[0m\u001b[0;34m)\u001b[0m\u001b[0;34m\u001b[0m\u001b[0;34m\u001b[0m\u001b[0m\n\u001b[0m",
      "\u001b[0;31mNameError\u001b[0m: name 'squares' is not defined"
     ]
    }
   ],
   "source": [
    "# create a dictionary\n",
    "squares = {1:1, 2:4, 3:9, 4:16, 5:25}  \n",
    "\n",
    "# remove a particular item\n",
    "# Output: 16\n",
    "print(squares.pop(4))  \n",
    "\n",
    "# Output: {1: 1, 2: 4, 3: 9, 5: 25}\n",
    "print(squares)\n",
    "\n",
    "# remove an arbitrary item\n",
    "# Output: (1, 1)\n",
    "print(squares.popitem())\n",
    "\n",
    "# Output: {2: 4, 3: 9, 5: 25}\n",
    "print(squares)\n",
    "\n",
    "# delete a particular item\n",
    "del squares[1]  \n",
    "\n",
    "# Output: {2: 4, 3: 9}\n",
    "print(squares)\n",
    "\n",
    "# remove all items\n",
    "squares.clear()\n",
    "\n",
    "# Output: {}\n",
    "print(squares)\n",
    "\n",
    "# delete the dictionary itself\n",
    "del squares\n",
    "\n",
    "# Throws Error\n",
    "print(squares)"
   ]
  },
  {
   "cell_type": "markdown",
   "metadata": {},
   "source": [
    "### Python Dictionary Methods\n",
    "Methods that are available with dictionary are tabulated below. Some of them have already been used in the above examples.\n",
    "\n",
    "#### Method\tDescription\n",
    "- **clear()**\tRemove all items form the dictionary.\n",
    "- **copy()**\tReturn a shallow copy of the dictionary.\n",
    "- **fromkeys(seq[, v])**\tReturn a new dictionary with keys from seq and value equal to v (defaults to None).\n",
    "- **get(key[,d])**\tReturn the value of key. If key doesnot exist, return d (defaults to None).\n",
    "- **items()**\tReturn a new view of the dictionary's items (key, value).\n",
    "- **keys()**\tReturn a new view of the dictionary's keys.\n",
    "- **pop(key[,d])**\tRemove the item with key and return its value or d if key is not found. If d is not provided and key is not found, raises KeyError.\n",
    "- **popitem()**\tRemove and return an arbitary item (key, value). Raises KeyError if the dictionary is empty.\n",
    "- **setdefault(key[,d])**\tIf key is in the dictionary, return its value. If not, insert key with a value of d and return d (defaults to None).\n",
    "- **update([other])**\tUpdate the dictionary with the key/value pairs from other, overwriting existing keys.\n",
    "- **values()**\tReturn a new view of the dictionary's values\n",
    "\n",
    "Here are a few example use of these methods."
   ]
  },
  {
   "cell_type": "code",
   "execution_count": 19,
   "metadata": {},
   "outputs": [
    {
     "name": "stdout",
     "output_type": "stream",
     "text": [
      "{'Math': 0, 'English': 0, 'Science': 0}\n"
     ]
    }
   ],
   "source": [
    "marks = {}.fromkeys(['Math','English','Science'], 0)\n",
    "\n",
    "# Output: {'English': 0, 'Math': 0, 'Science': 0}\n",
    "print(marks)"
   ]
  },
  {
   "cell_type": "code",
   "execution_count": 20,
   "metadata": {},
   "outputs": [
    {
     "name": "stdout",
     "output_type": "stream",
     "text": [
      "('Math', 0)\n",
      "('English', 0)\n",
      "('Science', 0)\n"
     ]
    }
   ],
   "source": [
    "for item in marks.items():\n",
    "    print(item)"
   ]
  },
  {
   "cell_type": "code",
   "execution_count": 21,
   "metadata": {},
   "outputs": [
    {
     "data": {
      "text/plain": [
       "['English', 'Math', 'Science']"
      ]
     },
     "execution_count": 21,
     "metadata": {},
     "output_type": "execute_result"
    }
   ],
   "source": [
    "# Output: ['English', 'Math', 'Science']\n",
    "list(sorted(marks.keys()))"
   ]
  },
  {
   "cell_type": "code",
   "execution_count": 22,
   "metadata": {},
   "outputs": [
    {
     "name": "stdout",
     "output_type": "stream",
     "text": [
      "{'key1': 1, 'key2': 2, 'key3': 3}\n"
     ]
    }
   ],
   "source": [
    "# Create a typical dictionary\n",
    "d = {'key1':1,'key2':2,'key3':3}\n",
    "print(d)"
   ]
  },
  {
   "cell_type": "code",
   "execution_count": 23,
   "metadata": {},
   "outputs": [
    {
     "name": "stdout",
     "output_type": "stream",
     "text": [
      "dict_keys(['key1', 'key2', 'key3'])\n"
     ]
    }
   ],
   "source": [
    "# Method to return a list of all keys \n",
    "print(d.keys())"
   ]
  },
  {
   "cell_type": "code",
   "execution_count": 24,
   "metadata": {},
   "outputs": [
    {
     "name": "stdout",
     "output_type": "stream",
     "text": [
      "dict_values([1, 2, 3])\n"
     ]
    }
   ],
   "source": [
    "# Method to grab all values\n",
    "print(d.values())"
   ]
  },
  {
   "cell_type": "code",
   "execution_count": 25,
   "metadata": {},
   "outputs": [
    {
     "name": "stdout",
     "output_type": "stream",
     "text": [
      "dict_items([('key1', 1), ('key2', 2), ('key3', 3)])\n"
     ]
    }
   ],
   "source": [
    "# Method to return tuples of all items  \n",
    "  #(we'll learn about tuples soon)\n",
    "print(d.items())"
   ]
  },
  {
   "cell_type": "code",
   "execution_count": 17,
   "metadata": {},
   "outputs": [
    {
     "name": "stdout",
     "output_type": "stream",
     "text": [
      "setdefault(key[,d]) 8\n",
      "dict_items([('key1', 1), ('key2', 2), ('key3', 3), ('alem', 8)])\n"
     ]
    }
   ],
   "source": [
    "print(\"setdefault(key[,d])\", d.setdefault(\"alem\",8))\n",
    "print(d.items())"
   ]
  },
  {
   "cell_type": "code",
   "execution_count": 26,
   "metadata": {},
   "outputs": [
    {
     "name": "stdout",
     "output_type": "stream",
     "text": [
      "update None\n",
      "{'key1': 1, 'key2': 2, 'key3': 3, 'a': 6, 't': 8}\n",
      "get: None\n",
      "get: No key in dict!\n",
      "get: 8\n"
     ]
    }
   ],
   "source": [
    "x = {\"a\":6, \"t\":8}\n",
    "print(\"update\", d.update(x))\n",
    "print(d)\n",
    "print(\"get:\", d.get(\"u\")) # no excpetion is raised\n",
    "print(\"get:\", d.get(\"u\", \"No key in dict!\")) # no excpetion is raised\n",
    "print(\"get:\", d.get(\"t\"))"
   ]
  },
  {
   "cell_type": "markdown",
   "metadata": {},
   "source": [
    "### Python Dictionary Comprehension\n",
    "- Dictionary comprehension is an elegant and concise way to create new dictionary from an iterable in Python.\n",
    "- Dictionary comprehension consists of an expression pair (key: value) followed by for statement inside curly braces {}.\n",
    "- Here is an example to make a dictionary with each item being a pair of a number and its square."
   ]
  },
  {
   "cell_type": "code",
   "execution_count": 27,
   "metadata": {},
   "outputs": [
    {
     "name": "stdout",
     "output_type": "stream",
     "text": [
      "{0: 0, 1: 1, 2: 4, 3: 9, 4: 16, 5: 25}\n"
     ]
    }
   ],
   "source": [
    "squares = {x: x*x for x in range(6)}\n",
    "\n",
    "# Output: {0: 0, 1: 1, 2: 4, 3: 9, 4: 16, 5: 25}\n",
    "print(squares)"
   ]
  },
  {
   "cell_type": "markdown",
   "metadata": {},
   "source": [
    "A dictionary comprehension can optionally contain more for or if statements. \n",
    "An optional if statement can filter out items to form the new dictionary.\n",
    "Here are some examples to make dictionary with only odd items."
   ]
  },
  {
   "cell_type": "code",
   "execution_count": 28,
   "metadata": {},
   "outputs": [
    {
     "name": "stdout",
     "output_type": "stream",
     "text": [
      "{1: 1, 3: 9, 5: 25, 7: 49, 9: 81}\n"
     ]
    }
   ],
   "source": [
    "odd_squares = {x: x*x for x in range(11) if x%2 == 1}\n",
    "\n",
    "# Output: {1: 1, 3: 9, 5: 25, 7: 49, 9: 81}\n",
    "print(odd_squares)"
   ]
  },
  {
   "cell_type": "markdown",
   "metadata": {},
   "source": [
    "### Other Dictionary Operations\n",
    "#### Dictionary Membership Test\n",
    "We can test if a key is in a dictionary or not using the keyword in. Notice that membership test is for keys only, not for values."
   ]
  },
  {
   "cell_type": "code",
   "execution_count": 29,
   "metadata": {},
   "outputs": [
    {
     "name": "stdout",
     "output_type": "stream",
     "text": [
      "True\n",
      "True\n",
      "False\n"
     ]
    }
   ],
   "source": [
    "squares = {1: 1, 3: 9, 5: 25, 7: 49, 9: 81}\n",
    "\n",
    "# Output: True\n",
    "print(1 in squares)\n",
    "\n",
    "# Output: True\n",
    "print(2 not in squares)\n",
    "\n",
    "# membership tests for key only not value\n",
    "# Output: False\n",
    "print(49 in squares)"
   ]
  },
  {
   "cell_type": "markdown",
   "metadata": {},
   "source": [
    "### Iterating Through a Dictionary\n",
    "Using a for loop we can iterate through each key in a dictionary."
   ]
  },
  {
   "cell_type": "code",
   "execution_count": 30,
   "metadata": {},
   "outputs": [
    {
     "name": "stdout",
     "output_type": "stream",
     "text": [
      "1 1\n",
      "3 9\n",
      "5 25\n",
      "7 49\n",
      "9 81\n"
     ]
    }
   ],
   "source": [
    "squares = {1: 1, 3: 9, 5: 25, 7: 49, 9: 81}\n",
    "for i in squares:\n",
    "    print(i, squares[i])"
   ]
  },
  {
   "cell_type": "code",
   "execution_count": 31,
   "metadata": {},
   "outputs": [
    {
     "name": "stdout",
     "output_type": "stream",
     "text": [
      "(1, 1)\n",
      "(3, 9)\n",
      "(5, 25)\n",
      "(7, 49)\n",
      "(9, 81)\n"
     ]
    }
   ],
   "source": [
    "for i in squares.items():\n",
    "    print(i)"
   ]
  },
  {
   "cell_type": "markdown",
   "metadata": {},
   "source": [
    "### Built-in Functions with Dictionary\n",
    "Built-in functions like all(), any(), len(), cmp(), sorted() etc. are commonly used with dictionary to perform different tasks.\n",
    "\n",
    "Function\tDescription\n",
    "\n",
    "- **all()**\tReturn True if all keys of the dictionary are true (or if the dictionary is empty).\n",
    "- **any()**\tReturn True if any key of the dictionary is true. If the dictionary is empty, return False.\n",
    "- **len()**\tReturn the length (the number of items) in the dictionary.\n",
    "- **cmp()**\tCompares items of two dictionaries.\n",
    "- **sorted()**\tReturn a new sorted list of keys in the dictionary.\n",
    "\n",
    "Here are some examples that uses built-in functions to work with dictionary."
   ]
  },
  {
   "cell_type": "code",
   "execution_count": 32,
   "metadata": {},
   "outputs": [
    {
     "name": "stdout",
     "output_type": "stream",
     "text": [
      "5\n",
      "[1, 3, 5, 7, 9]\n"
     ]
    }
   ],
   "source": [
    "squares = {1: 1, 3: 9, 5: 25, 7: 49, 9: 81}\n",
    "\n",
    "# Output: 5\n",
    "print(len(squares))\n",
    "\n",
    "# Output: [1, 3, 5, 7, 9]\n",
    "print(sorted(squares))"
   ]
  },
  {
   "cell_type": "code",
   "execution_count": 33,
   "metadata": {},
   "outputs": [
    {
     "ename": "AttributeError",
     "evalue": "'dict' object has no attribute 'sort'",
     "output_type": "error",
     "traceback": [
      "\u001b[0;31m---------------------------------------------------------------------------\u001b[0m",
      "\u001b[0;31mAttributeError\u001b[0m                            Traceback (most recent call last)",
      "\u001b[0;32m<ipython-input-33-98774c7d7a80>\u001b[0m in \u001b[0;36m<module>\u001b[0;34m\u001b[0m\n\u001b[0;32m----> 1\u001b[0;31m \u001b[0msquares\u001b[0m\u001b[0;34m.\u001b[0m\u001b[0msort\u001b[0m\u001b[0;34m(\u001b[0m\u001b[0;34m)\u001b[0m\u001b[0;34m\u001b[0m\u001b[0;34m\u001b[0m\u001b[0m\n\u001b[0m\u001b[1;32m      2\u001b[0m \u001b[0msquares\u001b[0m\u001b[0;34m\u001b[0m\u001b[0;34m\u001b[0m\u001b[0m\n",
      "\u001b[0;31mAttributeError\u001b[0m: 'dict' object has no attribute 'sort'"
     ]
    }
   ],
   "source": [
    "squares.sort()\n",
    "squares"
   ]
  },
  {
   "cell_type": "markdown",
   "metadata": {},
   "source": [
    "#### Python Dictionary get() Method\n",
    "- The get() method returns the value of the item with the specified key.\n",
    "- dictionary.get(keyname, value)"
   ]
  },
  {
   "cell_type": "code",
   "execution_count": null,
   "metadata": {},
   "outputs": [],
   "source": [
    "car = {\n",
    "  \"brand\": \"Ford\",\n",
    "  \"model\": \"Mustang\",\n",
    "  \"year\": 1964\n",
    "}\n",
    "\n",
    "x = car.get(\"model\")\n",
    "\n",
    "print(x)\n",
    "print(car.get(\"model\",\"Mustang\"))"
   ]
  },
  {
   "cell_type": "code",
   "execution_count": 159,
   "metadata": {},
   "outputs": [
    {
     "name": "stdout",
     "output_type": "stream",
     "text": [
      "15000\n"
     ]
    }
   ],
   "source": [
    "car = {\n",
    "  \"brand\": \"Ford\",\n",
    "  \"model\": \"Mustang\",\n",
    "  \"year\": 1964\n",
    "}\n",
    "\n",
    "x = car.get(\"price\", 15000)\n",
    "\n",
    "print(x)"
   ]
  },
  {
   "cell_type": "markdown",
   "metadata": {},
   "source": [
    "### 2.3.7  Boolean"
   ]
  },
  {
   "cell_type": "markdown",
   "metadata": {},
   "source": [
    "Python  comes with Booleans (with predefined True and False displays that are basically just the integers 1 and 0). It also has a placeholder object called None. Let's walk through a few quick examples of Booleans (we will dive deeper into them later in this course)."
   ]
  },
  {
   "cell_type": "code",
   "execution_count": 160,
   "metadata": {},
   "outputs": [
    {
     "name": "stdout",
     "output_type": "stream",
     "text": [
      "True\n",
      "False\n"
     ]
    }
   ],
   "source": [
    "# Set object to be a boolean\n",
    "a = True\n",
    "print(a)\n",
    "b = False\n",
    "print(b)"
   ]
  },
  {
   "cell_type": "markdown",
   "metadata": {},
   "source": [
    "We can also use comparison operators to create booleans. We will go over all the comparison operators later on in the course."
   ]
  },
  {
   "cell_type": "code",
   "execution_count": 161,
   "metadata": {},
   "outputs": [
    {
     "data": {
      "text/plain": [
       "False"
      ]
     },
     "execution_count": 161,
     "metadata": {},
     "output_type": "execute_result"
    }
   ],
   "source": [
    "2>9"
   ]
  },
  {
   "cell_type": "markdown",
   "metadata": {},
   "source": [
    "We can use None as a placeholder for an object that we don't want to reassign yet:"
   ]
  },
  {
   "cell_type": "code",
   "execution_count": 162,
   "metadata": {},
   "outputs": [],
   "source": [
    "# None placeholder\n",
    "b = None\n",
    "b"
   ]
  },
  {
   "cell_type": "code",
   "execution_count": 163,
   "metadata": {},
   "outputs": [
    {
     "name": "stdout",
     "output_type": "stream",
     "text": [
      "None\n"
     ]
    }
   ],
   "source": [
    "print(b)"
   ]
  },
  {
   "cell_type": "code",
   "execution_count": 164,
   "metadata": {},
   "outputs": [
    {
     "data": {
      "text/plain": [
       "False"
      ]
     },
     "execution_count": 164,
     "metadata": {},
     "output_type": "execute_result"
    }
   ],
   "source": [
    "#Compare strings\n",
    "'a'>'b'"
   ]
  },
  {
   "cell_type": "code",
   "execution_count": 165,
   "metadata": {},
   "outputs": [
    {
     "data": {
      "text/plain": [
       "True"
      ]
     },
     "execution_count": 165,
     "metadata": {},
     "output_type": "execute_result"
    }
   ],
   "source": [
    "'b'>'a'"
   ]
  },
  {
   "cell_type": "code",
   "execution_count": 166,
   "metadata": {},
   "outputs": [
    {
     "data": {
      "text/plain": [
       "True"
      ]
     },
     "execution_count": 166,
     "metadata": {},
     "output_type": "execute_result"
    }
   ],
   "source": [
    "'4'<'6'"
   ]
  },
  {
   "cell_type": "code",
   "execution_count": 167,
   "metadata": {},
   "outputs": [
    {
     "data": {
      "text/plain": [
       "False"
      ]
     },
     "execution_count": 167,
     "metadata": {},
     "output_type": "execute_result"
    }
   ],
   "source": [
    "'alem'>'fitwi'"
   ]
  },
  {
   "cell_type": "code",
   "execution_count": 168,
   "metadata": {},
   "outputs": [
    {
     "data": {
      "text/plain": [
       "False"
      ]
     },
     "execution_count": 168,
     "metadata": {},
     "output_type": "execute_result"
    }
   ],
   "source": [
    "'alemz'>'fitwi'"
   ]
  },
  {
   "cell_type": "code",
   "execution_count": 169,
   "metadata": {},
   "outputs": [
    {
     "data": {
      "text/plain": [
       "True"
      ]
     },
     "execution_count": 169,
     "metadata": {},
     "output_type": "execute_result"
    }
   ],
   "source": [
    "'ab'<'cd'"
   ]
  },
  {
   "cell_type": "markdown",
   "metadata": {},
   "source": [
    "For the following quiz questions, we will get a preview of comparison operators. In the table below, a=3 and b=4.\n",
    "\n",
    "<table class=\"table table-bordered\">\n",
    "<tr>\n",
    "<th style=\"width:10%\">Operator</th><th style=\"width:45%\">Description</th><th>Example</th>\n",
    "</tr>\n",
    "<tr>\n",
    "<td>==</td>\n",
    "<td>If the values of two operands are equal, then the condition becomes true.</td>\n",
    "<td> (a == b) is not true.</td>\n",
    "</tr>\n",
    "<tr>\n",
    "<td>!=</td>\n",
    "<td>If values of two operands are not equal, then condition becomes true.</td>\n",
    "<td> (a != b) is true.</td>\n",
    "</tr>\n",
    "<tr>\n",
    "<td>&gt;</td>\n",
    "<td>If the value of left operand is greater than the value of right operand, then condition becomes true.</td>\n",
    "<td> (a &gt; b) is not true.</td>\n",
    "</tr>\n",
    "<tr>\n",
    "<td>&lt;</td>\n",
    "<td>If the value of left operand is less than the value of right operand, then condition becomes true.</td>\n",
    "<td> (a &lt; b) is true.</td>\n",
    "</tr>\n",
    "<tr>\n",
    "<td>&gt;=</td>\n",
    "<td>If the value of left operand is greater than or equal to the value of right operand, then condition becomes true.</td>\n",
    "<td> (a &gt;= b) is not true. </td>\n",
    "</tr>\n",
    "<tr>\n",
    "<td>&lt;=</td>\n",
    "<td>If the value of left operand is less than or equal to the value of right operand, then condition becomes true.</td>\n",
    "<td> (a &lt;= b) is true. </td>\n",
    "</tr>\n",
    "</table>"
   ]
  },
  {
   "cell_type": "markdown",
   "metadata": {},
   "source": [
    "### 2.3.8 Stacks "
   ]
  },
  {
   "cell_type": "markdown",
   "metadata": {},
   "source": [
    "- Stacks, like the name suggests, follow the ***Last-in-First-Out (LIFO)*** principle. As if stacking coins one on top of the other, the last coin we put on the top is the one that is the first to be removed from the stack later.\n",
    "- To implement a stack, therefore, we need two simple operations:\n",
    "     - push - adds an element to the top of the stack:\n",
    "     - pop - removes the element at the top of the stack"
   ]
  },
  {
   "cell_type": "code",
   "execution_count": 237,
   "metadata": {},
   "outputs": [
    {
     "data": {
      "image/jpeg": "[encoded data removed]",
      "text/plain": [
       "<IPython.core.display.Image object>"
      ]
     },
     "execution_count": 237,
     "metadata": {},
     "output_type": "execute_result"
    }
   ],
   "source": [
    "from IPython.display import Image\n",
    "Image('./0_figs/stack.jpg')"
   ]
  },
  {
   "cell_type": "code",
   "execution_count": 34,
   "metadata": {},
   "outputs": [
    {
     "data": {
      "image/jpeg": "[encoded data removed]",
      "text/plain": [
       "<IPython.core.display.Image object>"
      ]
     },
     "execution_count": 34,
     "metadata": {},
     "output_type": "execute_result"
    }
   ],
   "source": [
    "from IPython.display import Image\n",
    "Image('./0_figs/pop.jpg')"
   ]
  },
  {
   "cell_type": "markdown",
   "metadata": {},
   "source": [
    "### 2.3.9 Queues"
   ]
  },
  {
   "cell_type": "markdown",
   "metadata": {},
   "source": [
    "- Queues, like the name suggests, follow the First-in-First-Out (FIFO) principle. As if waiting in a queue for the movie tickets, the first one to stand in line is the first one to buy a ticket and enjoy the movie.\n",
    "- To implement a queue, therefore, we need two simple operations:\n",
    "     - enqueue - adds an element to the end of the queue\n",
    "     - dequeue - removes the element at the beginning of the queue"
   ]
  },
  {
   "cell_type": "code",
   "execution_count": 35,
   "metadata": {},
   "outputs": [
    {
     "data": {
      "image/jpeg": "[encoded data removed]",
      "text/plain": [
       "<IPython.core.display.Image object>"
      ]
     },
     "execution_count": 35,
     "metadata": {},
     "output_type": "execute_result"
    }
   ],
   "source": [
    "from IPython.display import Image\n",
    "Image('./0_figs/eq.jpg')"
   ]
  },
  {
   "cell_type": "code",
   "execution_count": 36,
   "metadata": {},
   "outputs": [
    {
     "data": {
      "image/jpeg": "[encoded data removed]",
      "text/plain": [
       "<IPython.core.display.Image object>"
      ]
     },
     "execution_count": 36,
     "metadata": {},
     "output_type": "execute_result"
    }
   ],
   "source": [
    "from IPython.display import Image\n",
    "Image('./0_figs/deq.jpg')"
   ]
  },
  {
   "cell_type": "markdown",
   "metadata": {},
   "source": [
    "#### Stacks and Queues using Lists\n",
    "- Python's built-in List data structure comes bundled with methods to simulate both stack and queue operations.\n",
    "- Let's consider a stack of letters:"
   ]
  },
  {
   "cell_type": "code",
   "execution_count": 37,
   "metadata": {},
   "outputs": [
    {
     "name": "stdout",
     "output_type": "stream",
     "text": [
      "g\n",
      "t\n",
      "['c', 'a']\n"
     ]
    }
   ],
   "source": [
    "# Stack\n",
    "letters = []\n",
    "\n",
    "# Let's push some letters into our list\n",
    "letters.append('c')\n",
    "letters.append('a')\n",
    "letters.append('t')\n",
    "letters.append('g')\n",
    "\n",
    "# Now let's pop letters, we should get 'g'\n",
    "last_item = letters.pop()\n",
    "print(last_item)\n",
    "\n",
    "# If we pop again we'll get 't'\n",
    "last_item = letters.pop()\n",
    "print(last_item)\n",
    "\n",
    "# 'c' and 'a' remain\n",
    "print(letters) # ['c', 'a']"
   ]
  },
  {
   "cell_type": "markdown",
   "metadata": {},
   "source": [
    "- We can use the same functions to implement a Queue. The pop function optionally takes the index of the item we want to retrieve as an argument.\n",
    "- So we can use pop with the first index of the list i.e. 0, to get queue-like behavior.\n",
    "- Consider a \"queue\" of fruits:"
   ]
  },
  {
   "cell_type": "code",
   "execution_count": 38,
   "metadata": {},
   "outputs": [
    {
     "name": "stdout",
     "output_type": "stream",
     "text": [
      "banana\n",
      "grapes\n",
      "['mango', 'orange']\n"
     ]
    }
   ],
   "source": [
    "fruits = []\n",
    "# Let's enqueue some fruits into our list\n",
    "fruits.append('banana')\n",
    "fruits.append('grapes')\n",
    "fruits.append('mango')\n",
    "fruits.append('orange')\n",
    "\n",
    "# Now let's dequeue our fruits, we should get 'banana'\n",
    "first_item = fruits.pop(0)\n",
    "print(first_item)\n",
    "\n",
    "# If we dequeue again we'll get 'grapes'\n",
    "first_item = fruits.pop(0)\n",
    "print(first_item)\n",
    "\n",
    "# 'mango' and 'orange' remain\n",
    "print(fruits) # ['c', 'a']"
   ]
  },
  {
   "cell_type": "markdown",
   "metadata": {},
   "source": [
    "Again, here we use the append and pop operations of the list to simulate the core operations of a queue."
   ]
  },
  {
   "cell_type": "markdown",
   "metadata": {},
   "source": [
    "#### Stacks and Queues with the Deque Library\n",
    "- Python has a deque (pronounced 'deck') library that provides a sequence with efficient methods to work as a stack or a queue.\n",
    "- deque is short for Double Ended Queue - a generalized queue that can get the first or last element that's stored:"
   ]
  },
  {
   "cell_type": "code",
   "execution_count": 40,
   "metadata": {},
   "outputs": [
    {
     "name": "stdout",
     "output_type": "stream",
     "text": [
      "47\n",
      "deque([99, 15, 82, 50])\n",
      "99\n",
      "deque([15, 82, 50])\n"
     ]
    }
   ],
   "source": [
    "from collections import deque\n",
    "\n",
    "# you can initialize a deque with a list \n",
    "numbers = deque()\n",
    "\n",
    "# Use append like before to add elements\n",
    "numbers.append(99)\n",
    "numbers.append(15)\n",
    "numbers.append(82)\n",
    "numbers.append(50)\n",
    "numbers.append(47)\n",
    "\n",
    "# You can pop like a stack\n",
    "last_item = numbers.pop()\n",
    "print(last_item) # 47\n",
    "print(numbers) # deque([99, 15, 82, 50])\n",
    "\n",
    "# You can dequeue like a queue\n",
    "first_item = numbers.popleft()\n",
    "print(first_item) # 99\n",
    "print(numbers) # deque([15, 82, 50])"
   ]
  },
  {
   "cell_type": "markdown",
   "metadata": {},
   "source": [
    "#### Stricter Implementations in Python\n",
    "\n",
    "- If your code needed a stack and you provide a List, there's nothing stopping a programmer from calling insert, remove or other list functions that will affect the order of your stack! This fundamentally ruins the point of defining a stack, as it no longer functions the way it should.\n",
    "- There are times when we'd like to ensure that only valid operations can be performed on our data.\n",
    "- We can create classes that only exposes the necessary methods for each data structure.\n",
    "- To do so, let's create a new file called stack_queue.py and define two classes:"
   ]
  },
  {
   "cell_type": "code",
   "execution_count": 41,
   "metadata": {},
   "outputs": [],
   "source": [
    "# A simple class stack that only allows pop and push operations\n",
    "class Stack:\n",
    "\n",
    "    def __init__(self):\n",
    "        self.stack = []\n",
    "\n",
    "    def pop(self):\n",
    "        if len(self.stack) < 1:\n",
    "            return None\n",
    "        return self.stack.pop()\n",
    "\n",
    "    def push(self, item):\n",
    "        self.stack.append(item)\n",
    "\n",
    "    def __len__(self):\n",
    "        return len(self.stack)\n",
    "\n",
    "# And a queue that only has enqueue and dequeue operations\n",
    "class Queue:\n",
    "\n",
    "    def __init__(self):\n",
    "        self.queue = []\n",
    "\n",
    "    def enqueue(self, item):\n",
    "        self.queue.append(item)\n",
    "\n",
    "    def dequeue(self):\n",
    "        if len(self.queue) < 1:\n",
    "            return None\n",
    "        return self.queue.pop(0)\n",
    "\n",
    "    def __len__(self):\n",
    "        return len(self.queue) "
   ]
  },
  {
   "cell_type": "code",
   "execution_count": 42,
   "metadata": {},
   "outputs": [],
   "source": [
    "document_actions = Stack()\n",
    "# The first enters the title of the document\n",
    "document_actions.push('action: enter; text_id: 1; text:'+ \n",
    "                      'This is my favourite document')\n",
    "# Next they center the text\n",
    "document_actions.push('action: format; text_id: 1; alignment: center')\n",
    "# As with most writers, the user is unhappy with the first draft and \n",
    "  #undoes the center alignment\n",
    "document_actions.pop()\n",
    "# The title is better on the left with bold font\n",
    "document_actions.push('action: format; text_id: 1; style: bold')"
   ]
  },
  {
   "cell_type": "code",
   "execution_count": 43,
   "metadata": {},
   "outputs": [],
   "source": [
    "input_queue = Queue()\n",
    "\n",
    "# The player wants to get the upper hand so pressing \n",
    "   #the right combination of buttons quickly\n",
    "input_queue.enqueue('DOWN')\n",
    "input_queue.enqueue('RIGHT')\n",
    "input_queue.enqueue('B')\n",
    "\n",
    "# Now we can process each item in the queue by dequeueing them\n",
    "key_pressed = input_queue.dequeue() # 'DOWN'\n",
    "\n",
    "# We'll probably change our player position\n",
    "key_pressed = input_queue.dequeue() # 'RIGHT'\n",
    "\n",
    "# We'll change the player's position again and keep \n",
    "  #track of a potential special move to perform\n",
    "key_pressed = input_queue.dequeue() # 'B'\n",
    "\n",
    "# This can do the act, but the game's logic will know to do \n",
    "  #the special move"
   ]
  },
  {
   "cell_type": "markdown",
   "metadata": {},
   "source": [
    "### 2.4 Summarizing Exercises and Tricks\n",
    "https://pynative.com/python-string-exercise/"
   ]
  },
  {
   "cell_type": "markdown",
   "metadata": {},
   "source": [
    "Question 1: Given a string of odd length greater than 7, return a string made of the middle three chars of a given String.\n",
    " \n",
    "    Case 1:                                 Case 2:\n",
    "    str1 = \"JhonDipPeta\"                     str2 = \"JaSonAy\"\n",
    "    Expected Output:                         Expected Output:\n",
    "    Dip                                      Son"
   ]
  },
  {
   "cell_type": "code",
   "execution_count": 234,
   "metadata": {},
   "outputs": [
    {
     "data": {
      "text/plain": [
       "'Son'"
      ]
     },
     "execution_count": 234,
     "metadata": {},
     "output_type": "execute_result"
    }
   ],
   "source": [
    "def getmid3(str2):\n",
    "    return str2[len(str2)//2-1:len(str2)//2+2]\n",
    "getmid3(\"JhonDipPeta\") \n",
    "getmid3(\"JaSonAy\") "
   ]
  },
  {
   "cell_type": "markdown",
   "metadata": {},
   "source": [
    "Question 2: Given 2 strings, s1 and s2, create a new string by appending s2 in the middle of s1"
   ]
  },
  {
   "cell_type": "code",
   "execution_count": 44,
   "metadata": {},
   "outputs": [
    {
     "data": {
      "text/plain": [
       "'AuKellylt'"
      ]
     },
     "execution_count": 44,
     "metadata": {},
     "output_type": "execute_result"
    }
   ],
   "source": [
    "def mergestrs(str1,str2):\n",
    "    if len(str1)%2==0:\n",
    "        return str1[0:len(str1)//2]+str2+str1[len(str1)//2:len(str1)]\n",
    "    else:\n",
    "        return str1[0:len(str1)//2]+str2+str1[len(str1)//2+1:len(str1)]\n",
    "str1 = \"Ault\"\n",
    "str2 = \"Kelly\"\n",
    "mergestrs(str1,str2)"
   ]
  },
  {
   "cell_type": "code",
   "execution_count": 45,
   "metadata": {},
   "outputs": [
    {
     "data": {
      "text/plain": [
       "'AuKellyty'"
      ]
     },
     "execution_count": 45,
     "metadata": {},
     "output_type": "execute_result"
    }
   ],
   "source": [
    "str1 = \"Aulty\"\n",
    "str2 = \"Kelly\"\n",
    "mergestrs(str1,str2)"
   ]
  },
  {
   "cell_type": "code",
   "execution_count": 47,
   "metadata": {},
   "outputs": [
    {
     "name": "stdout",
     "output_type": "stream",
     "text": [
      "Original Strings are Ault Kelly\n",
      "After appending new string in middle AuKellylt\n"
     ]
    }
   ],
   "source": [
    "def appendMiddle(s1, s2):\n",
    "  middleIndex = int(len(s1) /2)\n",
    "  print(\"Original Strings are\", s1, s2)\n",
    "  middleThree = s1[:middleIndex]+ s2 +s1[middleIndex:]\n",
    "  print(\"After appending new string in middle\", middleThree)\n",
    "  \n",
    "appendMiddle(\"Ault\", \"Kelly\")"
   ]
  },
  {
   "cell_type": "code",
   "execution_count": 48,
   "metadata": {},
   "outputs": [
    {
     "name": "stdout",
     "output_type": "stream",
     "text": [
      "Original Strings are Aulty Kelly\n",
      "After appending new string in middle AuKellylty\n"
     ]
    }
   ],
   "source": [
    "appendMiddle(\"Aulty\", \"Kelly\")"
   ]
  },
  {
   "cell_type": "markdown",
   "metadata": {},
   "source": [
    "Question 3: Given 2 strings, s1, and s2 return a new string made of the first, middle and last char of each input string"
   ]
  },
  {
   "cell_type": "code",
   "execution_count": 49,
   "metadata": {},
   "outputs": [
    {
     "data": {
      "text/plain": [
       "'AJrpan'"
      ]
     },
     "execution_count": 49,
     "metadata": {},
     "output_type": "execute_result"
    }
   ],
   "source": [
    "s1 = \"America\"\n",
    "s2 = \"Japan\"\n",
    "def extract(s1,s2):\n",
    "    s = s1[0] + s2[0] + s1[len(s1)//2] + s2[len(s2)//2] + s1[-1] + s2[-1]\n",
    "    return s\n",
    "extract(s1,s2)"
   ]
  },
  {
   "cell_type": "markdown",
   "metadata": {},
   "source": [
    "Question 4: Arrange string characters such that lowercase letters should come first\n",
    "Given an input string with the combination of the lower and upper case arrange characters in such a way that all lowercase letters should come first.\n",
    "- str1 = PyNaTive --> yaivePNT"
   ]
  },
  {
   "cell_type": "code",
   "execution_count": 186,
   "metadata": {},
   "outputs": [
    {
     "data": {
      "text/plain": [
       "True"
      ]
     },
     "execution_count": 186,
     "metadata": {},
     "output_type": "execute_result"
    }
   ],
   "source": [
    "'A'.isupper()"
   ]
  },
  {
   "cell_type": "code",
   "execution_count": 50,
   "metadata": {},
   "outputs": [
    {
     "data": {
      "text/plain": [
       "'yaivePNT'"
      ]
     },
     "execution_count": 50,
     "metadata": {},
     "output_type": "execute_result"
    }
   ],
   "source": [
    "str1 = 'PyNaTive'\n",
    "def catchul(s):\n",
    "    lst = list(str1)\n",
    "    small = [k for k in lst if k.islower()]\n",
    "    upper = [k for k in lst if k.isupper()]\n",
    "    small, upper = ''.join(small),''.join(upper)\n",
    "    return small+upper\n",
    "catchul(str1)"
   ]
  },
  {
   "cell_type": "code",
   "execution_count": 51,
   "metadata": {},
   "outputs": [
    {
     "data": {
      "text/plain": [
       "'yaivePNT'"
      ]
     },
     "execution_count": 51,
     "metadata": {},
     "output_type": "execute_result"
    }
   ],
   "source": [
    "str1 = 'PyNaTive'\n",
    "def catchul(s):    \n",
    "    small = [k for k in str1 if k.islower()]\n",
    "    upper = [k for k in str1 if k.isupper()]    \n",
    "    return ''.join(small+upper)\n",
    "catchul(str1)"
   ]
  },
  {
   "cell_type": "code",
   "execution_count": 52,
   "metadata": {},
   "outputs": [
    {
     "name": "stdout",
     "output_type": "stream",
     "text": [
      "arranging characters giving precedence to lowercase letters:\n",
      "yaivePNT\n"
     ]
    }
   ],
   "source": [
    "str1 = \"PyNaTive\"\n",
    "lower = []\n",
    "upper = []\n",
    "for char in str1:\n",
    "    if char.islower():\n",
    "        lower.append(char)\n",
    "    else:\n",
    "        upper.append(char)\n",
    "sorted_string = ''.join(lower + upper)\n",
    "print(\"arranging characters giving precedence to lowercase letters:\")\n",
    "print(sorted_string)"
   ]
  },
  {
   "cell_type": "markdown",
   "metadata": {},
   "source": [
    "Question 5: Count all lower case, upper case, digits, and special symbols from a given string"
   ]
  },
  {
   "cell_type": "code",
   "execution_count": 53,
   "metadata": {},
   "outputs": [
    {
     "data": {
      "text/plain": [
       "{'alpha': 8, 'lcases': 7, 'ucases': 1, 'digits': 3, 'specials': 4}"
      ]
     },
     "execution_count": 53,
     "metadata": {},
     "output_type": "execute_result"
    }
   ],
   "source": [
    "counts = {'alpha':0,'lcases':0, 'ucases':0, 'digits':0, 'specials':0}\n",
    "str1 = \"P@#yn26at^&i5ve\"\n",
    "for s in str1:\n",
    "    if s.isalpha():\n",
    "        counts['alpha']+=1\n",
    "        if s.islower():\n",
    "            counts['lcases']+=1\n",
    "        else:\n",
    "            counts['ucases']+=1\n",
    "    elif s.isdigit():\n",
    "        counts['digits']+=1\n",
    "    else:\n",
    "        counts['specials']+=1\n",
    "\n",
    "counts\n",
    "    "
   ]
  },
  {
   "cell_type": "code",
   "execution_count": 54,
   "metadata": {},
   "outputs": [
    {
     "data": {
      "text/plain": [
       "(8, 7, 1, 3, 4)"
      ]
     },
     "execution_count": 54,
     "metadata": {},
     "output_type": "execute_result"
    }
   ],
   "source": [
    "str1 = \"P@#yn26at^&i5ve\"\n",
    "def countchars(str1):\n",
    "    alpha, small, upper, digit, special =0,0,0,0,0\n",
    "    for i in range(len(str1)):\n",
    "        if(str1[i].isalpha()):\n",
    "            alpha += 1\n",
    "            if str1[i].islower():\n",
    "                small += 1\n",
    "            else:\n",
    "                upper += 1\n",
    "        elif(str1[i].isdigit()):\n",
    "            digit += 1\n",
    "        else:\n",
    "            special += 1\n",
    "    return alpha, small, upper, digit, special\n",
    "countchars(str1)"
   ]
  },
  {
   "cell_type": "markdown",
   "metadata": {},
   "source": [
    "Question 6: Given two strings, s1 and s2, create a mixed String\n",
    "- Note: create a third-string made of the first char of s1 then the last char of s2, Next, the second char of s1 and second last char of s2, and so on. Any leftover chars go at the end of the result.\n",
    "\n",
    "- Given:\n",
    "\n",
    "        s1 = \"Abc\"\n",
    "        s2 = \"Xyz\"\n",
    "\n",
    "- Expected Output:\n",
    "\n",
    "        AzbycX"
   ]
  },
  {
   "cell_type": "code",
   "execution_count": 55,
   "metadata": {},
   "outputs": [
    {
     "data": {
      "text/plain": [
       "'AzbycX'"
      ]
     },
     "execution_count": 55,
     "metadata": {},
     "output_type": "execute_result"
    }
   ],
   "source": [
    "s1 = \"Abc\"\n",
    "s2 = \"Xyz\"\n",
    "def mixstr(s1,s2):\n",
    "    lst = []\n",
    "    if len(s1)==len(s2):\n",
    "        for i in range(len(s1)):\n",
    "            lst.append(s1[i])\n",
    "            lst.append(s2[len(s1)-1-i])\n",
    "    elif len(s1)>=len(s2):\n",
    "        for i in range(len(s2)):\n",
    "            lst.append(s1[i])\n",
    "            lst.append(s2[len(s2)-1-i])\n",
    "    else:                            \n",
    "        for i in range(len(s1)):\n",
    "            lst.append(s1[i])\n",
    "            lst.append(s2[len(s1)-1-i])\n",
    "    return ''.join(lst)\n",
    "mixstr(s1,s2)"
   ]
  },
  {
   "cell_type": "markdown",
   "metadata": {},
   "source": [
    "Question 7: String characters balance Test\n",
    "We’ll say that a String s1 and s2 is balanced if all the chars in the s1 are there in s2. characters position doesn’t matter."
   ]
  },
  {
   "cell_type": "code",
   "execution_count": 56,
   "metadata": {},
   "outputs": [
    {
     "data": {
      "text/plain": [
       "True"
      ]
     },
     "execution_count": 56,
     "metadata": {},
     "output_type": "execute_result"
    }
   ],
   "source": [
    "def ins2(s1,s2):\n",
    "    if set(list(s1)).issubset(set(list(s2))):\n",
    "        return True\n",
    "    else:\n",
    "        return False\n",
    "s1 = \"XXy\"\n",
    "s2 = \"Xyz\"\n",
    "ins2(s1,s2)"
   ]
  },
  {
   "cell_type": "code",
   "execution_count": 59,
   "metadata": {},
   "outputs": [
    {
     "data": {
      "text/plain": [
       "True"
      ]
     },
     "execution_count": 59,
     "metadata": {},
     "output_type": "execute_result"
    }
   ],
   "source": [
    "def stringBalanceCheck(s1, s2):\n",
    "    flag = True\n",
    "    for char in s1:\n",
    "        if char in s2:\n",
    "              continue\n",
    "        else:\n",
    "            flag = False\n",
    "            break\n",
    "    return flag\n",
    "\n",
    "s1 = \"XXy\"\n",
    "s2 = \"Xyz\"\n",
    "stringBalanceCheck(s1,s2)"
   ]
  },
  {
   "cell_type": "markdown",
   "metadata": {},
   "source": [
    "Question 9: Given a string, return the sum and average of the digits that appear in the string, ignoring all other characters\n",
    "- Given:\n",
    "        \n",
    "        str1 = \"English = 78 Science = 83 Math = 68 History = 65\"\n",
    "\n",
    "- Expected Outcome:\n",
    "\n",
    "        sum is 294\n",
    "        average is 73.5"
   ]
  },
  {
   "cell_type": "code",
   "execution_count": 194,
   "metadata": {},
   "outputs": [
    {
     "data": {
      "text/plain": [
       "(294, 73.5)"
      ]
     },
     "execution_count": 194,
     "metadata": {},
     "output_type": "execute_result"
    }
   ],
   "source": [
    "def getdigit(s):\n",
    "    lst = str1.split()\n",
    "    nums = [int(k) for k in lst if k.isdigit()]    \n",
    "    return sum(nums), sum(nums)/len(nums)\n",
    "str1 = \"English = 78 Science = 83 Math = 68 History = 65\"\n",
    "getdigit(str1)"
   ]
  },
  {
   "cell_type": "code",
   "execution_count": 60,
   "metadata": {},
   "outputs": [
    {
     "name": "stdout",
     "output_type": "stream",
     "text": [
      "Total Marks is: 294 Percentage is  73.5\n"
     ]
    }
   ],
   "source": [
    "import re\n",
    "\n",
    "inputStr = \"English = 78 Science = 83 Math = 68 History = 65\"\n",
    "markList = [int(num) for num in re.findall(r'\\b\\d+\\b', inputStr)]\n",
    "totalMarks = 0\n",
    "for mark in markList:\n",
    "  totalMarks+=mark\n",
    "\n",
    "percentage = totalMarks/len(markList)  \n",
    "print(\"Total Marks is:\", totalMarks, \"Percentage is \", percentage)"
   ]
  },
  {
   "cell_type": "code",
   "execution_count": 61,
   "metadata": {},
   "outputs": [
    {
     "data": {
      "text/plain": [
       "294"
      ]
     },
     "execution_count": 61,
     "metadata": {},
     "output_type": "execute_result"
    }
   ],
   "source": [
    "temp = re.findall(r'\\d+', inputStr)\n",
    "res = sum(list(map(int, temp)))\n",
    "res"
   ]
  },
  {
   "cell_type": "markdown",
   "metadata": {},
   "source": [
    "Question 10: Given an input string, count occurrences of all characters within a string"
   ]
  },
  {
   "cell_type": "code",
   "execution_count": 62,
   "metadata": {},
   "outputs": [
    {
     "data": {
      "text/plain": [
       "{'A': 1, 'l': 1, 'e': 1, 'p': 2}"
      ]
     },
     "execution_count": 62,
     "metadata": {},
     "output_type": "execute_result"
    }
   ],
   "source": [
    "def countch(s):\n",
    "    lst = list(s)\n",
    "    d = {}\n",
    "    for l in set(lst):\n",
    "        d[l] = lst.count(l)\n",
    "    return d\n",
    "str1 = \"Apple\"\n",
    "countch(str1)"
   ]
  },
  {
   "cell_type": "code",
   "execution_count": 63,
   "metadata": {},
   "outputs": [
    {
     "name": "stdout",
     "output_type": "stream",
     "text": [
      "{'A': 1, 'p': 2, 'l': 1, 'e': 1}\n"
     ]
    }
   ],
   "source": [
    "str1 = \"Apple\"\n",
    "countDict = dict()\n",
    "for char in str1:\n",
    "  count = str1.count(char)\n",
    "  countDict[char]=count\n",
    "print(countDict)"
   ]
  },
  {
   "cell_type": "code",
   "execution_count": 68,
   "metadata": {},
   "outputs": [
    {
     "data": {
      "text/plain": [
       "{'A': 1, 'p': 2, 'l': 1, 'e': 1}"
      ]
     },
     "execution_count": 68,
     "metadata": {},
     "output_type": "execute_result"
    }
   ],
   "source": [
    "from collections import Counter\n",
    "str1 = \"Apple\"\n",
    "dict(Counter(str1))"
   ]
  },
  {
   "cell_type": "markdown",
   "metadata": {},
   "source": [
    "Exercise Question 11: Reverse a given string\n",
    "Given:\n",
    "str1 = \"PYnative\""
   ]
  },
  {
   "cell_type": "code",
   "execution_count": 198,
   "metadata": {},
   "outputs": [
    {
     "data": {
      "text/plain": [
       "'evitanYP'"
      ]
     },
     "execution_count": 198,
     "metadata": {},
     "output_type": "execute_result"
    }
   ],
   "source": [
    "str1 = \"PYnative\"\n",
    "str1[::-1]"
   ]
  },
  {
   "cell_type": "code",
   "execution_count": 72,
   "metadata": {},
   "outputs": [
    {
     "name": "stdout",
     "output_type": "stream",
     "text": [
      "Original String is: PYnative\n",
      "Reversed String is: evitanYP\n"
     ]
    }
   ],
   "source": [
    "str1 = \"PYnative\"\n",
    "print(\"Original String is:\", str1)\n",
    "str1 = ''.join(reversed(str1))\n",
    "print(\"Reversed String is:\", str1)"
   ]
  },
  {
   "cell_type": "code",
   "execution_count": 74,
   "metadata": {},
   "outputs": [
    {
     "data": {
      "text/plain": [
       "<reversed at 0x7f2624c8cd90>"
      ]
     },
     "execution_count": 74,
     "metadata": {},
     "output_type": "execute_result"
    }
   ],
   "source": [
    "reversed(str1)"
   ]
  },
  {
   "cell_type": "markdown",
   "metadata": {},
   "source": [
    "Question 12: Find the last position of a substring “Emma” in a given string"
   ]
  },
  {
   "cell_type": "code",
   "execution_count": 75,
   "metadata": {},
   "outputs": [
    {
     "name": "stdout",
     "output_type": "stream",
     "text": [
      "Original String is: Emma is a data scientist who knows Python. Emma works at google.\n",
      "Last occurrence of Emma starts at 43\n"
     ]
    }
   ],
   "source": [
    "str1 = \"Emma is a data scientist who knows Python. Emma works at google.\"\n",
    "print(\"Original String is:\", str1)\n",
    "\n",
    "index = str1.rfind(\"Emma\")\n",
    "print(\"Last occurrence of Emma starts at\", index)"
   ]
  },
  {
   "cell_type": "code",
   "execution_count": 202,
   "metadata": {},
   "outputs": [
    {
     "name": "stdout",
     "output_type": "stream",
     "text": [
      "First occurrence of Emma starts at 0\n"
     ]
    }
   ],
   "source": [
    "index = str1.find(\"Emma\")\n",
    "print(\"First occurrence of Emma starts at\", index)"
   ]
  },
  {
   "cell_type": "markdown",
   "metadata": {},
   "source": [
    "Question 13: Split a given string on hyphens into several substrings and display each substring\n",
    "- Given: str1 = Emma-is-a-data-scientist"
   ]
  },
  {
   "cell_type": "code",
   "execution_count": 203,
   "metadata": {},
   "outputs": [
    {
     "name": "stdout",
     "output_type": "stream",
     "text": [
      "['Emma', 'is', 'a', 'data', 'scientist']\n"
     ]
    }
   ],
   "source": [
    "str1 = 'Emma-is-a-data-scientist'\n",
    "print(str1.split('-'))"
   ]
  },
  {
   "cell_type": "markdown",
   "metadata": {},
   "source": [
    "Question 14: Remove empty strings from a list of strings\n",
    "Given:\n",
    "\n",
    "str_list = [\"Emma\", \"Jon\", \"\", \"Kelly\", None, \"Eric\", \"\"]\n",
    "\n"
   ]
  },
  {
   "cell_type": "code",
   "execution_count": 204,
   "metadata": {},
   "outputs": [
    {
     "data": {
      "text/plain": [
       "['Emma', 'Jon', 'Kelly', 'Eric']"
      ]
     },
     "execution_count": 204,
     "metadata": {},
     "output_type": "execute_result"
    }
   ],
   "source": [
    "str_list = [\"Emma\", \"Jon\", \"\", \"Kelly\", None, \"Eric\", \"\"]\n",
    "s = []\n",
    "for i in range(len(str_list)):\n",
    "    if str_list[i]:\n",
    "        s.append(str_list[i])\n",
    "str_list = s\n",
    "str_list"
   ]
  },
  {
   "cell_type": "markdown",
   "metadata": {},
   "source": [
    "Question 15: Remove special symbols/Punctuation from a given string\n",
    "- Given: str1 = \"/*Jon is @developer & musician\"\n",
    "- Expected Output: “Jon is developer musician”"
   ]
  },
  {
   "cell_type": "code",
   "execution_count": 76,
   "metadata": {},
   "outputs": [
    {
     "name": "stdout",
     "output_type": "stream",
     "text": [
      "Original string is  /*Jon is @developer & musician\n",
      "New string is  Jon is developer  musician\n"
     ]
    }
   ],
   "source": [
    "str1 = \"/*Jon is @developer & musician\"\n",
    "import string\n",
    "\n",
    "str1 = \"/*Jon is @developer & musician\"\n",
    "print(\"Original string is \", str1)\n",
    "\n",
    "# use translate function of a string\n",
    "# and maketrans function of str class\n",
    "new_str = str1.translate(str.maketrans('', '', string.punctuation))\n",
    "\n",
    "print(\"New string is \", new_str)"
   ]
  },
  {
   "cell_type": "code",
   "execution_count": 77,
   "metadata": {},
   "outputs": [
    {
     "name": "stdout",
     "output_type": "stream",
     "text": [
      "Original string is  /*Jon is @developer & musician\n",
      "New string is  Jon is developer  musician\n"
     ]
    }
   ],
   "source": [
    "import re\n",
    "\n",
    "str1 = \"/*Jon is @developer & musician\"\n",
    "print(\"Original string is \", str1)\n",
    "\n",
    "str2 = re.sub(r'[^\\w\\s]', '', str1)\n",
    "print(\"New string is \", str2)"
   ]
  },
  {
   "cell_type": "markdown",
   "metadata": {},
   "source": [
    "Question 16: Removal all the characters other than integers from string"
   ]
  },
  {
   "cell_type": "code",
   "execution_count": 78,
   "metadata": {},
   "outputs": [
    {
     "name": "stdout",
     "output_type": "stream",
     "text": [
      "Original string is I am 25 years and 10 months old\n",
      "2510\n"
     ]
    }
   ],
   "source": [
    "s = 'I am 25 years and 10 months old'\n",
    "str1 = 'I am 25 years and 10 months old'\n",
    "print(\"Original string is\", str1)\n",
    "\n",
    "# Retain Numbers in String\n",
    "# Using list comprehension + join() + isdigit()\n",
    "res = \"\".join([item for item in str1 if item.isdigit()])\n",
    "\n",
    "print(res)"
   ]
  },
  {
   "cell_type": "markdown",
   "metadata": {},
   "source": [
    "Question 17: Find words with both alphabets and numbers\n",
    "Given:\n",
    "\n",
    "str1 = \"Emma25 is Data scientist50 and AI Expert\"\n",
    "\n",
    "Expected Output:\n",
    "\n",
    "Emma25\n",
    "scientist50"
   ]
  },
  {
   "cell_type": "code",
   "execution_count": 79,
   "metadata": {},
   "outputs": [
    {
     "data": {
      "text/plain": [
       "'Emma25 scientist50'"
      ]
     },
     "execution_count": 79,
     "metadata": {},
     "output_type": "execute_result"
    }
   ],
   "source": [
    "str1 = \"Emma25 is Data scientist50 and AI Expert\"\n",
    "words = []\n",
    "for w in str1.split(' '):\n",
    "    if any(map(str.isdigit, w)) and any(map(str.isalpha, w)):\n",
    "        words.append(w)\n",
    "' '.join(words)"
   ]
  },
  {
   "cell_type": "code",
   "execution_count": 80,
   "metadata": {},
   "outputs": [
    {
     "name": "stdout",
     "output_type": "stream",
     "text": [
      "The original string is : Emma25 is Data scientist50 and AI Expert\n"
     ]
    },
    {
     "data": {
      "text/plain": [
       "['Emma25', 'scientist50']"
      ]
     },
     "execution_count": 80,
     "metadata": {},
     "output_type": "execute_result"
    }
   ],
   "source": [
    "str1 = \"Emma25 is Data scientist50 and AI Expert\"\n",
    "print(\"The original string is : \" + str1)\n",
    "\n",
    "# Words with both alphabets and numbers\n",
    "# isdigit() for numbers + isalpha() for alphabets\n",
    "# use any() to check each character\n",
    "\n",
    "res = []\n",
    "temp = str1.split()\n",
    "for item in temp:\n",
    "    if any(char.isalpha() for char in item) and any(char.isdigit() for char in item):\n",
    "        res.append(item)\n",
    "res"
   ]
  },
  {
   "cell_type": "markdown",
   "metadata": {},
   "source": [
    "Question 18: From given string replace each punctuation with #\n",
    "Given:\n",
    "\n",
    "str1 = '/*Jon is @developer & musician!!'\n",
    "Expected Output:\n",
    "\n",
    "##Jon is #developer # musician##"
   ]
  },
  {
   "cell_type": "code",
   "execution_count": 81,
   "metadata": {},
   "outputs": [
    {
     "data": {
      "text/plain": [
       "'!\"#$%&\\'()*+,-./:;<=>?@[\\\\]^_`{|}~'"
      ]
     },
     "execution_count": 81,
     "metadata": {},
     "output_type": "execute_result"
    }
   ],
   "source": [
    "from string import punctuation\n",
    "\n",
    "punctuation"
   ]
  },
  {
   "cell_type": "code",
   "execution_count": 82,
   "metadata": {},
   "outputs": [
    {
     "name": "stdout",
     "output_type": "stream",
     "text": [
      "The original string is :  /*Jon is @developer & musician!!\n",
      "The strings after replacement:  ##Jon is #developer # musician##\n"
     ]
    }
   ],
   "source": [
    "str1 = '/*Jon is @developer & musician!!'\n",
    "print(\"The original string is : \", str1)\n",
    "\n",
    "# Replace punctuations with #\n",
    "replace_char = '#'\n",
    "\n",
    "# Using string.punctuation to get the list of all punctuations\n",
    "# use string function replace() to replace each punctuation with #\n",
    "\n",
    "for char in punctuation:\n",
    "    str1 = str1.replace(char, replace_char)\n",
    "\n",
    "print(\"The strings after replacement: \", str1)"
   ]
  },
  {
   "cell_type": "markdown",
   "metadata": {},
   "source": [
    "This data structure exercise is for beginners to understand and practice data structure in Python. Practice List, Set, Dictionary, and Tuple in Python. As you know data structure is widely to hold any data. To perform any programming tasks in Python, good knowledge of data structure is a must. When you complete each question, you get more familiar with List, Dictionary, set, and tuple.\n",
    "\n",
    "https://www.programiz.com/python-programming/methods/list/count"
   ]
  },
  {
   "cell_type": "markdown",
   "metadata": {},
   "source": [
    "Question 1: Given a two list. Create a third list by picking an odd-index element from the first list and even index elements from second.\n",
    "For Example:\n",
    "- listOne = [3, 6, 9, 12, 15, 18, 21]\n",
    "- listTwo = [4, 8, 12, 16, 20, 24, 28]\n",
    "\n",
    "Expected Output:\n",
    "- Element at odd-index positions from list one [6, 12, 18]\n",
    "- Element at even-index positions from list two [4, 12, 20, 28]\n",
    "- Printing Final third list [6, 12, 18, 4, 12, 20, 28]"
   ]
  },
  {
   "cell_type": "code",
   "execution_count": 83,
   "metadata": {},
   "outputs": [
    {
     "data": {
      "text/plain": [
       "[6, 12, 18, 4, 12, 20, 28]"
      ]
     },
     "execution_count": 83,
     "metadata": {},
     "output_type": "execute_result"
    }
   ],
   "source": [
    "l1 = [3, 6, 9, 12, 15, 18, 21]\n",
    "l2 = [4, 8, 12, 16, 20, 24, 28]\n",
    "lst = [v for i, v in enumerate(l1) if i%2==1]\n",
    "[lst.append(v) for i, v in enumerate(l2) if i%2==0]\n",
    "lst"
   ]
  },
  {
   "cell_type": "markdown",
   "metadata": {},
   "source": [
    "Question 2: Given an input list removes the element at index 4 and add it to the 2nd position and also, at the end of the list\n",
    "\n",
    "For example: List = [54, 44, 27, 79, 91, 41]\n",
    "\n",
    "Expected Output:\n",
    "- Original list  [34, 54, 67, 89, 11, 43, 94]\n",
    "- List After removing element at index 4  [34, 54, 67, 89, 43, 94]\n",
    "- List after Adding element at index 2  [34, 54, 11, 67, 89, 43, 94]\n",
    "- List after Adding element at last  [34, 54, 11, 67, 89, 43, 94, 11]"
   ]
  },
  {
   "cell_type": "code",
   "execution_count": 84,
   "metadata": {},
   "outputs": [
    {
     "data": {
      "text/plain": [
       "[34, 54, 11, 67, 89, 43, 94, 11]"
      ]
     },
     "execution_count": 84,
     "metadata": {},
     "output_type": "execute_result"
    }
   ],
   "source": [
    "l1 = [34, 54, 67, 89, 11, 43, 94] \n",
    "r = l1.pop(4)\n",
    "l1.insert(2,r)\n",
    "l1.insert(len(l1),r)\n",
    "l1"
   ]
  },
  {
   "cell_type": "markdown",
   "metadata": {},
   "source": [
    "Question 3: Given a list slice it into a 3 equal chunks and rever each list\n",
    "For Example: sampleList = [11, 45, 8, 23, 14, 12, 78, 45, 89]\n",
    "\n",
    "Expected Outcome:\n",
    "    \n",
    "        Original list  [11, 45, 8, 23, 14, 12, 78, 45, 89]\n",
    "        Chunk  1 [11, 45, 8]\n",
    "        After reversing it  [8, 45, 11]\n",
    "        Chunk  2 [23, 14, 12]\n",
    "        After reversing it  [12, 14, 23]\n",
    "        Chunk  3 [78, 45, 89]\n",
    "        After reversing it  [89, 45, 78]"
   ]
  },
  {
   "cell_type": "code",
   "execution_count": 214,
   "metadata": {},
   "outputs": [
    {
     "data": {
      "text/plain": [
       "[[11, 45, 8], [23, 14, 12], [78, 45, 89]]"
      ]
     },
     "execution_count": 214,
     "metadata": {},
     "output_type": "execute_result"
    }
   ],
   "source": [
    "def chunks(lst, n):\n",
    "    \"\"\"Yield successive n-sized chunks from lst.\"\"\"\n",
    "    for i in range(0, len(lst), n):\n",
    "        yield lst[i:i + n]\n",
    "lst = [11, 45, 8, 23, 14, 12, 78, 45, 89]\n",
    "list(chunks(lst, 3))"
   ]
  },
  {
   "cell_type": "code",
   "execution_count": 215,
   "metadata": {},
   "outputs": [
    {
     "name": "stdout",
     "output_type": "stream",
     "text": [
      "[[11, 45, 8], [23, 14, 12], [78, 45, 89]]\n"
     ]
    }
   ],
   "source": [
    "def chunks(lst, n):\n",
    "    \"\"\"Yield successive n-sized chunks from lst.\"\"\"\n",
    "    for i in range(0, len(lst), n):\n",
    "        yield lst[i:i + n]\n",
    "        \n",
    "import pprint\n",
    "lst = [11, 45, 8, 23, 14, 12, 78, 45, 89]\n",
    "pprint.pprint(list(chunks(lst, 3)))"
   ]
  },
  {
   "cell_type": "markdown",
   "metadata": {},
   "source": [
    "Question 4: Given a list iterate it and count the occurrence of each element and create a dictionary to show the count of each element.\n",
    "\n",
    "Expected Output:\n",
    "- Original list  [11, 45, 8, 11, 23, 45, 23, 45, 89]\n",
    "- Printing count of each item   {11: 2, 45: 3, 8: 1, 23: 2, 89: 1}"
   ]
  },
  {
   "cell_type": "code",
   "execution_count": 216,
   "metadata": {},
   "outputs": [
    {
     "data": {
      "text/plain": [
       "{11: 2, 45: 3, 8: 1, 23: 2, 89: 1}"
      ]
     },
     "execution_count": 216,
     "metadata": {},
     "output_type": "execute_result"
    }
   ],
   "source": [
    "ls = [11, 45, 8, 11, 23, 45, 23, 45, 89]\n",
    "d = {}\n",
    "for k in ls:\n",
    "    d[k]=ls.count(k)\n",
    "d"
   ]
  },
  {
   "cell_type": "markdown",
   "metadata": {},
   "source": [
    " Question 5: Given a two list of equal size create a set such that it shows the element from both lists in the pair.\n",
    "\n",
    "- First List  [2, 3, 4, 5, 6, 7, 8]\n",
    "- Second List  [4, 9, 16, 25, 36, 49, 64]\n",
    "- Result is  {(6, 36), (8, 64), (4, 16), (5, 25), (3, 9), (7, 49), (2, 4)}"
   ]
  },
  {
   "cell_type": "code",
   "execution_count": 217,
   "metadata": {},
   "outputs": [
    {
     "data": {
      "text/plain": [
       "{(2, 4), (3, 9), (4, 16), (5, 25), (6, 36), (7, 49), (8, 64)}"
      ]
     },
     "execution_count": 217,
     "metadata": {},
     "output_type": "execute_result"
    }
   ],
   "source": [
    "set(list(zip([2, 3, 4, 5, 6, 7, 8],[4, 9, 16, 25, 36, 49, 64])))"
   ]
  },
  {
   "cell_type": "markdown",
   "metadata": {},
   "source": [
    "Question 6: Given a following two sets find the intersection and remove those elements from the first set.\n",
    "\n",
    "Expected Output:\n",
    "- First Set  {65, 42, 78, 83, 23, 57, 29}\n",
    "- Second Set  {67, 73, 43, 48, 83, 57, 29}\n",
    "- Intersection is  {57, 83, 29}\n",
    "- First Set after removing common element  {65, 42, 78, 23}"
   ]
  },
  {
   "cell_type": "code",
   "execution_count": 218,
   "metadata": {},
   "outputs": [
    {
     "data": {
      "text/plain": [
       "{23, 42, 65, 78}"
      ]
     },
     "execution_count": 218,
     "metadata": {},
     "output_type": "execute_result"
    }
   ],
   "source": [
    "s1 = {65, 42, 78, 83, 23, 57, 29}\n",
    "s2 = {67, 73, 43, 48, 83, 57, 29}\n",
    "int1 = s1 and s2\n",
    "s1-s1.intersection(s2)"
   ]
  },
  {
   "cell_type": "code",
   "execution_count": 219,
   "metadata": {},
   "outputs": [
    {
     "data": {
      "text/plain": [
       "{29, 57, 83}"
      ]
     },
     "execution_count": 219,
     "metadata": {},
     "output_type": "execute_result"
    }
   ],
   "source": [
    "# Intersection\n",
    "s1.intersection(s2)"
   ]
  },
  {
   "cell_type": "code",
   "execution_count": 220,
   "metadata": {},
   "outputs": [
    {
     "data": {
      "text/plain": [
       "{23, 29, 42, 43, 48, 57, 65, 67, 73, 78, 83}"
      ]
     },
     "execution_count": 220,
     "metadata": {},
     "output_type": "execute_result"
    }
   ],
   "source": [
    "# Union\n",
    "s1.union(s2)"
   ]
  },
  {
   "cell_type": "code",
   "execution_count": 221,
   "metadata": {},
   "outputs": [
    {
     "data": {
      "text/plain": [
       "{23, 42, 65, 78}"
      ]
     },
     "execution_count": 221,
     "metadata": {},
     "output_type": "execute_result"
    }
   ],
   "source": [
    "# Difference\n",
    "s1-s2 # s1/s2"
   ]
  },
  {
   "cell_type": "code",
   "execution_count": 222,
   "metadata": {},
   "outputs": [
    {
     "data": {
      "text/plain": [
       "{43, 48, 67, 73}"
      ]
     },
     "execution_count": 222,
     "metadata": {},
     "output_type": "execute_result"
    }
   ],
   "source": [
    "s2-s1 # s2/s1"
   ]
  },
  {
   "cell_type": "markdown",
   "metadata": {},
   "source": [
    "Question 7: Given two sets, Checks if One Set is Subset or superset of Another Set. if the subset is found delete all elements from that set\n",
    "\n",
    "For Example:\n",
    "- firstSet = {27, 43, 34}\n",
    "- secondSet = {34, 93, 22, 27, 43, 53, 48}"
   ]
  },
  {
   "cell_type": "code",
   "execution_count": 223,
   "metadata": {},
   "outputs": [
    {
     "data": {
      "text/plain": [
       "True"
      ]
     },
     "execution_count": 223,
     "metadata": {},
     "output_type": "execute_result"
    }
   ],
   "source": [
    "{27, 43, 34}.issubset({34, 93, 22, 27, 43, 53, 48})"
   ]
  },
  {
   "cell_type": "code",
   "execution_count": 224,
   "metadata": {},
   "outputs": [
    {
     "data": {
      "text/plain": [
       "True"
      ]
     },
     "execution_count": 224,
     "metadata": {},
     "output_type": "execute_result"
    }
   ],
   "source": [
    "{34, 93, 22, 27, 43, 53, 48}.issuperset({27, 43, 34})"
   ]
  },
  {
   "cell_type": "markdown",
   "metadata": {},
   "source": [
    "Question 8: Iterate a given list and Check if a given element already exists in a dictionary as a key’s value if not delete it from the list.\n",
    "\n",
    "- rollNumber = [47, 64, 69, 37, 76, 83, 95, 97]\n",
    "- sampleDict ={'Jhon':47, 'Emma':69, 'Kelly':76, 'Jason':97}"
   ]
  },
  {
   "cell_type": "code",
   "execution_count": 225,
   "metadata": {},
   "outputs": [
    {
     "data": {
      "text/plain": [
       "[47, 69, 76, 95, 97]"
      ]
     },
     "execution_count": 225,
     "metadata": {},
     "output_type": "execute_result"
    }
   ],
   "source": [
    "l = [47, 64, 69, 37, 76, 83, 95, 97]\n",
    "d ={'Jhon':47, 'Emma':69, 'Kelly':76, 'Jason':97}\n",
    "\n",
    "for k in l:\n",
    "    if k not in d.values():\n",
    "        l.remove(k)\n",
    "l"
   ]
  },
  {
   "cell_type": "code",
   "execution_count": 226,
   "metadata": {},
   "outputs": [
    {
     "data": {
      "text/plain": [
       "dict_items([('Jhon', 47), ('Emma', 69), ('Kelly', 76), ('Jason', 97)])"
      ]
     },
     "execution_count": 226,
     "metadata": {},
     "output_type": "execute_result"
    }
   ],
   "source": [
    "d.items()"
   ]
  },
  {
   "cell_type": "code",
   "execution_count": 227,
   "metadata": {},
   "outputs": [
    {
     "data": {
      "text/plain": [
       "dict_keys(['Jhon', 'Emma', 'Kelly', 'Jason'])"
      ]
     },
     "execution_count": 227,
     "metadata": {},
     "output_type": "execute_result"
    }
   ],
   "source": [
    "d.keys()"
   ]
  },
  {
   "cell_type": "code",
   "execution_count": 228,
   "metadata": {},
   "outputs": [
    {
     "data": {
      "text/plain": [
       "dict_values([47, 69, 76, 97])"
      ]
     },
     "execution_count": 228,
     "metadata": {},
     "output_type": "execute_result"
    }
   ],
   "source": [
    "d.values()"
   ]
  },
  {
   "cell_type": "markdown",
   "metadata": {},
   "source": [
    "Question 9: Given a dictionary get all values from the dictionary and add it in a list but don’t add duplicates\n",
    "Given:\n",
    "\n",
    "speed ={'jan':47, 'feb':52, 'march':47, 'April':44, 'May':52, 'June':53, 'july':54, 'Aug':44, 'Sept':54}"
   ]
  },
  {
   "cell_type": "code",
   "execution_count": 229,
   "metadata": {},
   "outputs": [
    {
     "name": "stdout",
     "output_type": "stream",
     "text": [
      "250 {44, 47, 52, 53, 54}\n"
     ]
    }
   ],
   "source": [
    "speed ={'jan':47, 'feb':52, 'march':47, 'April':44, 'May':52, \n",
    "        'June':53, 'july':54, 'Aug':44, 'Sept':54}\n",
    "print(sum(set(speed.values())), set(speed.values()))"
   ]
  },
  {
   "cell_type": "markdown",
   "metadata": {},
   "source": [
    "Question 10: Remove duplicate from a list and create a tuple and find the minimum and maximum number\n",
    "\n",
    "sampleList = [87, 45, 41, 65, 94, 41, 99, 94]"
   ]
  },
  {
   "cell_type": "code",
   "execution_count": 230,
   "metadata": {},
   "outputs": [
    {
     "name": "stdout",
     "output_type": "stream",
     "text": [
      "41 99\n"
     ]
    }
   ],
   "source": [
    "tup = set( [87, 45, 41, 65, 94, 41, 99, 94])\n",
    "print(min(tup), max(tup))"
   ]
  },
  {
   "cell_type": "markdown",
   "metadata": {},
   "source": [
    "https://pynative.com/python-list-exercise-with-solutions/"
   ]
  },
  {
   "cell_type": "markdown",
   "metadata": {},
   "source": [
    "1. The escape character owes its name to the fact that it changes the meaning of the character next to it.\n",
    "2. The meaning of the position parameter is determined by its position.\n",
    "3. The most important difference between integer and floating-points lies in the fact that they are stored differently in the computer memory.\n",
    "4. The 0x means the number after it is denoted as a hexa decimal.\n",
    "5. The // operator performs integer division/floor division\n",
    "6. The result of the following addition 123+0.0 is 123.0\n",
    "7. Multiplication precedes addition\n",
    "8. Right-sided binding means that the following expression 1\\**2\\**3  will be evaluated from right to left --> 1\\**(2\\**3)=1\n",
    "9. A keyword is a word that can't be used as a variable name\n",
    "10. A value returned by the input() function is a string."
   ]
  },
  {
   "cell_type": "markdown",
   "metadata": {},
   "source": [
    "                                    ~END~"
   ]
  }
 ],
 "metadata": {
  "kernelspec": {
   "display_name": "Python 3",
   "language": "python",
   "name": "python3"
  },
  "language_info": {
   "codemirror_mode": {
    "name": "ipython",
    "version": 3
   },
   "file_extension": ".py",
   "mimetype": "text/x-python",
   "name": "python",
   "nbconvert_exporter": "python",
   "pygments_lexer": "ipython3",
   "version": "3.7.4"
  }
 },
 "nbformat": 4,
 "nbformat_minor": 4
}
